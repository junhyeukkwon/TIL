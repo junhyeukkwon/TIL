{
 "cells": [
  {
   "cell_type": "code",
   "execution_count": 2,
   "id": "28e017d6",
   "metadata": {},
   "outputs": [],
   "source": [
    "import numpy as np"
   ]
  },
  {
   "cell_type": "code",
   "execution_count": 3,
   "id": "10978f21",
   "metadata": {},
   "outputs": [
    {
     "data": {
      "text/plain": [
       "array([0, 1, 2, 3, 4, 5, 6, 7, 8, 9])"
      ]
     },
     "execution_count": 3,
     "metadata": {},
     "output_type": "execute_result"
    }
   ],
   "source": [
    "np.arange(10)"
   ]
  },
  {
   "cell_type": "code",
   "execution_count": 4,
   "id": "ace2dc41",
   "metadata": {},
   "outputs": [],
   "source": [
    "#파이썬 리스트\n",
    "py_list = list(range(1000000))"
   ]
  },
  {
   "cell_type": "code",
   "execution_count": 5,
   "id": "910d3688",
   "metadata": {},
   "outputs": [],
   "source": [
    "np_array = np.arange(1000000)"
   ]
  },
  {
   "cell_type": "code",
   "execution_count": 8,
   "id": "8e20336f",
   "metadata": {},
   "outputs": [
    {
     "name": "stdout",
     "output_type": "stream",
     "text": [
      "CPU times: total: 141 ms\n",
      "Wall time: 169 ms\n"
     ]
    }
   ],
   "source": [
    "%time py_list2 = [x*2for x in py_list]"
   ]
  },
  {
   "cell_type": "code",
   "execution_count": 9,
   "id": "7afe97a2",
   "metadata": {},
   "outputs": [
    {
     "name": "stdout",
     "output_type": "stream",
     "text": [
      "CPU times: total: 15.6 ms\n",
      "Wall time: 2.99 ms\n"
     ]
    }
   ],
   "source": [
    "%time np_array2 = np_array*2"
   ]
  },
  {
   "cell_type": "markdown",
   "id": "72eaa73e",
   "metadata": {},
   "source": [
    "## 1. Numpy ndarray(다차원 배열 객체)"
   ]
  },
  {
   "cell_type": "markdown",
   "id": "3b8aa76b",
   "metadata": {},
   "source": [
    "### 1.1 ndarray 생성하기"
   ]
  },
  {
   "cell_type": "code",
   "execution_count": 16,
   "id": "a9e83530",
   "metadata": {},
   "outputs": [
    {
     "data": {
      "text/plain": [
       "array([1, 2, 3, 4])"
      ]
     },
     "execution_count": 16,
     "metadata": {},
     "output_type": "execute_result"
    }
   ],
   "source": [
    "data1 = [1, 2, 3, 4]\n",
    "arr1 = np.array(data1)\n",
    "arr1"
   ]
  },
  {
   "cell_type": "code",
   "execution_count": 17,
   "id": "a39344ef",
   "metadata": {},
   "outputs": [
    {
     "data": {
      "text/plain": [
       "array([[1, 2, 3, 4],\n",
       "       [1, 2, 3, 4]])"
      ]
     },
     "execution_count": 17,
     "metadata": {},
     "output_type": "execute_result"
    }
   ],
   "source": [
    "data2 = [[1, 2, 3, 4],[1,2,3,4]]\n",
    "arr2 = np.array(data2)\n",
    "arr2"
   ]
  },
  {
   "cell_type": "code",
   "execution_count": 18,
   "id": "7fed70e2",
   "metadata": {},
   "outputs": [
    {
     "data": {
      "text/plain": [
       "(4,)"
      ]
     },
     "execution_count": 18,
     "metadata": {},
     "output_type": "execute_result"
    }
   ],
   "source": [
    "arr1.shape"
   ]
  },
  {
   "cell_type": "code",
   "execution_count": 19,
   "id": "f179de25",
   "metadata": {},
   "outputs": [
    {
     "data": {
      "text/plain": [
       "(2, 4)"
      ]
     },
     "execution_count": 19,
     "metadata": {},
     "output_type": "execute_result"
    }
   ],
   "source": [
    "arr2.shape #4개의 원소를 가지고 있는 배열이 두개가 있다."
   ]
  },
  {
   "cell_type": "code",
   "execution_count": 23,
   "id": "35295f04",
   "metadata": {},
   "outputs": [
    {
     "data": {
      "text/plain": [
       "1"
      ]
     },
     "execution_count": 23,
     "metadata": {},
     "output_type": "execute_result"
    }
   ],
   "source": [
    "arr1.ndim"
   ]
  },
  {
   "cell_type": "code",
   "execution_count": 22,
   "id": "bdc4c664",
   "metadata": {},
   "outputs": [
    {
     "data": {
      "text/plain": [
       "2"
      ]
     },
     "execution_count": 22,
     "metadata": {},
     "output_type": "execute_result"
    }
   ],
   "source": [
    "arr2.ndim"
   ]
  },
  {
   "cell_type": "code",
   "execution_count": 20,
   "id": "5ca3afb8",
   "metadata": {},
   "outputs": [
    {
     "data": {
      "text/plain": [
       "dtype('int32')"
      ]
     },
     "execution_count": 20,
     "metadata": {},
     "output_type": "execute_result"
    }
   ],
   "source": [
    "arr1.dtype # 원소의 데이터 타입을 확인하는 예약어"
   ]
  },
  {
   "cell_type": "code",
   "execution_count": 24,
   "id": "8da12b37",
   "metadata": {},
   "outputs": [
    {
     "data": {
      "text/plain": [
       "dtype('int32')"
      ]
     },
     "execution_count": 24,
     "metadata": {},
     "output_type": "execute_result"
    }
   ],
   "source": [
    "arr2.dtype"
   ]
  },
  {
   "cell_type": "code",
   "execution_count": 25,
   "id": "8f97464a",
   "metadata": {},
   "outputs": [
    {
     "data": {
      "text/plain": [
       "array([0., 0., 0., 0., 0., 0., 0., 0., 0., 0.])"
      ]
     },
     "execution_count": 25,
     "metadata": {},
     "output_type": "execute_result"
    }
   ],
   "source": [
    "np.zeros(10) #원소가 0으로 채워진 배열을 생성"
   ]
  },
  {
   "cell_type": "code",
   "execution_count": 26,
   "id": "9391b7e7",
   "metadata": {},
   "outputs": [
    {
     "data": {
      "text/plain": [
       "array([1., 1., 1., 1., 1., 1., 1., 1., 1., 1.])"
      ]
     },
     "execution_count": 26,
     "metadata": {},
     "output_type": "execute_result"
    }
   ],
   "source": [
    "np.ones(10)"
   ]
  },
  {
   "cell_type": "code",
   "execution_count": 27,
   "id": "3e4afd97",
   "metadata": {},
   "outputs": [
    {
     "data": {
      "text/plain": [
       "array([[0., 0., 0.],\n",
       "       [0., 0., 0.]])"
      ]
     },
     "execution_count": 27,
     "metadata": {},
     "output_type": "execute_result"
    }
   ],
   "source": [
    "np.zeros((2,3)) #다차원 배열로도 생성가능"
   ]
  },
  {
   "cell_type": "code",
   "execution_count": 28,
   "id": "5a8d1c98",
   "metadata": {},
   "outputs": [
    {
     "data": {
      "text/plain": [
       "array([[0., 0., 0.],\n",
       "       [0., 0., 0.]])"
      ]
     },
     "execution_count": 28,
     "metadata": {},
     "output_type": "execute_result"
    }
   ],
   "source": [
    "np.empty((2, 3)) # 형상만 만들어주는 예약어"
   ]
  },
  {
   "cell_type": "markdown",
   "id": "a00095d1",
   "metadata": {},
   "source": [
    "### 1.2 ndarray의 dtype"
   ]
  },
  {
   "cell_type": "markdown",
   "id": "9f33027c",
   "metadata": {},
   "source": [
    "![image](https://user-images.githubusercontent.com/85923524/176375570-2bb83159-a3dd-4f7f-8dc8-5950e944e062.png)"
   ]
  },
  {
   "cell_type": "code",
   "execution_count": 29,
   "id": "704e771a",
   "metadata": {},
   "outputs": [
    {
     "data": {
      "text/plain": [
       "array([1., 2., 3.])"
      ]
     },
     "execution_count": 29,
     "metadata": {},
     "output_type": "execute_result"
    }
   ],
   "source": [
    "arr1 = np.array([1, 2, 3], dtype=np.float64)\n",
    "arr1"
   ]
  },
  {
   "cell_type": "code",
   "execution_count": 31,
   "id": "c818715b",
   "metadata": {},
   "outputs": [
    {
     "data": {
      "text/plain": [
       "dtype('float64')"
      ]
     },
     "execution_count": 31,
     "metadata": {},
     "output_type": "execute_result"
    }
   ],
   "source": [
    "arr1.dtype #자료형은 변환"
   ]
  },
  {
   "cell_type": "code",
   "execution_count": 32,
   "id": "990ceceb",
   "metadata": {},
   "outputs": [
    {
     "data": {
      "text/plain": [
       "array([1, 2, 3], dtype=int64)"
      ]
     },
     "execution_count": 32,
     "metadata": {},
     "output_type": "execute_result"
    }
   ],
   "source": [
    "int_arr = arr1.astype(np.int64)\n",
    "int_arr"
   ]
  },
  {
   "cell_type": "code",
   "execution_count": 33,
   "id": "a3ca54d1",
   "metadata": {},
   "outputs": [
    {
     "data": {
      "text/plain": [
       "dtype('int64')"
      ]
     },
     "execution_count": 33,
     "metadata": {},
     "output_type": "execute_result"
    }
   ],
   "source": [
    "int_arr.dtype"
   ]
  },
  {
   "cell_type": "markdown",
   "id": "73cc3b8c",
   "metadata": {},
   "source": [
    "### 1.3 Nmpy 배열의 산술연산"
   ]
  },
  {
   "cell_type": "code",
   "execution_count": 34,
   "id": "ff449d1c",
   "metadata": {},
   "outputs": [
    {
     "data": {
      "text/plain": [
       "array([[1., 2., 3.],\n",
       "       [4., 5., 6.]])"
      ]
     },
     "execution_count": 34,
     "metadata": {},
     "output_type": "execute_result"
    }
   ],
   "source": [
    "arr = np.array([[1., 2., 3.], [4., 5., 6.]])\n",
    "arr"
   ]
  },
  {
   "cell_type": "code",
   "execution_count": 36,
   "id": "b0666aed",
   "metadata": {},
   "outputs": [
    {
     "data": {
      "text/plain": [
       "array([[ 1.,  4.,  9.],\n",
       "       [16., 25., 36.]])"
      ]
     },
     "execution_count": 36,
     "metadata": {},
     "output_type": "execute_result"
    }
   ],
   "source": [
    "arr * arr #같은원소끼리 곱셉을 함"
   ]
  },
  {
   "cell_type": "code",
   "execution_count": 37,
   "id": "7be4ff62",
   "metadata": {},
   "outputs": [
    {
     "data": {
      "text/plain": [
       "array([[0., 0., 0.],\n",
       "       [0., 0., 0.]])"
      ]
     },
     "execution_count": 37,
     "metadata": {},
     "output_type": "execute_result"
    }
   ],
   "source": [
    "arr - arr"
   ]
  },
  {
   "cell_type": "code",
   "execution_count": 38,
   "id": "af18dc19",
   "metadata": {},
   "outputs": [
    {
     "data": {
      "text/plain": [
       "array([[ 2.,  4.,  6.],\n",
       "       [ 8., 10., 12.]])"
      ]
     },
     "execution_count": 38,
     "metadata": {},
     "output_type": "execute_result"
    }
   ],
   "source": [
    "arr*2 #broadcasting 의 예"
   ]
  },
  {
   "cell_type": "code",
   "execution_count": 39,
   "id": "3e2c33be",
   "metadata": {},
   "outputs": [],
   "source": [
    "arr2 = np.array([[2., 3., 4.], [5., 6., 7.]])"
   ]
  },
  {
   "cell_type": "code",
   "execution_count": 40,
   "id": "c44a3641",
   "metadata": {},
   "outputs": [
    {
     "data": {
      "text/plain": [
       "array([[ True,  True,  True],\n",
       "       [ True,  True,  True]])"
      ]
     },
     "execution_count": 40,
     "metadata": {},
     "output_type": "execute_result"
    }
   ],
   "source": [
    "arr < arr2 #원소별 크기 비교도 가능"
   ]
  },
  {
   "cell_type": "markdown",
   "id": "3136cc41",
   "metadata": {},
   "source": [
    "### 1.4 색인과 슬라이싱"
   ]
  },
  {
   "cell_type": "code",
   "execution_count": 42,
   "id": "7b369144",
   "metadata": {},
   "outputs": [
    {
     "data": {
      "text/plain": [
       "array([0, 1, 2, 3, 4, 5, 6, 7, 8, 9])"
      ]
     },
     "execution_count": 42,
     "metadata": {},
     "output_type": "execute_result"
    }
   ],
   "source": [
    "arr = np.arange(10)\n",
    "arr\n"
   ]
  },
  {
   "cell_type": "code",
   "execution_count": 43,
   "id": "deed5935",
   "metadata": {},
   "outputs": [
    {
     "data": {
      "text/plain": [
       "5"
      ]
     },
     "execution_count": 43,
     "metadata": {},
     "output_type": "execute_result"
    }
   ],
   "source": [
    "arr[5] # 색인"
   ]
  },
  {
   "cell_type": "code",
   "execution_count": 44,
   "id": "cdea3c56",
   "metadata": {},
   "outputs": [
    {
     "data": {
      "text/plain": [
       "array([5, 6])"
      ]
     },
     "execution_count": 44,
     "metadata": {},
     "output_type": "execute_result"
    }
   ],
   "source": [
    "arr[5:7] # 슬라이싱"
   ]
  },
  {
   "cell_type": "code",
   "execution_count": 46,
   "id": "acc29a15",
   "metadata": {},
   "outputs": [
    {
     "data": {
      "text/plain": [
       "array([  0,   1,   2,   3,   4, 100, 100,   7,   8,   9])"
      ]
     },
     "execution_count": 46,
     "metadata": {},
     "output_type": "execute_result"
    }
   ],
   "source": [
    "arr[5:7] = 100\n",
    "arr"
   ]
  },
  {
   "cell_type": "code",
   "execution_count": 47,
   "id": "393ee09b",
   "metadata": {},
   "outputs": [
    {
     "data": {
      "text/plain": [
       "array([0, 1, 2, 3, 4, 5, 6, 7, 8, 9])"
      ]
     },
     "execution_count": 47,
     "metadata": {},
     "output_type": "execute_result"
    }
   ],
   "source": [
    "arr = np.arange(10)\n",
    "arr"
   ]
  },
  {
   "cell_type": "code",
   "execution_count": 48,
   "id": "dd4c1f13",
   "metadata": {},
   "outputs": [],
   "source": [
    "brr = arr[5:7]"
   ]
  },
  {
   "cell_type": "code",
   "execution_count": 49,
   "id": "258d7884",
   "metadata": {},
   "outputs": [
    {
     "data": {
      "text/plain": [
       "array([  0,   1,   2,   3,   4, 100, 100,   7,   8,   9])"
      ]
     },
     "execution_count": 49,
     "metadata": {},
     "output_type": "execute_result"
    }
   ],
   "source": [
    "arr[5:7] = 100\n",
    "arr"
   ]
  },
  {
   "cell_type": "code",
   "execution_count": 50,
   "id": "a29c3c1c",
   "metadata": {},
   "outputs": [
    {
     "data": {
      "text/plain": [
       "array([100, 100])"
      ]
     },
     "execution_count": 50,
     "metadata": {},
     "output_type": "execute_result"
    }
   ],
   "source": [
    "brr #애도 바뀜"
   ]
  },
  {
   "cell_type": "code",
   "execution_count": 51,
   "id": "39406c4d",
   "metadata": {},
   "outputs": [],
   "source": [
    "arr2d = np.array([[1, 2, 3], [4, 5, 6], [7, 8, 9]])"
   ]
  },
  {
   "cell_type": "code",
   "execution_count": 52,
   "id": "a680f87a",
   "metadata": {},
   "outputs": [
    {
     "data": {
      "text/plain": [
       "((3, 3), 2)"
      ]
     },
     "execution_count": 52,
     "metadata": {},
     "output_type": "execute_result"
    }
   ],
   "source": [
    "arr2d.shape, arr2d.ndim"
   ]
  },
  {
   "cell_type": "code",
   "execution_count": 53,
   "id": "a7c586ac",
   "metadata": {},
   "outputs": [
    {
     "data": {
      "text/plain": [
       "array([7, 8, 9])"
      ]
     },
     "execution_count": 53,
     "metadata": {},
     "output_type": "execute_result"
    }
   ],
   "source": [
    "arr2d[2]# 2차원 array를 색인하면 1차원, 1차원 array를 색인하면 원소 하나가 추출"
   ]
  },
  {
   "cell_type": "code",
   "execution_count": 55,
   "id": "becbc723",
   "metadata": {},
   "outputs": [
    {
     "data": {
      "text/plain": [
       "9"
      ]
     },
     "execution_count": 55,
     "metadata": {},
     "output_type": "execute_result"
    }
   ],
   "source": [
    "#그럼 9에 접근하고 싶다면? 색인의 색인\n",
    "arr2d[2][2]"
   ]
  },
  {
   "cell_type": "code",
   "execution_count": 56,
   "id": "528ccb8e",
   "metadata": {},
   "outputs": [
    {
     "data": {
      "text/plain": [
       "9"
      ]
     },
     "execution_count": 56,
     "metadata": {},
     "output_type": "execute_result"
    }
   ],
   "source": [
    "#동일한 방식\n",
    "arr2d[2,2]"
   ]
  },
  {
   "cell_type": "code",
   "execution_count": 58,
   "id": "765e5774",
   "metadata": {},
   "outputs": [
    {
     "data": {
      "text/plain": [
       "array([[1, 2, 3],\n",
       "       [4, 5, 6]])"
      ]
     },
     "execution_count": 58,
     "metadata": {},
     "output_type": "execute_result"
    }
   ],
   "source": [
    "arr2d[:2]"
   ]
  },
  {
   "cell_type": "code",
   "execution_count": 59,
   "id": "0f58a634",
   "metadata": {},
   "outputs": [
    {
     "data": {
      "text/plain": [
       "array([[2, 3],\n",
       "       [5, 6]])"
      ]
     },
     "execution_count": 59,
     "metadata": {},
     "output_type": "execute_result"
    }
   ],
   "source": [
    "arr2d[:2, 1:]#[행, 열]슬라이싱\n",
    "# 색인했을 경우에는 2차원 데이터를 색인하면 1차원 데이터\n",
    "# 슬라이싱을 하고난 결과는 2차원 데이터 그대로임"
   ]
  },
  {
   "cell_type": "code",
   "execution_count": 60,
   "id": "74e979d6",
   "metadata": {},
   "outputs": [
    {
     "data": {
      "text/plain": [
       "array([2, 5])"
      ]
     },
     "execution_count": 60,
     "metadata": {},
     "output_type": "execute_result"
    }
   ],
   "source": [
    "arr2d[:2, 1] #하나의 값만 가져온다 결국 1차원데이터를 가지고온다."
   ]
  },
  {
   "cell_type": "code",
   "execution_count": 62,
   "id": "233197c7",
   "metadata": {},
   "outputs": [
    {
     "data": {
      "text/plain": [
       "array([[4, 5, 6]])"
      ]
     },
     "execution_count": 62,
     "metadata": {},
     "output_type": "execute_result"
    }
   ],
   "source": [
    "#슬라이싱에서 주의할점\n",
    "# arr2d[:2, 1:] = arr2d[:2][1:]??\n",
    "arr2d[:2][1:]\n",
    "#arr2d[:2] -> 먼저 색인을 한후에 [1:] 또 색인을 한다. 그러기 때문에 원소를 하나를 가져올때 [2][2] [2,2] 와는 다른 값을 가진다. \n"
   ]
  },
  {
   "cell_type": "markdown",
   "id": "4ecd7360",
   "metadata": {},
   "source": [
    "### arr2d에서 2차원 데이터로 가져오기 혹은 1차원데이터로 가져오기"
   ]
  },
  {
   "cell_type": "code",
   "execution_count": 67,
   "id": "55a3f037",
   "metadata": {},
   "outputs": [
    {
     "data": {
      "text/plain": [
       "array([[1],\n",
       "       [4],\n",
       "       [7]])"
      ]
     },
     "execution_count": 67,
     "metadata": {},
     "output_type": "execute_result"
    }
   ],
   "source": [
    "arr2d[:3 , :1]"
   ]
  },
  {
   "cell_type": "code",
   "execution_count": 69,
   "id": "a4a59276",
   "metadata": {
    "scrolled": true
   },
   "outputs": [
    {
     "data": {
      "text/plain": [
       "array([1, 4, 7])"
      ]
     },
     "execution_count": 69,
     "metadata": {},
     "output_type": "execute_result"
    }
   ],
   "source": [
    "arr2d[:3 , 0]"
   ]
  },
  {
   "cell_type": "markdown",
   "id": "7c5731da",
   "metadata": {},
   "source": [
    "![image](https://user-images.githubusercontent.com/85923524/176375986-c415dd83-cb91-46f6-80b9-99c7f2ea41a9.png)"
   ]
  },
  {
   "cell_type": "code",
   "execution_count": 70,
   "id": "4327f708",
   "metadata": {},
   "outputs": [
    {
     "name": "stdout",
     "output_type": "stream",
     "text": [
      " C 드라이브의 볼륨에는 이름이 없습니다.\n",
      " 볼륨 일련 번호: FCD1-ECDC\n",
      "\n",
      " C:\\Users\\권준혁\\Documents\\2022 빅데이터 10기\\Dataanalysis 디렉터리\n",
      "\n",
      "2022-06-29  오후 02:45    <DIR>          .\n",
      "2022-06-29  오후 02:45    <DIR>          ..\n",
      "2022-06-29  오전 11:46    <DIR>          .ipynb_checkpoints\n",
      "2022-06-29  오후 02:44            18,283 Numpy Day 1.ipynb\n",
      "2022-06-29  오후 02:45           182,704 psj.png\n",
      "               2개 파일             200,987 바이트\n",
      "               3개 디렉터리  79,591,804,928 바이트 남음\n"
     ]
    }
   ],
   "source": [
    "!dir"
   ]
  },
  {
   "cell_type": "markdown",
   "id": "9a381a7b",
   "metadata": {},
   "source": [
    "### Workshop 색인, 슬라이싱"
   ]
  },
  {
   "cell_type": "code",
   "execution_count": 71,
   "id": "250c9e15",
   "metadata": {},
   "outputs": [],
   "source": [
    "import matplotlib.pyplot as plt"
   ]
  },
  {
   "cell_type": "code",
   "execution_count": 72,
   "id": "916f382c",
   "metadata": {},
   "outputs": [],
   "source": [
    "img = plt.imread(\"psj.png\")"
   ]
  },
  {
   "cell_type": "code",
   "execution_count": 74,
   "id": "65f893aa",
   "metadata": {},
   "outputs": [
    {
     "data": {
      "text/plain": [
       "numpy.ndarray"
      ]
     },
     "execution_count": 74,
     "metadata": {},
     "output_type": "execute_result"
    }
   ],
   "source": [
    "type(img)"
   ]
  },
  {
   "cell_type": "code",
   "execution_count": 75,
   "id": "4f3587cb",
   "metadata": {},
   "outputs": [
    {
     "data": {
      "text/plain": [
       "(333, 365, 4)"
      ]
     },
     "execution_count": 75,
     "metadata": {},
     "output_type": "execute_result"
    }
   ],
   "source": [
    "img.shape #4개의 원소를 가지고 있는 1차원 배열이 365개가 있고, 그배열을 포함하는 덩어리가 333개가 있다."
   ]
  },
  {
   "cell_type": "code",
   "execution_count": 76,
   "id": "9df48132",
   "metadata": {},
   "outputs": [
    {
     "data": {
      "text/plain": [
       "3"
      ]
     },
     "execution_count": 76,
     "metadata": {},
     "output_type": "execute_result"
    }
   ],
   "source": [
    "img.ndim"
   ]
  },
  {
   "cell_type": "code",
   "execution_count": 77,
   "id": "31d28a89",
   "metadata": {},
   "outputs": [
    {
     "data": {
      "text/plain": [
       "(365, 4)"
      ]
     },
     "execution_count": 77,
     "metadata": {},
     "output_type": "execute_result"
    }
   ],
   "source": [
    "img[0].shape #한 가로줄을 가져오기"
   ]
  },
  {
   "cell_type": "code",
   "execution_count": 79,
   "id": "ff2562e4",
   "metadata": {},
   "outputs": [
    {
     "data": {
      "text/plain": [
       "array([0.83137256, 0.8509804 , 0.8666667 , 1.        ], dtype=float32)"
      ]
     },
     "execution_count": 79,
     "metadata": {},
     "output_type": "execute_result"
    }
   ],
   "source": [
    "img[0][0] # 좌상단의 픽셀값"
   ]
  },
  {
   "cell_type": "code",
   "execution_count": 80,
   "id": "385de0e7",
   "metadata": {},
   "outputs": [
    {
     "data": {
      "text/plain": [
       "0.83137256"
      ]
     },
     "execution_count": 80,
     "metadata": {},
     "output_type": "execute_result"
    }
   ],
   "source": [
    "img[0][0][0] # R값만 가져오기  = img[0,0,0]"
   ]
  },
  {
   "cell_type": "code",
   "execution_count": 82,
   "id": "4ac5c33a",
   "metadata": {},
   "outputs": [
    {
     "data": {
      "text/plain": [
       "<matplotlib.image.AxesImage at 0x1d998256940>"
      ]
     },
     "execution_count": 82,
     "metadata": {},
     "output_type": "execute_result"
    },
    {
     "data": {
      "image/png": "[encoded data removed]",
      "text/plain": [
       "<Figure size 432x288 with 1 Axes>"
      ]
     },
     "metadata": {
      "needs_background": "light"
     },
     "output_type": "display_data"
    }
   ],
   "source": [
    "img = plt.imread(\"psj.png\")\n",
    "#todo\n",
    "\n",
    "plt.imshow(img)"
   ]
  },
  {
   "cell_type": "markdown",
   "id": "e8dc16e0",
   "metadata": {},
   "source": [
    "**좌상단에 붉은색(1, 0, 0)으로 overwite해보기**"
   ]
  },
  {
   "cell_type": "code",
   "execution_count": 109,
   "id": "97729109",
   "metadata": {},
   "outputs": [
    {
     "data": {
      "text/plain": [
       "array([1., 0., 0., 1.], dtype=float32)"
      ]
     },
     "execution_count": 109,
     "metadata": {},
     "output_type": "execute_result"
    }
   ],
   "source": [
    "img[0][0][0:3] = 1,0,0\n",
    "img[0][0]"
   ]
  },
  {
   "cell_type": "markdown",
   "id": "bb99aca2",
   "metadata": {},
   "source": [
    "**좌상단 5x5 픽셀 영역에 보라색(1,0,1)으로 overwite 해보기**"
   ]
  },
  {
   "cell_type": "code",
   "execution_count": 111,
   "id": "ab6f90a0",
   "metadata": {},
   "outputs": [
    {
     "data": {
      "text/plain": [
       "<matplotlib.image.AxesImage at 0x1d99d570eb0>"
      ]
     },
     "execution_count": 111,
     "metadata": {},
     "output_type": "execute_result"
    },
    {
     "data": {
      "image/png": "[encoded data removed]",
      "text/plain": [
       "<Figure size 432x288 with 1 Axes>"
      ]
     },
     "metadata": {
      "needs_background": "light"
     },
     "output_type": "display_data"
    }
   ],
   "source": [
    "img = plt.imread(\"psj.png\")\n",
    "img[:5,:5,:3] = 1,0,1\n",
    "img[:5,:5,:3]\n",
    "plt.imshow(img)"
   ]
  },
  {
   "cell_type": "markdown",
   "id": "54832c25",
   "metadata": {},
   "source": [
    "**10픽셀 굵기로 액자 만들기(색상은 자유)**"
   ]
  },
  {
   "cell_type": "code",
   "execution_count": 125,
   "id": "3d3eaa8a",
   "metadata": {},
   "outputs": [],
   "source": [
    "img = plt.imread(\"psj.png\")\n",
    "#상단 수평선\n",
    "img[:10, :, :3] = 0.5,0.5,0.5\n",
    "#하단 수평선\n",
    "# img[323:, :, :3] = 0.5,0.5,0.5\n",
    "img[img.shape[0]-10:, : ,:3] = 0.5,0.5,0.5\n",
    "#좌측 수직선\n",
    "img[:,:10,:3] = 0.5,0.5,0.5\n",
    "#우측 수직선\n",
    "# img[:, 355:, :3] = 0.5,0.5,0.5\n",
    "img[:, img.shape[1]-10:, :3] = 0.5,0.5,0.5"
   ]
  },
  {
   "cell_type": "code",
   "execution_count": 126,
   "id": "adeaf8ab",
   "metadata": {},
   "outputs": [
    {
     "data": {
      "text/plain": [
       "<matplotlib.image.AxesImage at 0x1d99e3bf2b0>"
      ]
     },
     "execution_count": 126,
     "metadata": {},
     "output_type": "execute_result"
    },
    {
     "data": {
      "image/png": "[encoded data removed]",
      "text/plain": [
       "<Figure size 432x288 with 1 Axes>"
      ]
     },
     "metadata": {
      "needs_background": "light"
     },
     "output_type": "display_data"
    }
   ],
   "source": [
    "plt.imshow(img)"
   ]
  },
  {
   "cell_type": "markdown",
   "id": "0bd6dc1d",
   "metadata": {},
   "source": [
    "### 1.5 불리안 색인"
   ]
  },
  {
   "cell_type": "code",
   "execution_count": 10,
   "id": "efe8222a",
   "metadata": {},
   "outputs": [],
   "source": [
    "data = np.arange(28).reshape((7, 4))\n",
    "names = np.array(['Bob', 'Joe', 'Will', 'Bob', 'Will', 'Joe', 'Joe'])"
   ]
  },
  {
   "cell_type": "code",
   "execution_count": 11,
   "id": "7ad052e4",
   "metadata": {},
   "outputs": [
    {
     "data": {
      "text/plain": [
       "array([ True, False, False,  True, False, False, False])"
      ]
     },
     "execution_count": 11,
     "metadata": {},
     "output_type": "execute_result"
    }
   ],
   "source": [
    "names == 'Bob'"
   ]
  },
  {
   "cell_type": "code",
   "execution_count": 12,
   "id": "bdf3f2b9",
   "metadata": {},
   "outputs": [
    {
     "data": {
      "text/plain": [
       "array([[ 0,  1,  2,  3],\n",
       "       [ 4,  5,  6,  7],\n",
       "       [ 8,  9, 10, 11],\n",
       "       [12, 13, 14, 15],\n",
       "       [16, 17, 18, 19],\n",
       "       [20, 21, 22, 23],\n",
       "       [24, 25, 26, 27]])"
      ]
     },
     "execution_count": 12,
     "metadata": {},
     "output_type": "execute_result"
    }
   ],
   "source": [
    "data"
   ]
  },
  {
   "cell_type": "code",
   "execution_count": 13,
   "id": "bf79a2fb",
   "metadata": {},
   "outputs": [
    {
     "data": {
      "text/plain": [
       "array([[ 0,  1,  2,  3],\n",
       "       [12, 13, 14, 15]])"
      ]
     },
     "execution_count": 13,
     "metadata": {},
     "output_type": "execute_result"
    }
   ],
   "source": [
    "data[[ True, False, False,  True, False, False, False]]"
   ]
  },
  {
   "cell_type": "code",
   "execution_count": 14,
   "id": "cbc00bd7",
   "metadata": {},
   "outputs": [
    {
     "data": {
      "text/plain": [
       "array([[ 0,  1,  2,  3],\n",
       "       [12, 13, 14, 15]])"
      ]
     },
     "execution_count": 14,
     "metadata": {},
     "output_type": "execute_result"
    }
   ],
   "source": [
    "#행으로 색인 현재 data와 names과 관계는 없지만 7행이 같으므로 논리연산자의 결과인 true에 해당하는 행을 색인한다.\n",
    "# data[[ True, False, False,  True, False, False, False]]\n",
    "data[names == 'Bob']"
   ]
  },
  {
   "cell_type": "code",
   "execution_count": 15,
   "id": "19d8a418",
   "metadata": {
    "scrolled": true
   },
   "outputs": [
    {
     "data": {
      "text/plain": [
       "array([[ 2,  3],\n",
       "       [14, 15]])"
      ]
     },
     "execution_count": 15,
     "metadata": {},
     "output_type": "execute_result"
    }
   ],
   "source": [
    "data[names == 'Bob', 2:] #열을 슬라이싱-> 차원 유지"
   ]
  },
  {
   "cell_type": "code",
   "execution_count": 16,
   "id": "351abae8",
   "metadata": {},
   "outputs": [
    {
     "data": {
      "text/plain": [
       "array([ 3, 15])"
      ]
     },
     "execution_count": 16,
     "metadata": {},
     "output_type": "execute_result"
    }
   ],
   "source": [
    "data[names == 'Bob', 3]#열을 색인 -> 한차원 줄었음"
   ]
  },
  {
   "cell_type": "code",
   "execution_count": 18,
   "id": "d92fe9c6",
   "metadata": {},
   "outputs": [
    {
     "data": {
      "text/plain": [
       "array([0, 1, 2, 3, 4, 5, 6, 7, 8, 9])"
      ]
     },
     "execution_count": 18,
     "metadata": {},
     "output_type": "execute_result"
    }
   ],
   "source": [
    "data[data<10] # true에 해당하는 원소를 가져오기"
   ]
  },
  {
   "cell_type": "markdown",
   "id": "803bd437",
   "metadata": {},
   "source": [
    "### 1.6 팬시 색인"
   ]
  },
  {
   "cell_type": "code",
   "execution_count": 19,
   "id": "95e52660",
   "metadata": {},
   "outputs": [
    {
     "data": {
      "text/plain": [
       "array([[ 0,  1,  2,  3],\n",
       "       [ 4,  5,  6,  7],\n",
       "       [ 8,  9, 10, 11],\n",
       "       [12, 13, 14, 15],\n",
       "       [16, 17, 18, 19],\n",
       "       [20, 21, 22, 23],\n",
       "       [24, 25, 26, 27]])"
      ]
     },
     "execution_count": 19,
     "metadata": {},
     "output_type": "execute_result"
    }
   ],
   "source": [
    "data"
   ]
  },
  {
   "cell_type": "code",
   "execution_count": 20,
   "id": "d6d67ba5",
   "metadata": {},
   "outputs": [
    {
     "data": {
      "text/plain": [
       "array([[ 0,  1,  2,  3],\n",
       "       [20, 21, 22, 23]])"
      ]
     },
     "execution_count": 20,
     "metadata": {},
     "output_type": "execute_result"
    }
   ],
   "source": [
    "#내가 1행과 마지막 행만을 색인을 하고 싶다면?\n",
    "data[[0,5]]"
   ]
  },
  {
   "cell_type": "code",
   "execution_count": 21,
   "id": "bb1b9523",
   "metadata": {},
   "outputs": [
    {
     "data": {
      "text/plain": [
       "array([[ 0,  1,  2,  3],\n",
       "       [20, 21, 22, 23]])"
      ]
     },
     "execution_count": 21,
     "metadata": {},
     "output_type": "execute_result"
    }
   ],
   "source": [
    "data[[-7,-2]]"
   ]
  },
  {
   "cell_type": "markdown",
   "id": "e7b1172a",
   "metadata": {},
   "source": [
    "## Numpy의 유니버설 함수: 배열의 각 원소를 빠르게 처리"
   ]
  },
  {
   "cell_type": "code",
   "execution_count": 22,
   "id": "f5fe4cef",
   "metadata": {},
   "outputs": [
    {
     "data": {
      "text/plain": [
       "array([0, 1, 2, 3, 4, 5, 6, 7, 8, 9])"
      ]
     },
     "execution_count": 22,
     "metadata": {},
     "output_type": "execute_result"
    }
   ],
   "source": [
    "arr = np.arange(10)\n",
    "arr"
   ]
  },
  {
   "cell_type": "code",
   "execution_count": 24,
   "id": "20dd6aab",
   "metadata": {},
   "outputs": [
    {
     "data": {
      "text/plain": [
       "array([0.        , 1.        , 1.41421356, 1.73205081, 2.        ,\n",
       "       2.23606798, 2.44948974, 2.64575131, 2.82842712, 3.        ])"
      ]
     },
     "execution_count": 24,
     "metadata": {},
     "output_type": "execute_result"
    }
   ],
   "source": [
    "np.sqrt(arr) #for문을 쓸필요 없이 원소들을 다 루트를 씌워줌"
   ]
  },
  {
   "cell_type": "code",
   "execution_count": 25,
   "id": "c3f20800",
   "metadata": {},
   "outputs": [
    {
     "data": {
      "text/plain": [
       "array([1.00000000e+00, 2.71828183e+00, 7.38905610e+00, 2.00855369e+01,\n",
       "       5.45981500e+01, 1.48413159e+02, 4.03428793e+02, 1.09663316e+03,\n",
       "       2.98095799e+03, 8.10308393e+03])"
      ]
     },
     "execution_count": 25,
     "metadata": {},
     "output_type": "execute_result"
    }
   ],
   "source": [
    "np.exp(arr)"
   ]
  },
  {
   "cell_type": "code",
   "execution_count": 26,
   "id": "b003f843",
   "metadata": {},
   "outputs": [],
   "source": [
    "x = np.arange(10)\n",
    "y = np.arange(10) +2"
   ]
  },
  {
   "cell_type": "code",
   "execution_count": 27,
   "id": "c2491307",
   "metadata": {},
   "outputs": [
    {
     "data": {
      "text/plain": [
       "array([ 2,  3,  4,  5,  6,  7,  8,  9, 10, 11])"
      ]
     },
     "execution_count": 27,
     "metadata": {},
     "output_type": "execute_result"
    }
   ],
   "source": [
    "np.maximum(x, y)"
   ]
  },
  {
   "cell_type": "markdown",
   "id": "20569bb5",
   "metadata": {},
   "source": [
    "### Workshop 거리계산(Numpy 사용)"
   ]
  },
  {
   "cell_type": "markdown",
   "id": "872089f1",
   "metadata": {},
   "source": [
    "**거리계산**\n",
    "- 리스트를 이용하여 점 사이의 거리를 계산 해 보자.\n",
    "- 직교 좌표 위에서 A는 (1, 1), B는 (3, 2), C는 (5,7)일 때 X(2, 3)와  A/B/C와의 거리를 각각 구하여라.\n",
    "- 위 코드블럭을 이용하여 distMeasure 함수를 정의하라.\n"
   ]
  },
  {
   "cell_type": "code",
   "execution_count": null,
   "id": "b11b8f85",
   "metadata": {},
   "outputs": [],
   "source": [
    "#파이썬코드"
   ]
  },
  {
   "cell_type": "code",
   "execution_count": 29,
   "id": "2035c5a0",
   "metadata": {},
   "outputs": [],
   "source": [
    "points = [(1, 1), (3, 2), (5, 7)] # A, B, C\n",
    "X = (2, 3)"
   ]
  },
  {
   "cell_type": "code",
   "execution_count": 30,
   "id": "bc3b4f76",
   "metadata": {},
   "outputs": [
    {
     "data": {
      "text/plain": [
       "[2.23606797749979, 1.4142135623730951, 5.0]"
      ]
     },
     "execution_count": 30,
     "metadata": {},
     "output_type": "execute_result"
    }
   ],
   "source": [
    "from math import sqrt\n",
    "\n",
    "def distMeasure(points): # 여러 지점으로부터 X까지의 거리를 계산해서 결과 리스트 반환\n",
    "    result = []\n",
    "\n",
    "    for point in points: # point : (1, 1) -> (3, 2) -> (5, 7)\n",
    "        dist = sqrt((point[0] - X[0])**2 + (point[1] - X[1])**2)\n",
    "        result.append(dist)\n",
    "    return result\n",
    "\n",
    "distMeasure(points) "
   ]
  },
  {
   "cell_type": "code",
   "execution_count": 31,
   "id": "bd529d77",
   "metadata": {},
   "outputs": [],
   "source": [
    "#Numpy"
   ]
  },
  {
   "cell_type": "code",
   "execution_count": 32,
   "id": "1e43a780",
   "metadata": {},
   "outputs": [],
   "source": [
    "points = [(1, 1), (3, 2), (5, 7)] # A, B, C\n",
    "X = (2, 3)\n",
    "\n",
    "points_arr = np.array(points)\n",
    "X_arr = np.array(X)"
   ]
  },
  {
   "cell_type": "code",
   "execution_count": 38,
   "id": "534a38be",
   "metadata": {},
   "outputs": [
    {
     "data": {
      "text/plain": [
       "array([2.23606798, 1.41421356, 5.        ])"
      ]
     },
     "execution_count": 38,
     "metadata": {},
     "output_type": "execute_result"
    }
   ],
   "source": [
    "np.sqrt(np.sum((points_arr - X_arr)**2, axis = 1))"
   ]
  },
  {
   "cell_type": "code",
   "execution_count": 36,
   "id": "a40145d7",
   "metadata": {},
   "outputs": [
    {
     "name": "stdout",
     "output_type": "stream",
     "text": [
      "[[1 2 3]\n",
      " [4 5 6]]\n"
     ]
    },
    {
     "data": {
      "text/plain": [
       "array([ 6, 15])"
      ]
     },
     "execution_count": 36,
     "metadata": {},
     "output_type": "execute_result"
    }
   ],
   "source": [
    "#np.sum(배열, axis=1,0)-> axis = 0(행방향을 따라서) axis=1(열방향을 따라서) 합을 구함\n",
    "#참고\n",
    "# axis=0 (행방향을 따라서), axis=1(열방향을 따라서)\n",
    "t = np.array([[1, 2, 3], [4, 5, 6]])\n",
    "print(t)\n",
    "np.sum(t, axis=1)"
   ]
  },
  {
   "cell_type": "markdown",
   "id": "6a97cb26",
   "metadata": {},
   "source": [
    "참고용 사이트\n",
    "https://github.com/rougier/numpy-100"
   ]
  },
  {
   "cell_type": "code",
   "execution_count": null,
   "id": "f0409ebf",
   "metadata": {},
   "outputs": [],
   "source": []
  }
 ],
 "metadata": {
  "kernelspec": {
   "display_name": "Python 3 (ipykernel)",
   "language": "python",
   "name": "python3"
  },
  "language_info": {
   "codemirror_mode": {
    "name": "ipython",
    "version": 3
   },
   "file_extension": ".py",
   "mimetype": "text/x-python",
   "name": "python",
   "nbconvert_exporter": "python",
   "pygments_lexer": "ipython3",
   "version": "3.9.12"
  }
 },
 "nbformat": 4,
 "nbformat_minor": 5
}
