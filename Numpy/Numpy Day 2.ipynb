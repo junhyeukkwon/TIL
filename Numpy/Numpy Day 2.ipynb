{
 "cells": [
  {
   "cell_type": "markdown",
   "id": "e6fcefb3",
   "metadata": {},
   "source": [
    "## 3.배열 전치"
   ]
  },
  {
   "cell_type": "code",
   "execution_count": 2,
   "id": "b9c28e9f",
   "metadata": {},
   "outputs": [],
   "source": [
    "import numpy as np"
   ]
  },
  {
   "cell_type": "code",
   "execution_count": 4,
   "id": "3039e455",
   "metadata": {},
   "outputs": [
    {
     "data": {
      "text/plain": [
       "array([[ 0,  1,  2,  3,  4],\n",
       "       [ 5,  6,  7,  8,  9],\n",
       "       [10, 11, 12, 13, 14]])"
      ]
     },
     "execution_count": 4,
     "metadata": {},
     "output_type": "execute_result"
    }
   ],
   "source": [
    "arr = np.arange(15).reshape((3,5))\n",
    "arr"
   ]
  },
  {
   "cell_type": "code",
   "execution_count": 5,
   "id": "7a994737",
   "metadata": {},
   "outputs": [
    {
     "data": {
      "text/plain": [
       "array([[ 0,  5, 10],\n",
       "       [ 1,  6, 11],\n",
       "       [ 2,  7, 12],\n",
       "       [ 3,  8, 13],\n",
       "       [ 4,  9, 14]])"
      ]
     },
     "execution_count": 5,
     "metadata": {},
     "output_type": "execute_result"
    }
   ],
   "source": [
    "arr.T #행렬번호가 바뀜"
   ]
  },
  {
   "cell_type": "code",
   "execution_count": null,
   "id": "c11cc2b7",
   "metadata": {},
   "outputs": [],
   "source": [
    "# 행렬의 곱셈 np.dot()\n",
    "# arr x arr = 연산이 이루어지지 않음\n",
    "# (3,5) x (3,5)\n",
    "# arr x arr.T\n",
    "# (3,5) x (5,3)"
   ]
  },
  {
   "cell_type": "code",
   "execution_count": 6,
   "id": "2885ddc2",
   "metadata": {},
   "outputs": [
    {
     "data": {
      "text/plain": [
       "array([[ 30,  80, 130],\n",
       "       [ 80, 255, 430],\n",
       "       [130, 430, 730]])"
      ]
     },
     "execution_count": 6,
     "metadata": {},
     "output_type": "execute_result"
    }
   ],
   "source": [
    "np.dot(arr, arr.T) #(3,5) x (5,3) = (3,3)"
   ]
  },
  {
   "cell_type": "markdown",
   "id": "7d9fd185",
   "metadata": {},
   "source": [
    "### 3.1 배열 연산 조건절 표현하기"
   ]
  },
  {
   "cell_type": "code",
   "execution_count": 8,
   "id": "645f0df3",
   "metadata": {},
   "outputs": [
    {
     "data": {
      "text/plain": [
       "[1, 2, 7, 8]"
      ]
     },
     "execution_count": 8,
     "metadata": {},
     "output_type": "execute_result"
    }
   ],
   "source": [
    "x_arr = [1, 2, 3, 4]\n",
    "y_arr = [5, 6, 7, 8]\n",
    "cond = [True, True, False, False]\n",
    "\n",
    "\n",
    "[(x if c else y) for x, y, c in zip(x_arr,y_arr,cond)]"
   ]
  },
  {
   "cell_type": "markdown",
   "id": "544c228d",
   "metadata": {},
   "source": [
    "np.where(컨디션, True일때 취할 값(시퀀스 객체, 스칼라값), False일 때 취할 값(시퀀스 객체, 스칼라값))"
   ]
  },
  {
   "cell_type": "code",
   "execution_count": 9,
   "id": "625a805a",
   "metadata": {},
   "outputs": [
    {
     "data": {
      "text/plain": [
       "array([1, 2, 7, 8])"
      ]
     },
     "execution_count": 9,
     "metadata": {},
     "output_type": "execute_result"
    }
   ],
   "source": [
    "x_arr = np.array([1, 2, 3, 4])\n",
    "y_arr = np.array([5, 6, 7, 8])\n",
    "cond = [True, True, False, False]\n",
    "\n",
    "result = np.where(cond, x_arr, y_arr)\n",
    "result"
   ]
  },
  {
   "cell_type": "code",
   "execution_count": 10,
   "id": "3b5fe290",
   "metadata": {},
   "outputs": [
    {
     "data": {
      "text/plain": [
       "array([[ 0,  1,  2,  3],\n",
       "       [ 4,  5,  6,  7],\n",
       "       [ 8,  9, 10, 11],\n",
       "       [12, 13, 14, 15]])"
      ]
     },
     "execution_count": 10,
     "metadata": {},
     "output_type": "execute_result"
    }
   ],
   "source": [
    "arr = np.arange(16).reshape((4, 4))\n",
    "arr"
   ]
  },
  {
   "cell_type": "code",
   "execution_count": 11,
   "id": "30673a9c",
   "metadata": {},
   "outputs": [
    {
     "data": {
      "text/plain": [
       "array([[-1, -1, -1, -1],\n",
       "       [-1, -1, -1, -1],\n",
       "       [-1, -1,  1,  1],\n",
       "       [ 1,  1,  1,  1]])"
      ]
     },
     "execution_count": 11,
     "metadata": {},
     "output_type": "execute_result"
    }
   ],
   "source": [
    "# arr 원소중에 10보다 작은 값들은 -1로 바꾸고\n",
    "# arr 원소중에 10보다 크거나 같은 값들은 1로 바꾸기\n",
    "\n",
    "np.where(arr < 10, -1, 1 )"
   ]
  },
  {
   "cell_type": "code",
   "execution_count": 12,
   "id": "d7393fad",
   "metadata": {},
   "outputs": [
    {
     "data": {
      "text/plain": [
       "array([[-1, -1, -1, -1],\n",
       "       [-1, -1, -1, -1],\n",
       "       [-1, -1, 10, 11],\n",
       "       [12, 13, 14, 15]])"
      ]
     },
     "execution_count": 12,
     "metadata": {},
     "output_type": "execute_result"
    }
   ],
   "source": [
    "# arr 원소중에 10보다 작은 값들은 -1로 바꾸고\n",
    "# arr 원소중에 10보다 크거나 같은 값들은 그대로 두기\n",
    "\n",
    "np.where(arr<10, -1, arr)"
   ]
  },
  {
   "cell_type": "markdown",
   "id": "afb7d4a1",
   "metadata": {},
   "source": [
    "### 3.3 수학 통계 매서드"
   ]
  },
  {
   "cell_type": "code",
   "execution_count": 14,
   "id": "e0231269",
   "metadata": {},
   "outputs": [
    {
     "data": {
      "text/plain": [
       "array([[ 0,  1,  2,  3],\n",
       "       [ 4,  5,  6,  7],\n",
       "       [ 8,  9, 10, 11],\n",
       "       [12, 13, 14, 15],\n",
       "       [16, 17, 18, 19]])"
      ]
     },
     "execution_count": 14,
     "metadata": {},
     "output_type": "execute_result"
    }
   ],
   "source": [
    "arr = np.arange(20).reshape(5, 4)\n",
    "arr"
   ]
  },
  {
   "cell_type": "code",
   "execution_count": 15,
   "id": "ae348423",
   "metadata": {},
   "outputs": [
    {
     "data": {
      "text/plain": [
       "array([ 8.,  9., 10., 11.])"
      ]
     },
     "execution_count": 15,
     "metadata": {},
     "output_type": "execute_result"
    }
   ],
   "source": [
    "arr.mean(0)# np.mean(arr)"
   ]
  },
  {
   "cell_type": "code",
   "execution_count": 16,
   "id": "e9f58afa",
   "metadata": {},
   "outputs": [
    {
     "data": {
      "text/plain": [
       "array([0, 1, 2, 3])"
      ]
     },
     "execution_count": 16,
     "metadata": {},
     "output_type": "execute_result"
    }
   ],
   "source": [
    "arr.min(0)"
   ]
  },
  {
   "cell_type": "code",
   "execution_count": 17,
   "id": "7abc2cd8",
   "metadata": {},
   "outputs": [
    {
     "data": {
      "text/plain": [
       "array([16, 17, 18, 19])"
      ]
     },
     "execution_count": 17,
     "metadata": {},
     "output_type": "execute_result"
    }
   ],
   "source": [
    "arr.max(0)"
   ]
  },
  {
   "cell_type": "code",
   "execution_count": 18,
   "id": "6888989a",
   "metadata": {},
   "outputs": [
    {
     "data": {
      "text/plain": [
       "array([[ 0,  1,  2,  3],\n",
       "       [ 4,  6,  8, 10],\n",
       "       [12, 15, 18, 21],\n",
       "       [24, 28, 32, 36],\n",
       "       [40, 45, 50, 55]], dtype=int32)"
      ]
     },
     "execution_count": 18,
     "metadata": {},
     "output_type": "execute_result"
    }
   ],
   "source": [
    "arr.cumsum(0) #누적합"
   ]
  },
  {
   "cell_type": "code",
   "execution_count": 19,
   "id": "28db65c2",
   "metadata": {},
   "outputs": [
    {
     "data": {
      "text/plain": [
       "array([[ 0,  1,  3,  6],\n",
       "       [ 4,  9, 15, 22],\n",
       "       [ 8, 17, 27, 38],\n",
       "       [12, 25, 39, 54],\n",
       "       [16, 33, 51, 70]], dtype=int32)"
      ]
     },
     "execution_count": 19,
     "metadata": {},
     "output_type": "execute_result"
    }
   ],
   "source": [
    "arr.cumsum(1)"
   ]
  },
  {
   "cell_type": "code",
   "execution_count": 20,
   "id": "7dd5b46f",
   "metadata": {},
   "outputs": [
    {
     "data": {
      "text/plain": [
       "array([[    0,     0,     0,     0],\n",
       "       [    4,    20,   120,   840],\n",
       "       [    8,    72,   720,  7920],\n",
       "       [   12,   156,  2184, 32760],\n",
       "       [   16,   272,  4896, 93024]], dtype=int32)"
      ]
     },
     "execution_count": 20,
     "metadata": {},
     "output_type": "execute_result"
    }
   ],
   "source": [
    "arr.cumprod(1)"
   ]
  },
  {
   "cell_type": "markdown",
   "id": "6bb86cbe",
   "metadata": {},
   "source": [
    "### 3.4 불리안 배열 매서드"
   ]
  },
  {
   "cell_type": "code",
   "execution_count": 22,
   "id": "f82be183",
   "metadata": {},
   "outputs": [
    {
     "data": {
      "text/plain": [
       "array([[ 0,  1,  2,  3,  4,  5,  6,  7],\n",
       "       [ 8,  9, 10, 11, 12, 13, 14, 15]])"
      ]
     },
     "execution_count": 22,
     "metadata": {},
     "output_type": "execute_result"
    }
   ],
   "source": [
    "arr = np.arange(16).reshape((2,8))\n",
    "arr"
   ]
  },
  {
   "cell_type": "code",
   "execution_count": 24,
   "id": "6d784f8b",
   "metadata": {},
   "outputs": [],
   "source": [
    "bools = arr < 9"
   ]
  },
  {
   "cell_type": "code",
   "execution_count": 25,
   "id": "03eeff7f",
   "metadata": {},
   "outputs": [
    {
     "data": {
      "text/plain": [
       "True"
      ]
     },
     "execution_count": 25,
     "metadata": {},
     "output_type": "execute_result"
    }
   ],
   "source": [
    "bools.any() # 하나라도 true가 있으면 true"
   ]
  },
  {
   "cell_type": "code",
   "execution_count": 26,
   "id": "d9ce435d",
   "metadata": {},
   "outputs": [
    {
     "data": {
      "text/plain": [
       "False"
      ]
     },
     "execution_count": 26,
     "metadata": {},
     "output_type": "execute_result"
    }
   ],
   "source": [
    "bools.all() # 하나라도 false이면 false"
   ]
  },
  {
   "cell_type": "markdown",
   "id": "374a807b",
   "metadata": {},
   "source": [
    "### 3.5 정렬"
   ]
  },
  {
   "cell_type": "code",
   "execution_count": 29,
   "id": "6e51841c",
   "metadata": {},
   "outputs": [
    {
     "data": {
      "text/plain": [
       "array([[ 0.47469913, -0.13869872,  1.53888957, -0.92327163],\n",
       "       [ 0.39487555, -1.0627079 ,  0.36625247,  0.71821554],\n",
       "       [ 1.84343047,  0.31794659, -0.06998751,  0.8480041 ]])"
      ]
     },
     "execution_count": 29,
     "metadata": {},
     "output_type": "execute_result"
    }
   ],
   "source": [
    "#randn 정규분포 데이터를 만들어주는 모듈\n",
    "arr = np.random.randn(3,4)\n",
    "arr"
   ]
  },
  {
   "cell_type": "code",
   "execution_count": 31,
   "id": "cf4b0df0",
   "metadata": {},
   "outputs": [
    {
     "data": {
      "text/plain": [
       "array([[ 0.39487555, -1.0627079 , -0.06998751, -0.92327163],\n",
       "       [ 0.47469913, -0.13869872,  0.36625247,  0.71821554],\n",
       "       [ 1.84343047,  0.31794659,  1.53888957,  0.8480041 ]])"
      ]
     },
     "execution_count": 31,
     "metadata": {},
     "output_type": "execute_result"
    }
   ],
   "source": [
    "arr.sort(0) #\"0번 축\"(행축)을 따라서~\n",
    "arr"
   ]
  },
  {
   "cell_type": "code",
   "execution_count": 32,
   "id": "fcb4a699",
   "metadata": {},
   "outputs": [
    {
     "data": {
      "text/plain": [
       "array([[-1.0627079 , -0.92327163, -0.06998751,  0.39487555],\n",
       "       [-0.13869872,  0.36625247,  0.47469913,  0.71821554],\n",
       "       [ 0.31794659,  0.8480041 ,  1.53888957,  1.84343047]])"
      ]
     },
     "execution_count": 32,
     "metadata": {},
     "output_type": "execute_result"
    }
   ],
   "source": [
    "arr.sort(1)#\"1번 축\"(열축)을 따라서~\n",
    "arr"
   ]
  },
  {
   "cell_type": "markdown",
   "id": "ca8b82a4",
   "metadata": {},
   "source": [
    "### 3.6 집합 관련 함수"
   ]
  },
  {
   "cell_type": "code",
   "execution_count": 33,
   "id": "8c039a96",
   "metadata": {},
   "outputs": [
    {
     "data": {
      "text/plain": [
       "array(['Bob', 'Joe', 'Will'], dtype='<U4')"
      ]
     },
     "execution_count": 33,
     "metadata": {},
     "output_type": "execute_result"
    }
   ],
   "source": [
    "names = np.array(['Bob', 'Joe', 'Will', 'Bob', 'Will', 'Joe', 'Joe'])\n",
    "np.unique(names)"
   ]
  },
  {
   "cell_type": "code",
   "execution_count": 34,
   "id": "cd60338b",
   "metadata": {},
   "outputs": [
    {
     "data": {
      "text/plain": [
       "{'Bob', 'Joe', 'Will'}"
      ]
     },
     "execution_count": 34,
     "metadata": {},
     "output_type": "execute_result"
    }
   ],
   "source": [
    "#파이썬에서는\n",
    "set(names)"
   ]
  },
  {
   "cell_type": "markdown",
   "id": "18f1dcbe",
   "metadata": {},
   "source": [
    "![image](https://user-images.githubusercontent.com/85923524/176573795-3a53ad5d-c30a-4e9e-887e-a773ce7aa062.png)"
   ]
  },
  {
   "cell_type": "markdown",
   "id": "f0f8e657",
   "metadata": {},
   "source": [
    "- 정규분포에서 표본을 추출"
   ]
  },
  {
   "cell_type": "code",
   "execution_count": 47,
   "id": "a46cd615",
   "metadata": {},
   "outputs": [
    {
     "data": {
      "text/plain": [
       "array([-7.17600059e-01, -1.64159375e+00, -3.84658606e-01,  1.35138324e+00,\n",
       "       -1.20707140e+00, -9.51946974e-01,  1.04844612e-01, -1.52520333e+00,\n",
       "        1.50843085e+00,  1.84931167e+00,  1.08817491e+00,  7.83704942e-01,\n",
       "       -1.08619175e-01, -4.93621479e-01, -1.17013526e+00, -2.76578053e-01,\n",
       "       -3.59702007e-01, -1.29545258e+00, -3.51725813e-01,  3.13010976e-01,\n",
       "       -1.04182214e+00,  1.20356256e-01,  4.05119142e-01, -6.50561881e-01,\n",
       "       -1.20944379e+00, -9.93978837e-01, -1.10824692e+00, -7.57662520e-01,\n",
       "       -4.91838232e-01, -1.82597246e+00,  7.21640410e-02,  5.07723605e-01,\n",
       "        1.01746559e+00, -3.12475515e-01,  9.07870364e-01, -1.40396245e-01,\n",
       "        1.08687771e+00, -1.47843368e+00,  6.79494883e-01, -1.42346568e+00,\n",
       "        9.70910706e-01,  1.91153165e+00, -5.32309309e-01,  1.98170823e+00,\n",
       "        2.40439210e+00,  6.82183519e-01, -3.05247184e-01, -9.17746852e-01,\n",
       "        3.85270167e-01,  6.94915123e-01, -5.96932404e-01, -7.61490798e-02,\n",
       "        2.33454526e-02, -2.86889703e-01,  1.27798234e+00, -2.39819028e-02,\n",
       "        1.04318759e+00,  5.96693181e-01,  4.15647881e-01, -2.42299603e-01,\n",
       "        1.15764769e-01,  7.12004340e-01,  5.89785436e-01, -9.03066999e-02,\n",
       "        1.07570204e+00,  4.37186261e-01,  1.32259970e+00, -2.48367721e+00,\n",
       "        3.92354892e-01, -1.51847640e+00, -2.53083406e-01, -9.28684008e-01,\n",
       "       -1.96771864e-01, -1.40333158e+00,  8.21722270e-01,  5.40743011e-01,\n",
       "       -2.08510185e+00, -5.22144776e-01,  1.23312099e+00, -1.30710520e-02,\n",
       "        1.00141502e+00,  8.55899602e-01,  1.62783986e+00, -8.72196007e-01,\n",
       "       -2.03387040e-01,  3.69107383e-01, -8.73819892e-01,  5.96969626e-01,\n",
       "       -6.86915371e-01,  1.53261396e+00,  8.38288391e-01, -5.77588177e-01,\n",
       "       -1.07908277e+00, -1.05968972e-01, -2.08845256e+00, -9.79345370e-01,\n",
       "       -2.31486820e-01,  1.60441721e+00, -2.29912646e-01, -1.56032155e-02,\n",
       "        4.92137754e-01,  9.45778813e-01,  5.17675664e-01,  8.32099460e-01,\n",
       "       -1.18834824e+00,  1.52379753e-01, -2.80648704e-01, -2.13459321e-01,\n",
       "       -4.20461912e-01, -1.07798154e+00,  5.88196291e-01, -9.08532880e-01,\n",
       "        1.02896604e+00,  1.02877548e-01,  2.58490176e-01, -4.67589795e-03,\n",
       "        6.70439696e-01,  4.79711386e-01, -5.38449019e-01,  7.32259756e-01,\n",
       "       -9.18590216e-01, -7.49947820e-01,  1.08373531e+00, -6.04714303e-01,\n",
       "       -3.74934788e-01,  1.81541421e+00,  3.00507868e-01,  9.30698761e-01,\n",
       "       -1.29438925e+00,  5.35020368e-01, -1.28458698e-01, -9.45329189e-01,\n",
       "        8.97727925e-01,  1.66150768e+00,  2.35544436e-01, -6.01097875e-01,\n",
       "       -1.50358407e+00,  4.03956922e-01,  1.83225241e+00,  4.38490567e-01,\n",
       "       -9.37751782e-01, -1.35889628e-01, -9.79231483e-01, -2.96082310e-01,\n",
       "        1.23114671e+00,  8.17426021e-01, -1.79360554e+00, -4.11628853e-01,\n",
       "       -8.25826743e-01, -3.11733608e-01,  3.50417959e-01,  7.26367551e-01,\n",
       "        2.17224301e+00, -2.06632513e+00,  1.04864297e-01, -1.61034492e-02,\n",
       "        3.08225788e-01, -6.72790693e-02,  3.41696231e-01, -1.04520387e-01,\n",
       "       -4.22570124e-01, -1.88739824e+00, -1.22969924e-01, -3.70249629e-01,\n",
       "        1.61905313e-01,  7.59985940e-01,  5.19231118e-01, -1.30807764e+00,\n",
       "       -9.15200739e-01, -1.33809965e+00, -1.45710779e+00, -1.33262209e+00,\n",
       "       -3.31134015e-01,  1.45024756e+00, -5.18177956e-01, -7.61117647e-01,\n",
       "        4.51726897e-01, -1.95816097e+00,  1.07259617e+00, -3.56260893e-01,\n",
       "       -8.19721132e-01, -9.98494376e-01, -5.65625710e-02, -2.08840533e-01,\n",
       "        2.36775415e-01, -4.92804142e-01,  2.61872258e-01,  9.84138661e-01,\n",
       "       -7.81648887e-01, -1.53816781e+00,  2.98853936e-01,  2.22637666e-01,\n",
       "       -6.12164028e-01,  1.93438340e+00,  9.18789702e-01,  1.29422356e+00,\n",
       "        3.93140309e-01, -1.18871759e+00, -1.28952996e-01, -8.02925575e-02,\n",
       "       -2.75152153e+00, -5.20911636e-02,  5.77160191e-01, -1.30720926e+00,\n",
       "        9.49838688e-01,  9.05668917e-03, -1.41328974e+00, -1.46584997e+00,\n",
       "        3.44275309e-01, -1.07298174e+00,  9.72384275e-01, -5.72009465e-01,\n",
       "        2.72088506e-01, -5.69842147e-01, -1.71941069e+00, -4.09576760e-01,\n",
       "       -1.78963157e-02,  5.38588260e-01,  4.47412036e-01, -7.08240137e-01,\n",
       "       -7.13732254e-02, -6.07821834e-01, -1.02805717e+00,  3.54316938e-01,\n",
       "       -5.11955849e-02,  1.37536550e+00,  4.17476507e-02,  8.45628770e-01,\n",
       "       -6.91939656e-01,  1.16840110e-01,  9.37843319e-01, -1.66204809e+00,\n",
       "       -6.63289809e-01,  1.06216237e+00, -1.16045684e+00,  4.81743742e-01,\n",
       "        1.62454482e+00, -1.98130854e+00,  1.59822156e+00,  6.76171097e-02,\n",
       "        1.21006940e+00, -4.79263704e-01,  8.42904022e-01, -1.92224389e+00,\n",
       "       -3.88246137e-01, -2.38010304e-01, -7.15558240e-01, -9.88623414e-01,\n",
       "        1.18781992e-01, -2.38305653e+00,  9.43211362e-01,  5.37643774e-01,\n",
       "        1.68565498e-01, -3.38372703e-01,  6.67496586e-01, -8.54488231e-01,\n",
       "       -4.23673034e-01,  1.22438439e+00, -1.30549109e+00, -1.94993064e+00,\n",
       "       -1.19599164e+00,  1.57605139e+00, -9.85977560e-01,  3.53027659e-01,\n",
       "        6.60600597e-01,  7.55068827e-02, -3.24292817e-01, -1.00210966e+00,\n",
       "       -1.15666956e+00,  7.22158597e-01, -5.98341404e-01,  1.71399344e-01,\n",
       "        9.09738557e-02,  6.34513560e-01,  1.20551662e+00,  5.08397777e-01,\n",
       "       -1.31380099e+00,  1.32397069e+00,  1.63482218e+00,  5.19932910e-01,\n",
       "       -1.02080638e+00, -1.09661731e+00, -5.13592375e-01, -1.53701559e+00,\n",
       "       -5.33745398e-01, -1.48731516e-01,  8.02591169e-01,  7.13882761e-02,\n",
       "       -6.68515200e-01,  4.05775300e-02,  7.08080940e-02, -1.95301839e-01,\n",
       "       -7.72821820e-01,  2.61747898e-01, -1.27436298e+00, -2.28418123e-01,\n",
       "        4.13448308e-01,  1.40084262e+00, -4.55707836e-01, -7.86739853e-01,\n",
       "       -1.26721206e+00,  4.27937336e-01,  6.39294173e-03, -1.53374085e+00,\n",
       "       -1.10293029e-01,  1.65565886e-01,  7.01537715e-02,  1.11286572e+00,\n",
       "       -1.55099633e+00, -1.94595905e-01,  9.28501694e-02,  3.81444882e-01,\n",
       "        5.66534902e-01,  7.98320272e-01, -1.32269437e+00,  9.14388105e-01,\n",
       "        1.30523668e-01, -6.29225252e-01, -4.04562597e-01, -1.53554305e-02,\n",
       "       -6.33593028e-01, -4.18304594e-02, -7.68418648e-01,  1.12273856e+00,\n",
       "        2.95408004e-01, -4.41704176e-01, -1.52474903e+00, -2.01468896e+00,\n",
       "        1.52498322e+00,  2.16814293e+00, -1.42224537e+00, -8.27885029e-01,\n",
       "        1.51514813e+00,  5.27064557e-01,  2.39531124e+00,  5.03963640e-02,\n",
       "       -1.61932572e+00, -1.42285200e-01,  8.44784479e-01, -2.38455200e-01,\n",
       "        2.34952493e+00, -6.03995239e-01, -1.01203862e-02, -7.45453357e-01,\n",
       "       -3.01006327e-01, -8.52025176e-01, -1.49191785e-03,  1.20083707e+00,\n",
       "       -1.54839556e-02, -2.36738384e+00, -1.43948859e+00,  6.24901342e-01,\n",
       "       -1.19135820e+00, -3.98467990e-02, -5.18332415e-01,  8.98009083e-01,\n",
       "        4.55714270e-01, -4.85115275e-01,  1.54923910e-01, -1.34150151e+00,\n",
       "       -6.96974114e-01, -7.08034262e-01,  1.78503266e-01, -1.18639040e+00,\n",
       "       -2.64260766e-01,  3.84049320e-01,  1.69203077e+00,  1.39332761e+00,\n",
       "        1.13705789e+00, -1.97175653e+00,  2.07520798e-01, -2.46620230e+00,\n",
       "       -2.23579120e+00, -8.17726892e-01, -2.35202972e-01, -1.79614445e+00,\n",
       "       -3.17504511e-01, -3.34251999e-01,  5.23396883e-01, -1.09142807e+00,\n",
       "        6.28541575e-01, -1.37662622e+00, -7.68390814e-01, -1.22931839e+00,\n",
       "        8.97201101e-01,  6.52446495e-01, -3.99189791e-01, -3.33455251e-02,\n",
       "        2.83193569e-01,  9.40537788e-01, -8.62298140e-01,  6.66699793e-01,\n",
       "        4.31369301e-01,  1.46619177e+00, -8.94991641e-01,  6.42752134e-02,\n",
       "       -1.70518574e+00, -4.51608000e-01,  1.80607188e+00,  8.86816294e-01,\n",
       "        1.07227751e+00, -4.32476625e-01,  5.36204337e-01,  4.95526847e-01,\n",
       "       -1.07385533e+00, -5.26632754e-01,  6.31992244e-01,  1.62446933e+00,\n",
       "       -1.60705170e+00,  1.50329442e+00, -7.14849590e-01,  1.00247241e+00,\n",
       "        1.61103010e+00,  2.32596475e-01, -1.27011074e+00, -2.70770469e-01,\n",
       "       -4.70592276e-02, -2.42388332e+00, -1.93739528e+00,  4.11432001e-01,\n",
       "        3.86899184e-01,  1.35336578e+00, -1.70634985e+00,  1.15494625e+00,\n",
       "       -1.41247126e+00,  3.32584655e-01, -7.56917639e-01, -1.54691197e-01,\n",
       "        1.18874234e+00,  4.74445865e-01, -1.74991995e+00, -1.14593419e+00,\n",
       "       -7.78716173e-01,  6.10798388e-01, -8.08827632e-01,  1.00517711e+00,\n",
       "        1.09145390e+00,  2.54271168e-01, -2.35342609e-01, -3.72856400e-01,\n",
       "       -1.34547491e+00, -2.08374830e+00,  4.41938327e-01, -9.70525749e-01,\n",
       "       -5.92451103e-01, -1.36296129e+00, -6.86984611e-01,  2.24772935e+00,\n",
       "       -1.06475450e+00, -4.87299208e-01,  3.22939478e-01, -5.59528731e-01,\n",
       "        3.96372185e-01, -7.60777387e-01, -4.23830187e-01,  2.74538366e+00,\n",
       "       -1.14579853e-01,  4.36254099e-01,  4.93430804e-01,  3.97446676e-01,\n",
       "       -7.39474718e-01,  1.03421486e+00,  5.67507928e-01,  3.97222493e-01,\n",
       "       -2.76571547e-01,  4.91834622e-01, -2.94095604e-02, -8.94441919e-01,\n",
       "        2.47856355e+00,  6.24769046e-01,  7.46468841e-01,  1.29204144e+00,\n",
       "        4.79347479e-01, -1.23918391e+00,  6.76849509e-01,  1.02479963e-01,\n",
       "        8.05231738e-01,  5.41711613e-01,  8.15270732e-01,  3.43790186e-01,\n",
       "       -6.21644067e-01,  2.66977615e-01,  3.46840033e-01, -9.99963314e-01,\n",
       "        6.78286559e-01,  1.26214895e-01, -1.29424130e+00,  2.54567592e-01,\n",
       "        1.77763634e+00,  7.75068120e-01, -3.13012629e+00,  5.74979657e-01,\n",
       "        9.18677715e-01, -5.80831467e-01,  6.36204044e-01,  3.02810822e-01,\n",
       "       -9.44545841e-02,  3.60415966e-01,  1.39713071e-01, -7.18832018e-02,\n",
       "       -1.25749796e+00, -9.83877879e-01,  2.89168610e-01,  6.71517788e-01,\n",
       "       -3.57074898e-01,  6.79126004e-01,  7.52804298e-01,  5.78261585e-01,\n",
       "       -1.35212924e-02, -8.05304060e-01, -1.63787625e+00, -1.34456430e+00,\n",
       "        1.59879224e+00, -2.02774065e+00,  2.70862358e-01, -1.33500101e+00,\n",
       "       -1.79097312e+00,  5.35896574e-01,  6.41108686e-01,  8.66296997e-01,\n",
       "        2.33146398e+00,  8.31440959e-01,  1.01141051e+00,  7.85300681e-01,\n",
       "        5.97219949e-01,  7.75201069e-01, -8.35638855e-01, -3.15752114e-01,\n",
       "       -1.04823211e+00, -1.83782028e+00,  7.17911781e-02,  1.39867025e+00,\n",
       "        6.58721774e-01,  5.58539399e-01, -3.11804303e-01,  9.86793541e-01,\n",
       "        7.36742349e-01, -8.50527799e-01, -1.63135632e+00, -1.16299872e+00,\n",
       "       -1.78312562e-01,  1.40397019e+00,  4.06296991e-01, -2.24811576e-01,\n",
       "       -7.66877302e-01,  1.68093815e-01,  1.82226351e-01,  2.31817580e-01,\n",
       "        7.62427972e-01, -1.68622693e+00, -2.21664969e+00,  1.14672543e+00,\n",
       "       -7.18759372e-01, -1.10590259e+00,  1.62777034e+00, -5.01229194e-01,\n",
       "       -2.64038192e-01, -6.44119311e-01, -3.03069823e-01,  1.22014815e+00,\n",
       "        4.39430711e-01, -1.21580082e+00,  1.05138945e+00, -3.32342069e-01,\n",
       "        1.64740581e+00,  6.45972470e-01, -7.66204959e-01,  1.05963303e+00,\n",
       "        6.21441539e-01, -1.10770359e+00,  3.20132838e-01,  8.20952677e-01,\n",
       "       -1.45649831e-02,  9.32296606e-01, -5.10747465e-01, -1.41995537e-01,\n",
       "        8.32811921e-01,  1.87671327e+00,  4.93011997e-01, -6.81513202e-01,\n",
       "       -1.48831483e-02,  4.15089827e-01,  4.55593080e-01,  1.33929446e+00,\n",
       "        1.12511801e+00,  1.43978666e+00,  7.78818069e-01, -5.82211005e-01,\n",
       "        3.67747141e-01,  9.98697282e-01, -1.20602030e+00,  1.00400260e+00,\n",
       "        4.06342075e-01, -3.91690803e-01,  1.07683634e+00,  2.56024893e-01,\n",
       "       -7.96905338e-01, -2.59242512e-01, -1.30356049e+00, -7.17953142e-01,\n",
       "       -6.50097020e-01, -6.77007200e-01, -4.58455727e-01,  4.72708064e-01,\n",
       "       -8.45261153e-01, -4.48393408e-01,  5.10900139e-01,  1.24787433e+00,\n",
       "        3.79707209e-01, -1.11466877e+00, -6.00694216e-01, -2.13157441e+00,\n",
       "        6.65611381e-01,  3.28749416e-01, -1.28519521e-01, -2.47337307e+00,\n",
       "        1.43600417e+00,  7.27063927e-01, -4.65201540e-01,  2.07183566e+00,\n",
       "        4.65659156e-01, -1.84250907e+00,  1.70893803e-01,  1.64001549e+00,\n",
       "       -4.48016069e-01,  5.72284942e-01, -1.92017953e-01, -1.76015657e-01,\n",
       "        9.91802498e-01, -7.94617982e-01, -6.16349978e-01, -3.94407608e-01,\n",
       "        7.99790131e-02,  1.54763382e+00,  9.07156974e-01, -2.21011065e+00,\n",
       "       -1.34137552e+00,  6.92642195e-01, -6.71348954e-01, -7.55202815e-01,\n",
       "        5.40122707e-01, -5.85361283e-01,  8.49957150e-01,  2.54760170e-01,\n",
       "       -3.54685251e-01, -5.20054325e-01, -5.60309199e-01,  3.44824526e-01,\n",
       "       -1.01166699e-01,  1.25831048e-01, -5.66620098e-01,  3.51936891e-01,\n",
       "        1.12351244e+00, -8.66995825e-01,  4.48704314e-01,  1.94332686e+00,\n",
       "       -1.35392534e+00, -1.54467237e-01, -7.82736620e-02,  6.22622649e-01,\n",
       "       -4.70131164e-01, -3.39241880e-01,  1.67822213e+00,  3.21047934e-01,\n",
       "        8.35847599e-01,  2.08207458e+00,  2.82812503e-01,  4.46961612e-01,\n",
       "        7.98186920e-01, -5.17022919e-01, -1.00900312e-01, -1.27983841e+00,\n",
       "       -1.60422246e+00, -4.54680540e-01, -6.74453713e-01, -5.91283621e-01,\n",
       "       -3.30789880e+00, -1.57570731e+00,  1.42312298e+00, -1.16893775e-01,\n",
       "        6.54690776e-01, -5.58844078e-01,  3.91794405e-01,  2.86170477e-01,\n",
       "       -4.24990758e-01,  6.50846927e-01,  1.10913655e+00, -3.02830317e-01,\n",
       "        4.27418161e-01,  3.09725705e-01, -1.75481571e+00,  1.05444536e-01,\n",
       "       -7.08318686e-01, -6.56959699e-01, -2.98784898e-01,  6.01449629e-01,\n",
       "       -1.99449956e+00, -1.74295841e+00, -1.16756608e+00,  3.06836721e-01,\n",
       "        1.01529125e+00,  4.54006451e-01,  9.73421469e-01,  3.03433893e-02,\n",
       "        1.03705913e+00, -1.29344415e+00,  6.06442949e-01,  3.46832092e-01,\n",
       "        9.60041643e-01,  1.60152117e+00,  1.30777227e+00,  1.55067030e+00,\n",
       "        4.23696406e-01, -1.48469297e+00, -1.30004468e+00,  7.25069605e-01,\n",
       "        5.37812152e-01, -1.32198880e+00, -2.02025401e-01, -3.29215879e-03,\n",
       "       -2.03571844e+00,  1.05484749e+00,  1.22419192e+00, -9.93763239e-01,\n",
       "        1.52698595e-01, -1.44164771e+00, -1.68413555e-01,  9.23608304e-01,\n",
       "       -3.50456324e-01, -5.03686536e-01,  5.32222847e-01, -4.55734958e-01,\n",
       "       -4.17162345e-01,  1.51856027e+00, -4.27188320e-01,  6.57161554e-01,\n",
       "       -1.79761946e+00, -8.73385616e-01,  6.93379798e-02,  5.62252261e-01,\n",
       "       -2.17988860e-01,  6.30330111e-01, -1.09133796e-01,  8.98428971e-01,\n",
       "       -1.50382970e-01, -3.91235677e-01,  6.24590793e-02,  5.32967018e-01,\n",
       "       -2.92858280e-01,  4.66246899e-01, -1.02924462e+00,  2.83963649e+00,\n",
       "       -9.53605437e-01, -2.29504771e-01, -4.53285753e-01,  4.97607800e-01,\n",
       "       -2.48208879e-01, -2.89255522e-01, -4.28614546e-01, -1.05986055e-01,\n",
       "        8.27393217e-02,  5.24492788e-01,  2.16872801e+00, -1.97321341e+00,\n",
       "       -1.40398364e-01,  1.89181621e+00, -7.05589810e-03, -3.70905603e-01,\n",
       "        1.03042192e+00,  6.92195279e-01,  7.87617621e-02, -1.18851112e+00,\n",
       "        1.12800069e+00,  1.42991646e-01,  1.76188457e+00, -5.35791389e-02,\n",
       "       -5.23303008e-01,  1.09953459e-01, -8.51456638e-01, -3.14591341e-01,\n",
       "        4.78832228e-01,  8.26773910e-01, -6.20071479e-01,  2.47470510e-01,\n",
       "       -7.67001167e-01, -1.42545155e+00,  3.74865357e-01,  1.08485582e+00,\n",
       "       -1.37785645e+00,  1.12348943e+00,  9.13737194e-01,  1.38073825e+00,\n",
       "        1.16817467e+00, -5.10395619e-01, -4.38186796e-03, -1.01005030e-01,\n",
       "        1.80240064e-01,  6.33360190e-01,  5.96076783e-01, -5.32198780e-02,\n",
       "       -8.06875744e-01, -2.34444975e-01,  5.08348647e-01,  5.92323584e-03,\n",
       "        6.56498791e-01, -9.50673092e-01, -9.98838586e-01, -1.08897559e+00,\n",
       "       -6.85779516e-01,  1.45500402e+00,  1.88403068e+00,  1.73202039e+00,\n",
       "        4.10296590e-01,  4.06018358e-01,  1.43763190e+00, -1.36345977e+00,\n",
       "       -8.21152599e-01,  1.67070318e-01,  7.35869664e-01, -1.75617124e-01,\n",
       "        1.35453536e-01,  1.53584475e+00,  1.61302354e+00, -4.35248959e-02,\n",
       "       -6.22517192e-01, -1.09936992e-01,  4.67672080e-01, -3.40082034e-01,\n",
       "        4.92030880e-01,  9.33701317e-01, -1.24767677e+00, -1.02429212e+00,\n",
       "        8.18035913e-01,  2.86351333e-01,  4.85980459e-01,  1.37939086e+00,\n",
       "       -1.88429750e+00,  2.39883375e-01,  1.26084531e-01,  2.08800683e-01,\n",
       "       -1.80836944e-01, -1.91525972e+00,  5.16338429e-01, -1.88149188e-01,\n",
       "       -6.66347074e-02,  1.08069727e+00,  5.46673616e-01, -8.68917678e-02,\n",
       "        1.87507590e+00, -2.54821743e-01,  1.95923598e+00,  8.41697538e-01,\n",
       "       -4.70663783e-01, -3.47893073e-01, -2.88155333e-02, -2.73037068e-01,\n",
       "        1.64888792e+00, -5.92561104e-01,  4.04895947e-01, -5.33932361e-01,\n",
       "        7.31544477e-01, -1.28201751e+00,  5.48745715e-01,  6.13834955e-01,\n",
       "        1.34583372e+00, -1.04683335e-02, -7.23054123e-01, -8.00442109e-01,\n",
       "       -2.25147571e-01, -1.16919834e+00, -1.33519559e-01, -2.54940556e+00,\n",
       "        1.26658390e-01, -1.04156046e+00,  2.25498653e-02,  1.82515201e-02,\n",
       "       -3.84293492e-01, -9.29262721e-01, -1.37593432e+00, -5.89763913e-01,\n",
       "        9.21536385e-02, -7.07689191e-02, -1.78515412e+00,  2.58905236e-01,\n",
       "        7.14071097e-02, -1.00637047e+00,  2.24738640e+00,  7.97061612e-01,\n",
       "        1.04309476e+00,  1.05169764e+00,  7.74909605e-01, -5.49682835e-01,\n",
       "        1.65552324e+00, -1.64580269e-01, -6.30303363e-01,  6.63450360e-01,\n",
       "       -7.70220182e-01, -7.48020506e-01,  7.07718485e-01,  2.64836454e+00,\n",
       "       -1.90829861e-01,  8.06777115e-01, -3.30584801e-02, -7.76136060e-01,\n",
       "        4.83224689e-01, -3.60320987e-02, -6.00776993e-01,  5.90343405e-01,\n",
       "        2.94196175e-01, -2.78365220e-01,  1.55862475e+00,  7.19724399e-01,\n",
       "        1.24411403e+00, -6.73513164e-01,  8.30247099e-01, -1.07161512e-01,\n",
       "       -6.23724934e-01, -4.08872861e-01, -3.23429134e-01, -1.84553443e+00,\n",
       "       -4.55595127e-01, -6.71899639e-02, -4.33362874e-01,  7.25102767e-02,\n",
       "       -2.72775867e-01, -9.09415327e-01, -2.04156787e-01, -1.44122598e-01,\n",
       "       -2.22917926e+00,  7.67746122e-01, -1.10620439e+00,  2.00844141e+00,\n",
       "        7.07803370e-01,  2.43793693e-01, -6.87350764e-01,  4.93325727e-01,\n",
       "        4.00371770e-01,  1.12373386e+00, -5.08593872e-01,  9.31577374e-01,\n",
       "       -2.11923815e-01,  6.05328537e-01,  7.48944054e-01, -3.31012428e-01,\n",
       "       -6.59494736e-01,  2.49878068e-02,  8.20342155e-01,  5.44222643e-01,\n",
       "       -6.00942565e-01, -4.59811978e-01,  1.16929930e-01, -1.03084066e+00,\n",
       "       -2.10948670e+00, -1.02576337e+00,  2.84847853e-01, -1.85933540e+00,\n",
       "        4.05609732e-01, -1.00838547e+00,  6.34011828e-01, -4.62815400e-01,\n",
       "        1.05911844e+00, -9.87643661e-01,  5.71385834e-01,  1.84695713e-01,\n",
       "        1.45526961e+00,  3.93812230e-01, -1.37364824e-01, -5.10707190e-01,\n",
       "        1.10726019e+00,  1.48189621e+00, -4.36702469e-01, -6.59363097e-01,\n",
       "       -6.44186420e-01, -2.95254252e-01, -1.00465320e+00, -1.73943271e-02,\n",
       "       -2.61640440e-01, -9.39514161e-01,  7.05688864e-01, -1.16240079e+00,\n",
       "        1.41702087e+00,  1.56603200e+00,  4.53923204e-02,  1.26501806e+00,\n",
       "        4.18892468e-01, -1.08996451e+00,  7.64199796e-01,  5.94900805e-02,\n",
       "       -8.74204815e-01, -4.10379659e-01,  6.05816975e-03, -4.68635423e-01,\n",
       "       -4.70021180e-01, -2.90514897e-01,  4.32745775e-01,  1.15388527e+00,\n",
       "       -1.94729099e+00,  6.98326414e-02,  9.55519229e-02,  1.89990041e+00])"
      ]
     },
     "execution_count": 47,
     "metadata": {},
     "output_type": "execute_result"
    }
   ],
   "source": [
    "samples = np.random.normal(size = 1000)\n",
    "samples"
   ]
  },
  {
   "cell_type": "code",
   "execution_count": 48,
   "id": "28ff1abf",
   "metadata": {},
   "outputs": [
    {
     "data": {
      "text/plain": [
       "(array([  3.,  16.,  52., 125., 216., 221., 221.,  99.,  37.,  10.]),\n",
       " array([-3.3078988 , -2.69314527, -2.07839174, -1.46363822, -0.84888469,\n",
       "        -0.23413116,  0.38062237,  0.9953759 ,  1.61012943,  2.22488296,\n",
       "         2.83963649]),\n",
       " <BarContainer object of 10 artists>)"
      ]
     },
     "execution_count": 48,
     "metadata": {},
     "output_type": "execute_result"
    },
    {
     "data": {
      "image/png": "[encoded data removed]",
      "text/plain": [
       "<Figure size 432x288 with 1 Axes>"
      ]
     },
     "metadata": {
      "needs_background": "light"
     },
     "output_type": "display_data"
    }
   ],
   "source": [
    "import matplotlib.pyplot as plt\n",
    "plt.hist(samples)"
   ]
  },
  {
   "cell_type": "markdown",
   "id": "041910d3",
   "metadata": {},
   "source": [
    "- 표준 정규분포에서 표본을 추출"
   ]
  },
  {
   "cell_type": "code",
   "execution_count": 38,
   "id": "7cba14c5",
   "metadata": {},
   "outputs": [
    {
     "data": {
      "text/plain": [
       "array([[-0.41507097, -1.2906693 , -1.02200082, -0.42531098],\n",
       "       [ 2.40337692,  0.47081682, -0.43760592,  0.02656085],\n",
       "       [-0.6270931 , -0.31336752,  0.71319867, -1.55402095],\n",
       "       [ 0.21611892, -0.0556133 , -0.2687097 ,  0.82386105]])"
      ]
     },
     "execution_count": 38,
     "metadata": {},
     "output_type": "execute_result"
    }
   ],
   "source": [
    "samples = np.random.randn(4,4)\n",
    "samples"
   ]
  },
  {
   "cell_type": "code",
   "execution_count": 39,
   "id": "7302ac1a",
   "metadata": {},
   "outputs": [
    {
     "data": {
      "text/plain": [
       "-0.10972058342696428"
      ]
     },
     "execution_count": 39,
     "metadata": {},
     "output_type": "execute_result"
    }
   ],
   "source": [
    "samples.mean()"
   ]
  },
  {
   "cell_type": "code",
   "execution_count": 40,
   "id": "e146bdc0",
   "metadata": {},
   "outputs": [
    {
     "data": {
      "text/plain": [
       "0.9109333344498335"
      ]
     },
     "execution_count": 40,
     "metadata": {},
     "output_type": "execute_result"
    }
   ],
   "source": [
    "samples.std()"
   ]
  },
  {
   "cell_type": "markdown",
   "id": "dfbfb144",
   "metadata": {},
   "source": [
    "- 최대 최소범위에서 난수 생성"
   ]
  },
  {
   "cell_type": "code",
   "execution_count": 75,
   "id": "7711938a",
   "metadata": {},
   "outputs": [
    {
     "data": {
      "text/plain": [
       "array([2, 2, 4])"
      ]
     },
     "execution_count": 75,
     "metadata": {},
     "output_type": "execute_result"
    }
   ],
   "source": [
    "np.random.randint(1,10,3)"
   ]
  },
  {
   "cell_type": "markdown",
   "id": "0cc4b4d2",
   "metadata": {},
   "source": [
    "- 순서를 임의로 바꾼 순열을 반환"
   ]
  },
  {
   "cell_type": "code",
   "execution_count": 43,
   "id": "348bbd23",
   "metadata": {},
   "outputs": [
    {
     "data": {
      "text/plain": [
       "array([9, 3, 2, 8, 4, 6, 1, 5, 7, 0])"
      ]
     },
     "execution_count": 43,
     "metadata": {},
     "output_type": "execute_result"
    }
   ],
   "source": [
    "arr = np.arange(10)\n",
    "np.random.permutation(arr)"
   ]
  },
  {
   "cell_type": "markdown",
   "id": "7a720d2a",
   "metadata": {},
   "source": [
    "### Workshop 1"
   ]
  },
  {
   "cell_type": "markdown",
   "id": "1681b103",
   "metadata": {},
   "source": [
    "![image](https://user-images.githubusercontent.com/85923524/176577688-fb7fa484-122b-48ea-85b4-7cb8496c0866.png)\n"
   ]
  },
  {
   "cell_type": "code",
   "execution_count": 60,
   "id": "09fa36d1",
   "metadata": {},
   "outputs": [
    {
     "name": "stdout",
     "output_type": "stream",
     "text": [
      "[43 39 42  7 41 32]\n",
      "[35 42  3  6 29 19]\n",
      "[11  3 28 19 23 34]\n",
      "[24 23 31  6 42 43]\n",
      "[10 45 15 27 28 20]\n",
      "[24  1 21 13 31 39]\n",
      "[14 17 31 38 43 35]\n",
      "[ 4 41 26 17  6 36]\n",
      "[20 36 37 41 42 31]\n",
      "[ 8 32 42 17 12  3]\n"
     ]
    }
   ],
   "source": [
    "for i in range(10):\n",
    "    a = np.arange(1,46)\n",
    "    b = np.random.permutation(a)\n",
    "    print(b[:6])\n",
    "    "
   ]
  },
  {
   "cell_type": "markdown",
   "id": "145857f9",
   "metadata": {},
   "source": [
    "### Workshop 2 계단 오르내리기"
   ]
  },
  {
   "cell_type": "code",
   "execution_count": 76,
   "id": "5094286c",
   "metadata": {},
   "outputs": [],
   "source": [
    "import random\n",
    "\n",
    "position  = 0 #계단 1칸 올리기 : +1 , 계단 1칸 내려가기: -1\n",
    "steps = 1000\n",
    "\n",
    "walk = [position] #위치 히스토리 \n",
    "\n",
    "for i in range(steps):\n",
    "    random.randint(0,1) #동전을 던졌을 때 앞또는 뒤 0또는 1을 뽑아주는 randint <-> numpy에서는 범위의 마지막 숫자가 포함이 안되어있다.\n",
    "    if random.randint(0,1):\n",
    "        step = 1\n",
    "    else:\n",
    "        step = -1\n",
    "        \n",
    "    position += step\n",
    "    walk.append(position)"
   ]
  },
  {
   "cell_type": "code",
   "execution_count": 77,
   "id": "592aa05f",
   "metadata": {},
   "outputs": [
    {
     "data": {
      "text/plain": [
       "-18"
      ]
     },
     "execution_count": 77,
     "metadata": {},
     "output_type": "execute_result"
    }
   ],
   "source": [
    "position"
   ]
  },
  {
   "cell_type": "code",
   "execution_count": 78,
   "id": "b88310ab",
   "metadata": {},
   "outputs": [
    {
     "data": {
      "text/plain": [
       "[<matplotlib.lines.Line2D at 0x18cdd24ccd0>]"
      ]
     },
     "execution_count": 78,
     "metadata": {},
     "output_type": "execute_result"
    },
    {
     "data": {
      "image/png": "[encoded data removed]",
      "text/plain": [
       "<Figure size 432x288 with 1 Axes>"
      ]
     },
     "metadata": {
      "needs_background": "light"
     },
     "output_type": "display_data"
    }
   ],
   "source": [
    "plt.plot(walk)"
   ]
  },
  {
   "cell_type": "markdown",
   "id": "385a1258",
   "metadata": {},
   "source": [
    "- 위 코드를 Numpy로 구현\n",
    "```\n",
    "np.random.randint(): 동전 앞뒤\n",
    "np. where() : 동전의 앞뒤 조건에 따른 step\n",
    "```"
   ]
  },
  {
   "cell_type": "code",
   "execution_count": 83,
   "id": "abd17050",
   "metadata": {
    "scrolled": true
   },
   "outputs": [
    {
     "name": "stdout",
     "output_type": "stream",
     "text": [
      "(1000,) (1000,)\n"
     ]
    }
   ],
   "source": [
    "nsteps = 1000\n",
    "draws = np.random.randint(0,2,nsteps)\n",
    "\n",
    "steps = np.where(draws >0 ,1,-1)\n",
    "walk = steps.cumsum() #np.cumsum(steps) 누적합을 구하는 모듈 argmin도있슴\n",
    "print(steps.shape, walk.shape)\n"
   ]
  },
  {
   "cell_type": "code",
   "execution_count": 84,
   "id": "8c91bff6",
   "metadata": {},
   "outputs": [
    {
     "data": {
      "text/plain": [
       "[<matplotlib.lines.Line2D at 0x18cdd28bd90>]"
      ]
     },
     "execution_count": 84,
     "metadata": {},
     "output_type": "execute_result"
    },
    {
     "data": {
      "image/png": "[encoded data removed]",
      "text/plain": [
       "<Figure size 432x288 with 1 Axes>"
      ]
     },
     "metadata": {
      "needs_background": "light"
     },
     "output_type": "display_data"
    }
   ],
   "source": [
    "plt.plot(walk)"
   ]
  },
  {
   "cell_type": "code",
   "execution_count": 85,
   "id": "9af9baac",
   "metadata": {},
   "outputs": [
    {
     "data": {
      "text/plain": [
       "-13"
      ]
     },
     "execution_count": 85,
     "metadata": {},
     "output_type": "execute_result"
    }
   ],
   "source": [
    "walk.min()"
   ]
  },
  {
   "cell_type": "code",
   "execution_count": 86,
   "id": "6f49f97d",
   "metadata": {},
   "outputs": [
    {
     "data": {
      "text/plain": [
       "18"
      ]
     },
     "execution_count": 86,
     "metadata": {},
     "output_type": "execute_result"
    }
   ],
   "source": [
    "walk.max()"
   ]
  },
  {
   "cell_type": "code",
   "execution_count": 93,
   "id": "dcfc8972",
   "metadata": {},
   "outputs": [
    {
     "data": {
      "text/plain": [
       "4"
      ]
     },
     "execution_count": 93,
     "metadata": {},
     "output_type": "execute_result"
    }
   ],
   "source": [
    "#그 외 것들\n",
    "a = np.array([1,3,5,6,9,9,9])\n",
    "a.argmax() #가장 큰 숫자의 인덱스값을 반환"
   ]
  },
  {
   "cell_type": "code",
   "execution_count": 92,
   "id": "3ed8db85",
   "metadata": {},
   "outputs": [
    {
     "data": {
      "text/plain": [
       "465"
      ]
     },
     "execution_count": 92,
     "metadata": {},
     "output_type": "execute_result"
    }
   ],
   "source": [
    "#처음 위치에서 10계단 이상 떨어지는데 걸린 횟수\n",
    "(walk>=10).argmax() #argmax()는 최대값(True)가 등장하는 첫번째 인덱스"
   ]
  },
  {
   "cell_type": "code",
   "execution_count": null,
   "id": "ebc8a6f0",
   "metadata": {},
   "outputs": [],
   "source": []
  }
 ],
 "metadata": {
  "kernelspec": {
   "display_name": "Python 3 (ipykernel)",
   "language": "python",
   "name": "python3"
  },
  "language_info": {
   "codemirror_mode": {
    "name": "ipython",
    "version": 3
   },
   "file_extension": ".py",
   "mimetype": "text/x-python",
   "name": "python",
   "nbconvert_exporter": "python",
   "pygments_lexer": "ipython3",
   "version": "3.9.12"
  }
 },
 "nbformat": 4,
 "nbformat_minor": 5
}
