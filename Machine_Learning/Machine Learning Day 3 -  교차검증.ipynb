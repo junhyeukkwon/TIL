{
 "cells": [
  {
   "cell_type": "code",
   "execution_count": 18,
   "id": "8c7e1f50",
   "metadata": {},
   "outputs": [],
   "source": [
    "from sklearn.datasets import load_iris\n",
    "from sklearn.model_selection import KFold\n",
    "from sklearn.model_selection import StratifiedKFold\n",
    "from sklearn.metrics import accuracy_score\n",
    "\n",
    "import numpy as np\n",
    "import pandas as pd"
   ]
  },
  {
   "cell_type": "code",
   "execution_count": 6,
   "id": "17811856",
   "metadata": {},
   "outputs": [],
   "source": [
    "iris = load_iris()"
   ]
  },
  {
   "cell_type": "code",
   "execution_count": 7,
   "id": "42a57585",
   "metadata": {},
   "outputs": [
    {
     "data": {
      "text/plain": [
       "array([[5.1, 3.5, 1.4, 0.2],\n",
       "       [4.9, 3. , 1.4, 0.2],\n",
       "       [4.7, 3.2, 1.3, 0.2],\n",
       "       [4.6, 3.1, 1.5, 0.2],\n",
       "       [5. , 3.6, 1.4, 0.2]])"
      ]
     },
     "execution_count": 7,
     "metadata": {},
     "output_type": "execute_result"
    }
   ],
   "source": [
    "iris.data[:5]"
   ]
  },
  {
   "cell_type": "code",
   "execution_count": 8,
   "id": "f846cfec",
   "metadata": {},
   "outputs": [
    {
     "data": {
      "text/plain": [
       "array([0, 0, 0, 0, 0])"
      ]
     },
     "execution_count": 8,
     "metadata": {},
     "output_type": "execute_result"
    }
   ],
   "source": [
    "iris.target[:5]"
   ]
  },
  {
   "cell_type": "code",
   "execution_count": 10,
   "id": "3f24534b",
   "metadata": {},
   "outputs": [],
   "source": [
    "X= iris.data\n",
    "y= iris.target"
   ]
  },
  {
   "cell_type": "code",
   "execution_count": 9,
   "id": "5e603dc5",
   "metadata": {},
   "outputs": [],
   "source": [
    "from sklearn.neighbors import KNeighborsClassifier"
   ]
  },
  {
   "cell_type": "code",
   "execution_count": 17,
   "id": "6c17b3e9",
   "metadata": {},
   "outputs": [],
   "source": [
    "knn_clf  = KNeighborsClassifier()\n",
    "# knn_clf.fit(X, y)"
   ]
  },
  {
   "cell_type": "markdown",
   "id": "1f072741",
   "metadata": {},
   "source": [
    "## 1. K-폴드 교차 검증"
   ]
  },
  {
   "cell_type": "code",
   "execution_count": 21,
   "id": "916c8e07",
   "metadata": {},
   "outputs": [
    {
     "name": "stdout",
     "output_type": "stream",
     "text": [
      "평균 정확도 : 0.9666666666666666\n"
     ]
    }
   ],
   "source": [
    "accuracy_list = []\n",
    "\n",
    "kfold = KFold(n_splits=5, shuffle=True) # suffle: 무작위로 섞어준다.\n",
    "for train_index, valid_index in kfold.split(X):\n",
    "    #훈련(학습)\n",
    "    X_train, y_train = X[train_index], y[train_index] #4/5\n",
    "    X_valid, y_valid = X[valid_index], y[valid_index] #1/5\n",
    "    knn_clf.fit(X_train, y_train)\n",
    "    \n",
    "    #예측 및 평가(분류문제에서는 정확도로 판단)\n",
    "    pred = knn_clf.predict(X_valid)\n",
    "    accuracy = accuracy_score(y_valid, pred)\n",
    "    accuracy_list.append(accuracy)\n",
    "    \n",
    "print(\"평균 정확도 :\" ,np.mean(accuracy_list))"
   ]
  },
  {
   "cell_type": "code",
   "execution_count": 28,
   "id": "24d5c790",
   "metadata": {},
   "outputs": [
    {
     "name": "stdout",
     "output_type": "stream",
     "text": [
      "평균 정확도 :  0.96\n"
     ]
    }
   ],
   "source": [
    "accuracy_list = []\n",
    "\n",
    "knn_clf = KNeighborsClassifier()\n",
    "\n",
    "skfold = StratifiedKFold(n_splits=3, shuffle=True)\n",
    "for train_index, valid_index in skfold.split(X, y):\n",
    "  # 훈련(학습)\n",
    "  X_train, y_train = X[train_index], y[train_index] # 4/5\n",
    "  X_valid, y_valid = X[valid_index], y[valid_index] # 1/5\n",
    "  knn_clf.fit(X_train, y_train)\n",
    "  \n",
    "  \n",
    "  # 예측과 평가(정확도)\n",
    "  pred = knn_clf.predict(X_valid)\n",
    "  accuracy = accuracy_score(y_valid, pred)\n",
    "  accuracy_list.append(accuracy)\n",
    "\n",
    "print(\"평균 정확도 : \", np.mean(accuracy_list))"
   ]
  },
  {
   "cell_type": "markdown",
   "id": "788b1a10",
   "metadata": {},
   "source": [
    "## cross_val_score()"
   ]
  },
  {
   "cell_type": "code",
   "execution_count": 29,
   "id": "a77479b9",
   "metadata": {},
   "outputs": [
    {
     "data": {
      "text/plain": [
       "0.9733333333333333"
      ]
     },
     "execution_count": 29,
     "metadata": {},
     "output_type": "execute_result"
    }
   ],
   "source": [
    "from sklearn.model_selection import cross_val_score\n",
    "\n",
    "knn_clf = KNeighborsClassifier()\n",
    "\n",
    "#kfold = KFold(n_splits=5, shuffle=True)\n",
    "skfold = StratifiedKFold(n_splits=5, shuffle=True)\n",
    "\n",
    "scores = cross_val_score(knn_clf, X, y, scoring=\"accuracy\", cv=skfold)\n",
    "np.mean(scores)"
   ]
  },
  {
   "cell_type": "code",
   "execution_count": null,
   "id": "0fbdc222",
   "metadata": {},
   "outputs": [],
   "source": []
  },
  {
   "cell_type": "code",
   "execution_count": null,
   "id": "08ba8ff1",
   "metadata": {},
   "outputs": [],
   "source": []
  },
  {
   "cell_type": "code",
   "execution_count": null,
   "id": "2c75d760",
   "metadata": {},
   "outputs": [],
   "source": []
  },
  {
   "cell_type": "code",
   "execution_count": null,
   "id": "eda46372",
   "metadata": {},
   "outputs": [],
   "source": []
  }
 ],
 "metadata": {
  "kernelspec": {
   "display_name": "Python 3 (ipykernel)",
   "language": "python",
   "name": "python3"
  },
  "language_info": {
   "codemirror_mode": {
    "name": "ipython",
    "version": 3
   },
   "file_extension": ".py",
   "mimetype": "text/x-python",
   "name": "python",
   "nbconvert_exporter": "python",
   "pygments_lexer": "ipython3",
   "version": "3.9.12"
  }
 },
 "nbformat": 4,
 "nbformat_minor": 5
}
