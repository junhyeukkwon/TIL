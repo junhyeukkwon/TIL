{
 "cells": [
  {
   "cell_type": "markdown",
   "metadata": {
    "id": "QRg4kY6KCY4L"
   },
   "source": [
    "## 선형회귀"
   ]
  },
  {
   "cell_type": "code",
   "execution_count": 3,
   "metadata": {},
   "outputs": [],
   "source": [
    "import numpy as np\n",
    "import matplotlib.pyplot as plt\n",
    "np.random.seed(42)"
   ]
  },
  {
   "cell_type": "markdown",
   "metadata": {},
   "source": [
    "### 1. 정규방정식을 사용한 선형회귀"
   ]
  },
  {
   "cell_type": "code",
   "execution_count": 5,
   "metadata": {},
   "outputs": [],
   "source": [
    "X = 2 * np.random.rand(100, 1)\n",
    "y = 3*X +4 + np.random.randn(100, 1)"
   ]
  },
  {
   "cell_type": "code",
   "execution_count": 8,
   "metadata": {},
   "outputs": [
    {
     "data": {
      "text/plain": [
       "((100, 1), (100, 1))"
      ]
     },
     "execution_count": 8,
     "metadata": {},
     "output_type": "execute_result"
    }
   ],
   "source": [
    "X.shape, y.shape"
   ]
  },
  {
   "cell_type": "code",
   "execution_count": 7,
   "metadata": {},
   "outputs": [
    {
     "data": {
      "text/plain": [
       "[<matplotlib.lines.Line2D at 0x1c8d8c35700>]"
      ]
     },
     "execution_count": 7,
     "metadata": {},
     "output_type": "execute_result"
    },
    {
     "data": {
      "image/png": "[encoded data removed]",
      "text/plain": [
       "<Figure size 432x288 with 1 Axes>"
      ]
     },
     "metadata": {
      "needs_background": "light"
     },
     "output_type": "display_data"
    }
   ],
   "source": [
    "plt.plot(X, y, 'b.')"
   ]
  },
  {
   "cell_type": "markdown",
   "metadata": {},
   "source": [
    "![image.png](data:image/png;base64,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)"
   ]
  },
  {
   "cell_type": "code",
   "execution_count": 9,
   "metadata": {},
   "outputs": [
    {
     "data": {
      "text/plain": [
       "array([[0.06285837],\n",
       "       [1.27282082],\n",
       "       [0.62871196],\n",
       "       [1.01714138],\n",
       "       [1.81513295]])"
      ]
     },
     "execution_count": 9,
     "metadata": {},
     "output_type": "execute_result"
    }
   ],
   "source": [
    "X[:5]"
   ]
  },
  {
   "cell_type": "code",
   "execution_count": 11,
   "metadata": {},
   "outputs": [],
   "source": [
    "#고정된 1을 부여 절편!\n",
    "X_b = np.c_[np.ones((100, 1)), X]"
   ]
  },
  {
   "cell_type": "code",
   "execution_count": 13,
   "metadata": {},
   "outputs": [
    {
     "data": {
      "text/plain": [
       "array([[3.74406122],\n",
       "       [3.36555744]])"
      ]
     },
     "execution_count": 13,
     "metadata": {},
     "output_type": "execute_result"
    }
   ],
   "source": [
    "#X_b.T.dot(X_b)\n",
    "theta = np.linalg.inv(X_b.T.dot(X_b)).dot(X_b.T).dot(y)\n",
    "theta #결과값은 4, 3의 근사치를 가진다."
   ]
  },
  {
   "cell_type": "code",
   "execution_count": 14,
   "metadata": {},
   "outputs": [
    {
     "data": {
      "text/plain": [
       "LinearRegression()"
      ]
     },
     "execution_count": 14,
     "metadata": {},
     "output_type": "execute_result"
    }
   ],
   "source": [
    "from sklearn.linear_model import LinearRegression\n",
    "\n",
    "lin_reg = LinearRegression()\n",
    "lin_reg.fit(X, y)"
   ]
  },
  {
   "cell_type": "code",
   "execution_count": 15,
   "metadata": {},
   "outputs": [
    {
     "data": {
      "text/plain": [
       "(array([3.74406122]), array([[3.36555744]]))"
      ]
     },
     "execution_count": 15,
     "metadata": {},
     "output_type": "execute_result"
    }
   ],
   "source": [
    "lin_reg.intercept_ , lin_reg.coef_"
   ]
  },
  {
   "cell_type": "markdown",
   "metadata": {},
   "source": [
    "### 2. 경사하강법을 사용한 선형회귀(중요)"
   ]
  },
  {
   "cell_type": "markdown",
   "metadata": {},
   "source": [
    "- 비용함수는 결국엔 거리이다.\n",
    "- 선형회귀의 비용함수는 MSE이다.   \n",
    "\n",
    "![image](https://user-images.githubusercontent.com/85923524/177940763-f175628c-469a-49b0-b315-3e94c6427f32.png)\n"
   ]
  },
  {
   "cell_type": "markdown",
   "metadata": {},
   "source": [
    "![image](https://user-images.githubusercontent.com/85923524/177944664-5bea4de8-07e3-4d59-8f4a-4b956dcbca50.png)\n",
    "\n",
    "- 미분값은 다음으로 이동할 크기와, 방향을 결정하는 단서를 준다.\n",
    "- 학습률(하이퍼파라미터=변하지않는값)은 그래디언트 적용량을 조정해준다.\n"
   ]
  },
  {
   "cell_type": "markdown",
   "metadata": {},
   "source": [
    "![image](https://user-images.githubusercontent.com/85923524/177951975-70095e36-e188-4748-b4ac-0d477b3ffb90.png)"
   ]
  },
  {
   "cell_type": "markdown",
   "metadata": {},
   "source": [
    "![image](https://user-images.githubusercontent.com/85923524/177952098-f71688d2-f6f1-4c6c-b65c-325a0da2f418.png)\n",
    "\n",
    "- 모든 데이터를 가지고 경사하강법을 진행한다."
   ]
  },
  {
   "cell_type": "markdown",
   "metadata": {},
   "source": [
    "![image](https://user-images.githubusercontent.com/85923524/177954499-c88f9b48-427f-47c2-8375-75f2f3e25262.png)\n",
    "\n",
    "- 미분의 값도 예측과 실제값에서 x를 곱한게 된다.\n"
   ]
  },
  {
   "cell_type": "code",
   "execution_count": null,
   "metadata": {},
   "outputs": [],
   "source": []
  }
 ],
 "metadata": {
  "colab": {
   "authorship_tag": "ABX9TyMYAtzSK/+03+Qb/ENQS26r",
   "collapsed_sections": [],
   "name": "Machine Learning Day 3 - 선형회귀.ipynb",
   "provenance": []
  },
  "kernelspec": {
   "display_name": "Python 3 (ipykernel)",
   "language": "python",
   "name": "python3"
  },
  "language_info": {
   "codemirror_mode": {
    "name": "ipython",
    "version": 3
   },
   "file_extension": ".py",
   "mimetype": "text/x-python",
   "name": "python",
   "nbconvert_exporter": "python",
   "pygments_lexer": "ipython3",
   "version": "3.9.12"
  }
 },
 "nbformat": 4,
 "nbformat_minor": 1
}
