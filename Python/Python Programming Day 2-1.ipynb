{
 "cells": [
  {
   "cell_type": "markdown",
   "id": "f7ef822c",
   "metadata": {},
   "source": [
    "### Workshop"
   ]
  },
  {
   "cell_type": "markdown",
   "id": "b0acbac6",
   "metadata": {},
   "source": [
    "**정수 세 개를 입력 받고 합계 출력하기**\n"
   ]
  },
  {
   "cell_type": "code",
   "execution_count": 1,
   "id": "3ad74a91",
   "metadata": {},
   "outputs": [
    {
     "name": "stdout",
     "output_type": "stream",
     "text": [
      "세개의 정수를 입력하시오-10 20 30\n",
      "40\n"
     ]
    }
   ],
   "source": [
    "x,y,z=map(int,input(\"세개의 정수를 입력하시오\").split())\n",
    "print(x+y+z)"
   ]
  },
  {
   "cell_type": "markdown",
   "id": "7f1cae05",
   "metadata": {},
   "source": [
    "**평균 점수 구하기**\n",
    "- 표준 입력으로 국어, 영어, 수학, 과학 점수가 입력됩니다. 평균 점수를 출력하는 프로그램을 만드세요(input에서 안내 문자열은 출력하지 않아야 합니다). 단, 평균 점수를 출력할 때는 소수점 이하 자리는 버립니다(정수로 출력).\n"
   ]
  },
  {
   "cell_type": "code",
   "execution_count": 2,
   "id": "416bc5ae",
   "metadata": {},
   "outputs": [
    {
     "name": "stdout",
     "output_type": "stream",
     "text": [
      "90 80 70 100\n"
     ]
    },
    {
     "data": {
      "text/plain": [
       "85"
      ]
     },
     "execution_count": 2,
     "metadata": {},
     "output_type": "execute_result"
    }
   ],
   "source": [
    "k, e, m, s = map(int, input().split())\n",
    "a = (k + e + m + s)//4 # option 1\n",
    "# a = int((k + e + m + s)/4) #option 2\n",
    "a"
   ]
  },
  {
   "cell_type": "markdown",
   "id": "c64060a9",
   "metadata": {},
   "source": [
    "### 출력 방법 알아보기"
   ]
  },
  {
   "cell_type": "markdown",
   "id": "9ce82568",
   "metadata": {},
   "source": [
    "- print(값1, 값2, 값3...)\n",
    "- print(변수1, 변수2, 변수3...)"
   ]
  },
  {
   "cell_type": "code",
   "execution_count": 3,
   "id": "ec9ac654",
   "metadata": {},
   "outputs": [
    {
     "name": "stdout",
     "output_type": "stream",
     "text": [
      "1 2 3\n"
     ]
    }
   ],
   "source": [
    "print(1, 2, 3)"
   ]
  },
  {
   "cell_type": "code",
   "execution_count": 4,
   "id": "2c543907",
   "metadata": {},
   "outputs": [
    {
     "name": "stdout",
     "output_type": "stream",
     "text": [
      "90 80 70 100\n"
     ]
    }
   ],
   "source": [
    "print(k, e, m, s)"
   ]
  },
  {
   "cell_type": "markdown",
   "id": "a2ce7d90",
   "metadata": {},
   "source": [
    "- print(값1, 값2, sep='문자' 또는 '문자열')\n",
    "- print(변수1, 변수2, sep='문자' 또는 '문자열')"
   ]
  },
  {
   "cell_type": "code",
   "execution_count": 5,
   "id": "980522eb",
   "metadata": {},
   "outputs": [
    {
     "name": "stdout",
     "output_type": "stream",
     "text": [
      "1, 2, 3\n"
     ]
    }
   ],
   "source": [
    "print(1, 2, 3, sep=', ') # sep에 컴마와 공백을 지정"
   ]
  },
  {
   "cell_type": "code",
   "execution_count": 6,
   "id": "5f92489e",
   "metadata": {},
   "outputs": [
    {
     "name": "stdout",
     "output_type": "stream",
     "text": [
      "hellopython\n"
     ]
    }
   ],
   "source": [
    "print('hello', 'python', sep='') # sep에 빈 문자열을 지정"
   ]
  },
  {
   "cell_type": "code",
   "execution_count": 7,
   "id": "cb1e804a",
   "metadata": {},
   "outputs": [
    {
     "name": "stdout",
     "output_type": "stream",
     "text": [
      "123x456\n"
     ]
    }
   ],
   "source": [
    "print(123, 456, sep='x')"
   ]
  },
  {
   "cell_type": "code",
   "execution_count": 8,
   "id": "1b40dd74",
   "metadata": {},
   "outputs": [
    {
     "name": "stdout",
     "output_type": "stream",
     "text": [
      "1\n",
      "2\n",
      "3\n"
     ]
    }
   ],
   "source": [
    "print(1, 2, 3, sep='\\n') # 개행문자(\\n)라는 제어문자를 지정하여 출력"
   ]
  },
  {
   "cell_type": "markdown",
   "id": "b6c921a9",
   "metadata": {},
   "source": [
    "- print(값, end='문자 또는 문자열')\n",
    "- print(변수, end='문자 또는 문자열')"
   ]
  },
  {
   "cell_type": "code",
   "execution_count": 10,
   "id": "9cbf54e7",
   "metadata": {},
   "outputs": [
    {
     "name": "stdout",
     "output_type": "stream",
     "text": [
      "123\n"
     ]
    }
   ],
   "source": [
    "print(1, end='')\n",
    "print(2, end='')\n",
    "print(3)"
   ]
  },
  {
   "cell_type": "code",
   "execution_count": 11,
   "id": "83595a40",
   "metadata": {},
   "outputs": [
    {
     "name": "stdout",
     "output_type": "stream",
     "text": [
      "1 2 3\n"
     ]
    }
   ],
   "source": [
    "print(1, end=' ')\n",
    "print(2, end=' ')\n",
    "print(3)"
   ]
  },
  {
   "cell_type": "markdown",
   "id": "9030b6fb",
   "metadata": {},
   "source": [
    "**날짜와 시간 출력하기**\n",
    "- 2000/10/27 11:43:59"
   ]
  },
  {
   "cell_type": "code",
   "execution_count": 12,
   "id": "b026bb9c",
   "metadata": {},
   "outputs": [],
   "source": [
    "year = 2000\n",
    "month = 10\n",
    "day = 27\n",
    "hour = 11\n",
    "minute = 43\n",
    "second = 59"
   ]
  },
  {
   "cell_type": "code",
   "execution_count": 13,
   "id": "822914d4",
   "metadata": {},
   "outputs": [
    {
     "name": "stdout",
     "output_type": "stream",
     "text": [
      "2000/10/27 11:43:59\n"
     ]
    }
   ],
   "source": [
    "print(year, month, day, sep='/', end=' ')\n",
    "print(hour, minute, second, sep=':')"
   ]
  },
  {
   "cell_type": "markdown",
   "id": "92f545ac",
   "metadata": {},
   "source": [
    "### 불(bool)과 비교 연산자"
   ]
  },
  {
   "cell_type": "code",
   "execution_count": 16,
   "id": "e7701ac4",
   "metadata": {},
   "outputs": [
    {
     "data": {
      "text/plain": [
       "bool"
      ]
     },
     "execution_count": 16,
     "metadata": {},
     "output_type": "execute_result"
    }
   ],
   "source": [
    "type(True)"
   ]
  },
  {
   "cell_type": "code",
   "execution_count": 18,
   "id": "2b70713c",
   "metadata": {},
   "outputs": [
    {
     "data": {
      "text/plain": [
       "True"
      ]
     },
     "execution_count": 18,
     "metadata": {},
     "output_type": "execute_result"
    }
   ],
   "source": [
    "3 > 1 # 비교의 결과가 맞으면 True, 아니면 False"
   ]
  },
  {
   "cell_type": "code",
   "execution_count": 19,
   "id": "e409f2ea",
   "metadata": {},
   "outputs": [
    {
     "data": {
      "text/plain": [
       "True"
      ]
     },
     "execution_count": 19,
     "metadata": {},
     "output_type": "execute_result"
    }
   ],
   "source": [
    "10 == 10"
   ]
  },
  {
   "cell_type": "code",
   "execution_count": 20,
   "id": "7cadaf7e",
   "metadata": {},
   "outputs": [
    {
     "data": {
      "text/plain": [
       "True"
      ]
     },
     "execution_count": 20,
     "metadata": {},
     "output_type": "execute_result"
    }
   ],
   "source": [
    "10 != 5"
   ]
  },
  {
   "cell_type": "code",
   "execution_count": 21,
   "id": "77c63e88",
   "metadata": {},
   "outputs": [
    {
     "data": {
      "text/plain": [
       "True"
      ]
     },
     "execution_count": 21,
     "metadata": {},
     "output_type": "execute_result"
    }
   ],
   "source": [
    "'Python' == 'Python'"
   ]
  },
  {
   "cell_type": "code",
   "execution_count": 22,
   "id": "efcec5a3",
   "metadata": {},
   "outputs": [
    {
     "data": {
      "text/plain": [
       "False"
      ]
     },
     "execution_count": 22,
     "metadata": {},
     "output_type": "execute_result"
    }
   ],
   "source": [
    "'Python' == 'python'"
   ]
  },
  {
   "cell_type": "code",
   "execution_count": 23,
   "id": "6f292d1a",
   "metadata": {},
   "outputs": [
    {
     "data": {
      "text/plain": [
       "True"
      ]
     },
     "execution_count": 23,
     "metadata": {},
     "output_type": "execute_result"
    }
   ],
   "source": [
    "'Python' != 'python'"
   ]
  },
  {
   "cell_type": "code",
   "execution_count": 24,
   "id": "2a9f2817",
   "metadata": {},
   "outputs": [
    {
     "data": {
      "text/plain": [
       "False"
      ]
     },
     "execution_count": 24,
     "metadata": {},
     "output_type": "execute_result"
    }
   ],
   "source": [
    "10 > 20"
   ]
  },
  {
   "cell_type": "code",
   "execution_count": 25,
   "id": "77b3558c",
   "metadata": {},
   "outputs": [
    {
     "data": {
      "text/plain": [
       "True"
      ]
     },
     "execution_count": 25,
     "metadata": {},
     "output_type": "execute_result"
    }
   ],
   "source": [
    "10 < 20"
   ]
  },
  {
   "cell_type": "code",
   "execution_count": 26,
   "id": "e6d3cf1d",
   "metadata": {},
   "outputs": [
    {
     "data": {
      "text/plain": [
       "True"
      ]
     },
     "execution_count": 26,
     "metadata": {},
     "output_type": "execute_result"
    }
   ],
   "source": [
    "10 >= 10"
   ]
  },
  {
   "cell_type": "code",
   "execution_count": 27,
   "id": "f5db7242",
   "metadata": {},
   "outputs": [
    {
     "data": {
      "text/plain": [
       "True"
      ]
     },
     "execution_count": 27,
     "metadata": {},
     "output_type": "execute_result"
    }
   ],
   "source": [
    "10 <= 10"
   ]
  },
  {
   "cell_type": "code",
   "execution_count": 28,
   "id": "b5c55ad1",
   "metadata": {},
   "outputs": [
    {
     "data": {
      "text/plain": [
       "True"
      ]
     },
     "execution_count": 28,
     "metadata": {},
     "output_type": "execute_result"
    }
   ],
   "source": [
    "1 == 1.0 # 1과 1.0은 자료형은 다르지만 값 자체는 같으므로 결과는 True"
   ]
  },
  {
   "cell_type": "code",
   "execution_count": 29,
   "id": "2cc6c42f",
   "metadata": {},
   "outputs": [
    {
     "name": "stderr",
     "output_type": "stream",
     "text": [
      "<>:1: SyntaxWarning: \"is\" with a literal. Did you mean \"==\"?\n",
      "<>:1: SyntaxWarning: \"is\" with a literal. Did you mean \"==\"?\n",
      "C:\\Users\\Playdata\\AppData\\Local\\Temp\\ipykernel_10496\\3336455986.py:1: SyntaxWarning: \"is\" with a literal. Did you mean \"==\"?\n",
      "  1 is 1.0\n"
     ]
    },
    {
     "data": {
      "text/plain": [
       "False"
      ]
     },
     "execution_count": 29,
     "metadata": {},
     "output_type": "execute_result"
    }
   ],
   "source": [
    "# is는 값을 비교하는 것이 아니라 \"객체\"를 비교\n",
    "1 is 1.0"
   ]
  },
  {
   "cell_type": "code",
   "execution_count": 30,
   "id": "aac0ad0c",
   "metadata": {},
   "outputs": [
    {
     "name": "stderr",
     "output_type": "stream",
     "text": [
      "<>:1: SyntaxWarning: \"is not\" with a literal. Did you mean \"!=\"?\n",
      "<>:1: SyntaxWarning: \"is not\" with a literal. Did you mean \"!=\"?\n",
      "C:\\Users\\Playdata\\AppData\\Local\\Temp\\ipykernel_10496\\2095918375.py:1: SyntaxWarning: \"is not\" with a literal. Did you mean \"!=\"?\n",
      "  1 is not 1.0\n"
     ]
    },
    {
     "data": {
      "text/plain": [
       "True"
      ]
     },
     "execution_count": 30,
     "metadata": {},
     "output_type": "execute_result"
    }
   ],
   "source": [
    "1 is not 1.0"
   ]
  },
  {
   "cell_type": "code",
   "execution_count": 31,
   "id": "dc3608f4",
   "metadata": {},
   "outputs": [
    {
     "data": {
      "text/plain": [
       "1886561200432"
      ]
     },
     "execution_count": 31,
     "metadata": {},
     "output_type": "execute_result"
    }
   ],
   "source": [
    "id(1)"
   ]
  },
  {
   "cell_type": "code",
   "execution_count": 32,
   "id": "129e6f92",
   "metadata": {},
   "outputs": [
    {
     "data": {
      "text/plain": [
       "1886647079472"
      ]
     },
     "execution_count": 32,
     "metadata": {},
     "output_type": "execute_result"
    }
   ],
   "source": [
    "id(1.0)"
   ]
  },
  {
   "cell_type": "markdown",
   "id": "b3df2488",
   "metadata": {},
   "source": [
    "### 논리 연산자"
   ]
  },
  {
   "cell_type": "markdown",
   "id": "f68c0645",
   "metadata": {},
   "source": [
    "- a and b\n",
    "- a or b\n",
    "- not a"
   ]
  },
  {
   "cell_type": "code",
   "execution_count": 33,
   "id": "60785920",
   "metadata": {},
   "outputs": [
    {
     "data": {
      "text/plain": [
       "True"
      ]
     },
     "execution_count": 33,
     "metadata": {},
     "output_type": "execute_result"
    }
   ],
   "source": [
    "True and True"
   ]
  },
  {
   "cell_type": "code",
   "execution_count": 34,
   "id": "1e6fd856",
   "metadata": {},
   "outputs": [
    {
     "data": {
      "text/plain": [
       "True"
      ]
     },
     "execution_count": 34,
     "metadata": {},
     "output_type": "execute_result"
    }
   ],
   "source": [
    "True or False"
   ]
  },
  {
   "cell_type": "code",
   "execution_count": 35,
   "id": "15db3e1c",
   "metadata": {},
   "outputs": [
    {
     "data": {
      "text/plain": [
       "False"
      ]
     },
     "execution_count": 35,
     "metadata": {},
     "output_type": "execute_result"
    }
   ],
   "source": [
    "not True"
   ]
  },
  {
   "cell_type": "code",
   "execution_count": null,
   "id": "83cc23c4",
   "metadata": {},
   "outputs": [],
   "source": [
    "not True and False or not False\n",
    "= (not True) and False or (not False)\n",
    "= False and False or True\n",
    "= False or True\n",
    "= True"
   ]
  },
  {
   "cell_type": "code",
   "execution_count": 36,
   "id": "4ddc94ed",
   "metadata": {},
   "outputs": [
    {
     "data": {
      "text/plain": [
       "True"
      ]
     },
     "execution_count": 36,
     "metadata": {},
     "output_type": "execute_result"
    }
   ],
   "source": [
    "not True and False or not False"
   ]
  },
  {
   "cell_type": "markdown",
   "id": "27dfbbf2",
   "metadata": {},
   "source": [
    "### 비교 연산자와 논리 연산자를 함께 사용"
   ]
  },
  {
   "cell_type": "code",
   "execution_count": 37,
   "id": "58a30396",
   "metadata": {},
   "outputs": [
    {
     "data": {
      "text/plain": [
       "True"
      ]
     },
     "execution_count": 37,
     "metadata": {},
     "output_type": "execute_result"
    }
   ],
   "source": [
    "10 == 10 and 10 != 5"
   ]
  },
  {
   "cell_type": "code",
   "execution_count": 38,
   "id": "e83b16b3",
   "metadata": {},
   "outputs": [
    {
     "data": {
      "text/plain": [
       "1"
      ]
     },
     "execution_count": 38,
     "metadata": {},
     "output_type": "execute_result"
    }
   ],
   "source": [
    "# 자료형 변환(type casting)\n",
    "# int(1.5)\n",
    "# float(1)\n",
    "# str(1)"
   ]
  },
  {
   "cell_type": "code",
   "execution_count": 41,
   "id": "de14ee03",
   "metadata": {},
   "outputs": [
    {
     "data": {
      "text/plain": [
       "True"
      ]
     },
     "execution_count": 41,
     "metadata": {},
     "output_type": "execute_result"
    }
   ],
   "source": [
    "bool(1)"
   ]
  },
  {
   "cell_type": "code",
   "execution_count": 42,
   "id": "c0043e8c",
   "metadata": {},
   "outputs": [
    {
     "data": {
      "text/plain": [
       "False"
      ]
     },
     "execution_count": 42,
     "metadata": {},
     "output_type": "execute_result"
    }
   ],
   "source": [
    "bool(0)"
   ]
  },
  {
   "cell_type": "markdown",
   "id": "5ac96dcd",
   "metadata": {},
   "source": [
    "### Workshop"
   ]
  },
  {
   "cell_type": "markdown",
   "id": "f9386601",
   "metadata": {},
   "source": [
    "**합격 여부 출력하기**\n",
    "- 국어, 영어, 수학, 과학 점수가 있을 때 한 과목이라도 50점 미만이면 불합격\n",
    "이라고 정했습니다. 다음 소스 코드를 완성하여 합격이면 True, 불합격이\n",
    "면 False가 출력되게 만드세요.\n"
   ]
  },
  {
   "cell_type": "code",
   "execution_count": 59,
   "id": "acca7abf",
   "metadata": {},
   "outputs": [],
   "source": [
    "korean = 92 \n",
    "english = 47 \n",
    "mathematics = 86 \n",
    "science = 81 "
   ]
  },
  {
   "cell_type": "code",
   "execution_count": 52,
   "id": "c45dcbe0",
   "metadata": {},
   "outputs": [
    {
     "name": "stdout",
     "output_type": "stream",
     "text": [
      "False\n"
     ]
    }
   ],
   "source": [
    "print(korean >= 50 and english >= 50 and mathematics >= 50 and science >= 50) # option 1"
   ]
  },
  {
   "cell_type": "code",
   "execution_count": 55,
   "id": "f0f53bee",
   "metadata": {},
   "outputs": [
    {
     "name": "stdout",
     "output_type": "stream",
     "text": [
      "False\n"
     ]
    }
   ],
   "source": [
    "print(not(korean < 50 or english < 50 or mathematics < 50 or science < 50)) # option 2"
   ]
  },
  {
   "cell_type": "markdown",
   "id": "a1ed0afe",
   "metadata": {},
   "source": [
    "- all(), any() 함수 사용"
   ]
  },
  {
   "cell_type": "code",
   "execution_count": 62,
   "id": "9860b258",
   "metadata": {},
   "outputs": [
    {
     "data": {
      "text/plain": [
       "False"
      ]
     },
     "execution_count": 62,
     "metadata": {},
     "output_type": "execute_result"
    }
   ],
   "source": [
    "is_pass = [korean >= 50 , english >= 50 , mathematics >= 50 , science >= 50]\n",
    "all(is_pass)"
   ]
  },
  {
   "cell_type": "code",
   "execution_count": 63,
   "id": "a7b1106f",
   "metadata": {},
   "outputs": [
    {
     "data": {
      "text/plain": [
       "True"
      ]
     },
     "execution_count": 63,
     "metadata": {},
     "output_type": "execute_result"
    }
   ],
   "source": [
    "is_fail = [korean < 50 , english < 50 , mathematics < 50 , science < 50]\n",
    "any(is_fail)"
   ]
  },
  {
   "cell_type": "code",
   "execution_count": 64,
   "id": "22cf5efe",
   "metadata": {},
   "outputs": [
    {
     "data": {
      "text/plain": [
       "False"
      ]
     },
     "execution_count": 64,
     "metadata": {},
     "output_type": "execute_result"
    }
   ],
   "source": [
    "not(any(is_fail))"
   ]
  },
  {
   "cell_type": "markdown",
   "id": "af6796c3",
   "metadata": {},
   "source": [
    "### 문자열 사용하기"
   ]
  },
  {
   "cell_type": "code",
   "execution_count": 65,
   "id": "cb4383ac",
   "metadata": {},
   "outputs": [],
   "source": [
    "s1 = 'hello'\n",
    "s2 = \"hello\"\n",
    "s3 = '''hello'''\n",
    "s4 = \"\"\"hello\"\"\""
   ]
  },
  {
   "cell_type": "code",
   "execution_count": 66,
   "id": "d97176d9",
   "metadata": {},
   "outputs": [
    {
     "name": "stdout",
     "output_type": "stream",
     "text": [
      "hello\n",
      "hello\n",
      "hello\n",
      "hello\n"
     ]
    }
   ],
   "source": [
    "print(s1, s2, s3, s4, sep=\"\\n\")"
   ]
  },
  {
   "cell_type": "code",
   "execution_count": 69,
   "id": "84bd72ca",
   "metadata": {},
   "outputs": [
    {
     "name": "stdout",
     "output_type": "stream",
     "text": [
      "hello 'python'\n"
     ]
    }
   ],
   "source": [
    "# hello 'python' \n",
    "s1 = \"hello 'python'\"\n",
    "print(s1)"
   ]
  },
  {
   "cell_type": "code",
   "execution_count": 70,
   "id": "0b25cca6",
   "metadata": {},
   "outputs": [
    {
     "name": "stdout",
     "output_type": "stream",
     "text": [
      "hello \"python\"\n"
     ]
    }
   ],
   "source": [
    "# hello \"python\"\n",
    "s2 = 'hello \"python\"'\n",
    "print(s2)"
   ]
  },
  {
   "cell_type": "code",
   "execution_count": 72,
   "id": "5e7d83ca",
   "metadata": {},
   "outputs": [
    {
     "name": "stdout",
     "output_type": "stream",
     "text": [
      "hello 'python' \n"
     ]
    }
   ],
   "source": [
    "# hello 'python' \n",
    "s3 = '''hello 'python' '''\n",
    "print(s3)"
   ]
  },
  {
   "cell_type": "code",
   "execution_count": 75,
   "id": "ec60ef41",
   "metadata": {},
   "outputs": [
    {
     "name": "stdout",
     "output_type": "stream",
     "text": [
      "hello 'python' \n"
     ]
    }
   ],
   "source": [
    "# hello 'python' \n",
    "s4 = \"\"\"hello 'python' \"\"\"\n",
    "print(s4)"
   ]
  },
  {
   "cell_type": "code",
   "execution_count": 76,
   "id": "304454e9",
   "metadata": {},
   "outputs": [
    {
     "name": "stdout",
     "output_type": "stream",
     "text": [
      "here is\n",
      "python world\n",
      "it is\n",
      "real!!!!\n"
     ]
    }
   ],
   "source": [
    "# here is\n",
    "# python world\n",
    "# it is\n",
    "# real!!!\n",
    "\n",
    "s5 = '''here is\n",
    "python world\n",
    "it is\n",
    "real!!!!'''\n",
    "print(s5)"
   ]
  },
  {
   "cell_type": "code",
   "execution_count": 77,
   "id": "39e92041",
   "metadata": {},
   "outputs": [
    {
     "name": "stdout",
     "output_type": "stream",
     "text": [
      "here is\n",
      "python world\n",
      "it is\n",
      "real!!!!\n"
     ]
    }
   ],
   "source": [
    "# here is\n",
    "# python world\n",
    "# it is\n",
    "# real!!!\n",
    "\n",
    "s6 = \"\"\"here is\n",
    "python world\n",
    "it is\n",
    "real!!!!\"\"\"\n",
    "print(s6)"
   ]
  },
  {
   "cell_type": "code",
   "execution_count": 78,
   "id": "d6c45902",
   "metadata": {},
   "outputs": [
    {
     "data": {
      "text/plain": [
       "3"
      ]
     },
     "execution_count": 78,
     "metadata": {},
     "output_type": "execute_result"
    }
   ],
   "source": [
    "s6.count('\\n')"
   ]
  },
  {
   "cell_type": "code",
   "execution_count": 79,
   "id": "6d5419c0",
   "metadata": {},
   "outputs": [
    {
     "name": "stdout",
     "output_type": "stream",
     "text": [
      "here is\n",
      "python world\n",
      "it is\n",
      "real!!!\n"
     ]
    }
   ],
   "source": [
    "s7 = \"\"\"here is\\npython world\\nit is\\nreal!!!\"\"\"\n",
    "print(s7)"
   ]
  },
  {
   "cell_type": "code",
   "execution_count": 80,
   "id": "d7f9ce1b",
   "metadata": {},
   "outputs": [
    {
     "data": {
      "text/plain": [
       "3"
      ]
     },
     "execution_count": 80,
     "metadata": {},
     "output_type": "execute_result"
    }
   ],
   "source": [
    "s7.count('\\n')"
   ]
  },
  {
   "cell_type": "code",
   "execution_count": 81,
   "id": "81bd50c6",
   "metadata": {},
   "outputs": [
    {
     "name": "stdout",
     "output_type": "stream",
     "text": [
      "hello, 'python'\n"
     ]
    }
   ],
   "source": [
    "# hello, 'python'\n",
    "s8 = 'hello, \\'python\\''\n",
    "print(s8)"
   ]
  },
  {
   "cell_type": "code",
   "execution_count": 82,
   "id": "8f33bb6c",
   "metadata": {},
   "outputs": [
    {
     "name": "stdout",
     "output_type": "stream",
     "text": [
      "hello, 'python'\n"
     ]
    }
   ],
   "source": [
    "s9 = \"hello, \\'python\\'\"\n",
    "print(s9)"
   ]
  },
  {
   "cell_type": "markdown",
   "id": "922a1b69",
   "metadata": {},
   "source": [
    "### Workshop"
   ]
  },
  {
   "cell_type": "markdown",
   "id": "61ee917a",
   "metadata": {},
   "source": [
    "**여러 줄로 된 문자열 사용하기**"
   ]
  },
  {
   "cell_type": "code",
   "execution_count": null,
   "id": "0cc95b92",
   "metadata": {},
   "outputs": [],
   "source": [
    "# 'Python' is a \"programming language\"\n",
    "# that lets you work quicky\n",
    "# and\n",
    "# integrate systems more effectively."
   ]
  },
  {
   "cell_type": "code",
   "execution_count": 83,
   "id": "0f1e4974",
   "metadata": {},
   "outputs": [
    {
     "name": "stdout",
     "output_type": "stream",
     "text": [
      "'Python' is a \"programming language\"\n",
      "that lets you work quicky\n",
      "and\n",
      "integrate systems more effectively.\n"
     ]
    }
   ],
   "source": [
    "s = \"\"\"'Python' is a \"programming language\"\n",
    "that lets you work quicky\n",
    "and\n",
    "integrate systems more effectively.\"\"\"\n",
    "print(s)"
   ]
  },
  {
   "cell_type": "markdown",
   "id": "24c09db5",
   "metadata": {},
   "source": [
    "### 리스트와 튜플 사용하기"
   ]
  },
  {
   "cell_type": "markdown",
   "id": "2d318750",
   "metadata": {},
   "source": [
    "- 리스트 = [값, 값, ...]"
   ]
  },
  {
   "cell_type": "code",
   "execution_count": 84,
   "id": "f11b7a79",
   "metadata": {},
   "outputs": [
    {
     "data": {
      "text/plain": [
       "[90, 95, 100, 80, 70, 100]"
      ]
     },
     "execution_count": 84,
     "metadata": {},
     "output_type": "execute_result"
    }
   ],
   "source": [
    "korean_class = [90, 95, 100, 80, 70, 100]\n",
    "korean_class"
   ]
  },
  {
   "cell_type": "code",
   "execution_count": 85,
   "id": "16f09b16",
   "metadata": {},
   "outputs": [
    {
     "data": {
      "text/plain": [
       "['james', 17, 175, 3, True]"
      ]
     },
     "execution_count": 85,
     "metadata": {},
     "output_type": "execute_result"
    }
   ],
   "source": [
    "person = [\"james\", 17, 175,3, True] # 문자열, 정수, 실수, 불리안\n",
    "person"
   ]
  },
  {
   "cell_type": "code",
   "execution_count": null,
   "id": "b1fae4b3",
   "metadata": {},
   "outputs": [],
   "source": [
    "# 빈 리스트 만들기"
   ]
  },
  {
   "cell_type": "markdown",
   "id": "46ae0013",
   "metadata": {},
   "source": [
    "- 리스트 = []\n",
    "- 리스트 = list()"
   ]
  },
  {
   "cell_type": "code",
   "execution_count": 92,
   "id": "425c8061",
   "metadata": {},
   "outputs": [
    {
     "data": {
      "text/plain": [
       "[]"
      ]
     },
     "execution_count": 92,
     "metadata": {},
     "output_type": "execute_result"
    }
   ],
   "source": [
    "a = []\n",
    "a"
   ]
  },
  {
   "cell_type": "code",
   "execution_count": 93,
   "id": "7a45b6d7",
   "metadata": {},
   "outputs": [
    {
     "data": {
      "text/plain": [
       "[]"
      ]
     },
     "execution_count": 93,
     "metadata": {},
     "output_type": "execute_result"
    }
   ],
   "source": [
    "b = list()\n",
    "b"
   ]
  },
  {
   "cell_type": "code",
   "execution_count": null,
   "id": "bfe5e6c9",
   "metadata": {},
   "outputs": [],
   "source": [
    "# range를 사용하여 리스트 만들기"
   ]
  },
  {
   "cell_type": "markdown",
   "id": "747bfe62",
   "metadata": {},
   "source": [
    "- range(횟수)"
   ]
  },
  {
   "cell_type": "code",
   "execution_count": 94,
   "id": "b2fde0db",
   "metadata": {},
   "outputs": [
    {
     "data": {
      "text/plain": [
       "range(0, 10)"
      ]
     },
     "execution_count": 94,
     "metadata": {},
     "output_type": "execute_result"
    }
   ],
   "source": [
    "range(10) # 0에서 9까지"
   ]
  },
  {
   "cell_type": "code",
   "execution_count": 95,
   "id": "35ceb6a8",
   "metadata": {},
   "outputs": [
    {
     "data": {
      "text/plain": [
       "range"
      ]
     },
     "execution_count": 95,
     "metadata": {},
     "output_type": "execute_result"
    }
   ],
   "source": [
    "type(range(10))"
   ]
  },
  {
   "cell_type": "markdown",
   "id": "6b373270",
   "metadata": {},
   "source": [
    "- 리스트 = list(range(횟수))"
   ]
  },
  {
   "cell_type": "code",
   "execution_count": 97,
   "id": "f4375332",
   "metadata": {},
   "outputs": [
    {
     "data": {
      "text/plain": [
       "[0, 1, 2, 3, 4, 5, 6, 7, 8, 9]"
      ]
     },
     "execution_count": 97,
     "metadata": {},
     "output_type": "execute_result"
    }
   ],
   "source": [
    "a = list(range(10))\n",
    "a"
   ]
  },
  {
   "cell_type": "markdown",
   "id": "2ea3ffe1",
   "metadata": {},
   "source": [
    "- 리스트 = list(range(시작, 끝))"
   ]
  },
  {
   "cell_type": "code",
   "execution_count": 98,
   "id": "eb4e49ab",
   "metadata": {},
   "outputs": [
    {
     "data": {
      "text/plain": [
       "[0, 1, 2, 3, 4, 5, 6, 7, 8, 9]"
      ]
     },
     "execution_count": 98,
     "metadata": {},
     "output_type": "execute_result"
    }
   ],
   "source": [
    "b = list(range(0, 10))\n",
    "b"
   ]
  },
  {
   "cell_type": "markdown",
   "id": "df47eb0c",
   "metadata": {},
   "source": [
    "- 리스트 = list(range(시작, 끝, 증가폭))"
   ]
  },
  {
   "cell_type": "code",
   "execution_count": 100,
   "id": "db87dee2",
   "metadata": {},
   "outputs": [
    {
     "data": {
      "text/plain": [
       "[0, 2, 4, 6, 8]"
      ]
     },
     "execution_count": 100,
     "metadata": {},
     "output_type": "execute_result"
    }
   ],
   "source": [
    "c = list(range(0, 10, 2))\n",
    "c"
   ]
  },
  {
   "cell_type": "code",
   "execution_count": 101,
   "id": "a9a92a07",
   "metadata": {},
   "outputs": [
    {
     "data": {
      "text/plain": [
       "[10, 9, 8, 7, 6, 5, 4, 3, 2, 1]"
      ]
     },
     "execution_count": 101,
     "metadata": {},
     "output_type": "execute_result"
    }
   ],
   "source": [
    "d = list(range(10, 0, -1))\n",
    "d"
   ]
  },
  {
   "cell_type": "markdown",
   "id": "aca5fcb8",
   "metadata": {},
   "source": [
    "- 튜플 = (값, 값, 값)\n",
    "- 튜플 = 값, 값, 값"
   ]
  },
  {
   "cell_type": "code",
   "execution_count": 102,
   "id": "071448a3",
   "metadata": {},
   "outputs": [
    {
     "data": {
      "text/plain": [
       "(1, 2, 3, 4)"
      ]
     },
     "execution_count": 102,
     "metadata": {},
     "output_type": "execute_result"
    }
   ],
   "source": [
    "a = (1, 2, 3, 4)\n",
    "a"
   ]
  },
  {
   "cell_type": "code",
   "execution_count": 103,
   "id": "ab9fe7ee",
   "metadata": {},
   "outputs": [
    {
     "data": {
      "text/plain": [
       "(1, 2, 3, 4)"
      ]
     },
     "execution_count": 103,
     "metadata": {},
     "output_type": "execute_result"
    }
   ],
   "source": [
    "b = 1, 2, 3, 4\n",
    "b"
   ]
  },
  {
   "cell_type": "code",
   "execution_count": 106,
   "id": "2ec4f4f8",
   "metadata": {},
   "outputs": [
    {
     "data": {
      "text/plain": [
       "tuple"
      ]
     },
     "execution_count": 106,
     "metadata": {},
     "output_type": "execute_result"
    }
   ],
   "source": [
    "type(b)"
   ]
  },
  {
   "cell_type": "code",
   "execution_count": 104,
   "id": "5b2ecae3",
   "metadata": {},
   "outputs": [
    {
     "data": {
      "text/plain": [
       "1"
      ]
     },
     "execution_count": 104,
     "metadata": {},
     "output_type": "execute_result"
    }
   ],
   "source": [
    "c = (1) # 튜플이 아님 주의\n",
    "c"
   ]
  },
  {
   "cell_type": "code",
   "execution_count": 105,
   "id": "e3d8d1af",
   "metadata": {},
   "outputs": [
    {
     "data": {
      "text/plain": [
       "int"
      ]
     },
     "execution_count": 105,
     "metadata": {},
     "output_type": "execute_result"
    }
   ],
   "source": [
    "type(c)"
   ]
  },
  {
   "cell_type": "code",
   "execution_count": 107,
   "id": "742b3065",
   "metadata": {},
   "outputs": [
    {
     "data": {
      "text/plain": [
       "(1,)"
      ]
     },
     "execution_count": 107,
     "metadata": {},
     "output_type": "execute_result"
    }
   ],
   "source": [
    "d = (1,) # 1개 원소로 튜플을 만들기 위해서는 , 필요\n",
    "d"
   ]
  },
  {
   "cell_type": "code",
   "execution_count": 108,
   "id": "8dc85a13",
   "metadata": {},
   "outputs": [
    {
     "data": {
      "text/plain": [
       "tuple"
      ]
     },
     "execution_count": 108,
     "metadata": {},
     "output_type": "execute_result"
    }
   ],
   "source": [
    "type(d)"
   ]
  },
  {
   "cell_type": "code",
   "execution_count": null,
   "id": "59a21540",
   "metadata": {},
   "outputs": [],
   "source": [
    "# range를 사용하여 리스트 만들기"
   ]
  },
  {
   "cell_type": "markdown",
   "id": "008713c0",
   "metadata": {},
   "source": [
    "- 튜플 = tuple(range(횟수))"
   ]
  },
  {
   "cell_type": "code",
   "execution_count": 112,
   "id": "870887f9",
   "metadata": {},
   "outputs": [
    {
     "data": {
      "text/plain": [
       "(0, 1, 2, 3, 4, 5, 6, 7, 8, 9)"
      ]
     },
     "execution_count": 112,
     "metadata": {},
     "output_type": "execute_result"
    }
   ],
   "source": [
    "a = tuple(range(10))\n",
    "a"
   ]
  },
  {
   "cell_type": "markdown",
   "id": "ea7276a9",
   "metadata": {},
   "source": [
    "- 튜플 = tuple(range(시작, 끝))"
   ]
  },
  {
   "cell_type": "code",
   "execution_count": 114,
   "id": "4b1bf30f",
   "metadata": {},
   "outputs": [
    {
     "data": {
      "text/plain": [
       "(5, 6, 7, 8, 9, 10, 11)"
      ]
     },
     "execution_count": 114,
     "metadata": {},
     "output_type": "execute_result"
    }
   ],
   "source": [
    "b = tuple(range(5, 12))\n",
    "b"
   ]
  },
  {
   "cell_type": "markdown",
   "id": "0abb1cc4",
   "metadata": {},
   "source": [
    "- 튜플 = tuple(range(시작, 끝, 증가폭))"
   ]
  },
  {
   "cell_type": "code",
   "execution_count": 115,
   "id": "e162d04a",
   "metadata": {},
   "outputs": [
    {
     "data": {
      "text/plain": [
       "(5, 7, 9, 11)"
      ]
     },
     "execution_count": 115,
     "metadata": {},
     "output_type": "execute_result"
    }
   ],
   "source": [
    "c = tuple(range(5, 12, 2))\n",
    "c"
   ]
  },
  {
   "cell_type": "code",
   "execution_count": null,
   "id": "98c5f1b2",
   "metadata": {},
   "outputs": [],
   "source": [
    "# 튜플을 리스트로, 리스트를 튜플로"
   ]
  },
  {
   "cell_type": "code",
   "execution_count": 117,
   "id": "43741599",
   "metadata": {},
   "outputs": [
    {
     "data": {
      "text/plain": [
       "(1, 2, 3)"
      ]
     },
     "execution_count": 117,
     "metadata": {},
     "output_type": "execute_result"
    }
   ],
   "source": [
    "a = [1, 2, 3]\n",
    "b = tuple(a)\n",
    "b"
   ]
  },
  {
   "cell_type": "code",
   "execution_count": 118,
   "id": "96da1ebf",
   "metadata": {},
   "outputs": [
    {
     "data": {
      "text/plain": [
       "tuple"
      ]
     },
     "execution_count": 118,
     "metadata": {},
     "output_type": "execute_result"
    }
   ],
   "source": [
    "type(b)"
   ]
  },
  {
   "cell_type": "code",
   "execution_count": 119,
   "id": "1339cbce",
   "metadata": {},
   "outputs": [
    {
     "data": {
      "text/plain": [
       "[1, 2, 3]"
      ]
     },
     "execution_count": 119,
     "metadata": {},
     "output_type": "execute_result"
    }
   ],
   "source": [
    "c = (1, 2, 3)\n",
    "d = list(c)\n",
    "d"
   ]
  },
  {
   "cell_type": "code",
   "execution_count": 120,
   "id": "2b201edb",
   "metadata": {},
   "outputs": [
    {
     "data": {
      "text/plain": [
       "list"
      ]
     },
     "execution_count": 120,
     "metadata": {},
     "output_type": "execute_result"
    }
   ],
   "source": [
    "type(d)"
   ]
  },
  {
   "cell_type": "markdown",
   "id": "f9de7e53",
   "metadata": {},
   "source": [
    "### Workshop"
   ]
  },
  {
   "cell_type": "markdown",
   "id": "d6959262",
   "metadata": {},
   "source": [
    "**range로 리스트 만들기**\n",
    "- [5, 3, 1, -1, -3, -5, -7, -9]가 출력되게 만드세요"
   ]
  },
  {
   "cell_type": "code",
   "execution_count": 121,
   "id": "81c5d8ac",
   "metadata": {},
   "outputs": [
    {
     "name": "stdout",
     "output_type": "stream",
     "text": [
      "[5, 3, 1, -1, -3, -5, -7, -9]\n"
     ]
    }
   ],
   "source": [
    "a = list(range(5, -10, -2))\n",
    "print(a)"
   ]
  },
  {
   "cell_type": "code",
   "execution_count": 122,
   "id": "beb0b3c8",
   "metadata": {},
   "outputs": [
    {
     "name": "stdout",
     "output_type": "stream",
     "text": [
      "[5, 3, 1, -1, -3, -5, -7, -9]\n"
     ]
    }
   ],
   "source": [
    "a = list(range(5, -11, -2))\n",
    "print(a)"
   ]
  },
  {
   "cell_type": "markdown",
   "id": "373bf229",
   "metadata": {},
   "source": [
    "**range로 튜플 만들기**\n",
    "- 표준입력으로 정수가 입력됩니다. range의 시작하는 숫자는 -10, 끝나는 숫자는 10이며 입력된 정수만큼 증가하는 숫자가 들어가도록 튜플을 만들고, 해당 튜플을 출력하는 프로그램을 만드세요(input에서 안내 문자열은 출력하지 않아야 합니다.)\n",
    "- 입력 : 2, 출력: (-10, -8, -6, -4, -2, 0, 2, 4, 6, 8)"
   ]
  },
  {
   "cell_type": "code",
   "execution_count": 124,
   "id": "8d93c38f",
   "metadata": {},
   "outputs": [
    {
     "name": "stdout",
     "output_type": "stream",
     "text": [
      "2\n"
     ]
    }
   ],
   "source": [
    "step = int(input())"
   ]
  },
  {
   "cell_type": "code",
   "execution_count": 125,
   "id": "4e9cab53",
   "metadata": {},
   "outputs": [
    {
     "name": "stdout",
     "output_type": "stream",
     "text": [
      "(-10, -8, -6, -4, -2, 0, 2, 4, 6, 8)\n"
     ]
    }
   ],
   "source": [
    "print(tuple(range(-10, 10, step)))"
   ]
  },
  {
   "cell_type": "markdown",
   "id": "fe9afb20",
   "metadata": {},
   "source": [
    "### 시퀀스 자료형 활용하기"
   ]
  },
  {
   "cell_type": "markdown",
   "id": "3a1e8f3e",
   "metadata": {},
   "source": [
    "- 시퀀스 자료형 : list, tuple, range, str"
   ]
  },
  {
   "cell_type": "code",
   "execution_count": null,
   "id": "e08d2dbc",
   "metadata": {},
   "outputs": [],
   "source": [
    "# 공통기능"
   ]
  },
  {
   "cell_type": "markdown",
   "id": "bf4c02d4",
   "metadata": {},
   "source": [
    "- 값 in 시퀀스객체"
   ]
  },
  {
   "cell_type": "code",
   "execution_count": 126,
   "id": "ecf06f52",
   "metadata": {},
   "outputs": [],
   "source": [
    "a = [1, 2, 3, 4, 5]"
   ]
  },
  {
   "cell_type": "code",
   "execution_count": 127,
   "id": "579b6e6c",
   "metadata": {},
   "outputs": [
    {
     "data": {
      "text/plain": [
       "True"
      ]
     },
     "execution_count": 127,
     "metadata": {},
     "output_type": "execute_result"
    }
   ],
   "source": [
    "1 in a"
   ]
  },
  {
   "cell_type": "code",
   "execution_count": 128,
   "id": "e7e741e2",
   "metadata": {},
   "outputs": [
    {
     "data": {
      "text/plain": [
       "False"
      ]
     },
     "execution_count": 128,
     "metadata": {},
     "output_type": "execute_result"
    }
   ],
   "source": [
    "100 in a"
   ]
  },
  {
   "cell_type": "code",
   "execution_count": 129,
   "id": "10f748b6",
   "metadata": {},
   "outputs": [
    {
     "data": {
      "text/plain": [
       "True"
      ]
     },
     "execution_count": 129,
     "metadata": {},
     "output_type": "execute_result"
    }
   ],
   "source": [
    "100 not in a"
   ]
  },
  {
   "cell_type": "code",
   "execution_count": 130,
   "id": "9b373708",
   "metadata": {},
   "outputs": [],
   "source": [
    "b = (6, 7, 8, 9, 10)"
   ]
  },
  {
   "cell_type": "code",
   "execution_count": 131,
   "id": "4ccf315a",
   "metadata": {},
   "outputs": [
    {
     "data": {
      "text/plain": [
       "True"
      ]
     },
     "execution_count": 131,
     "metadata": {},
     "output_type": "execute_result"
    }
   ],
   "source": [
    "6 in b"
   ]
  },
  {
   "cell_type": "code",
   "execution_count": 132,
   "id": "0c874b4a",
   "metadata": {},
   "outputs": [
    {
     "data": {
      "text/plain": [
       "True"
      ]
     },
     "execution_count": 132,
     "metadata": {},
     "output_type": "execute_result"
    }
   ],
   "source": [
    "1 in range(10)"
   ]
  },
  {
   "cell_type": "code",
   "execution_count": 133,
   "id": "809aa8af",
   "metadata": {},
   "outputs": [
    {
     "data": {
      "text/plain": [
       "True"
      ]
     },
     "execution_count": 133,
     "metadata": {},
     "output_type": "execute_result"
    }
   ],
   "source": [
    "'P' in \"Hello, Python!\""
   ]
  },
  {
   "cell_type": "markdown",
   "id": "0c23fabf",
   "metadata": {},
   "source": [
    "- 시퀀스 객체1 + 시퀀스 객체2"
   ]
  },
  {
   "cell_type": "code",
   "execution_count": 134,
   "id": "6c840bb7",
   "metadata": {},
   "outputs": [],
   "source": [
    "a = [1, 2, 4, 5]\n",
    "b = [5, 6, 7, 8]"
   ]
  },
  {
   "cell_type": "code",
   "execution_count": 135,
   "id": "7279348f",
   "metadata": {},
   "outputs": [
    {
     "data": {
      "text/plain": [
       "[1, 2, 4, 5, 5, 6, 7, 8]"
      ]
     },
     "execution_count": 135,
     "metadata": {},
     "output_type": "execute_result"
    }
   ],
   "source": [
    "a + b"
   ]
  },
  {
   "cell_type": "code",
   "execution_count": 138,
   "id": "f4a7c438",
   "metadata": {},
   "outputs": [
    {
     "data": {
      "text/plain": [
       "(1, 2, 3, 4, 5, 6)"
      ]
     },
     "execution_count": 138,
     "metadata": {},
     "output_type": "execute_result"
    }
   ],
   "source": [
    "c = (1, 2, 3)\n",
    "d = (4, 5, 6)\n",
    "c + d"
   ]
  },
  {
   "cell_type": "code",
   "execution_count": 136,
   "id": "ea400597",
   "metadata": {},
   "outputs": [
    {
     "ename": "TypeError",
     "evalue": "unsupported operand type(s) for +: 'range' and 'range'",
     "output_type": "error",
     "traceback": [
      "\u001b[1;31m---------------------------------------------------------------------------\u001b[0m",
      "\u001b[1;31mTypeError\u001b[0m                                 Traceback (most recent call last)",
      "Input \u001b[1;32mIn [136]\u001b[0m, in \u001b[0;36m<cell line: 1>\u001b[1;34m()\u001b[0m\n\u001b[1;32m----> 1\u001b[0m \u001b[38;5;28;43mrange\u001b[39;49m\u001b[43m(\u001b[49m\u001b[38;5;241;43m10\u001b[39;49m\u001b[43m)\u001b[49m\u001b[43m \u001b[49m\u001b[38;5;241;43m+\u001b[39;49m\u001b[43m \u001b[49m\u001b[38;5;28;43mrange\u001b[39;49m\u001b[43m(\u001b[49m\u001b[38;5;241;43m10\u001b[39;49m\u001b[43m)\u001b[49m\n",
      "\u001b[1;31mTypeError\u001b[0m: unsupported operand type(s) for +: 'range' and 'range'"
     ]
    }
   ],
   "source": [
    "range(10) + range(10)"
   ]
  },
  {
   "cell_type": "code",
   "execution_count": 137,
   "id": "ed519582",
   "metadata": {},
   "outputs": [
    {
     "data": {
      "text/plain": [
       "[0, 1, 2, 3, 4, 5, 6, 7, 8, 9, 0, 1, 2, 3, 4, 5, 6, 7, 8, 9]"
      ]
     },
     "execution_count": 137,
     "metadata": {},
     "output_type": "execute_result"
    }
   ],
   "source": [
    "list(range(10)) + list(range(10))"
   ]
  },
  {
   "cell_type": "code",
   "execution_count": 140,
   "id": "3a1029df",
   "metadata": {},
   "outputs": [
    {
     "data": {
      "text/plain": [
       "'Hello, Python!'"
      ]
     },
     "execution_count": 140,
     "metadata": {},
     "output_type": "execute_result"
    }
   ],
   "source": [
    "\"Hello, \" + \"Python!\""
   ]
  },
  {
   "cell_type": "markdown",
   "id": "6357aec9",
   "metadata": {},
   "source": [
    "- 시퀀스객체 * 정수\n",
    "- 정수 * 시퀀스객체"
   ]
  },
  {
   "cell_type": "code",
   "execution_count": 141,
   "id": "e7046dc7",
   "metadata": {},
   "outputs": [
    {
     "data": {
      "text/plain": [
       "[1, 2, 3, 1, 2, 3, 1, 2, 3]"
      ]
     },
     "execution_count": 141,
     "metadata": {},
     "output_type": "execute_result"
    }
   ],
   "source": [
    "[1, 2, 3] * 3"
   ]
  },
  {
   "cell_type": "code",
   "execution_count": 145,
   "id": "6a275842",
   "metadata": {},
   "outputs": [
    {
     "data": {
      "text/plain": [
       "(1, 2, 3, 1, 2, 3, 1, 2, 3)"
      ]
     },
     "execution_count": 145,
     "metadata": {},
     "output_type": "execute_result"
    }
   ],
   "source": [
    "3 * (1, 2, 3)"
   ]
  },
  {
   "cell_type": "code",
   "execution_count": 142,
   "id": "79201c2f",
   "metadata": {},
   "outputs": [
    {
     "ename": "TypeError",
     "evalue": "unsupported operand type(s) for *: 'range' and 'int'",
     "output_type": "error",
     "traceback": [
      "\u001b[1;31m---------------------------------------------------------------------------\u001b[0m",
      "\u001b[1;31mTypeError\u001b[0m                                 Traceback (most recent call last)",
      "Input \u001b[1;32mIn [142]\u001b[0m, in \u001b[0;36m<cell line: 1>\u001b[1;34m()\u001b[0m\n\u001b[1;32m----> 1\u001b[0m \u001b[38;5;28;43mrange\u001b[39;49m\u001b[43m(\u001b[49m\u001b[38;5;241;43m3\u001b[39;49m\u001b[43m)\u001b[49m\u001b[43m \u001b[49m\u001b[38;5;241;43m*\u001b[39;49m\u001b[43m \u001b[49m\u001b[38;5;241;43m3\u001b[39;49m\n",
      "\u001b[1;31mTypeError\u001b[0m: unsupported operand type(s) for *: 'range' and 'int'"
     ]
    }
   ],
   "source": [
    "range(3) * 3"
   ]
  },
  {
   "cell_type": "code",
   "execution_count": 143,
   "id": "e1001d28",
   "metadata": {},
   "outputs": [
    {
     "data": {
      "text/plain": [
       "[0, 1, 2, 0, 1, 2, 0, 1, 2]"
      ]
     },
     "execution_count": 143,
     "metadata": {},
     "output_type": "execute_result"
    }
   ],
   "source": [
    "list(range(3)) * 3"
   ]
  },
  {
   "cell_type": "code",
   "execution_count": 146,
   "id": "77a87ff8",
   "metadata": {},
   "outputs": [
    {
     "data": {
      "text/plain": [
       "'Hello, Hello, Hello, '"
      ]
     },
     "execution_count": 146,
     "metadata": {},
     "output_type": "execute_result"
    }
   ],
   "source": [
    "\"Hello, \" * 3"
   ]
  },
  {
   "cell_type": "markdown",
   "id": "a7763053",
   "metadata": {},
   "source": [
    "- len(시퀀스객체)"
   ]
  },
  {
   "cell_type": "code",
   "execution_count": 147,
   "id": "91590009",
   "metadata": {},
   "outputs": [],
   "source": [
    "a = [1, 2, 3]"
   ]
  },
  {
   "cell_type": "code",
   "execution_count": 148,
   "id": "f29c68e6",
   "metadata": {},
   "outputs": [
    {
     "data": {
      "text/plain": [
       "3"
      ]
     },
     "execution_count": 148,
     "metadata": {},
     "output_type": "execute_result"
    }
   ],
   "source": [
    "len(a)"
   ]
  },
  {
   "cell_type": "code",
   "execution_count": 149,
   "id": "8d065408",
   "metadata": {},
   "outputs": [],
   "source": [
    "b = (4, 5, 6, 7)"
   ]
  },
  {
   "cell_type": "code",
   "execution_count": 150,
   "id": "4b77d54e",
   "metadata": {},
   "outputs": [
    {
     "data": {
      "text/plain": [
       "4"
      ]
     },
     "execution_count": 150,
     "metadata": {},
     "output_type": "execute_result"
    }
   ],
   "source": [
    "len(b)"
   ]
  },
  {
   "cell_type": "code",
   "execution_count": 151,
   "id": "4a046796",
   "metadata": {},
   "outputs": [
    {
     "data": {
      "text/plain": [
       "10"
      ]
     },
     "execution_count": 151,
     "metadata": {},
     "output_type": "execute_result"
    }
   ],
   "source": [
    "len(range(10))"
   ]
  },
  {
   "cell_type": "code",
   "execution_count": 152,
   "id": "fccb53e9",
   "metadata": {},
   "outputs": [
    {
     "data": {
      "text/plain": [
       "5"
      ]
     },
     "execution_count": 152,
     "metadata": {},
     "output_type": "execute_result"
    }
   ],
   "source": [
    "len(\"Hello\")"
   ]
  },
  {
   "cell_type": "markdown",
   "id": "61de46f2",
   "metadata": {},
   "source": [
    "- 시퀀스객체[인덱스]"
   ]
  },
  {
   "cell_type": "code",
   "execution_count": 154,
   "id": "a0d3feb7",
   "metadata": {},
   "outputs": [],
   "source": [
    "a = [20, 10, 4, 9]"
   ]
  },
  {
   "cell_type": "code",
   "execution_count": 156,
   "id": "d5fe3549",
   "metadata": {},
   "outputs": [
    {
     "data": {
      "text/plain": [
       "20"
      ]
     },
     "execution_count": 156,
     "metadata": {},
     "output_type": "execute_result"
    }
   ],
   "source": [
    "a[0] # 리스트의 첫번째 인덱스는 0부터 시작"
   ]
  },
  {
   "cell_type": "code",
   "execution_count": 157,
   "id": "9d72c661",
   "metadata": {},
   "outputs": [
    {
     "data": {
      "text/plain": [
       "4"
      ]
     },
     "execution_count": 157,
     "metadata": {},
     "output_type": "execute_result"
    }
   ],
   "source": [
    "len(a)"
   ]
  },
  {
   "cell_type": "code",
   "execution_count": 158,
   "id": "5fdf9bfc",
   "metadata": {},
   "outputs": [
    {
     "data": {
      "text/plain": [
       "9"
      ]
     },
     "execution_count": 158,
     "metadata": {},
     "output_type": "execute_result"
    }
   ],
   "source": [
    "a[len(a)-1] #리스트 마지막 인덱스 : len(a)-1"
   ]
  },
  {
   "cell_type": "code",
   "execution_count": 159,
   "id": "38488b58",
   "metadata": {},
   "outputs": [],
   "source": [
    "b = (40, 10, 9, -5)"
   ]
  },
  {
   "cell_type": "code",
   "execution_count": 160,
   "id": "f8cc3208",
   "metadata": {},
   "outputs": [
    {
     "data": {
      "text/plain": [
       "9"
      ]
     },
     "execution_count": 160,
     "metadata": {},
     "output_type": "execute_result"
    }
   ],
   "source": [
    "b[2] # tuple에서 세번째(index : 2) 요소 가져오기"
   ]
  },
  {
   "cell_type": "code",
   "execution_count": 161,
   "id": "022cc916",
   "metadata": {},
   "outputs": [],
   "source": [
    "r = range(10) # 0에서부터 9까지"
   ]
  },
  {
   "cell_type": "code",
   "execution_count": 162,
   "id": "e7aaf993",
   "metadata": {},
   "outputs": [
    {
     "data": {
      "text/plain": [
       "0"
      ]
     },
     "execution_count": 162,
     "metadata": {},
     "output_type": "execute_result"
    }
   ],
   "source": [
    "r[0]"
   ]
  },
  {
   "cell_type": "code",
   "execution_count": 163,
   "id": "d9d63c94",
   "metadata": {},
   "outputs": [
    {
     "data": {
      "text/plain": [
       "5"
      ]
     },
     "execution_count": 163,
     "metadata": {},
     "output_type": "execute_result"
    }
   ],
   "source": [
    "r[5]"
   ]
  },
  {
   "cell_type": "code",
   "execution_count": 164,
   "id": "7cfed768",
   "metadata": {},
   "outputs": [
    {
     "data": {
      "text/plain": [
       "9"
      ]
     },
     "execution_count": 164,
     "metadata": {},
     "output_type": "execute_result"
    }
   ],
   "source": [
    "r[9]"
   ]
  },
  {
   "cell_type": "code",
   "execution_count": 165,
   "id": "f7ab8b45",
   "metadata": {},
   "outputs": [
    {
     "ename": "IndexError",
     "evalue": "range object index out of range",
     "output_type": "error",
     "traceback": [
      "\u001b[1;31m---------------------------------------------------------------------------\u001b[0m",
      "\u001b[1;31mIndexError\u001b[0m                                Traceback (most recent call last)",
      "Input \u001b[1;32mIn [165]\u001b[0m, in \u001b[0;36m<cell line: 1>\u001b[1;34m()\u001b[0m\n\u001b[1;32m----> 1\u001b[0m \u001b[43mr\u001b[49m\u001b[43m[\u001b[49m\u001b[38;5;241;43m10\u001b[39;49m\u001b[43m]\u001b[49m\n",
      "\u001b[1;31mIndexError\u001b[0m: range object index out of range"
     ]
    }
   ],
   "source": [
    "r[10] #index의 범위를 벗어남"
   ]
  },
  {
   "cell_type": "code",
   "execution_count": 166,
   "id": "77d8d507",
   "metadata": {},
   "outputs": [],
   "source": [
    "hello = \"Hello, World!\""
   ]
  },
  {
   "cell_type": "code",
   "execution_count": 167,
   "id": "3cea716e",
   "metadata": {},
   "outputs": [
    {
     "data": {
      "text/plain": [
       "'W'"
      ]
     },
     "execution_count": 167,
     "metadata": {},
     "output_type": "execute_result"
    }
   ],
   "source": [
    "hello[7] # 문자열의 여덟번째 요소"
   ]
  },
  {
   "cell_type": "code",
   "execution_count": null,
   "id": "09497e6c",
   "metadata": {},
   "outputs": [],
   "source": [
    "# a = [1, 2, 3, 4, 5, 14, 11, 22, ...................................., 23]\n",
    "# 마지막 요소에 접근할때 음수 인덱스를 사용하면 편리"
   ]
  },
  {
   "cell_type": "code",
   "execution_count": 168,
   "id": "3a5f65e8",
   "metadata": {},
   "outputs": [],
   "source": [
    "a = [1, 5, 10, 14, 20]"
   ]
  },
  {
   "cell_type": "code",
   "execution_count": 169,
   "id": "cc03155e",
   "metadata": {},
   "outputs": [
    {
     "data": {
      "text/plain": [
       "20"
      ]
     },
     "execution_count": 169,
     "metadata": {},
     "output_type": "execute_result"
    }
   ],
   "source": [
    "a[-1] # 뒤에서 첫번째"
   ]
  },
  {
   "cell_type": "code",
   "execution_count": 170,
   "id": "5489a9a0",
   "metadata": {},
   "outputs": [
    {
     "data": {
      "text/plain": [
       "14"
      ]
     },
     "execution_count": 170,
     "metadata": {},
     "output_type": "execute_result"
    }
   ],
   "source": [
    "a[-2] # 뒤에서 두번째"
   ]
  },
  {
   "cell_type": "code",
   "execution_count": 171,
   "id": "913bf4e7",
   "metadata": {},
   "outputs": [
    {
     "data": {
      "text/plain": [
       "1"
      ]
     },
     "execution_count": 171,
     "metadata": {},
     "output_type": "execute_result"
    }
   ],
   "source": [
    "a[-5] # 뒤에서 다섯번째 (앞에서는 첫번째)"
   ]
  },
  {
   "cell_type": "code",
   "execution_count": 172,
   "id": "69282503",
   "metadata": {},
   "outputs": [],
   "source": [
    "b = (11, 134, 12, 5)"
   ]
  },
  {
   "cell_type": "code",
   "execution_count": 173,
   "id": "77ff3ddc",
   "metadata": {},
   "outputs": [
    {
     "data": {
      "text/plain": [
       "5"
      ]
     },
     "execution_count": 173,
     "metadata": {},
     "output_type": "execute_result"
    }
   ],
   "source": [
    "b[-1]"
   ]
  },
  {
   "cell_type": "code",
   "execution_count": 175,
   "id": "ab6ce3b9",
   "metadata": {},
   "outputs": [],
   "source": [
    "r = range(0, 1000, 3)"
   ]
  },
  {
   "cell_type": "code",
   "execution_count": 176,
   "id": "eab88ad7",
   "metadata": {},
   "outputs": [
    {
     "data": {
      "text/plain": [
       "999"
      ]
     },
     "execution_count": 176,
     "metadata": {},
     "output_type": "execute_result"
    }
   ],
   "source": [
    "r[-1] # range의 뒤에서 첫번째 요소"
   ]
  },
  {
   "cell_type": "code",
   "execution_count": 177,
   "id": "99591d08",
   "metadata": {},
   "outputs": [],
   "source": [
    "hello = \"Hello, World!\""
   ]
  },
  {
   "cell_type": "code",
   "execution_count": 178,
   "id": "3ac4eca5",
   "metadata": {},
   "outputs": [
    {
     "data": {
      "text/plain": [
       "'!'"
      ]
     },
     "execution_count": 178,
     "metadata": {},
     "output_type": "execute_result"
    }
   ],
   "source": [
    "hello[-1]"
   ]
  },
  {
   "cell_type": "markdown",
   "id": "7ef57817",
   "metadata": {},
   "source": [
    "- 시퀀스객체[인덱스] = 값\n",
    "- 위의 문법(연산)은 list 객체에서만 유효, tuple, range, str에서는 요소 값을 변경할 수 없음"
   ]
  },
  {
   "cell_type": "code",
   "execution_count": 179,
   "id": "c26c4c70",
   "metadata": {},
   "outputs": [
    {
     "data": {
      "text/plain": [
       "[0, 0, 0, 0]"
      ]
     },
     "execution_count": 179,
     "metadata": {},
     "output_type": "execute_result"
    }
   ],
   "source": [
    "a = [0, 0, 0, 0]\n",
    "a"
   ]
  },
  {
   "cell_type": "code",
   "execution_count": 180,
   "id": "167b7111",
   "metadata": {},
   "outputs": [
    {
     "data": {
      "text/plain": [
       "[100, 0, 0, 0]"
      ]
     },
     "execution_count": 180,
     "metadata": {},
     "output_type": "execute_result"
    }
   ],
   "source": [
    "a[0] = 100\n",
    "a"
   ]
  },
  {
   "cell_type": "code",
   "execution_count": 181,
   "id": "d0d2456f",
   "metadata": {},
   "outputs": [
    {
     "data": {
      "text/plain": [
       "(0, 0, 0, 0)"
      ]
     },
     "execution_count": 181,
     "metadata": {},
     "output_type": "execute_result"
    }
   ],
   "source": [
    "b = (0, 0, 0, 0)\n",
    "b"
   ]
  },
  {
   "cell_type": "code",
   "execution_count": 182,
   "id": "926edb42",
   "metadata": {},
   "outputs": [
    {
     "ename": "TypeError",
     "evalue": "'tuple' object does not support item assignment",
     "output_type": "error",
     "traceback": [
      "\u001b[1;31m---------------------------------------------------------------------------\u001b[0m",
      "\u001b[1;31mTypeError\u001b[0m                                 Traceback (most recent call last)",
      "Input \u001b[1;32mIn [182]\u001b[0m, in \u001b[0;36m<cell line: 1>\u001b[1;34m()\u001b[0m\n\u001b[1;32m----> 1\u001b[0m b[\u001b[38;5;241m0\u001b[39m] \u001b[38;5;241m=\u001b[39m \u001b[38;5;241m100\u001b[39m\n",
      "\u001b[1;31mTypeError\u001b[0m: 'tuple' object does not support item assignment"
     ]
    }
   ],
   "source": [
    "b[0] = 100 # tuple 자료형은 요소를 변경할 수 없음에 유의!!"
   ]
  },
  {
   "cell_type": "code",
   "execution_count": 183,
   "id": "4bb8b69d",
   "metadata": {},
   "outputs": [],
   "source": [
    "r = range(10)"
   ]
  },
  {
   "cell_type": "code",
   "execution_count": 184,
   "id": "37e3db3a",
   "metadata": {},
   "outputs": [
    {
     "ename": "TypeError",
     "evalue": "'range' object does not support item assignment",
     "output_type": "error",
     "traceback": [
      "\u001b[1;31m---------------------------------------------------------------------------\u001b[0m",
      "\u001b[1;31mTypeError\u001b[0m                                 Traceback (most recent call last)",
      "Input \u001b[1;32mIn [184]\u001b[0m, in \u001b[0;36m<cell line: 1>\u001b[1;34m()\u001b[0m\n\u001b[1;32m----> 1\u001b[0m r[\u001b[38;5;241m0\u001b[39m] \u001b[38;5;241m=\u001b[39m \u001b[38;5;241m100\u001b[39m\n",
      "\u001b[1;31mTypeError\u001b[0m: 'range' object does not support item assignment"
     ]
    }
   ],
   "source": [
    "r[0] = 100"
   ]
  },
  {
   "cell_type": "code",
   "execution_count": 185,
   "id": "8c88ae39",
   "metadata": {},
   "outputs": [],
   "source": [
    "hello = \"Hello, World!\""
   ]
  },
  {
   "cell_type": "code",
   "execution_count": 186,
   "id": "ec7cfd17",
   "metadata": {},
   "outputs": [
    {
     "ename": "TypeError",
     "evalue": "'str' object does not support item assignment",
     "output_type": "error",
     "traceback": [
      "\u001b[1;31m---------------------------------------------------------------------------\u001b[0m",
      "\u001b[1;31mTypeError\u001b[0m                                 Traceback (most recent call last)",
      "Input \u001b[1;32mIn [186]\u001b[0m, in \u001b[0;36m<cell line: 1>\u001b[1;34m()\u001b[0m\n\u001b[1;32m----> 1\u001b[0m hello[\u001b[38;5;241m0\u001b[39m] \u001b[38;5;241m=\u001b[39m \u001b[38;5;124m'\u001b[39m\u001b[38;5;124mP\u001b[39m\u001b[38;5;124m'\u001b[39m\n",
      "\u001b[1;31mTypeError\u001b[0m: 'str' object does not support item assignment"
     ]
    }
   ],
   "source": [
    "hello[0] = 'P'"
   ]
  },
  {
   "cell_type": "markdown",
   "id": "fc6de72e",
   "metadata": {},
   "source": [
    "- del 시퀀스객체[인덱스]\n",
    "- 위의 문법(연산)은 list 객체에서만 유효, tuple, range, str에서는 요소 값을 삭제할 수 없음"
   ]
  },
  {
   "cell_type": "code",
   "execution_count": 193,
   "id": "add95ebc",
   "metadata": {},
   "outputs": [],
   "source": [
    "a = [1, 2, 3, 4]"
   ]
  },
  {
   "cell_type": "code",
   "execution_count": 194,
   "id": "edd621b9",
   "metadata": {},
   "outputs": [
    {
     "data": {
      "text/plain": [
       "[2, 3, 4]"
      ]
     },
     "execution_count": 194,
     "metadata": {},
     "output_type": "execute_result"
    }
   ],
   "source": [
    "del a[0]\n",
    "a"
   ]
  },
  {
   "cell_type": "code",
   "execution_count": null,
   "id": "45c20dc9",
   "metadata": {},
   "outputs": [],
   "source": [
    "# 시퀀스 슬라이스 : 시퀀스의 일부를 잘라냄"
   ]
  },
  {
   "cell_type": "markdown",
   "id": "560f373a",
   "metadata": {},
   "source": [
    "- 시퀀스객체[시작인덱스:끝인덱스]"
   ]
  },
  {
   "cell_type": "code",
   "execution_count": 195,
   "id": "9bec52ca",
   "metadata": {},
   "outputs": [],
   "source": [
    "a = [0, 10, 20, 30, 40, 50, 60, 70, 80, 90]"
   ]
  },
  {
   "cell_type": "code",
   "execution_count": 196,
   "id": "24d95aa5",
   "metadata": {},
   "outputs": [
    {
     "data": {
      "text/plain": [
       "[0, 10, 20, 30]"
      ]
     },
     "execution_count": 196,
     "metadata": {},
     "output_type": "execute_result"
    }
   ],
   "source": [
    "a[0:4] # 인덱스 0부터 3까지 잘라서 가져옴"
   ]
  },
  {
   "cell_type": "code",
   "execution_count": 197,
   "id": "466eaa0d",
   "metadata": {},
   "outputs": [
    {
     "data": {
      "text/plain": [
       "[0, 10, 20, 30, 40, 50, 60, 70, 80, 90]"
      ]
     },
     "execution_count": 197,
     "metadata": {},
     "output_type": "execute_result"
    }
   ],
   "source": [
    "a[0:10] "
   ]
  },
  {
   "cell_type": "code",
   "execution_count": 198,
   "id": "e513a3d4",
   "metadata": {},
   "outputs": [
    {
     "data": {
      "text/plain": [
       "[0, 10, 20, 30, 40, 50, 60, 70, 80, 90]"
      ]
     },
     "execution_count": 198,
     "metadata": {},
     "output_type": "execute_result"
    }
   ],
   "source": [
    "a[0:] # 끝인덱스를 생략하면 마지막까지 가져옴"
   ]
  },
  {
   "cell_type": "code",
   "execution_count": 199,
   "id": "f2aa2261",
   "metadata": {},
   "outputs": [
    {
     "data": {
      "text/plain": [
       "[0, 10, 20, 30, 40, 50, 60, 70, 80, 90]"
      ]
     },
     "execution_count": 199,
     "metadata": {},
     "output_type": "execute_result"
    }
   ],
   "source": [
    "a[:] # 시작인덱스와 끝인덱스를 생략하면 처음부터 마지막까지 가져옴"
   ]
  },
  {
   "cell_type": "code",
   "execution_count": 200,
   "id": "6a92ad4b",
   "metadata": {},
   "outputs": [
    {
     "data": {
      "text/plain": [
       "[0, 10, 20, 30, 40, 50, 60, 70, 80]"
      ]
     },
     "execution_count": 200,
     "metadata": {},
     "output_type": "execute_result"
    }
   ],
   "source": [
    "a[:-1] # 마지막 인덱스를 -1로 지정하면 9번째 인덱스를 의미하므로 실제로는 8번째 인덱스까지 가져옴"
   ]
  },
  {
   "cell_type": "markdown",
   "id": "399435da",
   "metadata": {},
   "source": [
    "- 시퀀스객체[시작인덱스:끝인덱스:인덱스증가폭]"
   ]
  },
  {
   "cell_type": "code",
   "execution_count": 201,
   "id": "1ce6719d",
   "metadata": {},
   "outputs": [],
   "source": [
    "a = [0, 10, 20, 30, 40, 50, 60, 70, 80, 90]"
   ]
  },
  {
   "cell_type": "code",
   "execution_count": 202,
   "id": "000dc7b1",
   "metadata": {},
   "outputs": [
    {
     "data": {
      "text/plain": [
       "[20, 40, 60]"
      ]
     },
     "execution_count": 202,
     "metadata": {},
     "output_type": "execute_result"
    }
   ],
   "source": [
    "a[2:8:2]"
   ]
  },
  {
   "cell_type": "markdown",
   "id": "a447796d",
   "metadata": {},
   "source": [
    "### Workshop"
   ]
  },
  {
   "cell_type": "markdown",
   "id": "506992f2",
   "metadata": {},
   "source": [
    "**최근 3년간 인구 출력하기**\n",
    "- 리스트 year에 연도, population에 서울시 인구수가 저장되어 있습니다. 다음 소스 코드를 완성하여 최근 3년간 연도와 인구수가 리스트로 출력되게 만드세요."
   ]
  },
  {
   "cell_type": "code",
   "execution_count": 203,
   "id": "73493644",
   "metadata": {},
   "outputs": [],
   "source": [
    "year = [2011, 2012, 2013, 2014, 2015, 2016, 2017, 2018]\n",
    "population = [10249679, 10195318, 10143645, 10103233, 10022181, 9930616, 9857426, 9838892]"
   ]
  },
  {
   "cell_type": "code",
   "execution_count": 204,
   "id": "e1e604af",
   "metadata": {},
   "outputs": [
    {
     "name": "stdout",
     "output_type": "stream",
     "text": [
      "[2016, 2017, 2018]\n",
      "[9930616, 9857426, 9838892]\n"
     ]
    }
   ],
   "source": [
    "print(year[-3:])\n",
    "print(population[-3:])"
   ]
  },
  {
   "cell_type": "markdown",
   "id": "925a9d2a",
   "metadata": {},
   "source": [
    "**인덱스가 홀수인 요소 출력하기**\n",
    "- 다음 소스 코드를 완성하여 튜플 n에서 인덱스가 홀수인 요소들이 출력되게 만드세요."
   ]
  },
  {
   "cell_type": "code",
   "execution_count": 205,
   "id": "c5f57196",
   "metadata": {},
   "outputs": [],
   "source": [
    "n = -32, 75, 97, -10, 9, 32, 4, -15, 0, 76, 14, 2"
   ]
  },
  {
   "cell_type": "code",
   "execution_count": 206,
   "id": "23dbaedb",
   "metadata": {},
   "outputs": [
    {
     "data": {
      "text/plain": [
       "(75, -10, 32, -15, 76, 2)"
      ]
     },
     "execution_count": 206,
     "metadata": {},
     "output_type": "execute_result"
    }
   ],
   "source": [
    "n[1:12:2] # option 1"
   ]
  },
  {
   "cell_type": "code",
   "execution_count": 207,
   "id": "c72eea1b",
   "metadata": {},
   "outputs": [
    {
     "data": {
      "text/plain": [
       "(75, -10, 32, -15, 76, 2)"
      ]
     },
     "execution_count": 207,
     "metadata": {},
     "output_type": "execute_result"
    }
   ],
   "source": [
    "n[1::2] # option 2"
   ]
  },
  {
   "cell_type": "code",
   "execution_count": 209,
   "id": "b9c22e0d",
   "metadata": {},
   "outputs": [
    {
     "data": {
      "text/plain": [
       "(75, -10, 32, -15, 76, 2)"
      ]
     },
     "execution_count": 209,
     "metadata": {},
     "output_type": "execute_result"
    }
   ],
   "source": [
    "n[1:len(n):2] # option 3"
   ]
  },
  {
   "cell_type": "markdown",
   "id": "e7fab4a2",
   "metadata": {},
   "source": [
    "**리스트의 마지막 요소 5개 삭제하기**\n",
    "- 표준 입력으로 숫자 또는 문자열 여러개가 입력되어 리스트 x에 저장됩니다(입력되는 숫자 또는 문자열의 개수는 정해져 있지 않음). 다음 소스코드를 완성하여 리스트 x의 마지막 요소 5개를 삭제한 뒤 튜플로 출력되게 만드세요"
   ]
  },
  {
   "cell_type": "code",
   "execution_count": 211,
   "id": "a91bc845",
   "metadata": {},
   "outputs": [
    {
     "name": "stdout",
     "output_type": "stream",
     "text": [
      "1 2 3 4 5 6 7 8 9 10\n"
     ]
    }
   ],
   "source": [
    "x = input().split()"
   ]
  },
  {
   "cell_type": "code",
   "execution_count": 214,
   "id": "d5edf468",
   "metadata": {},
   "outputs": [],
   "source": [
    "del x[-5:]"
   ]
  },
  {
   "cell_type": "code",
   "execution_count": 215,
   "id": "fef97baf",
   "metadata": {
    "scrolled": true
   },
   "outputs": [
    {
     "data": {
      "text/plain": [
       "['1', '2', '3', '4', '5']"
      ]
     },
     "execution_count": 215,
     "metadata": {},
     "output_type": "execute_result"
    }
   ],
   "source": [
    "print(tuple(x))"
   ]
  },
  {
   "cell_type": "markdown",
   "id": "a9253fb5",
   "metadata": {},
   "source": [
    "- 시퀀스객체[시작인덱스:끝인덱스] = 시퀀스객체\n",
    "- tuple, range, str은 슬라이스 범위에 요소를 할당할 수 없음"
   ]
  },
  {
   "cell_type": "code",
   "execution_count": 216,
   "id": "0958feb5",
   "metadata": {},
   "outputs": [],
   "source": [
    "a = [0, 10, 20, 30, 40, 50, 60, 70, 80, 90]"
   ]
  },
  {
   "cell_type": "code",
   "execution_count": 217,
   "id": "94a79a62",
   "metadata": {},
   "outputs": [
    {
     "data": {
      "text/plain": [
       "[0, 10, 'a', 'b', 'c', 50, 60, 70, 80, 90]"
      ]
     },
     "execution_count": 217,
     "metadata": {},
     "output_type": "execute_result"
    }
   ],
   "source": [
    "a[2:5] = ['a', 'b', 'c']\n",
    "a"
   ]
  },
  {
   "cell_type": "code",
   "execution_count": 218,
   "id": "5d33b58c",
   "metadata": {},
   "outputs": [
    {
     "ename": "TypeError",
     "evalue": "'tuple' object does not support item assignment",
     "output_type": "error",
     "traceback": [
      "\u001b[1;31m---------------------------------------------------------------------------\u001b[0m",
      "\u001b[1;31mTypeError\u001b[0m                                 Traceback (most recent call last)",
      "Input \u001b[1;32mIn [218]\u001b[0m, in \u001b[0;36m<cell line: 2>\u001b[1;34m()\u001b[0m\n\u001b[0;32m      1\u001b[0m b \u001b[38;5;241m=\u001b[39m (\u001b[38;5;241m0\u001b[39m, \u001b[38;5;241m10\u001b[39m, \u001b[38;5;241m20\u001b[39m, \u001b[38;5;241m30\u001b[39m, \u001b[38;5;241m40\u001b[39m, \u001b[38;5;241m50\u001b[39m, \u001b[38;5;241m60\u001b[39m, \u001b[38;5;241m70\u001b[39m, \u001b[38;5;241m80\u001b[39m, \u001b[38;5;241m90\u001b[39m)\n\u001b[1;32m----> 2\u001b[0m b[\u001b[38;5;241m2\u001b[39m:\u001b[38;5;241m5\u001b[39m] \u001b[38;5;241m=\u001b[39m [\u001b[38;5;124m'\u001b[39m\u001b[38;5;124ma\u001b[39m\u001b[38;5;124m'\u001b[39m, \u001b[38;5;124m'\u001b[39m\u001b[38;5;124mb\u001b[39m\u001b[38;5;124m'\u001b[39m, \u001b[38;5;124m'\u001b[39m\u001b[38;5;124mc\u001b[39m\u001b[38;5;124m'\u001b[39m]\n\u001b[0;32m      3\u001b[0m b\n",
      "\u001b[1;31mTypeError\u001b[0m: 'tuple' object does not support item assignment"
     ]
    }
   ],
   "source": [
    "b = (0, 10, 20, 30, 40, 50, 60, 70, 80, 90)\n",
    "b[2:5] = ['a', 'b', 'c']\n",
    "b"
   ]
  },
  {
   "cell_type": "markdown",
   "id": "533fb75a",
   "metadata": {},
   "source": [
    "- del 시퀀스객체[시작인덱스:끝인덱스]\n",
    "- tuple, range, str은 슬라이스 범위에 요소를 삭제할 수 없음"
   ]
  },
  {
   "cell_type": "code",
   "execution_count": 219,
   "id": "985590f7",
   "metadata": {},
   "outputs": [
    {
     "data": {
      "text/plain": [
       "[0, 10, 50, 60, 70, 80, 90]"
      ]
     },
     "execution_count": 219,
     "metadata": {},
     "output_type": "execute_result"
    }
   ],
   "source": [
    "del a[2:5]\n",
    "a"
   ]
  },
  {
   "cell_type": "code",
   "execution_count": 220,
   "id": "21824c9b",
   "metadata": {},
   "outputs": [
    {
     "ename": "TypeError",
     "evalue": "'tuple' object does not support item deletion",
     "output_type": "error",
     "traceback": [
      "\u001b[1;31m---------------------------------------------------------------------------\u001b[0m",
      "\u001b[1;31mTypeError\u001b[0m                                 Traceback (most recent call last)",
      "Input \u001b[1;32mIn [220]\u001b[0m, in \u001b[0;36m<cell line: 1>\u001b[1;34m()\u001b[0m\n\u001b[1;32m----> 1\u001b[0m \u001b[38;5;28;01mdel\u001b[39;00m b[\u001b[38;5;241m2\u001b[39m:\u001b[38;5;241m5\u001b[39m]\n\u001b[0;32m      2\u001b[0m b\n",
      "\u001b[1;31mTypeError\u001b[0m: 'tuple' object does not support item deletion"
     ]
    }
   ],
   "source": [
    "del b[2:5]\n",
    "b"
   ]
  },
  {
   "cell_type": "markdown",
   "id": "083b297b",
   "metadata": {},
   "source": [
    "### Workshop"
   ]
  },
  {
   "cell_type": "markdown",
   "id": "3a9a1745",
   "metadata": {},
   "source": [
    "**주민번호로 성별 구분하기**\n",
    "- 아래와 같은 홍길동씨의 주민번호를 대쉬 기호 전/후로 쪼개보자. 성별이 남자면 'male', 여자면 'female'을 출력하세요."
   ]
  },
  {
   "cell_type": "code",
   "execution_count": 221,
   "id": "33a571d7",
   "metadata": {},
   "outputs": [],
   "source": [
    "pin = '88120-1068234'"
   ]
  },
  {
   "cell_type": "code",
   "execution_count": 225,
   "id": "8e5eb69e",
   "metadata": {},
   "outputs": [
    {
     "name": "stdout",
     "output_type": "stream",
     "text": [
      "male\n"
     ]
    }
   ],
   "source": [
    "if pin.split('-')[1][0] == '1': # 성별을 알 수 있는 자리로 판단\n",
    "    print(\"male\")\n",
    "else:\n",
    "    print(\"female\")"
   ]
  },
  {
   "cell_type": "markdown",
   "id": "b0cc81ef",
   "metadata": {},
   "source": [
    "**핸드폰 번호 가리기**\n",
    "- 전화번호가 문자열 phone_number로 주어졌을 때, 전화번호의 뒷 4자리를 제외한 나머지 숫자를 전부 *으로 가린 문자열을 출력하세요.\n",
    "\n",
    "- 제한 조건\n",
    "- s는 길이 4 이상, 20이하인 문자열입니다.\n",
    "- 입출력 예\n",
    "```\n",
    "phone_number 출력 문자열\n",
    "\"01033334444\" \"*******4444\"\n",
    "\"027778888\" \"*****8888\"\n",
    "```"
   ]
  },
  {
   "cell_type": "code",
   "execution_count": 232,
   "id": "073ad833",
   "metadata": {},
   "outputs": [
    {
     "name": "stdout",
     "output_type": "stream",
     "text": [
      "027778888\n"
     ]
    }
   ],
   "source": [
    "phone_number = input()"
   ]
  },
  {
   "cell_type": "code",
   "execution_count": 233,
   "id": "22a66077",
   "metadata": {},
   "outputs": [
    {
     "data": {
      "text/plain": [
       "'*****8888'"
      ]
     },
     "execution_count": 233,
     "metadata": {},
     "output_type": "execute_result"
    }
   ],
   "source": [
    "s1 = '*' * len(phone_number[:-4])\n",
    "s2 = phone_number[-4:]\n",
    "s1+s2"
   ]
  },
  {
   "cell_type": "code",
   "execution_count": null,
   "id": "b6afd19d",
   "metadata": {},
   "outputs": [],
   "source": []
  }
 ],
 "metadata": {
  "kernelspec": {
   "display_name": "Python 3 (ipykernel)",
   "language": "python",
   "name": "python3"
  },
  "language_info": {
   "codemirror_mode": {
    "name": "ipython",
    "version": 3
   },
   "file_extension": ".py",
   "mimetype": "text/x-python",
   "name": "python",
   "nbconvert_exporter": "python",
   "pygments_lexer": "ipython3",
   "version": "3.9.12"
  }
 },
 "nbformat": 4,
 "nbformat_minor": 5
}
