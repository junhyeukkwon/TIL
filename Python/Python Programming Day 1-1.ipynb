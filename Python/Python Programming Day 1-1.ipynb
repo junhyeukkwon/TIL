{
 "cells": [
  {
   "cell_type": "markdown",
   "id": "147048fb",
   "metadata": {},
   "source": [
    "# 기초 사용법"
   ]
  },
  {
   "cell_type": "markdown",
   "id": "cf025d03",
   "metadata": {},
   "source": [
    "### 마크다운 치트시트\n",
    "- (https://www.markdownguide.org/cheat-sheet/)"
   ]
  },
  {
   "cell_type": "markdown",
   "id": "1072e84f",
   "metadata": {},
   "source": [
    "# H1\n",
    "## H2\n",
    "### H3"
   ]
  },
  {
   "cell_type": "markdown",
   "id": "38caf157",
   "metadata": {},
   "source": [
    "**bold text**"
   ]
  },
  {
   "cell_type": "markdown",
   "id": "4e27a307",
   "metadata": {},
   "source": [
    "![alt text](python_logo.png)"
   ]
  },
  {
   "cell_type": "markdown",
   "id": "94f6c232",
   "metadata": {},
   "source": [
    "### Hello World 출력하기"
   ]
  },
  {
   "cell_type": "markdown",
   "id": "4804ecbf",
   "metadata": {},
   "source": [
    "- 프로그램 실행 방법 option 1"
   ]
  },
  {
   "cell_type": "code",
   "execution_count": 11,
   "id": "f069ce7f",
   "metadata": {},
   "outputs": [
    {
     "name": "stdout",
     "output_type": "stream",
     "text": [
      "hello world\n"
     ]
    }
   ],
   "source": [
    "print(\"hello world\") # hello world를 출력하는 코드입니다."
   ]
  },
  {
   "cell_type": "markdown",
   "id": "f9144acb",
   "metadata": {},
   "source": [
    "- 프로그램 실행 방법 option 2"
   ]
  },
  {
   "cell_type": "code",
   "execution_count": 12,
   "id": "f5781005",
   "metadata": {},
   "outputs": [
    {
     "name": "stdout",
     "output_type": "stream",
     "text": [
      "hello world\n",
      "900\n"
     ]
    }
   ],
   "source": [
    "%run hello.py "
   ]
  },
  {
   "cell_type": "markdown",
   "id": "680f321b",
   "metadata": {},
   "source": [
    "- 프로그램 실행 방법 option 3"
   ]
  },
  {
   "cell_type": "code",
   "execution_count": null,
   "id": "f9ac67ce",
   "metadata": {},
   "outputs": [],
   "source": [
    "# cmd 창에 가서\n",
    "# >>> python hello.py"
   ]
  },
  {
   "cell_type": "markdown",
   "id": "a360157d",
   "metadata": {},
   "source": [
    "### 단축키"
   ]
  },
  {
   "cell_type": "code",
   "execution_count": 13,
   "id": "2dc42c02",
   "metadata": {},
   "outputs": [],
   "source": [
    "# Esc : 셀 포커스 모드 (에디트 모드가 아님) \n",
    "# a : 위로 셀 추가\n",
    "# b : 아래로 셀 추가\n",
    "# m : 마크다운 모드\n",
    "# y : 코드 모드\n",
    "# Shift + m : 선택된 셀 병합\n",
    "# Ctrl + Shift + '-' : 현재 커서 위치에서 셀 분할\n",
    "# x : 셀 삭제\n",
    "# dd : 셀 삭제\n",
    "# Shift + Enter : 셀 실행\n",
    "# Alt + Enter : 셀 실행 후 셀 추가"
   ]
  },
  {
   "cell_type": "code",
   "execution_count": 17,
   "id": "eb86d4d3",
   "metadata": {},
   "outputs": [
    {
     "data": {
      "text/plain": [
       "30"
      ]
     },
     "execution_count": 17,
     "metadata": {},
     "output_type": "execute_result"
    }
   ],
   "source": [
    "a = 10\n",
    "b = 20\n",
    "\n",
    "c = a + b\n",
    "c"
   ]
  },
  {
   "cell_type": "code",
   "execution_count": 18,
   "id": "7b912577",
   "metadata": {},
   "outputs": [
    {
     "name": "stdout",
     "output_type": "stream",
     "text": [
      "900\n"
     ]
    }
   ],
   "source": [
    "d = c * 30\n",
    "print(d)"
   ]
  },
  {
   "cell_type": "markdown",
   "id": "107bec91",
   "metadata": {},
   "source": [
    "### 탭 자동 완성기능"
   ]
  },
  {
   "cell_type": "code",
   "execution_count": 19,
   "id": "14fb59f9",
   "metadata": {},
   "outputs": [],
   "source": [
    "an_apple = 27\n",
    "an_example = 42"
   ]
  },
  {
   "cell_type": "code",
   "execution_count": null,
   "id": "1677cb04",
   "metadata": {},
   "outputs": [],
   "source": [
    "an<tab 키>"
   ]
  },
  {
   "cell_type": "code",
   "execution_count": 20,
   "id": "3c9b867b",
   "metadata": {},
   "outputs": [],
   "source": [
    "# python의 list 자료형\n",
    "score = [90, 95, 100]"
   ]
  },
  {
   "cell_type": "code",
   "execution_count": null,
   "id": "b36aa881",
   "metadata": {},
   "outputs": [],
   "source": [
    "# list에서 제공하는 메서드(함수)\n",
    "score.<tab 키>"
   ]
  },
  {
   "cell_type": "markdown",
   "id": "10fe08ac",
   "metadata": {},
   "source": [
    "### 자기관찰(도움말)"
   ]
  },
  {
   "cell_type": "code",
   "execution_count": 21,
   "id": "83912ca3",
   "metadata": {},
   "outputs": [],
   "source": [
    "# list 자료형인 score 객체에 대한 설명 (?를 앞뒤에 할 수 있음)\n",
    "score?"
   ]
  },
  {
   "cell_type": "code",
   "execution_count": 23,
   "id": "535780c1",
   "metadata": {},
   "outputs": [],
   "source": [
    "?score"
   ]
  },
  {
   "cell_type": "code",
   "execution_count": 24,
   "id": "dd72d410",
   "metadata": {},
   "outputs": [],
   "source": [
    "# print 함수에 대한 설명\n",
    "print?"
   ]
  },
  {
   "cell_type": "code",
   "execution_count": 28,
   "id": "d151d2a8",
   "metadata": {},
   "outputs": [],
   "source": [
    "def add_number(a, b):\n",
    "    \"\"\"\n",
    "    Add two numbers together\n",
    "    Returns a+b    \n",
    "    \"\"\"\n",
    "    c = a+b\n",
    "    return c"
   ]
  },
  {
   "cell_type": "code",
   "execution_count": 29,
   "id": "d9bde87f",
   "metadata": {},
   "outputs": [],
   "source": [
    "add_number? # 함수의 문서(docstring)를 보여줌"
   ]
  },
  {
   "cell_type": "code",
   "execution_count": 30,
   "id": "4c6f3ccf",
   "metadata": {},
   "outputs": [],
   "source": [
    "add_number??"
   ]
  },
  {
   "cell_type": "markdown",
   "id": "c93b9910",
   "metadata": {},
   "source": [
    "### 매직명령어"
   ]
  },
  {
   "cell_type": "code",
   "execution_count": 32,
   "id": "6e31fd27",
   "metadata": {},
   "outputs": [
    {
     "name": "stdout",
     "output_type": "stream",
     "text": [
      "hello world\n",
      "900\n"
     ]
    }
   ],
   "source": [
    "%run hello.py # python script 파일을 실행할 때 사용"
   ]
  },
  {
   "cell_type": "code",
   "execution_count": 34,
   "id": "d3d15af6",
   "metadata": {},
   "outputs": [
    {
     "data": {
      "text/plain": [
       "'C:\\\\Users\\\\Playdata\\\\Documents\\\\2022 빅데이터 10기\\\\Python Programming\\\\workshop'"
      ]
     },
     "execution_count": 34,
     "metadata": {},
     "output_type": "execute_result"
    }
   ],
   "source": [
    "%pwd # 현재 디렉토리를 표시"
   ]
  },
  {
   "cell_type": "code",
   "execution_count": null,
   "id": "7617d0bb",
   "metadata": {},
   "outputs": [],
   "source": [
    "# %load hello.py\n",
    "print(\"hello world\")\n",
    "\n",
    "a = 10\n",
    "b = 20\n",
    "\n",
    "c = a+b\n",
    "\n",
    "\n",
    "d = c * 30\n",
    "print(d)"
   ]
  },
  {
   "cell_type": "code",
   "execution_count": 37,
   "id": "1735035c",
   "metadata": {},
   "outputs": [
    {
     "name": "stdout",
     "output_type": "stream",
     "text": [
      "CPU times: total: 0 ns\n",
      "Wall time: 0 ns\n"
     ]
    }
   ],
   "source": [
    "%time c = a+b # time 뒤에 나오는 statement를 수행하는데 걸린 시간"
   ]
  },
  {
   "cell_type": "code",
   "execution_count": 38,
   "id": "2b6fdd54",
   "metadata": {},
   "outputs": [
    {
     "name": "stdout",
     "output_type": "stream",
     "text": [
      "38.8 ns ± 0.34 ns per loop (mean ± std. dev. of 7 runs, 10,000,000 loops each)\n"
     ]
    }
   ],
   "source": [
    "%timeit c = a + b # timeit 뒤에 나오는 statement를 여러번 실행한 후 평균 시간을 출력"
   ]
  },
  {
   "cell_type": "code",
   "execution_count": 41,
   "id": "0081aaa6",
   "metadata": {},
   "outputs": [],
   "source": [
    "import numpy as np # \"행렬 연산을 고속화\"해서 수행할 수 있는 라이브러리"
   ]
  },
  {
   "cell_type": "code",
   "execution_count": 49,
   "id": "bcad5df5",
   "metadata": {},
   "outputs": [
    {
     "data": {
      "text/plain": [
       "array([[-1.12272239,  0.62335093,  1.54767438, ...,  0.24000135,\n",
       "        -2.06198986, -0.31973154],\n",
       "       [ 0.20891532,  2.10033913,  0.82202243, ..., -0.20092578,\n",
       "        -1.0688538 ,  1.53551649],\n",
       "       [-1.03956737,  0.72742121, -0.59541074, ..., -0.14481478,\n",
       "         0.59712429, -0.6169692 ],\n",
       "       ...,\n",
       "       [ 0.71505855,  0.68964074, -0.5755884 , ...,  0.19505611,\n",
       "        -0.75860772, -0.08621206],\n",
       "       [ 0.38306634,  1.03480706,  0.97575145, ...,  0.24856738,\n",
       "        -1.28855433,  1.34365338],\n",
       "       [ 0.92358641, -1.40729934,  0.46108665, ..., -1.54427973,\n",
       "         0.79817076, -0.73883141]])"
      ]
     },
     "execution_count": 49,
     "metadata": {},
     "output_type": "execute_result"
    }
   ],
   "source": [
    "a = np.random.randn(100, 100) # randn(행렬의 형상) 이 하는 역할 : 정규분포를 따르는 데이터를 행렬의 형상만큼 무작위로 만들어줌."
   ]
  },
  {
   "cell_type": "code",
   "execution_count": 50,
   "id": "3efc4ae8",
   "metadata": {},
   "outputs": [
    {
     "name": "stdout",
     "output_type": "stream",
     "text": [
      "27.6 µs ± 3.36 µs per loop (mean ± std. dev. of 7 runs, 10,000 loops each)\n"
     ]
    }
   ],
   "source": [
    "%timeit np.dot(a, a)"
   ]
  },
  {
   "cell_type": "code",
   "execution_count": 39,
   "id": "ac4304d4",
   "metadata": {},
   "outputs": [],
   "source": [
    "%magic"
   ]
  },
  {
   "cell_type": "code",
   "execution_count": 40,
   "id": "a534cfd3",
   "metadata": {},
   "outputs": [],
   "source": [
    "%quickref"
   ]
  },
  {
   "cell_type": "markdown",
   "id": "d43e3360",
   "metadata": {},
   "source": [
    "### 기본 문법"
   ]
  },
  {
   "cell_type": "code",
   "execution_count": 51,
   "id": "02364178",
   "metadata": {},
   "outputs": [],
   "source": [
    "# 세미콜론 사용하지 않음\n",
    "a = 3\n",
    "b = 4"
   ]
  },
  {
   "cell_type": "code",
   "execution_count": 52,
   "id": "3dc94e74",
   "metadata": {},
   "outputs": [],
   "source": [
    "a=3; b=4 # 한줄에 여러 문장 실행할때는 세미콜론 사용"
   ]
  },
  {
   "cell_type": "code",
   "execution_count": 54,
   "id": "08bfb898",
   "metadata": {},
   "outputs": [
    {
     "name": "stdout",
     "output_type": "stream",
     "text": [
      "a는 3입니다.\n"
     ]
    }
   ],
   "source": [
    "# 들여쓰기\n",
    "if a == 3:\n",
    "    print(\"a는 3입니다.\")"
   ]
  },
  {
   "cell_type": "markdown",
   "id": "3f32e9e6",
   "metadata": {},
   "source": [
    "### 숫자 계산하기"
   ]
  },
  {
   "cell_type": "code",
   "execution_count": 53,
   "id": "05685248",
   "metadata": {},
   "outputs": [
    {
     "data": {
      "text/plain": [
       "2"
      ]
     },
     "execution_count": 53,
     "metadata": {},
     "output_type": "execute_result"
    }
   ],
   "source": [
    "1+1 # 덧셈"
   ]
  },
  {
   "cell_type": "code",
   "execution_count": 55,
   "id": "99f9830e",
   "metadata": {},
   "outputs": [
    {
     "data": {
      "text/plain": [
       "1"
      ]
     },
     "execution_count": 55,
     "metadata": {},
     "output_type": "execute_result"
    }
   ],
   "source": [
    "2-1 # 뺄셈"
   ]
  },
  {
   "cell_type": "code",
   "execution_count": 56,
   "id": "29c9595d",
   "metadata": {},
   "outputs": [
    {
     "data": {
      "text/plain": [
       "6"
      ]
     },
     "execution_count": 56,
     "metadata": {},
     "output_type": "execute_result"
    }
   ],
   "source": [
    "2*3 # 곱셈"
   ]
  },
  {
   "cell_type": "code",
   "execution_count": 57,
   "id": "1dfa6b1d",
   "metadata": {},
   "outputs": [
    {
     "data": {
      "text/plain": [
       "2.0"
      ]
     },
     "execution_count": 57,
     "metadata": {},
     "output_type": "execute_result"
    }
   ],
   "source": [
    "4/2 # 나눗셈"
   ]
  },
  {
   "cell_type": "code",
   "execution_count": 58,
   "id": "0e2fda02",
   "metadata": {},
   "outputs": [
    {
     "data": {
      "text/plain": [
       "2.5"
      ]
     },
     "execution_count": 58,
     "metadata": {},
     "output_type": "execute_result"
    }
   ],
   "source": [
    "5/2"
   ]
  },
  {
   "cell_type": "code",
   "execution_count": 59,
   "id": "06c0daf6",
   "metadata": {},
   "outputs": [
    {
     "data": {
      "text/plain": [
       "2"
      ]
     },
     "execution_count": 59,
     "metadata": {},
     "output_type": "execute_result"
    }
   ],
   "source": [
    "5//2 # 몫"
   ]
  },
  {
   "cell_type": "code",
   "execution_count": 60,
   "id": "43f76b9d",
   "metadata": {},
   "outputs": [
    {
     "data": {
      "text/plain": [
       "1"
      ]
     },
     "execution_count": 60,
     "metadata": {},
     "output_type": "execute_result"
    }
   ],
   "source": [
    "5%2 # 나머지"
   ]
  },
  {
   "cell_type": "code",
   "execution_count": 61,
   "id": "588c312a",
   "metadata": {},
   "outputs": [
    {
     "data": {
      "text/plain": [
       "1024"
      ]
     },
     "execution_count": 61,
     "metadata": {},
     "output_type": "execute_result"
    }
   ],
   "source": [
    "2 ** 10 # 2의 10 제곱"
   ]
  },
  {
   "cell_type": "code",
   "execution_count": 62,
   "id": "81c463d8",
   "metadata": {},
   "outputs": [
    {
     "data": {
      "text/plain": [
       "int"
      ]
     },
     "execution_count": 62,
     "metadata": {},
     "output_type": "execute_result"
    }
   ],
   "source": [
    "a = 2\n",
    "type(a) # type(a) : a의 자료형을 알 수 있는 함수"
   ]
  },
  {
   "cell_type": "code",
   "execution_count": 66,
   "id": "683f75ef",
   "metadata": {},
   "outputs": [
    {
     "data": {
      "text/plain": [
       "float"
      ]
     },
     "execution_count": 66,
     "metadata": {},
     "output_type": "execute_result"
    }
   ],
   "source": [
    "b = 2.3\n",
    "type(b) # type(b) : b의 자료형을 알 수 있는 함수"
   ]
  },
  {
   "cell_type": "code",
   "execution_count": 68,
   "id": "4273d198",
   "metadata": {},
   "outputs": [
    {
     "name": "stdout",
     "output_type": "stream",
     "text": [
      "2.3 <class 'float'>\n",
      "2 <class 'int'>\n"
     ]
    }
   ],
   "source": [
    "# 자료형 변환 (type casting)\n",
    "print(b, type(b)) # before 자료형 변환 : 2.3 float\n",
    "print(int(b), type(int(b))) # after 자료형 변환 : 2 int"
   ]
  },
  {
   "cell_type": "code",
   "execution_count": 70,
   "id": "9b384d00",
   "metadata": {},
   "outputs": [
    {
     "name": "stdout",
     "output_type": "stream",
     "text": [
      "10 <class 'str'>\n",
      "10 <class 'int'>\n"
     ]
    }
   ],
   "source": [
    "print('10', type('10')) # before 자료형 변환\n",
    "print(int('10'), type(int('10'))) # after 자료형 변환"
   ]
  },
  {
   "cell_type": "code",
   "execution_count": 71,
   "id": "1fce266e",
   "metadata": {},
   "outputs": [
    {
     "data": {
      "text/plain": [
       "(2, 1)"
      ]
     },
     "execution_count": 71,
     "metadata": {},
     "output_type": "execute_result"
    }
   ],
   "source": [
    "divmod(5, 2)"
   ]
  },
  {
   "cell_type": "markdown",
   "id": "02e29c51",
   "metadata": {},
   "source": [
    "### 변수 만들기"
   ]
  },
  {
   "cell_type": "code",
   "execution_count": 72,
   "id": "9c8c4c27",
   "metadata": {},
   "outputs": [],
   "source": [
    "a = 3 # = : 오른쪽에 있는 값을 왼쪽으로 할당"
   ]
  },
  {
   "cell_type": "code",
   "execution_count": 73,
   "id": "64102a58",
   "metadata": {},
   "outputs": [
    {
     "data": {
      "text/plain": [
       "True"
      ]
     },
     "execution_count": 73,
     "metadata": {},
     "output_type": "execute_result"
    }
   ],
   "source": [
    "a == 3 # == : 왼쪽과 오른쪽의 값이 같은지 비교 (결과가 True / False로 나옴)"
   ]
  },
  {
   "cell_type": "code",
   "execution_count": 74,
   "id": "6bd7aec5",
   "metadata": {},
   "outputs": [
    {
     "data": {
      "text/plain": [
       "False"
      ]
     },
     "execution_count": 74,
     "metadata": {},
     "output_type": "execute_result"
    }
   ],
   "source": [
    "a == 4"
   ]
  },
  {
   "cell_type": "code",
   "execution_count": 75,
   "id": "b45516c7",
   "metadata": {},
   "outputs": [],
   "source": [
    "# 영문과 문자를 함께 사용 가능\n",
    "a1 = 4"
   ]
  },
  {
   "cell_type": "code",
   "execution_count": 76,
   "id": "cd23bba7",
   "metadata": {},
   "outputs": [
    {
     "ename": "NameError",
     "evalue": "name 'A1' is not defined",
     "output_type": "error",
     "traceback": [
      "\u001b[1;31m---------------------------------------------------------------------------\u001b[0m",
      "\u001b[1;31mNameError\u001b[0m                                 Traceback (most recent call last)",
      "Input \u001b[1;32mIn [76]\u001b[0m, in \u001b[0;36m<cell line: 2>\u001b[1;34m()\u001b[0m\n\u001b[0;32m      1\u001b[0m \u001b[38;5;66;03m# 대소문자 구문\u001b[39;00m\n\u001b[1;32m----> 2\u001b[0m \u001b[43mA1\u001b[49m\n",
      "\u001b[1;31mNameError\u001b[0m: name 'A1' is not defined"
     ]
    }
   ],
   "source": [
    "# 대소문자 구문\n",
    "A1 # a1과는 다른 A1"
   ]
  },
  {
   "cell_type": "code",
   "execution_count": 77,
   "id": "b20ee2b7",
   "metadata": {},
   "outputs": [
    {
     "ename": "SyntaxError",
     "evalue": "invalid syntax (167407203.py, line 1)",
     "output_type": "error",
     "traceback": [
      "\u001b[1;36m  Input \u001b[1;32mIn [77]\u001b[1;36m\u001b[0m\n\u001b[1;33m    1a = 3\u001b[0m\n\u001b[1;37m     ^\u001b[0m\n\u001b[1;31mSyntaxError\u001b[0m\u001b[1;31m:\u001b[0m invalid syntax\n"
     ]
    }
   ],
   "source": [
    "# 문자는 숫자부터 사용할 수 없음\n",
    "1a = 3"
   ]
  },
  {
   "cell_type": "code",
   "execution_count": 78,
   "id": "c7c0f98a",
   "metadata": {},
   "outputs": [],
   "source": [
    "# _로 시작할 수 있음\n",
    "_a = 10"
   ]
  },
  {
   "cell_type": "code",
   "execution_count": 79,
   "id": "47c7db54",
   "metadata": {},
   "outputs": [
    {
     "ename": "SyntaxError",
     "evalue": "invalid syntax (3801781492.py, line 2)",
     "output_type": "error",
     "traceback": [
      "\u001b[1;36m  Input \u001b[1;32mIn [79]\u001b[1;36m\u001b[0m\n\u001b[1;33m    $a = 10\u001b[0m\n\u001b[1;37m    ^\u001b[0m\n\u001b[1;31mSyntaxError\u001b[0m\u001b[1;31m:\u001b[0m invalid syntax\n"
     ]
    }
   ],
   "source": [
    "# 특수문자(+, -, *, /, $, @, %, &) 사용할 수 없음\n",
    "$a = 10"
   ]
  },
  {
   "cell_type": "code",
   "execution_count": 80,
   "id": "ae5847d7",
   "metadata": {},
   "outputs": [
    {
     "ename": "SyntaxError",
     "evalue": "invalid syntax (3577728022.py, line 1)",
     "output_type": "error",
     "traceback": [
      "\u001b[1;36m  Input \u001b[1;32mIn [80]\u001b[1;36m\u001b[0m\n\u001b[1;33m    if = 3\u001b[0m\n\u001b[1;37m       ^\u001b[0m\n\u001b[1;31mSyntaxError\u001b[0m\u001b[1;31m:\u001b[0m invalid syntax\n"
     ]
    }
   ],
   "source": [
    "# 파이썬 키워드는 사용할 수 없음 (if, for, while, and, or)\n",
    "if = 3"
   ]
  },
  {
   "cell_type": "code",
   "execution_count": 81,
   "id": "afa59e0e",
   "metadata": {},
   "outputs": [
    {
     "name": "stdout",
     "output_type": "stream",
     "text": [
      "10 20\n"
     ]
    }
   ],
   "source": [
    "x, y = 10, 20\n",
    "print(x, y)"
   ]
  },
  {
   "cell_type": "code",
   "execution_count": 82,
   "id": "30769c37",
   "metadata": {},
   "outputs": [
    {
     "name": "stdout",
     "output_type": "stream",
     "text": [
      "20 10\n"
     ]
    }
   ],
   "source": [
    "x, y = y, x\n",
    "print(x, y)"
   ]
  },
  {
   "cell_type": "code",
   "execution_count": 83,
   "id": "a957d039",
   "metadata": {},
   "outputs": [
    {
     "ename": "ValueError",
     "evalue": "not enough values to unpack (expected 3, got 2)",
     "output_type": "error",
     "traceback": [
      "\u001b[1;31m---------------------------------------------------------------------------\u001b[0m",
      "\u001b[1;31mValueError\u001b[0m                                Traceback (most recent call last)",
      "Input \u001b[1;32mIn [83]\u001b[0m, in \u001b[0;36m<cell line: 1>\u001b[1;34m()\u001b[0m\n\u001b[1;32m----> 1\u001b[0m x, y, z \u001b[38;5;241m=\u001b[39m \u001b[38;5;241m10\u001b[39m, \u001b[38;5;241m20\u001b[39m\n",
      "\u001b[1;31mValueError\u001b[0m: not enough values to unpack (expected 3, got 2)"
     ]
    }
   ],
   "source": [
    "x, y, z = 10, 20"
   ]
  },
  {
   "cell_type": "code",
   "execution_count": 84,
   "id": "21b67ac5",
   "metadata": {},
   "outputs": [
    {
     "data": {
      "text/plain": [
       "10"
      ]
     },
     "execution_count": 84,
     "metadata": {},
     "output_type": "execute_result"
    }
   ],
   "source": [
    "x = 10\n",
    "x"
   ]
  },
  {
   "cell_type": "code",
   "execution_count": 85,
   "id": "fae16574",
   "metadata": {},
   "outputs": [],
   "source": [
    "del x"
   ]
  },
  {
   "cell_type": "code",
   "execution_count": 86,
   "id": "9b5f1fba",
   "metadata": {},
   "outputs": [
    {
     "ename": "NameError",
     "evalue": "name 'x' is not defined",
     "output_type": "error",
     "traceback": [
      "\u001b[1;31m---------------------------------------------------------------------------\u001b[0m",
      "\u001b[1;31mNameError\u001b[0m                                 Traceback (most recent call last)",
      "Input \u001b[1;32mIn [86]\u001b[0m, in \u001b[0;36m<cell line: 1>\u001b[1;34m()\u001b[0m\n\u001b[1;32m----> 1\u001b[0m \u001b[43mx\u001b[49m\n",
      "\u001b[1;31mNameError\u001b[0m: name 'x' is not defined"
     ]
    }
   ],
   "source": [
    "x"
   ]
  },
  {
   "cell_type": "code",
   "execution_count": 87,
   "id": "6df69150",
   "metadata": {},
   "outputs": [],
   "source": [
    "# 초기에는 x에 무엇을 넣을지 모름\n",
    "x = None\n",
    "\n",
    "x = 10 * 20 + 30 # 계산의 결과로 x가 생성\n",
    "if x == 10: # 현재 x는 230이므로 아래 if 문 블록을 실행하지 않음\n",
    "    print(\"10 입니다\")"
   ]
  },
  {
   "cell_type": "code",
   "execution_count": 88,
   "id": "e6387906",
   "metadata": {},
   "outputs": [
    {
     "data": {
      "text/plain": [
       "20"
      ]
     },
     "execution_count": 88,
     "metadata": {},
     "output_type": "execute_result"
    }
   ],
   "source": [
    "a = 10\n",
    "a + 10"
   ]
  },
  {
   "cell_type": "code",
   "execution_count": 89,
   "id": "2267d58d",
   "metadata": {},
   "outputs": [
    {
     "data": {
      "text/plain": [
       "10"
      ]
     },
     "execution_count": 89,
     "metadata": {},
     "output_type": "execute_result"
    }
   ],
   "source": [
    "a"
   ]
  },
  {
   "cell_type": "code",
   "execution_count": 90,
   "id": "15d8d56d",
   "metadata": {},
   "outputs": [
    {
     "data": {
      "text/plain": [
       "20"
      ]
     },
     "execution_count": 90,
     "metadata": {},
     "output_type": "execute_result"
    }
   ],
   "source": [
    "# a에 결과를 할당하고 싶다면\n",
    "a = a + 10\n",
    "a"
   ]
  },
  {
   "cell_type": "code",
   "execution_count": 91,
   "id": "c9c0e19a",
   "metadata": {},
   "outputs": [
    {
     "data": {
      "text/plain": [
       "30"
      ]
     },
     "execution_count": 91,
     "metadata": {},
     "output_type": "execute_result"
    }
   ],
   "source": [
    "# a = a + 10 을 축약해서 표현\n",
    "a += 10  # a = a + 10 와 동일!!\n",
    "a"
   ]
  },
  {
   "cell_type": "code",
   "execution_count": 92,
   "id": "065e8685",
   "metadata": {},
   "outputs": [],
   "source": [
    "a -= 10 # a = a - 10\n",
    "a"
   ]
  },
  {
   "cell_type": "code",
   "execution_count": 94,
   "id": "f22d1996",
   "metadata": {},
   "outputs": [
    {
     "data": {
      "text/plain": [
       "200"
      ]
     },
     "execution_count": 94,
     "metadata": {},
     "output_type": "execute_result"
    }
   ],
   "source": [
    "a *= 10 # a = a * 10\n",
    "a"
   ]
  },
  {
   "cell_type": "code",
   "execution_count": 95,
   "id": "ff8c7484",
   "metadata": {},
   "outputs": [
    {
     "data": {
      "text/plain": [
       "20.0"
      ]
     },
     "execution_count": 95,
     "metadata": {},
     "output_type": "execute_result"
    }
   ],
   "source": [
    "a /= 10 # a = a / 10\n",
    "a"
   ]
  },
  {
   "cell_type": "code",
   "execution_count": 98,
   "id": "c0e478d4",
   "metadata": {},
   "outputs": [
    {
     "ename": "NameError",
     "evalue": "name 'dd' is not defined",
     "output_type": "error",
     "traceback": [
      "\u001b[1;31m---------------------------------------------------------------------------\u001b[0m",
      "\u001b[1;31mNameError\u001b[0m                                 Traceback (most recent call last)",
      "Input \u001b[1;32mIn [98]\u001b[0m, in \u001b[0;36m<cell line: 1>\u001b[1;34m()\u001b[0m\n\u001b[1;32m----> 1\u001b[0m dd \u001b[38;5;241m/\u001b[39m\u001b[38;5;241m=\u001b[39m \u001b[38;5;241m10\u001b[39m\n",
      "\u001b[1;31mNameError\u001b[0m: name 'dd' is not defined"
     ]
    }
   ],
   "source": [
    "dd /= 10 # dd = dd / 10"
   ]
  },
  {
   "cell_type": "markdown",
   "id": "97d808ce",
   "metadata": {},
   "source": [
    "# Workshop"
   ]
  },
  {
   "cell_type": "markdown",
   "id": "4d44cd89",
   "metadata": {},
   "source": [
    "**아파트에서 소음이 가장 심한 층수 출력하기**\n",
    "- 국립환경과학원에서는 아파트에서 소음이 가장 심한 층수를 구하는 계산식을 발표했습니다. 소음이 가장 심한 층은 0.2467 * 도로와의 거리(m) + 4.159입니다. 다음 소스 코드를 완성하여 소음이 가장 심한 층수가 출력되게 만드세요. 단, 층수를 출력할 때는 소수점 이하 자리는 버립니다(정수로 출력).\n",
    "- 도로와의 거리: 12m\n"
   ]
  },
  {
   "cell_type": "code",
   "execution_count": 101,
   "id": "fc97d066",
   "metadata": {},
   "outputs": [
    {
     "data": {
      "text/plain": [
       "7"
      ]
     },
     "execution_count": 101,
     "metadata": {},
     "output_type": "execute_result"
    }
   ],
   "source": [
    "int(0.2467 * 12 + 4.159)"
   ]
  },
  {
   "cell_type": "markdown",
   "id": "8e1e5e96",
   "metadata": {},
   "source": [
    "**근의 공식 구하기**\n",
    "- 근의 공식을 이용하여 x**2 + x - 2 = 0의 해를 구하라.\n",
    "- 수학 모듈 math 이용 (from math import sqrt)\n"
   ]
  },
  {
   "cell_type": "markdown",
   "id": "f0f20224",
   "metadata": {},
   "source": [
    "![alt text](formula.png)"
   ]
  },
  {
   "cell_type": "code",
   "execution_count": 105,
   "id": "45c9358b",
   "metadata": {},
   "outputs": [
    {
     "data": {
      "text/plain": [
       "(1.0, -2.0)"
      ]
     },
     "execution_count": 105,
     "metadata": {},
     "output_type": "execute_result"
    }
   ],
   "source": [
    "# 파이썬만 이용\n",
    "a = 1\n",
    "b = 1\n",
    "c = -2\n",
    "\n",
    "x1 = (-b + (b**2 - 4*a*c)**0.5)/(2*a)\n",
    "x2 = (-b - (b**2 - 4*a*c)**0.5)/(2*a)\n",
    "\n",
    "x1, x2"
   ]
  },
  {
   "cell_type": "code",
   "execution_count": 106,
   "id": "15e0b0c6",
   "metadata": {},
   "outputs": [
    {
     "data": {
      "text/plain": [
       "(1.0, -2.0)"
      ]
     },
     "execution_count": 106,
     "metadata": {},
     "output_type": "execute_result"
    }
   ],
   "source": [
    "# 수학 모듈 math 이용\n",
    "from math import sqrt\n",
    "\n",
    "a = 1\n",
    "b = 1\n",
    "c = -2\n",
    "\n",
    "x1 = (-b + sqrt(b**2 - 4*a*c))/(2*a)\n",
    "x2 = (-b - sqrt(b**2 - 4*a*c))/(2*a)\n",
    "\n",
    "x1, x2"
   ]
  },
  {
   "cell_type": "markdown",
   "id": "fa7d38cc",
   "metadata": {},
   "source": [
    "### 입력값을 변수에 저장하기"
   ]
  },
  {
   "cell_type": "code",
   "execution_count": 107,
   "id": "1860d3f9",
   "metadata": {},
   "outputs": [
    {
     "name": "stdout",
     "output_type": "stream",
     "text": [
      "aaaa\n"
     ]
    },
    {
     "data": {
      "text/plain": [
       "'aaaa'"
      ]
     },
     "execution_count": 107,
     "metadata": {},
     "output_type": "execute_result"
    }
   ],
   "source": [
    "# 사용자의 입력을 받는 함수\n",
    "input()"
   ]
  },
  {
   "cell_type": "code",
   "execution_count": 112,
   "id": "45f982da",
   "metadata": {},
   "outputs": [
    {
     "name": "stdout",
     "output_type": "stream",
     "text": [
      "hello world\n"
     ]
    }
   ],
   "source": [
    "a = input() # 사용자의 입력을 a에 할당"
   ]
  },
  {
   "cell_type": "code",
   "execution_count": 113,
   "id": "d444cf43",
   "metadata": {},
   "outputs": [
    {
     "data": {
      "text/plain": [
       "'hello world'"
      ]
     },
     "execution_count": 113,
     "metadata": {},
     "output_type": "execute_result"
    }
   ],
   "source": [
    "a # a라는 변수를 출력해 보니 결과가 문자열임을 알 수 있음"
   ]
  },
  {
   "cell_type": "code",
   "execution_count": 114,
   "id": "50435768",
   "metadata": {},
   "outputs": [
    {
     "name": "stdout",
     "output_type": "stream",
     "text": [
      "문자열을 입력하세요 : python\n"
     ]
    }
   ],
   "source": [
    "# input 함수에 프롬프트를 줄 수 있음\n",
    "b = input(\"문자열을 입력하세요 : \")"
   ]
  },
  {
   "cell_type": "code",
   "execution_count": 115,
   "id": "59dc4f13",
   "metadata": {},
   "outputs": [
    {
     "data": {
      "text/plain": [
       "'python'"
      ]
     },
     "execution_count": 115,
     "metadata": {},
     "output_type": "execute_result"
    }
   ],
   "source": [
    "b"
   ]
  },
  {
   "cell_type": "code",
   "execution_count": 118,
   "id": "2dd2f88e",
   "metadata": {},
   "outputs": [
    {
     "name": "stdout",
     "output_type": "stream",
     "text": [
      "숫자를 입력하세요 : 10\n",
      "숫자를 입력하세요 : 20\n"
     ]
    }
   ],
   "source": [
    "x = input(\"숫자를 입력하세요 : \")\n",
    "y = input(\"숫자를 입력하세요 : \")"
   ]
  },
  {
   "cell_type": "code",
   "execution_count": 119,
   "id": "c5f9c044",
   "metadata": {},
   "outputs": [
    {
     "data": {
      "text/plain": [
       "'1020'"
      ]
     },
     "execution_count": 119,
     "metadata": {},
     "output_type": "execute_result"
    }
   ],
   "source": [
    "x + y # x에 있는 '10' 과 y에 있는 '20' 이 문자열 상태로 연결"
   ]
  },
  {
   "cell_type": "code",
   "execution_count": 120,
   "id": "fa5fe236",
   "metadata": {},
   "outputs": [
    {
     "data": {
      "text/plain": [
       "30"
      ]
     },
     "execution_count": 120,
     "metadata": {},
     "output_type": "execute_result"
    }
   ],
   "source": [
    "int(x) + int(y) # 10 + 20 "
   ]
  },
  {
   "cell_type": "code",
   "execution_count": 121,
   "id": "3066a0b2",
   "metadata": {
    "scrolled": true
   },
   "outputs": [
    {
     "name": "stdout",
     "output_type": "stream",
     "text": [
      "숫자를 입력하세요 : 100\n",
      "숫자를 입력하세요 : 200\n"
     ]
    }
   ],
   "source": [
    "x = int(input(\"숫자를 입력하세요 : \")) # x는 정수로 바뀐 상태\n",
    "y = int(input(\"숫자를 입력하세요 : \")) # y는 정수로 바뀐 상태"
   ]
  },
  {
   "cell_type": "code",
   "execution_count": 123,
   "id": "eda131cc",
   "metadata": {},
   "outputs": [
    {
     "data": {
      "text/plain": [
       "300"
      ]
     },
     "execution_count": 123,
     "metadata": {},
     "output_type": "execute_result"
    }
   ],
   "source": [
    "x + y"
   ]
  },
  {
   "cell_type": "code",
   "execution_count": 124,
   "id": "ea824f10",
   "metadata": {},
   "outputs": [
    {
     "name": "stdout",
     "output_type": "stream",
     "text": [
      "문자열 두개를 입력하세요 :hello world\n"
     ]
    }
   ],
   "source": [
    "s = input(\"문자열 두개를 입력하세요 :\")"
   ]
  },
  {
   "cell_type": "code",
   "execution_count": 125,
   "id": "8262c8df",
   "metadata": {},
   "outputs": [
    {
     "data": {
      "text/plain": [
       "'hello world'"
      ]
     },
     "execution_count": 125,
     "metadata": {},
     "output_type": "execute_result"
    }
   ],
   "source": [
    "s"
   ]
  },
  {
   "cell_type": "code",
   "execution_count": 126,
   "id": "d33c9c9b",
   "metadata": {},
   "outputs": [
    {
     "data": {
      "text/plain": [
       "['hello', 'world']"
      ]
     },
     "execution_count": 126,
     "metadata": {},
     "output_type": "execute_result"
    }
   ],
   "source": [
    "s.split() # 문자열 객체에서 제공하는 split 함수를 사용하면 space(기본값)를 기준으로 각각의 문자열들을 리스트 형태로 반환"
   ]
  },
  {
   "cell_type": "code",
   "execution_count": 127,
   "id": "f533dbf7",
   "metadata": {},
   "outputs": [
    {
     "name": "stdout",
     "output_type": "stream",
     "text": [
      "문자열 두개를 입력하세요 :hello world\n"
     ]
    }
   ],
   "source": [
    "s1, s2 = input(\"문자열 두개를 입력하세요 :\").split()"
   ]
  },
  {
   "cell_type": "code",
   "execution_count": 128,
   "id": "1a42a86f",
   "metadata": {},
   "outputs": [
    {
     "data": {
      "text/plain": [
       "'hello'"
      ]
     },
     "execution_count": 128,
     "metadata": {},
     "output_type": "execute_result"
    }
   ],
   "source": [
    "s1"
   ]
  },
  {
   "cell_type": "code",
   "execution_count": 129,
   "id": "45e2c7d1",
   "metadata": {},
   "outputs": [
    {
     "data": {
      "text/plain": [
       "'world'"
      ]
     },
     "execution_count": 129,
     "metadata": {},
     "output_type": "execute_result"
    }
   ],
   "source": [
    "s2"
   ]
  },
  {
   "cell_type": "code",
   "execution_count": 130,
   "id": "dfbd18c5",
   "metadata": {},
   "outputs": [
    {
     "name": "stdout",
     "output_type": "stream",
     "text": [
      "문자열 '-'를 기준으로 두개를 입력하세요 :hello-world\n"
     ]
    }
   ],
   "source": [
    "s = input(\"문자열 '-'를 기준으로 두개를 입력하세요 :\")"
   ]
  },
  {
   "cell_type": "code",
   "execution_count": 131,
   "id": "41079eaa",
   "metadata": {},
   "outputs": [
    {
     "data": {
      "text/plain": [
       "'hello-world'"
      ]
     },
     "execution_count": 131,
     "metadata": {},
     "output_type": "execute_result"
    }
   ],
   "source": [
    "s"
   ]
  },
  {
   "cell_type": "code",
   "execution_count": 132,
   "id": "d7cf3c19",
   "metadata": {},
   "outputs": [
    {
     "data": {
      "text/plain": [
       "['hello', 'world']"
      ]
     },
     "execution_count": 132,
     "metadata": {},
     "output_type": "execute_result"
    }
   ],
   "source": [
    "s.split('-')"
   ]
  },
  {
   "cell_type": "code",
   "execution_count": 133,
   "id": "04172f74",
   "metadata": {
    "scrolled": true
   },
   "outputs": [
    {
     "name": "stdout",
     "output_type": "stream",
     "text": [
      "문자열 '-'를 기준으로 두개를 입력하세요 :hello-world\n"
     ]
    }
   ],
   "source": [
    "s1, s2 = input(\"문자열 '-'를 기준으로 두개를 입력하세요 :\").split('-')"
   ]
  },
  {
   "cell_type": "code",
   "execution_count": 134,
   "id": "548de95d",
   "metadata": {},
   "outputs": [
    {
     "data": {
      "text/plain": [
       "'hello'"
      ]
     },
     "execution_count": 134,
     "metadata": {},
     "output_type": "execute_result"
    }
   ],
   "source": [
    "s1"
   ]
  },
  {
   "cell_type": "code",
   "execution_count": 135,
   "id": "92e0bd99",
   "metadata": {},
   "outputs": [
    {
     "data": {
      "text/plain": [
       "'world'"
      ]
     },
     "execution_count": 135,
     "metadata": {},
     "output_type": "execute_result"
    }
   ],
   "source": [
    "s2"
   ]
  },
  {
   "cell_type": "code",
   "execution_count": 3,
   "id": "b219f45a",
   "metadata": {},
   "outputs": [
    {
     "name": "stdout",
     "output_type": "stream",
     "text": [
      "숫자 두개를 입력하세요10 20\n"
     ]
    }
   ],
   "source": [
    "l = input(\"숫자 두개를 입력하세요\").split()"
   ]
  },
  {
   "cell_type": "code",
   "execution_count": 4,
   "id": "a88316fa",
   "metadata": {},
   "outputs": [
    {
     "data": {
      "text/plain": [
       "['10', '20']"
      ]
     },
     "execution_count": 4,
     "metadata": {},
     "output_type": "execute_result"
    }
   ],
   "source": [
    "l"
   ]
  },
  {
   "cell_type": "code",
   "execution_count": 8,
   "id": "35fdd211",
   "metadata": {},
   "outputs": [],
   "source": [
    "# map(함수: 정수형 변환, 적용할 데이터)\n",
    "l1, l2 = map(int, l) #l이라는 리스트 안에 있는 모든 요소를 일괄적으로 int 형으로 변환"
   ]
  },
  {
   "cell_type": "code",
   "execution_count": 9,
   "id": "fecc9071",
   "metadata": {},
   "outputs": [
    {
     "data": {
      "text/plain": [
       "(10, 20)"
      ]
     },
     "execution_count": 9,
     "metadata": {},
     "output_type": "execute_result"
    }
   ],
   "source": [
    "l1, l2"
   ]
  },
  {
   "cell_type": "code",
   "execution_count": 10,
   "id": "b7ed9ee7",
   "metadata": {},
   "outputs": [
    {
     "name": "stdout",
     "output_type": "stream",
     "text": [
      "숫자 두개를 입력하세요10 20\n"
     ]
    }
   ],
   "source": [
    "# 입력과 형변환을 한꺼번에\n",
    "ㅣ1, ㅣ2 = map(int, input(\"숫자 두개를 입력하세요\").split())"
   ]
  },
  {
   "cell_type": "code",
   "execution_count": 11,
   "id": "a8d3b979",
   "metadata": {},
   "outputs": [
    {
     "data": {
      "text/plain": [
       "(10, 20)"
      ]
     },
     "execution_count": 11,
     "metadata": {},
     "output_type": "execute_result"
    }
   ],
   "source": [
    "l1, l2"
   ]
  },
  {
   "cell_type": "code",
   "execution_count": 12,
   "id": "ca580d71",
   "metadata": {},
   "outputs": [
    {
     "name": "stdout",
     "output_type": "stream",
     "text": [
      "세개의 정수를 입력하시오12 12 12\n",
      "36\n"
     ]
    }
   ],
   "source": []
  },
  {
   "cell_type": "code",
   "execution_count": null,
   "id": "d81910f8",
   "metadata": {},
   "outputs": [],
   "source": []
  }
 ],
 "metadata": {
  "kernelspec": {
   "display_name": "Python 3 (ipykernel)",
   "language": "python",
   "name": "python3"
  },
  "language_info": {
   "codemirror_mode": {
    "name": "ipython",
    "version": 3
   },
   "file_extension": ".py",
   "mimetype": "text/x-python",
   "name": "python",
   "nbconvert_exporter": "python",
   "pygments_lexer": "ipython3",
   "version": "3.9.12"
  }
 },
 "nbformat": 4,
 "nbformat_minor": 5
}
