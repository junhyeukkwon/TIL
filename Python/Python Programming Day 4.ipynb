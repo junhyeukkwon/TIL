{
 "cells": [
  {
   "cell_type": "markdown",
   "id": "69b7d42f",
   "metadata": {},
   "source": [
    "### 리스트 응용하기"
   ]
  },
  {
   "cell_type": "markdown",
   "id": "8fbd1376",
   "metadata": {},
   "source": [
    "- append : 요소 하나를 추가\n",
    "- extend : 리스트를 연결하여 확장\n",
    "- insert : 특정 인덱스에 요소 추가"
   ]
  },
  {
   "cell_type": "code",
   "execution_count": 5,
   "id": "dfbd949c",
   "metadata": {},
   "outputs": [
    {
     "data": {
      "text/plain": [
       "[10, 20, 30, 500]"
      ]
     },
     "execution_count": 5,
     "metadata": {},
     "output_type": "execute_result"
    }
   ],
   "source": [
    "a = [10, 20, 30]\n",
    "a.append(500)\n",
    "a"
   ]
  },
  {
   "cell_type": "code",
   "execution_count": 7,
   "id": "f8fe18af",
   "metadata": {},
   "outputs": [
    {
     "data": {
      "text/plain": [
       "[10]"
      ]
     },
     "execution_count": 7,
     "metadata": {},
     "output_type": "execute_result"
    }
   ],
   "source": [
    "a = []\n",
    "a.append(10)\n",
    "a"
   ]
  },
  {
   "cell_type": "code",
   "execution_count": 8,
   "id": "76c12980",
   "metadata": {},
   "outputs": [
    {
     "data": {
      "text/plain": [
       "[10, 20, 30, 40, 50, 60]"
      ]
     },
     "execution_count": 8,
     "metadata": {},
     "output_type": "execute_result"
    }
   ],
   "source": [
    "a = [10, 20, 30]\n",
    "b = [40, 50, 60]\n",
    "a.extend(b)\n",
    "a"
   ]
  },
  {
   "cell_type": "code",
   "execution_count": 9,
   "id": "ddfb25d2",
   "metadata": {},
   "outputs": [
    {
     "data": {
      "text/plain": [
       "[10, 20, 30, 40, 50, 60]"
      ]
     },
     "execution_count": 9,
     "metadata": {},
     "output_type": "execute_result"
    }
   ],
   "source": [
    "# 참고 (extend와 다르게 새로운 객체가 생성됨)\n",
    "a = [10, 20, 30]\n",
    "b = [40, 50, 60]\n",
    "\n",
    "a + b"
   ]
  },
  {
   "cell_type": "code",
   "execution_count": 12,
   "id": "0fd3fbbe",
   "metadata": {},
   "outputs": [
    {
     "data": {
      "text/plain": [
       "[10, 20, 30]"
      ]
     },
     "execution_count": 12,
     "metadata": {},
     "output_type": "execute_result"
    }
   ],
   "source": [
    "a"
   ]
  },
  {
   "cell_type": "code",
   "execution_count": 13,
   "id": "139336f8",
   "metadata": {},
   "outputs": [
    {
     "data": {
      "text/plain": [
       "[10, 100, 20, 30]"
      ]
     },
     "execution_count": 13,
     "metadata": {},
     "output_type": "execute_result"
    }
   ],
   "source": [
    "a.insert(1, 100)\n",
    "a"
   ]
  },
  {
   "cell_type": "markdown",
   "id": "5e2a375e",
   "metadata": {},
   "source": [
    "- insert(0, 요소): 리스트의 맨 처음에 요소를 추가\n",
    "- insert(len(리스트), 요소):리스트의 끝에 요소를 추가"
   ]
  },
  {
   "cell_type": "code",
   "execution_count": 14,
   "id": "be0dd7b3",
   "metadata": {},
   "outputs": [
    {
     "data": {
      "text/plain": [
       "[100, 10, 20, 30]"
      ]
     },
     "execution_count": 14,
     "metadata": {},
     "output_type": "execute_result"
    }
   ],
   "source": [
    "a = [10, 20, 30]\n",
    "a.insert(0, 100)\n",
    "a"
   ]
  },
  {
   "cell_type": "code",
   "execution_count": 15,
   "id": "98de9edc",
   "metadata": {},
   "outputs": [
    {
     "data": {
      "text/plain": [
       "3"
      ]
     },
     "execution_count": 15,
     "metadata": {},
     "output_type": "execute_result"
    }
   ],
   "source": [
    "a = [10, 20, 30]\n",
    "len(a)"
   ]
  },
  {
   "cell_type": "code",
   "execution_count": 16,
   "id": "afcb6af6",
   "metadata": {},
   "outputs": [
    {
     "data": {
      "text/plain": [
       "[10, 20, 30, 100]"
      ]
     },
     "execution_count": 16,
     "metadata": {},
     "output_type": "execute_result"
    }
   ],
   "source": [
    "a.insert(len(a), 100) # a.append(100)\n",
    "a"
   ]
  },
  {
   "cell_type": "markdown",
   "id": "d3c37207",
   "metadata": {},
   "source": [
    "- pop : 마지막 요소 또는 특정 인덱스의 요소를 삭제\n",
    "- remove : 특정 값을 찾아서 삭제"
   ]
  },
  {
   "cell_type": "code",
   "execution_count": 18,
   "id": "2a399534",
   "metadata": {},
   "outputs": [
    {
     "data": {
      "text/plain": [
       "30"
      ]
     },
     "execution_count": 18,
     "metadata": {},
     "output_type": "execute_result"
    }
   ],
   "source": [
    "a = [10, 20, 30]\n",
    "x = a.pop() # 마지막 인덱스 요소를 삭제함과 동시에 그 요소를 리턴\n",
    "x"
   ]
  },
  {
   "cell_type": "code",
   "execution_count": 19,
   "id": "886b9ef1",
   "metadata": {},
   "outputs": [
    {
     "data": {
      "text/plain": [
       "[10, 20]"
      ]
     },
     "execution_count": 19,
     "metadata": {},
     "output_type": "execute_result"
    }
   ],
   "source": [
    "a"
   ]
  },
  {
   "cell_type": "code",
   "execution_count": 20,
   "id": "5459bcb1",
   "metadata": {},
   "outputs": [
    {
     "data": {
      "text/plain": [
       "[10, 30]"
      ]
     },
     "execution_count": 20,
     "metadata": {},
     "output_type": "execute_result"
    }
   ],
   "source": [
    "a = [10, 20, 30]\n",
    "a.pop(1)\n",
    "a"
   ]
  },
  {
   "cell_type": "code",
   "execution_count": 21,
   "id": "d8876931",
   "metadata": {},
   "outputs": [
    {
     "data": {
      "text/plain": [
       "[10, 20]"
      ]
     },
     "execution_count": 21,
     "metadata": {},
     "output_type": "execute_result"
    }
   ],
   "source": [
    "a = [10, 20, 30]\n",
    "a.remove(30)\n",
    "a"
   ]
  },
  {
   "cell_type": "markdown",
   "id": "f3e9e3d4",
   "metadata": {},
   "source": [
    "- index(값) : 리스트에서 특정 값의 인덱스를 구함\n",
    "- count(값) : 리스트에서 특정 값의 개수를 구함"
   ]
  },
  {
   "cell_type": "code",
   "execution_count": 22,
   "id": "e57cc2fb",
   "metadata": {},
   "outputs": [
    {
     "data": {
      "text/plain": [
       "1"
      ]
     },
     "execution_count": 22,
     "metadata": {},
     "output_type": "execute_result"
    }
   ],
   "source": [
    "a = [10, 20, 30]\n",
    "a.index(20)"
   ]
  },
  {
   "cell_type": "code",
   "execution_count": 23,
   "id": "f0082cc1",
   "metadata": {},
   "outputs": [
    {
     "data": {
      "text/plain": [
       "2"
      ]
     },
     "execution_count": 23,
     "metadata": {},
     "output_type": "execute_result"
    }
   ],
   "source": [
    "a = [10, 20, 20, 30]\n",
    "a.count(20)"
   ]
  },
  {
   "cell_type": "markdown",
   "id": "488bf2d2",
   "metadata": {},
   "source": [
    "- reverse() : 리스트에서 요소의 순서를 반대로 뒤집음\n",
    "- sort() : 리스트의 요소를 정렬함(오름차순 기본값)\n",
    "- clear() : 리스트의 모든 요소를 삭제함"
   ]
  },
  {
   "cell_type": "code",
   "execution_count": 25,
   "id": "accbcac4",
   "metadata": {},
   "outputs": [
    {
     "data": {
      "text/plain": [
       "[30, 20, 10]"
      ]
     },
     "execution_count": 25,
     "metadata": {},
     "output_type": "execute_result"
    }
   ],
   "source": [
    "a = [10, 20, 30]\n",
    "a.reverse()\n",
    "a"
   ]
  },
  {
   "cell_type": "code",
   "execution_count": null,
   "id": "d4079f5e",
   "metadata": {},
   "outputs": [],
   "source": [
    "# 함수 도움말 보는 단축키 (Shift + Tab)"
   ]
  },
  {
   "cell_type": "code",
   "execution_count": 27,
   "id": "a60cca22",
   "metadata": {},
   "outputs": [
    {
     "data": {
      "text/plain": [
       "[1, 9, 20, 30, 50, 100]"
      ]
     },
     "execution_count": 27,
     "metadata": {},
     "output_type": "execute_result"
    }
   ],
   "source": [
    "a = [100, 20, 30, 50, 1, 9]\n",
    "a.sort() \n",
    "a"
   ]
  },
  {
   "cell_type": "code",
   "execution_count": 28,
   "id": "eefea582",
   "metadata": {},
   "outputs": [
    {
     "data": {
      "text/plain": [
       "[100, 50, 30, 20, 9, 1]"
      ]
     },
     "execution_count": 28,
     "metadata": {},
     "output_type": "execute_result"
    }
   ],
   "source": [
    "a.sort(reverse=True)\n",
    "a"
   ]
  },
  {
   "cell_type": "code",
   "execution_count": 29,
   "id": "f279150d",
   "metadata": {},
   "outputs": [
    {
     "data": {
      "text/plain": [
       "[]"
      ]
     },
     "execution_count": 29,
     "metadata": {},
     "output_type": "execute_result"
    }
   ],
   "source": [
    "a.clear()\n",
    "a"
   ]
  },
  {
   "cell_type": "markdown",
   "id": "6482dd53",
   "metadata": {},
   "source": [
    "### 리스트의 할당(=)과 복사(copy)"
   ]
  },
  {
   "cell_type": "code",
   "execution_count": 30,
   "id": "243aa512",
   "metadata": {},
   "outputs": [],
   "source": [
    "a = [0, 0, 0, 0]\n",
    "b = a"
   ]
  },
  {
   "cell_type": "code",
   "execution_count": 31,
   "id": "4ef0bb9e",
   "metadata": {},
   "outputs": [
    {
     "data": {
      "text/plain": [
       "True"
      ]
     },
     "execution_count": 31,
     "metadata": {},
     "output_type": "execute_result"
    }
   ],
   "source": [
    "a is b"
   ]
  },
  {
   "cell_type": "code",
   "execution_count": 32,
   "id": "72d41cd2",
   "metadata": {},
   "outputs": [],
   "source": [
    "b[1] = 1\n",
    "a"
   ]
  },
  {
   "cell_type": "code",
   "execution_count": 34,
   "id": "9e13ad91",
   "metadata": {},
   "outputs": [],
   "source": [
    "a = [0, 0, 0, 0]\n",
    "b = a.copy()"
   ]
  },
  {
   "cell_type": "code",
   "execution_count": 35,
   "id": "7cd4bd5e",
   "metadata": {},
   "outputs": [
    {
     "data": {
      "text/plain": [
       "False"
      ]
     },
     "execution_count": 35,
     "metadata": {},
     "output_type": "execute_result"
    }
   ],
   "source": [
    "a is b"
   ]
  },
  {
   "cell_type": "code",
   "execution_count": 36,
   "id": "49fdc723",
   "metadata": {},
   "outputs": [
    {
     "data": {
      "text/plain": [
       "[0, 0, 0, 0]"
      ]
     },
     "execution_count": 36,
     "metadata": {},
     "output_type": "execute_result"
    }
   ],
   "source": [
    "b[1] = 1\n",
    "a"
   ]
  },
  {
   "cell_type": "markdown",
   "id": "2de9e990",
   "metadata": {},
   "source": [
    "### 반복문으로 리스트 요소 출력하기"
   ]
  },
  {
   "cell_type": "markdown",
   "id": "ec6ab40a",
   "metadata": {},
   "source": [
    "- for 요소 in 리스트:"
   ]
  },
  {
   "cell_type": "code",
   "execution_count": 38,
   "id": "0a5eb583",
   "metadata": {},
   "outputs": [
    {
     "name": "stdout",
     "output_type": "stream",
     "text": [
      "10\n",
      "20\n",
      "30\n"
     ]
    }
   ],
   "source": [
    "a = [10, 20, 30]\n",
    "\n",
    "for v in a:\n",
    "    print(v)"
   ]
  },
  {
   "cell_type": "markdown",
   "id": "b4750522",
   "metadata": {},
   "source": [
    "- for 인덱스, 요소 in enumerate(리스트):"
   ]
  },
  {
   "cell_type": "code",
   "execution_count": 39,
   "id": "4b130c84",
   "metadata": {},
   "outputs": [
    {
     "name": "stdout",
     "output_type": "stream",
     "text": [
      "0 10\n",
      "1 20\n",
      "2 30\n"
     ]
    }
   ],
   "source": [
    "a = [10, 20, 30]\n",
    "\n",
    "for i, v in enumerate(a):\n",
    "    print(i, v)"
   ]
  },
  {
   "cell_type": "markdown",
   "id": "fb20934e",
   "metadata": {},
   "source": [
    "- for 인덱스, 요소 in enumerate(리스트, start=숫자):"
   ]
  },
  {
   "cell_type": "code",
   "execution_count": 40,
   "id": "60696c06",
   "metadata": {},
   "outputs": [
    {
     "name": "stdout",
     "output_type": "stream",
     "text": [
      "1 10\n",
      "2 20\n",
      "3 30\n"
     ]
    }
   ],
   "source": [
    "a = [10, 20, 30]\n",
    "\n",
    "for i, v in enumerate(a, start=1):\n",
    "    print(i, v)"
   ]
  },
  {
   "cell_type": "markdown",
   "id": "77d3f5bb",
   "metadata": {},
   "source": [
    "### 리스트의 가장 작은수, 가장 큰수, 합계"
   ]
  },
  {
   "cell_type": "code",
   "execution_count": 41,
   "id": "dc492562",
   "metadata": {},
   "outputs": [],
   "source": [
    "a = [10, 20, 30]"
   ]
  },
  {
   "cell_type": "code",
   "execution_count": 42,
   "id": "dc042b86",
   "metadata": {},
   "outputs": [
    {
     "data": {
      "text/plain": [
       "10"
      ]
     },
     "execution_count": 42,
     "metadata": {},
     "output_type": "execute_result"
    }
   ],
   "source": [
    "min(a)"
   ]
  },
  {
   "cell_type": "code",
   "execution_count": 43,
   "id": "bb075914",
   "metadata": {},
   "outputs": [
    {
     "data": {
      "text/plain": [
       "30"
      ]
     },
     "execution_count": 43,
     "metadata": {},
     "output_type": "execute_result"
    }
   ],
   "source": [
    "max(a)"
   ]
  },
  {
   "cell_type": "code",
   "execution_count": 44,
   "id": "ae4c9d1f",
   "metadata": {},
   "outputs": [
    {
     "data": {
      "text/plain": [
       "60"
      ]
     },
     "execution_count": 44,
     "metadata": {},
     "output_type": "execute_result"
    }
   ],
   "source": [
    "sum(a)"
   ]
  },
  {
   "cell_type": "markdown",
   "id": "8068c50a",
   "metadata": {},
   "source": [
    "### 리스트 표현식 사용하기"
   ]
  },
  {
   "cell_type": "markdown",
   "id": "4eef07e3",
   "metadata": {},
   "source": [
    "- [식 for 변수 in 리스트]\n",
    "- list(식 for 변수 in 리스트)"
   ]
  },
  {
   "attachments": {
    "image.png": {
     "image/png": "[encoded data removed]"
    }
   },
   "cell_type": "markdown",
   "id": "65fcb6a6",
   "metadata": {},
   "source": [
    "![image.png](attachment:image.png)"
   ]
  },
  {
   "cell_type": "code",
   "execution_count": 48,
   "id": "0fbf27da",
   "metadata": {},
   "outputs": [
    {
     "data": {
      "text/plain": [
       "[0, 1, 2, 3, 4, 5, 6, 7, 8, 9]"
      ]
     },
     "execution_count": 48,
     "metadata": {},
     "output_type": "execute_result"
    }
   ],
   "source": [
    "l = []\n",
    "for i in range(10):\n",
    "    l.append(i)\n",
    "l    "
   ]
  },
  {
   "cell_type": "code",
   "execution_count": 53,
   "id": "17bdf52c",
   "metadata": {},
   "outputs": [
    {
     "data": {
      "text/plain": [
       "[0.0, 1.0, 2.0, 3.0, 4.0, 5.0, 6.0, 7.0, 8.0, 9.0]"
      ]
     },
     "execution_count": 53,
     "metadata": {},
     "output_type": "execute_result"
    }
   ],
   "source": [
    "[float(i) for i in range(10)]"
   ]
  },
  {
   "cell_type": "code",
   "execution_count": 63,
   "id": "37bd4719",
   "metadata": {},
   "outputs": [],
   "source": [
    "words = [\"news\", \"paragraphs\", \"classroom\"]"
   ]
  },
  {
   "cell_type": "code",
   "execution_count": 64,
   "id": "d93883a6",
   "metadata": {},
   "outputs": [
    {
     "data": {
      "text/plain": [
       "[4, 10, 9]"
      ]
     },
     "execution_count": 64,
     "metadata": {},
     "output_type": "execute_result"
    }
   ],
   "source": [
    "[len(word) for word in words]"
   ]
  },
  {
   "cell_type": "code",
   "execution_count": 62,
   "id": "d1910dd8",
   "metadata": {},
   "outputs": [
    {
     "data": {
      "text/plain": [
       "[4, 10, 9]"
      ]
     },
     "execution_count": 62,
     "metadata": {},
     "output_type": "execute_result"
    }
   ],
   "source": [
    "l = []\n",
    "for word in words:\n",
    "    l.append(len(word))\n",
    "l    "
   ]
  },
  {
   "cell_type": "markdown",
   "id": "3f3b449e",
   "metadata": {},
   "source": [
    "- [식 for 변수 in 리스트 if 조건식]\n",
    "- list(식 for 변수 in 리스트 if 조건식)"
   ]
  },
  {
   "attachments": {
    "image.png": {
     "image/png": "[encoded data removed]"
    }
   },
   "cell_type": "markdown",
   "id": "4797f925",
   "metadata": {},
   "source": [
    "![image.png](attachment:image.png)"
   ]
  },
  {
   "cell_type": "code",
   "execution_count": 65,
   "id": "9c725154",
   "metadata": {},
   "outputs": [
    {
     "data": {
      "text/plain": [
       "[0, 2, 4, 6, 8]"
      ]
     },
     "execution_count": 65,
     "metadata": {},
     "output_type": "execute_result"
    }
   ],
   "source": [
    "l = []\n",
    "for i in range(10):\n",
    "    if i % 2 == 0:\n",
    "        l.append(i)\n",
    "l        "
   ]
  },
  {
   "cell_type": "code",
   "execution_count": 66,
   "id": "767032e0",
   "metadata": {},
   "outputs": [
    {
     "data": {
      "text/plain": [
       "[0, 2, 4, 6, 8]"
      ]
     },
     "execution_count": 66,
     "metadata": {},
     "output_type": "execute_result"
    }
   ],
   "source": [
    "[i for i in range(10) if i % 2 == 0]"
   ]
  },
  {
   "cell_type": "markdown",
   "id": "3bab703b",
   "metadata": {},
   "source": [
    "### Workshop"
   ]
  },
  {
   "cell_type": "markdown",
   "id": "d21ef669",
   "metadata": {},
   "source": [
    "**리스트에서 특정 요소만 뽑아내기**\n",
    "- 다음 소스 코드를 완성하여 리스트 a에 들어있는 문자열 중에서 길이가 5인 것들만 리스트 형태로 출력되게 만드세요(리스트 표현식 사용)."
   ]
  },
  {
   "cell_type": "code",
   "execution_count": 68,
   "id": "67f84288",
   "metadata": {},
   "outputs": [],
   "source": [
    "a = ['alpha', 'bravo', 'charlie', 'delta', 'echo', 'foxtrot', 'golf', 'hotel', 'india']"
   ]
  },
  {
   "cell_type": "code",
   "execution_count": 69,
   "id": "006062b5",
   "metadata": {},
   "outputs": [
    {
     "name": "stdout",
     "output_type": "stream",
     "text": [
      "['alpha', 'bravo', 'delta', 'hotel', 'india']\n"
     ]
    }
   ],
   "source": [
    "# 리스트 표현식 이용\n",
    "b = [word for word in a if len(word) == 5]\n",
    "print(b)"
   ]
  },
  {
   "cell_type": "code",
   "execution_count": 73,
   "id": "d297319c",
   "metadata": {},
   "outputs": [
    {
     "name": "stdout",
     "output_type": "stream",
     "text": [
      "['alpha', 'bravo', 'delta', 'hotel', 'india']\n"
     ]
    }
   ],
   "source": [
    "# 반복문과 리스트 append 이용\n",
    "b= []\n",
    "for i in range(len(a)):\n",
    "    if len(a[i]) == 5:\n",
    "        b.append(a[i])\n",
    "print(b)"
   ]
  },
  {
   "cell_type": "markdown",
   "id": "cafda2cb",
   "metadata": {},
   "source": [
    "### 리스트에 map 사용하기"
   ]
  },
  {
   "cell_type": "markdown",
   "id": "68f786a8",
   "metadata": {},
   "source": [
    "- list(map(함수, 리스트))"
   ]
  },
  {
   "cell_type": "code",
   "execution_count": 75,
   "id": "377a70bc",
   "metadata": {},
   "outputs": [
    {
     "data": {
      "text/plain": [
       "[1, 2, 3, 4]"
      ]
     },
     "execution_count": 75,
     "metadata": {},
     "output_type": "execute_result"
    }
   ],
   "source": [
    "a = [1.2, 2.5, 3.7, 4.6]\n",
    "for i in range(len(a)):\n",
    "    a[i] = int(a[i])\n",
    "a    "
   ]
  },
  {
   "cell_type": "code",
   "execution_count": 77,
   "id": "9ed1875e",
   "metadata": {},
   "outputs": [
    {
     "data": {
      "text/plain": [
       "[1, 2, 3, 4]"
      ]
     },
     "execution_count": 77,
     "metadata": {},
     "output_type": "execute_result"
    }
   ],
   "source": [
    "a = [1.2, 2.5, 3.7, 4.6]\n",
    "a = list(map(int, a))\n",
    "a"
   ]
  },
  {
   "cell_type": "markdown",
   "id": "a5ecc7ad",
   "metadata": {},
   "source": [
    "### 튜플 응용하기"
   ]
  },
  {
   "cell_type": "markdown",
   "id": "f9a7a887",
   "metadata": {},
   "source": [
    "- index(값) : 특정값의 인덱스 구하기"
   ]
  },
  {
   "cell_type": "code",
   "execution_count": 83,
   "id": "763111d4",
   "metadata": {},
   "outputs": [],
   "source": [
    "a = (10, 20, 30, 30, 40)"
   ]
  },
  {
   "cell_type": "code",
   "execution_count": 84,
   "id": "ade41295",
   "metadata": {},
   "outputs": [
    {
     "data": {
      "text/plain": [
       "2"
      ]
     },
     "execution_count": 84,
     "metadata": {},
     "output_type": "execute_result"
    }
   ],
   "source": [
    "a.index(30)"
   ]
  },
  {
   "cell_type": "markdown",
   "id": "03fa0a09",
   "metadata": {},
   "source": [
    "- count(값) : 특정값의 개수 구하기"
   ]
  },
  {
   "cell_type": "code",
   "execution_count": 85,
   "id": "bc16d42c",
   "metadata": {},
   "outputs": [
    {
     "data": {
      "text/plain": [
       "2"
      ]
     },
     "execution_count": 85,
     "metadata": {},
     "output_type": "execute_result"
    }
   ],
   "source": [
    "a.count(30)"
   ]
  },
  {
   "cell_type": "markdown",
   "id": "55706e44",
   "metadata": {},
   "source": [
    "### 문자열 응용하기"
   ]
  },
  {
   "cell_type": "markdown",
   "id": "a4ce5623",
   "metadata": {},
   "source": [
    "- replace('바꿀문자열', '새문자열') : 문자열 바꾸기"
   ]
  },
  {
   "cell_type": "code",
   "execution_count": 88,
   "id": "a10d0342",
   "metadata": {},
   "outputs": [
    {
     "data": {
      "text/plain": [
       "'Hello, Python'"
      ]
     },
     "execution_count": 88,
     "metadata": {},
     "output_type": "execute_result"
    }
   ],
   "source": [
    "s = \"Hello, World!\"\n",
    "s = s.replace('World!', 'Python')\n",
    "s"
   ]
  },
  {
   "cell_type": "markdown",
   "id": "a1d63ef6",
   "metadata": {},
   "source": [
    "- split('기준문자열') : 문자열 분리하기"
   ]
  },
  {
   "cell_type": "code",
   "execution_count": 90,
   "id": "873c7b9b",
   "metadata": {},
   "outputs": [
    {
     "data": {
      "text/plain": [
       "['apple', 'pear', 'grape', 'pineapple', 'orange']"
      ]
     },
     "execution_count": 90,
     "metadata": {},
     "output_type": "execute_result"
    }
   ],
   "source": [
    "s = 'apple pear grape pineapple orange'\n",
    "s = s.split()\n",
    "s"
   ]
  },
  {
   "cell_type": "code",
   "execution_count": 91,
   "id": "6a2fcf1e",
   "metadata": {},
   "outputs": [
    {
     "data": {
      "text/plain": [
       "['apple', 'pear', 'grape', 'pineapple', 'orange']"
      ]
     },
     "execution_count": 91,
     "metadata": {},
     "output_type": "execute_result"
    }
   ],
   "source": [
    "s = 'apple,pear,grape,pineapple,orange'\n",
    "s = s.split(',')\n",
    "s"
   ]
  },
  {
   "cell_type": "markdown",
   "id": "9cfd753b",
   "metadata": {},
   "source": [
    "- 구분자.join(리스트) : 구분자 문자열과 문자열 리스트의 요소를 연결하여 문자열로 만듬"
   ]
  },
  {
   "cell_type": "code",
   "execution_count": 92,
   "id": "e31f292d",
   "metadata": {},
   "outputs": [
    {
     "data": {
      "text/plain": [
       "'apple--pear--grape--pineapple--orange'"
      ]
     },
     "execution_count": 92,
     "metadata": {},
     "output_type": "execute_result"
    }
   ],
   "source": [
    "'--'.join(s)"
   ]
  },
  {
   "cell_type": "markdown",
   "id": "cf40ecf1",
   "metadata": {},
   "source": [
    "- upper() : 대문자로 바꿈\n",
    "- lower() : 소문자로 바꿈\n",
    "- lstrip() : 문자열에서 왼쪽에 있는 연속된 모든 공백을 삭제\n",
    "- rstrip() : 문자열에서 오른쪽에 있는 연속된 모든 공백을 삭제\n",
    "- strip() : 문자열에서 양쪽에 있는 연속된 모든 공백을 삭제"
   ]
  },
  {
   "cell_type": "code",
   "execution_count": 93,
   "id": "8fa79b55",
   "metadata": {},
   "outputs": [
    {
     "data": {
      "text/plain": [
       "'PYTHON'"
      ]
     },
     "execution_count": 93,
     "metadata": {},
     "output_type": "execute_result"
    }
   ],
   "source": [
    "'python'.upper()"
   ]
  },
  {
   "cell_type": "code",
   "execution_count": 94,
   "id": "3b2f3cde",
   "metadata": {},
   "outputs": [
    {
     "data": {
      "text/plain": [
       "'python'"
      ]
     },
     "execution_count": 94,
     "metadata": {},
     "output_type": "execute_result"
    }
   ],
   "source": [
    "'PYTHON'.lower()"
   ]
  },
  {
   "cell_type": "code",
   "execution_count": 95,
   "id": "37d8b020",
   "metadata": {},
   "outputs": [
    {
     "data": {
      "text/plain": [
       "'Python    '"
      ]
     },
     "execution_count": 95,
     "metadata": {},
     "output_type": "execute_result"
    }
   ],
   "source": [
    "'     Python    '.lstrip()"
   ]
  },
  {
   "cell_type": "code",
   "execution_count": 96,
   "id": "6e0c5821",
   "metadata": {},
   "outputs": [
    {
     "data": {
      "text/plain": [
       "'     Python'"
      ]
     },
     "execution_count": 96,
     "metadata": {},
     "output_type": "execute_result"
    }
   ],
   "source": [
    "'     Python    '.rstrip()"
   ]
  },
  {
   "cell_type": "code",
   "execution_count": 97,
   "id": "5485e564",
   "metadata": {},
   "outputs": [
    {
     "data": {
      "text/plain": [
       "'Python'"
      ]
     },
     "execution_count": 97,
     "metadata": {},
     "output_type": "execute_result"
    }
   ],
   "source": [
    "'     Python    '.strip()"
   ]
  },
  {
   "cell_type": "code",
   "execution_count": 98,
   "id": "c5dd5d1c",
   "metadata": {},
   "outputs": [
    {
     "data": {
      "text/plain": [
       "'python'"
      ]
     },
     "execution_count": 98,
     "metadata": {},
     "output_type": "execute_result"
    }
   ],
   "source": [
    "',python.'.strip(',.')"
   ]
  },
  {
   "cell_type": "code",
   "execution_count": 99,
   "id": "71a24242",
   "metadata": {},
   "outputs": [
    {
     "data": {
      "text/plain": [
       "'   python  '"
      ]
     },
     "execution_count": 99,
     "metadata": {},
     "output_type": "execute_result"
    }
   ],
   "source": [
    "'python'.center(11)"
   ]
  },
  {
   "cell_type": "code",
   "execution_count": 102,
   "id": "855ef1cb",
   "metadata": {},
   "outputs": [
    {
     "data": {
      "text/plain": [
       "'python'"
      ]
     },
     "execution_count": 102,
     "metadata": {},
     "output_type": "execute_result"
    }
   ],
   "source": [
    "'......python.'.strip('.')\n"
   ]
  },
  {
   "cell_type": "markdown",
   "id": "bb275e08",
   "metadata": {},
   "source": [
    "- find('찾을문자열') : 문자열에서 특정 문자열을 찾아서 인덱스를 반환하고, 없으면 -1 반환\n",
    "- index('찾을문자열') : 문자열에서 특정 문자열을 찾아서 인덱스를 반환하고, 없으면 에러 발생"
   ]
  },
  {
   "cell_type": "code",
   "execution_count": 104,
   "id": "9ad357d2",
   "metadata": {},
   "outputs": [
    {
     "data": {
      "text/plain": [
       "2"
      ]
     },
     "execution_count": 104,
     "metadata": {},
     "output_type": "execute_result"
    }
   ],
   "source": [
    "s = 'apple pear grape pineapple orange'\n",
    "s.find('pl')"
   ]
  },
  {
   "cell_type": "code",
   "execution_count": 105,
   "id": "41b82f59",
   "metadata": {},
   "outputs": [
    {
     "data": {
      "text/plain": [
       "23"
      ]
     },
     "execution_count": 105,
     "metadata": {},
     "output_type": "execute_result"
    }
   ],
   "source": [
    "s.rfind('pl')"
   ]
  },
  {
   "cell_type": "code",
   "execution_count": 107,
   "id": "c351e2fd",
   "metadata": {},
   "outputs": [
    {
     "data": {
      "text/plain": [
       "-1"
      ]
     },
     "execution_count": 107,
     "metadata": {},
     "output_type": "execute_result"
    }
   ],
   "source": [
    "s.find('ppp')"
   ]
  },
  {
   "cell_type": "code",
   "execution_count": 106,
   "id": "c1c835be",
   "metadata": {},
   "outputs": [
    {
     "data": {
      "text/plain": [
       "2"
      ]
     },
     "execution_count": 106,
     "metadata": {},
     "output_type": "execute_result"
    }
   ],
   "source": [
    "s.index('pl')"
   ]
  },
  {
   "cell_type": "code",
   "execution_count": 108,
   "id": "fe8cc826",
   "metadata": {},
   "outputs": [
    {
     "ename": "ValueError",
     "evalue": "substring not found",
     "output_type": "error",
     "traceback": [
      "\u001b[1;31m---------------------------------------------------------------------------\u001b[0m",
      "\u001b[1;31mValueError\u001b[0m                                Traceback (most recent call last)",
      "Input \u001b[1;32mIn [108]\u001b[0m, in \u001b[0;36m<cell line: 1>\u001b[1;34m()\u001b[0m\n\u001b[1;32m----> 1\u001b[0m \u001b[43ms\u001b[49m\u001b[38;5;241;43m.\u001b[39;49m\u001b[43mindex\u001b[49m\u001b[43m(\u001b[49m\u001b[38;5;124;43m'\u001b[39;49m\u001b[38;5;124;43mppp\u001b[39;49m\u001b[38;5;124;43m'\u001b[39;49m\u001b[43m)\u001b[49m\n",
      "\u001b[1;31mValueError\u001b[0m: substring not found"
     ]
    }
   ],
   "source": [
    "s.index('ppp')"
   ]
  },
  {
   "cell_type": "markdown",
   "id": "e27bf98b",
   "metadata": {},
   "source": [
    "- count('문자열') : 현재 문자열에서 특정 문자열이 몇 번 나오는지 알아냄"
   ]
  },
  {
   "cell_type": "code",
   "execution_count": 109,
   "id": "b8edba9d",
   "metadata": {},
   "outputs": [
    {
     "data": {
      "text/plain": [
       "'apple pear grape pineapple orange'"
      ]
     },
     "execution_count": 109,
     "metadata": {},
     "output_type": "execute_result"
    }
   ],
   "source": [
    "s"
   ]
  },
  {
   "cell_type": "code",
   "execution_count": 110,
   "id": "c51e9b04",
   "metadata": {},
   "outputs": [
    {
     "data": {
      "text/plain": [
       "2"
      ]
     },
     "execution_count": 110,
     "metadata": {},
     "output_type": "execute_result"
    }
   ],
   "source": [
    "s.count('pl')"
   ]
  },
  {
   "cell_type": "markdown",
   "id": "cf8534d7",
   "metadata": {},
   "source": [
    "### 서식지정자 = %, format"
   ]
  },
  {
   "cell_type": "code",
   "execution_count": 1,
   "id": "2d642152",
   "metadata": {},
   "outputs": [
    {
     "data": {
      "text/plain": [
       "'나는 권준혁입니다.'"
      ]
     },
     "execution_count": 1,
     "metadata": {},
     "output_type": "execute_result"
    }
   ],
   "source": [
    "name = \"권준혁\"\n",
    "\"나는 %s입니다.\"%name #%s는 문자열을 나타냄"
   ]
  },
  {
   "cell_type": "code",
   "execution_count": 2,
   "id": "07e2692e",
   "metadata": {},
   "outputs": [
    {
     "data": {
      "text/plain": [
       "'나는 28세입니다.'"
      ]
     },
     "execution_count": 2,
     "metadata": {},
     "output_type": "execute_result"
    }
   ],
   "source": [
    "age = 28\n",
    "\"나는 %d세입니다.\"%age #%d는 숫자를 나타냄"
   ]
  },
  {
   "cell_type": "code",
   "execution_count": 3,
   "id": "7a9cc7d4",
   "metadata": {},
   "outputs": [
    {
     "data": {
      "text/plain": [
       "'내 학점은 3.30입니다.'"
      ]
     },
     "execution_count": 3,
     "metadata": {},
     "output_type": "execute_result"
    }
   ],
   "source": [
    "score = 3.3\n",
    "\"내 학점은 %.2f입니다.\"%score #%f는 실수를 나타냄 .1, .2 .3 은 소수점 몇자리까지 나타내는 것이다."
   ]
  },
  {
   "cell_type": "code",
   "execution_count": 5,
   "id": "37639d95",
   "metadata": {},
   "outputs": [
    {
     "data": {
      "text/plain": [
       "'나는 권준혁입니다. 제 나이는 28살입니다.'"
      ]
     },
     "execution_count": 5,
     "metadata": {},
     "output_type": "execute_result"
    }
   ],
   "source": [
    "\"나는 {0}입니다. 제 나이는 {1}살입니다.\".format(\"권준혁\", 28) # {}에 안에 있는 숫자는 들어가는 순서를 나타냄"
   ]
  },
  {
   "cell_type": "code",
   "execution_count": 6,
   "id": "c3ec813f",
   "metadata": {},
   "outputs": [
    {
     "data": {
      "text/plain": [
       "'나는 권준혁입니다. 제 나이는 28살입니다.'"
      ]
     },
     "execution_count": 6,
     "metadata": {},
     "output_type": "execute_result"
    }
   ],
   "source": [
    "\"나는 {0}입니다. 제 나이는 {1}살입니다.\".format(name, age)#변수로 값을 저장해 표현할 수 있음."
   ]
  },
  {
   "cell_type": "markdown",
   "id": "a0658174",
   "metadata": {},
   "source": [
    "### 딕셔너리 응용하기"
   ]
  },
  {
   "cell_type": "markdown",
   "id": "a9a76d9c",
   "metadata": {},
   "source": [
    "- setdefault : 키-값 쌍 추가\n",
    "- update : 키의 값 수정, 키가 없으면 키-값 쌍 추가"
   ]
  },
  {
   "cell_type": "code",
   "execution_count": 7,
   "id": "ca58e7a6",
   "metadata": {},
   "outputs": [
    {
     "data": {
      "text/plain": [
       "{'a': 10, 'b': 20, 'c': 30, 'd': 40}"
      ]
     },
     "execution_count": 7,
     "metadata": {},
     "output_type": "execute_result"
    }
   ],
   "source": [
    "x = {'a':10, 'b':20, 'c':30, 'd':40}\n",
    "x"
   ]
  },
  {
   "cell_type": "code",
   "execution_count": 9,
   "id": "222a1c1b",
   "metadata": {},
   "outputs": [
    {
     "data": {
      "text/plain": [
       "{'a': 10, 'b': 20, 'c': 30, 'd': 40, 'e': 50}"
      ]
     },
     "execution_count": 9,
     "metadata": {},
     "output_type": "execute_result"
    }
   ],
   "source": [
    "x.setdefault('e', 50)\n",
    "x"
   ]
  },
  {
   "cell_type": "code",
   "execution_count": 10,
   "id": "6140ac02",
   "metadata": {},
   "outputs": [
    {
     "data": {
      "text/plain": [
       "{'a': 100, 'b': 20, 'c': 30, 'd': 40, 'e': 50}"
      ]
     },
     "execution_count": 10,
     "metadata": {},
     "output_type": "execute_result"
    }
   ],
   "source": [
    "x.update(a=100) #문자열이 키값으로 있다면 따옴표 없이 = 사용 가능\n",
    "x"
   ]
  },
  {
   "cell_type": "code",
   "execution_count": 12,
   "id": "8d995a2e",
   "metadata": {},
   "outputs": [
    {
     "data": {
      "text/plain": [
       "{'a': 200, 'b': 200, 'c': 30, 'd': 40, 'e': 50}"
      ]
     },
     "execution_count": 12,
     "metadata": {},
     "output_type": "execute_result"
    }
   ],
   "source": [
    "x.update({'a':200, 'b':200})\n",
    "x"
   ]
  },
  {
   "cell_type": "markdown",
   "id": "5e37495f",
   "metadata": {},
   "source": [
    "- pop(키) : 특정 키-값 쌍을 삭제한 뒤 삭제한 값을 반환\n",
    "- pop(키, 기본값) : 키가 없을때 기본값 반환\n",
    "- clear() : 딕셔너리의 모든 키-값 쌍을 삭제"
   ]
  },
  {
   "cell_type": "code",
   "execution_count": 13,
   "id": "19071389",
   "metadata": {},
   "outputs": [
    {
     "data": {
      "text/plain": [
       "{'a': 200, 'b': 200, 'c': 30, 'd': 40, 'e': 50}"
      ]
     },
     "execution_count": 13,
     "metadata": {},
     "output_type": "execute_result"
    }
   ],
   "source": [
    "x"
   ]
  },
  {
   "cell_type": "code",
   "execution_count": 14,
   "id": "596c47cc",
   "metadata": {},
   "outputs": [
    {
     "data": {
      "text/plain": [
       "200"
      ]
     },
     "execution_count": 14,
     "metadata": {},
     "output_type": "execute_result"
    }
   ],
   "source": [
    "x.pop('a')"
   ]
  },
  {
   "cell_type": "code",
   "execution_count": 15,
   "id": "0180eb91",
   "metadata": {},
   "outputs": [
    {
     "data": {
      "text/plain": [
       "{'b': 200, 'c': 30, 'd': 40, 'e': 50}"
      ]
     },
     "execution_count": 15,
     "metadata": {},
     "output_type": "execute_result"
    }
   ],
   "source": [
    "x"
   ]
  },
  {
   "cell_type": "code",
   "execution_count": 21,
   "id": "438ec351",
   "metadata": {},
   "outputs": [
    {
     "data": {
      "text/plain": [
       "0"
      ]
     },
     "execution_count": 21,
     "metadata": {},
     "output_type": "execute_result"
    }
   ],
   "source": [
    "x.pop('z', 0)"
   ]
  },
  {
   "cell_type": "code",
   "execution_count": 17,
   "id": "eb9bde7f",
   "metadata": {},
   "outputs": [
    {
     "data": {
      "text/plain": [
       "{}"
      ]
     },
     "execution_count": 17,
     "metadata": {},
     "output_type": "execute_result"
    }
   ],
   "source": [
    "x.clear()\n",
    "x"
   ]
  },
  {
   "cell_type": "markdown",
   "id": "3d0a94c8",
   "metadata": {},
   "source": [
    "- get(키) : 특정 키의 값을 가져옴\n",
    "- get(키, 기본값) : 키가 없을 때 기본값 반환  "
   ]
  },
  {
   "cell_type": "code",
   "execution_count": 18,
   "id": "2bee8bea",
   "metadata": {},
   "outputs": [
    {
     "data": {
      "text/plain": [
       "{'a': 10, 'b': 20, 'c': 30, 'd': 40}"
      ]
     },
     "execution_count": 18,
     "metadata": {},
     "output_type": "execute_result"
    }
   ],
   "source": [
    "x = {'a':10, 'b':20, 'c':30, 'd':40}\n",
    "x"
   ]
  },
  {
   "cell_type": "code",
   "execution_count": 19,
   "id": "9a732a6c",
   "metadata": {},
   "outputs": [
    {
     "data": {
      "text/plain": [
       "10"
      ]
     },
     "execution_count": 19,
     "metadata": {},
     "output_type": "execute_result"
    }
   ],
   "source": [
    "x.get('a')"
   ]
  },
  {
   "cell_type": "code",
   "execution_count": 20,
   "id": "0fd02190",
   "metadata": {},
   "outputs": [
    {
     "data": {
      "text/plain": [
       "0"
      ]
     },
     "execution_count": 20,
     "metadata": {},
     "output_type": "execute_result"
    }
   ],
   "source": [
    "x.get('z', 0)"
   ]
  },
  {
   "cell_type": "markdown",
   "id": "ba8f4952",
   "metadata": {},
   "source": [
    "- items : 키-값 쌍을 모두 가져옴\n",
    "- keys : 키를 모두 가져옴\n",
    "- values : 값을 모두 가져옴    "
   ]
  },
  {
   "cell_type": "code",
   "execution_count": 22,
   "id": "2994ba7e",
   "metadata": {},
   "outputs": [
    {
     "data": {
      "text/plain": [
       "{'a': 10, 'b': 20, 'c': 30, 'd': 40}"
      ]
     },
     "execution_count": 22,
     "metadata": {},
     "output_type": "execute_result"
    }
   ],
   "source": [
    "x = {'a':10, 'b':20, 'c':30, 'd':40}\n",
    "x"
   ]
  },
  {
   "cell_type": "code",
   "execution_count": 23,
   "id": "242327db",
   "metadata": {},
   "outputs": [
    {
     "data": {
      "text/plain": [
       "dict_items([('a', 10), ('b', 20), ('c', 30), ('d', 40)])"
      ]
     },
     "execution_count": 23,
     "metadata": {},
     "output_type": "execute_result"
    }
   ],
   "source": [
    "x.items()"
   ]
  },
  {
   "cell_type": "code",
   "execution_count": 24,
   "id": "f79c9704",
   "metadata": {},
   "outputs": [
    {
     "data": {
      "text/plain": [
       "dict_keys(['a', 'b', 'c', 'd'])"
      ]
     },
     "execution_count": 24,
     "metadata": {},
     "output_type": "execute_result"
    }
   ],
   "source": [
    "x.keys()"
   ]
  },
  {
   "cell_type": "code",
   "execution_count": null,
   "id": "2b200baa",
   "metadata": {},
   "outputs": [],
   "source": []
  },
  {
   "cell_type": "code",
   "execution_count": 25,
   "id": "857e5efb",
   "metadata": {},
   "outputs": [
    {
     "data": {
      "text/plain": [
       "dict_values([10, 20, 30, 40])"
      ]
     },
     "execution_count": 25,
     "metadata": {},
     "output_type": "execute_result"
    }
   ],
   "source": [
    "x.values()"
   ]
  },
  {
   "cell_type": "markdown",
   "id": "e0d2f87f",
   "metadata": {},
   "source": [
    "```\n",
    "for 키,값 in 딕셔너리.items():\n",
    "    반복할 코드\n",
    "```"
   ]
  },
  {
   "cell_type": "code",
   "execution_count": 26,
   "id": "80d5465d",
   "metadata": {},
   "outputs": [
    {
     "name": "stdout",
     "output_type": "stream",
     "text": [
      "a\n",
      "b\n",
      "c\n",
      "d\n"
     ]
    }
   ],
   "source": [
    "for k in x.items():\n",
    "    print(k)"
   ]
  },
  {
   "cell_type": "code",
   "execution_count": 27,
   "id": "da24e79a",
   "metadata": {},
   "outputs": [
    {
     "name": "stdout",
     "output_type": "stream",
     "text": [
      "('a', 10)\n",
      "('b', 20)\n",
      "('c', 30)\n",
      "('d', 40)\n"
     ]
    }
   ],
   "source": [
    "for v in x.items():\n",
    "    print(v)"
   ]
  },
  {
   "cell_type": "markdown",
   "id": "b8ba06a9",
   "metadata": {},
   "source": [
    "### 세트"
   ]
  },
  {
   "cell_type": "markdown",
   "id": "c912b61a",
   "metadata": {},
   "source": [
    "- 세트={값1, 값2, 값3}"
   ]
  },
  {
   "cell_type": "code",
   "execution_count": 29,
   "id": "791770e1",
   "metadata": {},
   "outputs": [],
   "source": [
    "fruits = {'strawberry', 'grape', 'orange', 'pineapple', 'chery'}"
   ]
  },
  {
   "cell_type": "code",
   "execution_count": 30,
   "id": "cba50ca2",
   "metadata": {},
   "outputs": [
    {
     "data": {
      "text/plain": [
       "set"
      ]
     },
     "execution_count": 30,
     "metadata": {},
     "output_type": "execute_result"
    }
   ],
   "source": [
    "type(fruits)"
   ]
  },
  {
   "cell_type": "code",
   "execution_count": 31,
   "id": "3843c0e0",
   "metadata": {},
   "outputs": [
    {
     "name": "stdout",
     "output_type": "stream",
     "text": [
      "<class 'list'> <class 'tuple'> <class 'dict'> <class 'set'>\n"
     ]
    }
   ],
   "source": [
    "l=[]#빈리스트만들기\n",
    "t=()#빈튜플만들기\n",
    "d={}#빈딕셔너리만들기\n",
    "s=set()#빈세트만들기\n",
    "\n",
    "print(type(l),type(t),type(d),type(s))"
   ]
  },
  {
   "cell_type": "code",
   "execution_count": 32,
   "id": "2c003a4d",
   "metadata": {},
   "outputs": [
    {
     "data": {
      "text/plain": [
       "{'chery', 'grape', 'orange', 'pineapple', 'strawberry'}"
      ]
     },
     "execution_count": 32,
     "metadata": {},
     "output_type": "execute_result"
    }
   ],
   "source": [
    "#세트는 순서가 없고, 중복이 없는 원소를 갖는다.\n",
    "fruits = {'strawberry', 'grape', 'orange', 'pineapple', 'chery','chery','chery'}\n",
    "fruits"
   ]
  },
  {
   "cell_type": "markdown",
   "id": "1ea25f8d",
   "metadata": {},
   "source": [
    "### Workshop"
   ]
  },
  {
   "cell_type": "markdown",
   "id": "ce525968",
   "metadata": {},
   "source": [
    "- 다음의 주어진 리스트 l1의 요소 중에서 l2의 요소와 값이 같은 경우 삭제하는 파이썬 코드블럭을 작성하시오."
   ]
  },
  {
   "cell_type": "code",
   "execution_count": 35,
   "id": "4ad4a866",
   "metadata": {},
   "outputs": [],
   "source": [
    "l1=['a', 'b', 'c','d','a','b','a','b']\n",
    "l2 = ['b','a']"
   ]
  },
  {
   "cell_type": "code",
   "execution_count": 38,
   "id": "c4e7c3e0",
   "metadata": {},
   "outputs": [
    {
     "data": {
      "text/plain": [
       "['c', 'd']"
      ]
     },
     "execution_count": 38,
     "metadata": {},
     "output_type": "execute_result"
    }
   ],
   "source": [
    "answer = [i for i in l1 if i not in l2]\n",
    "answer"
   ]
  },
  {
   "cell_type": "code",
   "execution_count": 58,
   "id": "691758cb",
   "metadata": {},
   "outputs": [],
   "source": [
    "l1 = list('abcdabab')\n",
    "l2 = list('ba')"
   ]
  },
  {
   "cell_type": "code",
   "execution_count": 61,
   "id": "a3699350",
   "metadata": {},
   "outputs": [
    {
     "data": {
      "text/plain": [
       "['c', 'd']"
      ]
     },
     "execution_count": 61,
     "metadata": {},
     "output_type": "execute_result"
    }
   ],
   "source": [
    "for c in l2:\n",
    "    while c in l1:\n",
    "        l1.remove(c);\n",
    "l1"
   ]
  },
  {
   "cell_type": "markdown",
   "id": "aa7c200a",
   "metadata": {},
   "source": [
    "### the의 갯수 출력하기"
   ]
  },
  {
   "cell_type": "markdown",
   "id": "3167efc7",
   "metadata": {},
   "source": [
    "- 표준입력으로 문자열이 입력됩니다. 입력된 문자열에서 'the'의 개수를 출력하는 프로그램을 만드세요. 단, 모든 문자가 소문자인 'the'만 찾으면 되며,'them','their', 'there'등은 포함되지않아야합니다.\n"
   ]
  },
  {
   "cell_type": "markdown",
   "id": "14a9ef35",
   "metadata": {},
   "source": [
    "the grown-ups' response, this time, was to advise me to lay aside my drawings of boa constrictors, whether from the inside or the outside, and devote myself instead to geography, history, arithmetic, and grammar. That is why, at the, age of six, I gave up what might have been a magnificent career as a painter. I had been disheartened by the failure of my Drawing Number One and my Drawing Number Two. Grown-ups never understand anything by themselves, and it is tiresome for children to be always and forever explaining things to the.\n"
   ]
  },
  {
   "cell_type": "code",
   "execution_count": 64,
   "id": "3e7f5ba0",
   "metadata": {},
   "outputs": [
    {
     "name": "stdout",
     "output_type": "stream",
     "text": [
      "the grown-ups' response, this time, was to advise me to lay aside my drawings of boa constrictors, whether from the inside or the outside, and devote myself instead to geography, history, arithmetic, and grammar. That is why, at the, age of six, I gave up what might have been a magnificent career as a painter. I had been disheartened by the failure of my Drawing Number One and my Drawing Number Two. Grown-ups never understand anything by themselves, and it is tiresome for children to be always and forever explaining things to the.\n",
      "4\n"
     ]
    }
   ],
   "source": [
    "count = 0\n",
    "for word in input().split():\n",
    "    if word == 'the':\n",
    "        count += 1\n",
    "print(count)\n"
   ]
  },
  {
   "cell_type": "code",
   "execution_count": 70,
   "id": "e7eeca6c",
   "metadata": {},
   "outputs": [
    {
     "name": "stdout",
     "output_type": "stream",
     "text": [
      "the grown-ups' response, this time, was to advise me to lay aside my drawings of boa constrictors, whether from the inside or the outside, and devote myself instead to geography, history, arithmetic, and grammar. That is why, at the, age of six, I gave up what might have been a magnificent career as a painter. I had been disheartened by the failure of my Drawing Number One and my Drawing Number Two. Grown-ups never understand anything by themselves, and it is tiresome for children to be always and forever explaining things to the.\n"
     ]
    }
   ],
   "source": [
    "words = input().split()"
   ]
  },
  {
   "cell_type": "code",
   "execution_count": 71,
   "id": "a2151d91",
   "metadata": {},
   "outputs": [
    {
     "name": "stdout",
     "output_type": "stream",
     "text": [
      "6\n"
     ]
    }
   ],
   "source": [
    "count = 0\n",
    "for word in words:\n",
    "    if word.strip(',.') == 'the':\n",
    "        count+=1\n",
    "print(count)"
   ]
  },
  {
   "cell_type": "markdown",
   "id": "c9bb776c",
   "metadata": {},
   "source": [
    "평균 점수 구하기"
   ]
  },
  {
   "cell_type": "code",
   "execution_count": 66,
   "id": "111856cf",
   "metadata": {},
   "outputs": [
    {
     "data": {
      "text/plain": [
       "{'korean': 94, 'english': 91, 'mathmatics': 89, 'science': 83}"
      ]
     },
     "execution_count": 66,
     "metadata": {},
     "output_type": "execute_result"
    }
   ],
   "source": [
    "maria = {'korean':94, 'english':91, 'mathmatics':89, 'science':83}\n",
    "maria"
   ]
  },
  {
   "cell_type": "code",
   "execution_count": 69,
   "id": "92c2ce1e",
   "metadata": {},
   "outputs": [
    {
     "name": "stdout",
     "output_type": "stream",
     "text": [
      "89.25\n"
     ]
    }
   ],
   "source": [
    "average = sum(maria.values())/len(maria)\n",
    "print(average)"
   ]
  },
  {
   "cell_type": "code",
   "execution_count": 68,
   "id": "3b94de48",
   "metadata": {},
   "outputs": [
    {
     "name": "stdout",
     "output_type": "stream",
     "text": [
      "89.25\n"
     ]
    }
   ],
   "source": [
    "score = 0\n",
    "for _, v in maria.items():\n",
    "    score += v\n",
    "print(score / len(maria))\n"
   ]
  },
  {
   "cell_type": "markdown",
   "id": "de3b3e74",
   "metadata": {},
   "source": [
    "### 딕셔너리에서 특정값 삭제하기\n",
    "- 표준입력으로 문자열 여러개와 숫자 여러개가 두 줄로 입력되고, 첫 번째 줄은 키, 두 번째 줄은 값으로 하여 딕셔너리를 생성합니다. 다음 코드를 완성하여 딕셔너리에서 키가 'delta'의 키값쌍을 삭제하도록 만드세요. \n",
    "\n",
    "alpha bravo charlie delta   \n",
    "10 20 30 40"
   ]
  },
  {
   "cell_type": "code",
   "execution_count": 5,
   "id": "2173a1b3",
   "metadata": {},
   "outputs": [
    {
     "name": "stdout",
     "output_type": "stream",
     "text": [
      "alpha bravo charlie delta\n",
      "10 20 30 40\n"
     ]
    }
   ],
   "source": [
    "keys = input().split()\n",
    "values = map(int,input().split())\n",
    "x= dict(zip(keys, values))"
   ]
  },
  {
   "cell_type": "code",
   "execution_count": 3,
   "id": "54643116",
   "metadata": {},
   "outputs": [
    {
     "name": "stdout",
     "output_type": "stream",
     "text": [
      "{'alpha': 10, 'bravo': 20}\n"
     ]
    }
   ],
   "source": [
    "x = {key:value for key, value in x.items() if key !='delta' and value != 30}\n",
    "print(x)"
   ]
  },
  {
   "cell_type": "markdown",
   "id": "b0593129",
   "metadata": {},
   "source": [
    "### 파일사용하기"
   ]
  },
  {
   "cell_type": "markdown",
   "id": "51d7219c",
   "metadata": {},
   "source": [
    "- 파일객체 = open(파일이름 , 파일모드)\n",
    "- 파일객체.write(\"문자열\")\n",
    "- 파일객체.close()"
   ]
  },
  {
   "cell_type": "code",
   "execution_count": 8,
   "id": "a36b6529",
   "metadata": {},
   "outputs": [
    {
     "name": "stdout",
     "output_type": "stream",
     "text": [
      " C 드라이브의 볼륨에는 이름이 없습니다.\n",
      " 볼륨 일련 번호: FCD1-ECDC\n",
      "\n",
      " C:\\Users\\권준혁\\Documents\\2022 빅데이터 10기\\Python Programming\\workshop 디렉터리\n",
      "\n",
      "2022-06-23  오후 02:26    <DIR>          .\n",
      "2022-06-23  오후 02:26    <DIR>          ..\n",
      "2022-06-23  오전 11:04    <DIR>          .ipynb_checkpoints\n",
      "2022-06-21  오전 09:21             6,326 formula.png\n",
      "2022-06-20  오전 11:31                64 hello.py\n",
      "2022-06-21  오전 09:05                66 hello1.py\n",
      "2022-06-21  오전 10:20            39,289 Python Programming Day 1-1.ipynb\n",
      "2022-06-20  오후 12:45             6,638 Python Programming Day 1.ipynb\n",
      "2022-06-21  오후 05:49            73,340 Python Programming Day 2-1.ipynb\n",
      "2022-06-21  오후 08:03            54,834 Python Programming Day 2.ipynb\n",
      "2022-06-23  오후 02:26           206,798 Python Programming Day 4-1.ipynb\n",
      "2022-06-22  오후 05:23            20,080 Python Programming Day3.ipynb\n",
      "2022-06-23  오전 09:32             4,655 Python Programming Day4.ipynb\n",
      "2022-06-21  오전 09:21            19,059 python_logo.png\n",
      "              11개 파일             431,149 바이트\n",
      "               3개 디렉터리  81,763,971,072 바이트 남음\n"
     ]
    }
   ],
   "source": [
    "!dir"
   ]
  },
  {
   "cell_type": "code",
   "execution_count": 9,
   "id": "48a39a8a",
   "metadata": {},
   "outputs": [],
   "source": [
    "file = open('hello.txt', 'w')\n",
    "file.write('Hello World!')\n",
    "file.close()"
   ]
  },
  {
   "cell_type": "markdown",
   "id": "7aaeef55",
   "metadata": {},
   "source": [
    "- 파일객체 = open(파일이름 , 파일모드)\n",
    "- 변수 = 파일객체.read()\n",
    "- 파일객체.close()"
   ]
  },
  {
   "cell_type": "code",
   "execution_count": 11,
   "id": "0b0787b4",
   "metadata": {},
   "outputs": [
    {
     "name": "stdout",
     "output_type": "stream",
     "text": [
      "Hello World!\n"
     ]
    }
   ],
   "source": [
    "file = open('hello.txt', 'r')\n",
    "s = file.read()\n",
    "print(s)\n",
    "file.close()"
   ]
  },
  {
   "cell_type": "markdown",
   "id": "9114bd17",
   "metadata": {},
   "source": [
    "```\n",
    "with open(파일이름, 파일모드) as 파일객체:\n",
    "    코드\n",
    "```"
   ]
  },
  {
   "cell_type": "code",
   "execution_count": 14,
   "id": "3f7cd781",
   "metadata": {},
   "outputs": [
    {
     "name": "stdout",
     "output_type": "stream",
     "text": [
      "Hello World!\n"
     ]
    }
   ],
   "source": [
    "#파일을 닫는것 코드를 적지 않아도 닫는 with구문\n",
    "with open('hello.txt', 'r') as file:\n",
    "    s = file.read()\n",
    "    print(s)\n",
    "    "
   ]
  },
  {
   "cell_type": "code",
   "execution_count": 19,
   "id": "763b755b",
   "metadata": {},
   "outputs": [],
   "source": [
    "with open('hello.txt', 'w') as file:\n",
    "    for i in range(3) :\n",
    "        file.write('Hello, World! {0}\\n'.format(i))"
   ]
  },
  {
   "cell_type": "code",
   "execution_count": 18,
   "id": "6421e21b",
   "metadata": {},
   "outputs": [],
   "source": [
    "lines = ['안녕하세요\\n', '여기는\\n', '플레이데이터입니다.\\n']\n",
    "\n",
    "with open('play.txt', 'w') as file:\n",
    "    file.writelines(lines)"
   ]
  },
  {
   "cell_type": "code",
   "execution_count": 20,
   "id": "a1065ece",
   "metadata": {},
   "outputs": [
    {
     "name": "stdout",
     "output_type": "stream",
     "text": [
      "['안녕하세요\\n', '여기는\\n', '플레이데이터입니다.\\n']\n"
     ]
    }
   ],
   "source": [
    "#전체줄을 읽어오기\n",
    "with open('play.txt', 'r') as file:\n",
    "    lines = file.readlines()\n",
    "    print(lines)"
   ]
  },
  {
   "cell_type": "code",
   "execution_count": 21,
   "id": "4c9584a2",
   "metadata": {},
   "outputs": [
    {
     "name": "stdout",
     "output_type": "stream",
     "text": [
      "Hello, World! 0\n",
      "\n"
     ]
    }
   ],
   "source": [
    "#텍스트 파일내에 한줄읽어오기\n",
    "with open('hello.txt', 'r') as file:\n",
    "    line = file.readline()\n",
    "    print(line)"
   ]
  },
  {
   "cell_type": "code",
   "execution_count": 25,
   "id": "f9409700",
   "metadata": {},
   "outputs": [
    {
     "name": "stdout",
     "output_type": "stream",
     "text": [
      "안녕하세요\n",
      "여기는\n",
      "플레이데이터입니다.\n",
      "\n"
     ]
    }
   ],
   "source": [
    "#한줄씩 반복문에 의해서 읽어드리기\n",
    "with open('play.txt', 'r') as file:\n",
    "    line = None\n",
    "    while line !='':\n",
    "        line = file.readline()\n",
    "        print(line.strip('\\n'))"
   ]
  },
  {
   "cell_type": "code",
   "execution_count": 26,
   "id": "9c774b3f",
   "metadata": {},
   "outputs": [],
   "source": [
    "#이진 형태로 저장하도록 하게 도와주는 module\n",
    "import pickle"
   ]
  },
  {
   "cell_type": "code",
   "execution_count": 27,
   "id": "1cbd82af",
   "metadata": {},
   "outputs": [],
   "source": [
    "name = 'James'\n",
    "age = 17\n",
    "scores = {\"korean\": 90, \"mathmatics\":85}"
   ]
  },
  {
   "cell_type": "code",
   "execution_count": 28,
   "id": "8fba1514",
   "metadata": {},
   "outputs": [],
   "source": [
    "with open('Student.p', 'wb') as file: #writebinary\n",
    "    pickle.dump(name, file)\n",
    "    pickle.dump(age, file)\n",
    "    pickle.dump(scores, file)"
   ]
  },
  {
   "cell_type": "code",
   "execution_count": 29,
   "id": "ae15b843",
   "metadata": {},
   "outputs": [
    {
     "name": "stdout",
     "output_type": "stream",
     "text": [
      "James 17 {'korean': 90, 'mathmatics': 85}\n"
     ]
    }
   ],
   "source": [
    "with open('Student.p', 'rb') as file:\n",
    "    loaded_name = pickle.load(file)\n",
    "    loaded_age = pickle.load(file)\n",
    "    loaded_scores = pickle.load(file)\n",
    "print(loaded_name, loaded_age, loaded_scores)"
   ]
  },
  {
   "cell_type": "markdown",
   "id": "05d65621",
   "metadata": {},
   "source": [
    "### workshop"
   ]
  },
  {
   "cell_type": "markdown",
   "id": "297cd7b1",
   "metadata": {},
   "source": [
    "파일에서 10자 이하인 단어 개수 세기\n",
    "- 단어가 줄 단위로 저장된 words.txt파일이 주어집니다. 10자 이하인 단어의 개수가 출력되게 만드세요."
   ]
  },
  {
   "cell_type": "code",
   "execution_count": 36,
   "id": "5b88954a",
   "metadata": {},
   "outputs": [
    {
     "name": "stdout",
     "output_type": "stream",
     "text": [
      "['compatibility\\n', 'experience\\n', 'photography\\n', 'spotlight\\n']\n",
      "2\n"
     ]
    }
   ],
   "source": [
    "with open('words.txt', 'r') as file:\n",
    "    count = 0\n",
    "    words = file.readlines()\n",
    "    print(words)\n",
    "    for word in words:\n",
    "        if len(word.strip('\\n')) <= 10:\n",
    "            count += 1\n",
    "    print(count)"
   ]
  },
  {
   "cell_type": "markdown",
   "id": "e9f7371d",
   "metadata": {},
   "source": [
    "특정 문자가 들어가 있는 단어 찾기\n",
    "- 문자열이 저장된 words2.txt 파일이 주어집니다.(문자열은 한 줄로 저장되어 있습니다.)word2.txt 파일에서 문자 c가 포함된 단어를 각 줄에 출력하는 프로그램을 만드세요. 단어를 출력할 때는 등장한 순서대로 출력해야하며 ,(콤마)와 .(점)은 출력하지 않아야 합니다."
   ]
  },
  {
   "cell_type": "code",
   "execution_count": 35,
   "id": "6ccfd517",
   "metadata": {},
   "outputs": [
    {
     "name": "stdout",
     "output_type": "stream",
     "text": [
      "dictator\n",
      "subjects\n",
      "change\n",
      "costume\n",
      "elegance\n",
      "accepted\n"
     ]
    }
   ],
   "source": [
    "with open('words2.txt', 'r') as file:\n",
    "    for line in file:\n",
    "        words = line.split()\n",
    "        for word in words:\n",
    "            if 'c' in word:\n",
    "                print(word.strip(',.'))"
   ]
  },
  {
   "cell_type": "code",
   "execution_count": 38,
   "id": "dcb6da2f",
   "metadata": {},
   "outputs": [
    {
     "name": "stdout",
     "output_type": "stream",
     "text": [
      "dictator\n",
      "subjects\n",
      "change\n",
      "costume\n",
      "elegance\n",
      "accepted\n"
     ]
    }
   ],
   "source": [
    "with open('words2.txt', 'r') as file:\n",
    "    p = file.read()\n",
    "    words = p.split()\n",
    "    \n",
    "    for word in words:\n",
    "        if 'c' in word:\n",
    "            print(word.strip(',.'))"
   ]
  },
  {
   "cell_type": "code",
   "execution_count": 39,
   "id": "7f26b436",
   "metadata": {},
   "outputs": [
    {
     "name": "stdout",
     "output_type": "stream",
     "text": [
      "dictator\n",
      "subjects\n",
      "change\n",
      "costume\n",
      "elegance\n",
      "accepted\n"
     ]
    }
   ],
   "source": [
    "file = open('words2.txt', 'r')\n",
    "a = file.read().split()\n",
    "for i in range(len(a)):\n",
    "    a[i] = a[i].strip(',.')\n",
    "    if a[i].count('c'):\n",
    "        print(a[i])\n",
    "file.close()\n"
   ]
  },
  {
   "cell_type": "markdown",
   "id": "8c94a645",
   "metadata": {},
   "source": [
    "Ihaveadream 연설문 단어 빈도수 계산\n",
    " - ihaveadream.txt 파일을 열어 전체 내용 중 단어를 키로, 빈도를 값으로 매핑한 사전형 자료를 반환하세요.\n",
    " - 단 stopwords.txt에 있는 단어는 제외시킵니다."
   ]
  },
  {
   "cell_type": "code",
   "execution_count": 12,
   "id": "0e52c40d",
   "metadata": {},
   "outputs": [
    {
     "name": "stdout",
     "output_type": "stream",
     "text": [
      "{'am': 2, 'happy': 1, 'join': 3, 'history': 2, 'demonstration': 1, 'freedom': 19, 'nation.': 2, 'five': 1, 'score': 1, 'ago,': 1, 'american,': 1, 'symbolic': 1, 'shadow': 1, 'stand': 3, 'today,': 3, 'signed': 1, 'emancipation': 1, 'proclamation.': 1, 'momentous': 1, 'decree': 1, 'beacon': 1, 'light': 1, 'hope': 2, 'millions': 1, 'negro': 13, 'slaves': 2, 'seared': 1, 'flames': 1, 'withering': 1, 'injustice.': 1, 'joyous': 1, 'daybreak': 1, 'night': 1, 'captivity.': 1, 'hundred': 4, 'later,': 4, 'free.': 1, 'life': 1, 'sadly': 1, 'crippled': 1, 'manacles': 1, 'segregation': 2, 'chains': 1, 'discrimination.': 1, 'lives': 1, 'lonely': 1, 'island': 1, 'poverty': 1, 'midst': 1, 'vast': 1, 'ocean': 1, 'material': 1, 'prosperity.': 1, 'languished': 1, 'corners': 1, 'american': 3, 'society': 1, 'exile': 1, 'own': 1, 'land.': 1, \"we've\": 3, 'dramatize': 1, 'shameful': 1, 'condition.': 1, 'sense': 1, \"nation's\": 1, 'capital': 1, 'cash': 2, 'check.': 1, 'architects': 1, 'republic': 1, 'wrote': 1, 'magnificent': 1, 'words': 3, 'constitution': 1, 'declaration': 1, 'independence,': 1, 'signing': 1, 'promissory': 2, 'note': 2, 'fall': 1, 'heir.': 1, 'promise': 1, 'men,': 3, 'yes,': 1, 'black': 4, 'white': 6, 'guaranteed': 1, '\"unalienable': 1, 'rights\"': 1, '\"life,': 1, 'liberty': 1, 'pursuit': 1, 'happiness.\"': 1, 'obvious': 1, 'america': 5, 'defaulted': 1, 'note,': 1, 'insofar': 1, 'citizens': 1, 'color': 2, 'concerned.': 1, 'instead': 1, 'honoring': 1, 'sacred': 1, 'obligation,': 1, 'people': 1, 'bad': 1, 'check,': 2, 'check': 2, 'marked': 1, '\"insufficient': 1, 'funds.\"': 1, 'refuse': 2, 'believe': 2, 'bank': 1, 'justice': 3, 'bankrupt.': 1, 'insufficient': 1, 'funds': 1, 'vaults': 1, 'opportunity': 1, 'so,': 1, 'demand': 1, 'riches': 1, 'security': 1, 'justice.': 3, 'hallowed': 1, 'spot': 1, 'remind': 1, 'fierce': 1, 'urgency': 2, 'now.': 1, 'time': 5, 'engage': 1, 'luxury': 1, 'cooling': 1, 'tranquilizing': 1, 'drug': 1, 'gradualism.': 1, 'real': 1, 'promises': 1, 'democracy.': 1, 'rise': 3, 'dark': 1, 'desolate': 1, 'valley': 3, 'sunlit': 1, 'path': 1, 'racial': 2, 'lift': 1, 'nation': 7, 'quicksands': 1, 'injustice': 1, 'solid': 1, 'rock': 1, 'brotherhood.': 3, 'reality': 1, \"god's\": 3, 'children.': 1, 'fatal': 1, 'overlook': 1, 'moment.': 1, 'sweltering': 3, 'summer': 1, \"negro's\": 2, 'legitimate': 1, 'discontent': 1, 'pass': 1, 'invigorating': 1, 'autumn': 1, 'equality.': 1, 'nineteen': 1, 'sixty-three': 1, 'end,': 1, 'beginning.': 1, 'blow': 1, 'steam': 1, 'content': 2, 'rude': 1, 'awakening': 1, 'returns': 1, 'business': 1, 'usual.': 1, 'neither': 1, 'rest': 1, 'nor': 1, 'tranquility': 1, 'granted': 1, 'citizenship': 1, 'rights.': 1, 'whirlwinds': 1, 'revolt': 1, 'continue': 2, 'shake': 1, 'foundations': 1, 'bright': 1, 'day': 10, 'emerges.': 1, 'people,': 2, 'warm': 1, 'threshold': 1, 'leads': 1, 'palace': 1, 'justice:': 1, 'process': 1, 'gaining': 1, 'rightful': 1, 'place,': 1, 'guilty': 1, 'wrongful': 1, 'deeds.': 1, 'seek': 1, 'satisfy': 1, 'thirst': 1, 'drinking': 1, 'cup': 1, 'bitterness': 1, 'hatred.': 1, 'forever': 1, 'conduct': 1, 'struggle': 2, 'plane': 1, 'dignity': 2, 'discipline.': 1, 'allow': 2, 'creative': 2, 'protest': 1, 'degenerate': 1, 'physical': 2, 'violence.': 1, 'again,': 1, 'majestic': 1, 'heights': 1, 'meeting': 1, 'force': 1, 'soul': 1, 'force.': 1, 'marvelous': 1, 'militancy': 1, 'engulfed': 1, 'community': 1, 'lead': 1, 'distrust': 1, 'brothers,': 1, 'evidenced': 1, 'presence': 1, 'realize': 2, 'destiny': 1, 'tied': 1, 'destiny.': 1, 'inextricably': 1, 'bound': 1, 'freedom.': 1, 'walk': 1, 'alone.': 1, 'walk,': 1, 'pledge': 1, 'march': 1, 'ahead.': 1, 'back.': 1, 'devotees': 1, 'civil': 1, 'rights,': 1, '\"when': 1, 'satisfied?\"': 1, 'satisfied': 6, 'victim': 1, 'unspeakable': 1, 'horrors': 1, 'police': 2, 'brutality.': 2, 'bodies,': 1, 'heavy': 1, 'fatigue': 1, 'travel,': 1, 'gain': 1, 'lodging': 1, 'motels': 1, 'highways': 1, 'hotels': 1, 'cities.': 1, '*we': 1, 'basic': 1, 'mobility': 1, 'ghetto': 1, 'larger': 1, 'one.': 1, 'children': 3, 'stripped': 1, 'self-hood': 1, 'robbed': 1, 'signs': 1, 'stating:': 1, '\"for': 1, 'whites': 1, 'only.\"*': 1, 'mississippi': 1, 'vote': 1, 'york': 1, 'believes': 1, 'vote.': 1, 'no,': 2, 'satisfied,': 1, '\"justice': 1, 'rolls': 1, 'waters,': 1, 'righteousness': 1, 'mighty': 2, 'stream.\"1': 1, 'unmindful': 1, 'trials': 1, 'tribulations.': 1, 'fresh': 1, 'narrow': 1, 'jail': 2, 'cells.': 1, 'quest': 2, '--': 3, 'left': 1, 'battered': 1, 'storms': 1, 'persecution': 1, 'staggered': 1, 'winds': 1, 'veterans': 1, 'suffering.': 1, 'faith': 2, 'unearned': 1, 'suffering': 1, 'redemptive.': 1, 'mississippi,': 2, 'alabama,': 2, 'south': 2, 'carolina,': 1, 'georgia,': 2, 'louisiana,': 1, 'slums': 1, 'ghettos': 1, 'northern': 1, 'cities,': 1, 'knowing': 2, 'somehow': 1, 'situation': 1, 'changed.': 1, 'wallow': 1, 'despair,': 1, 'friends.': 1, 'difficulties': 1, 'tomorrow,': 1, 'dream.': 2, 'dream': 9, 'deeply': 1, 'rooted': 1, 'live': 2, 'true': 1, 'meaning': 1, 'creed:': 1, '\"we': 1, 'hold': 1, 'truths': 1, 'self-evident,': 1, 'created': 1, 'equal.\"': 1, 'red': 1, 'hills': 1, 'sons': 2, 'former': 2, 'slave': 1, 'owners': 1, 'able': 8, 'sit': 1, 'table': 1, 'heat': 2, 'injustice,': 1, 'oppression,': 1, 'transformed': 1, 'oasis': 1, 'little': 3, 'judged': 1, 'skin': 1, 'character.': 1, 'today!': 2, 'day,': 1, 'vicious': 1, 'racists,': 1, 'governor': 1, 'lips': 1, 'dripping': 1, '\"interposition\"': 1, '\"nullification\"': 1, 'alabama': 1, 'boys': 2, 'girls': 2, 'hands': 2, 'sisters': 1, 'brothers.': 1, 'exalted,': 1, 'hill': 2, 'mountain': 4, 'low,': 1, 'rough': 1, 'plain,': 1, 'crooked': 1, 'straight;': 1, '\"and': 1, 'glory': 1, 'lord': 1, 'revealed': 1, 'flesh': 1, 'together.\"2': 1, 'hope,': 1, 'with.': 1, 'faith,': 3, 'hew': 1, 'despair': 1, 'stone': 2, 'hope.': 1, 'transform': 1, 'jangling': 1, 'discords': 1, 'beautiful': 1, 'symphony': 1, 'together,': 5, 'pray': 1, 'free': 4, 'day.': 1, 'sing': 2, 'meaning:': 1, 'country': 1, \"'tis\": 1, 'thee,': 1, 'sweet': 1, 'land': 3, 'liberty,': 1, 'thee': 1, 'sing.': 1, 'fathers': 1, 'died,': 1, \"pilgrim's\": 1, 'pride,': 1, 'mountainside,': 2, 'ring!': 1, 'nation,': 1, 'true.': 1, 'ring': 9, 'prodigious': 1, 'hilltops': 1, 'hampshire.': 1, 'mountains': 1, 'york.': 1, 'heightening': 1, 'alleghenies': 1, 'pennsylvania.': 1, 'snow-capped': 1, 'rockies': 1, 'colorado.': 1, 'curvaceous': 1, 'slopes': 1, 'california.': 1, 'that:': 1, 'georgia.': 1, 'lookout': 1, 'tennessee.': 1, 'molehill': 1, 'mississippi.': 1, 'ring.': 1, 'happens,': 1, 'ring,': 1, 'village': 1, 'hamlet,': 1, 'city,': 1, 'speed': 1, 'children,': 1, 'jews': 1, 'gentiles,': 1, 'protestants': 1, 'catholics,': 1, 'spiritual:': 1, 'last!': 3, 'thank': 1, 'god': 1, 'almighty,': 1}\n"
     ]
    }
   ],
   "source": [
    "with open('ihaveadream.txt', 'r') as file:\n",
    "    with open('stopwords.txt', 'r') as expectionfile:\n",
    "        frequency = {}\n",
    "        p = file.read().lower()\n",
    "        y = expectionfile.read()\n",
    "        count = 0\n",
    "        words = p.split()\n",
    "        expectionwords = y.split()\n",
    "        \n",
    "        for z in expectionwords:\n",
    "            while z in words:\n",
    "                words.remove(z)\n",
    "                \n",
    "        for word in words:\n",
    "            count = frequency.get(word, 0)\n",
    "            frequency[word] = count + 1\n",
    "            \n",
    "    print(frequency)"
   ]
  },
  {
   "cell_type": "code",
   "execution_count": 14,
   "id": "7a534a1d",
   "metadata": {},
   "outputs": [
    {
     "data": {
      "text/plain": [
       "['i',\n",
       " 'am',\n",
       " 'happy',\n",
       " 'to',\n",
       " 'join',\n",
       " 'with',\n",
       " 'you',\n",
       " 'today',\n",
       " 'in',\n",
       " 'what',\n",
       " 'will',\n",
       " 'go',\n",
       " 'down',\n",
       " 'in',\n",
       " 'history',\n",
       " 'as',\n",
       " 'the',\n",
       " 'greatest',\n",
       " 'demonstration',\n",
       " 'for',\n",
       " 'freedom',\n",
       " 'in',\n",
       " 'the',\n",
       " 'history',\n",
       " 'of',\n",
       " 'our',\n",
       " 'nation.',\n",
       " 'five',\n",
       " 'score',\n",
       " 'years',\n",
       " 'ago,',\n",
       " 'a',\n",
       " 'great',\n",
       " 'american,',\n",
       " 'in',\n",
       " 'whose',\n",
       " 'symbolic',\n",
       " 'shadow',\n",
       " 'we',\n",
       " 'stand',\n",
       " 'today,',\n",
       " 'signed',\n",
       " 'the',\n",
       " 'emancipation',\n",
       " 'proclamation.',\n",
       " 'this',\n",
       " 'momentous',\n",
       " 'decree',\n",
       " 'came',\n",
       " 'as',\n",
       " 'a',\n",
       " 'great',\n",
       " 'beacon',\n",
       " 'light',\n",
       " 'of',\n",
       " 'hope',\n",
       " 'to',\n",
       " 'millions',\n",
       " 'of',\n",
       " 'negro',\n",
       " 'slaves',\n",
       " 'who',\n",
       " 'had',\n",
       " 'been',\n",
       " 'seared',\n",
       " 'in',\n",
       " 'the',\n",
       " 'flames',\n",
       " 'of',\n",
       " 'withering',\n",
       " 'injustice.',\n",
       " 'it',\n",
       " 'came',\n",
       " 'as',\n",
       " 'a',\n",
       " 'joyous',\n",
       " 'daybreak',\n",
       " 'to',\n",
       " 'end',\n",
       " 'the',\n",
       " 'long',\n",
       " 'night',\n",
       " 'of',\n",
       " 'their',\n",
       " 'captivity.',\n",
       " 'but',\n",
       " 'one',\n",
       " 'hundred',\n",
       " 'years',\n",
       " 'later,',\n",
       " 'the',\n",
       " 'negro',\n",
       " 'still',\n",
       " 'is',\n",
       " 'not',\n",
       " 'free.',\n",
       " 'one',\n",
       " 'hundred',\n",
       " 'years',\n",
       " 'later,',\n",
       " 'the',\n",
       " 'life',\n",
       " 'of',\n",
       " 'the',\n",
       " 'negro',\n",
       " 'is',\n",
       " 'still',\n",
       " 'sadly',\n",
       " 'crippled',\n",
       " 'by',\n",
       " 'the',\n",
       " 'manacles',\n",
       " 'of',\n",
       " 'segregation',\n",
       " 'and',\n",
       " 'the',\n",
       " 'chains',\n",
       " 'of',\n",
       " 'discrimination.',\n",
       " 'one',\n",
       " 'hundred',\n",
       " 'years',\n",
       " 'later,',\n",
       " 'the',\n",
       " 'negro',\n",
       " 'lives',\n",
       " 'on',\n",
       " 'a',\n",
       " 'lonely',\n",
       " 'island',\n",
       " 'of',\n",
       " 'poverty',\n",
       " 'in',\n",
       " 'the',\n",
       " 'midst',\n",
       " 'of',\n",
       " 'a',\n",
       " 'vast',\n",
       " 'ocean',\n",
       " 'of',\n",
       " 'material',\n",
       " 'prosperity.',\n",
       " 'one',\n",
       " 'hundred',\n",
       " 'years',\n",
       " 'later,',\n",
       " 'the',\n",
       " 'negro',\n",
       " 'is',\n",
       " 'still',\n",
       " 'languished',\n",
       " 'in',\n",
       " 'the',\n",
       " 'corners',\n",
       " 'of',\n",
       " 'american',\n",
       " 'society',\n",
       " 'and',\n",
       " 'finds',\n",
       " 'himself',\n",
       " 'an',\n",
       " 'exile',\n",
       " 'in',\n",
       " 'his',\n",
       " 'own',\n",
       " 'land.',\n",
       " 'and',\n",
       " 'so',\n",
       " \"we've\",\n",
       " 'come',\n",
       " 'here',\n",
       " 'today',\n",
       " 'to',\n",
       " 'dramatize',\n",
       " 'a',\n",
       " 'shameful',\n",
       " 'condition.',\n",
       " 'in',\n",
       " 'a',\n",
       " 'sense',\n",
       " \"we've\",\n",
       " 'come',\n",
       " 'to',\n",
       " 'our',\n",
       " \"nation's\",\n",
       " 'capital',\n",
       " 'to',\n",
       " 'cash',\n",
       " 'a',\n",
       " 'check.',\n",
       " 'when',\n",
       " 'the',\n",
       " 'architects',\n",
       " 'of',\n",
       " 'our',\n",
       " 'republic',\n",
       " 'wrote',\n",
       " 'the',\n",
       " 'magnificent',\n",
       " 'words',\n",
       " 'of',\n",
       " 'the',\n",
       " 'constitution',\n",
       " 'and',\n",
       " 'the',\n",
       " 'declaration',\n",
       " 'of',\n",
       " 'independence,',\n",
       " 'they',\n",
       " 'were',\n",
       " 'signing',\n",
       " 'a',\n",
       " 'promissory',\n",
       " 'note',\n",
       " 'to',\n",
       " 'which',\n",
       " 'every',\n",
       " 'american',\n",
       " 'was',\n",
       " 'to',\n",
       " 'fall',\n",
       " 'heir.',\n",
       " 'this',\n",
       " 'note',\n",
       " 'was',\n",
       " 'a',\n",
       " 'promise',\n",
       " 'that',\n",
       " 'all',\n",
       " 'men,',\n",
       " 'yes,',\n",
       " 'black',\n",
       " 'men',\n",
       " 'as',\n",
       " 'well',\n",
       " 'as',\n",
       " 'white',\n",
       " 'men,',\n",
       " 'would',\n",
       " 'be',\n",
       " 'guaranteed',\n",
       " 'the',\n",
       " '\"unalienable',\n",
       " 'rights\"',\n",
       " 'of',\n",
       " '\"life,',\n",
       " 'liberty',\n",
       " 'and',\n",
       " 'the',\n",
       " 'pursuit',\n",
       " 'of',\n",
       " 'happiness.\"',\n",
       " 'it',\n",
       " 'is',\n",
       " 'obvious',\n",
       " 'today',\n",
       " 'that',\n",
       " 'america',\n",
       " 'has',\n",
       " 'defaulted',\n",
       " 'on',\n",
       " 'this',\n",
       " 'promissory',\n",
       " 'note,',\n",
       " 'insofar',\n",
       " 'as',\n",
       " 'her',\n",
       " 'citizens',\n",
       " 'of',\n",
       " 'color',\n",
       " 'are',\n",
       " 'concerned.',\n",
       " 'instead',\n",
       " 'of',\n",
       " 'honoring',\n",
       " 'this',\n",
       " 'sacred',\n",
       " 'obligation,',\n",
       " 'america',\n",
       " 'has',\n",
       " 'given',\n",
       " 'the',\n",
       " 'negro',\n",
       " 'people',\n",
       " 'a',\n",
       " 'bad',\n",
       " 'check,',\n",
       " 'a',\n",
       " 'check',\n",
       " 'which',\n",
       " 'has',\n",
       " 'come',\n",
       " 'back',\n",
       " 'marked',\n",
       " '\"insufficient',\n",
       " 'funds.\"',\n",
       " 'but',\n",
       " 'we',\n",
       " 'refuse',\n",
       " 'to',\n",
       " 'believe',\n",
       " 'that',\n",
       " 'the',\n",
       " 'bank',\n",
       " 'of',\n",
       " 'justice',\n",
       " 'is',\n",
       " 'bankrupt.',\n",
       " 'we',\n",
       " 'refuse',\n",
       " 'to',\n",
       " 'believe',\n",
       " 'that',\n",
       " 'there',\n",
       " 'are',\n",
       " 'insufficient',\n",
       " 'funds',\n",
       " 'in',\n",
       " 'the',\n",
       " 'great',\n",
       " 'vaults',\n",
       " 'of',\n",
       " 'opportunity',\n",
       " 'of',\n",
       " 'this',\n",
       " 'nation.',\n",
       " 'and',\n",
       " 'so,',\n",
       " \"we've\",\n",
       " 'come',\n",
       " 'to',\n",
       " 'cash',\n",
       " 'this',\n",
       " 'check,',\n",
       " 'a',\n",
       " 'check',\n",
       " 'that',\n",
       " 'will',\n",
       " 'give',\n",
       " 'us',\n",
       " 'upon',\n",
       " 'demand',\n",
       " 'the',\n",
       " 'riches',\n",
       " 'of',\n",
       " 'freedom',\n",
       " 'and',\n",
       " 'the',\n",
       " 'security',\n",
       " 'of',\n",
       " 'justice.',\n",
       " 'we',\n",
       " 'have',\n",
       " 'also',\n",
       " 'come',\n",
       " 'to',\n",
       " 'this',\n",
       " 'hallowed',\n",
       " 'spot',\n",
       " 'to',\n",
       " 'remind',\n",
       " 'america',\n",
       " 'of',\n",
       " 'the',\n",
       " 'fierce',\n",
       " 'urgency',\n",
       " 'of',\n",
       " 'now.',\n",
       " 'this',\n",
       " 'is',\n",
       " 'no',\n",
       " 'time',\n",
       " 'to',\n",
       " 'engage',\n",
       " 'in',\n",
       " 'the',\n",
       " 'luxury',\n",
       " 'of',\n",
       " 'cooling',\n",
       " 'off',\n",
       " 'or',\n",
       " 'to',\n",
       " 'take',\n",
       " 'the',\n",
       " 'tranquilizing',\n",
       " 'drug',\n",
       " 'of',\n",
       " 'gradualism.',\n",
       " 'now',\n",
       " 'is',\n",
       " 'the',\n",
       " 'time',\n",
       " 'to',\n",
       " 'make',\n",
       " 'real',\n",
       " 'the',\n",
       " 'promises',\n",
       " 'of',\n",
       " 'democracy.',\n",
       " 'now',\n",
       " 'is',\n",
       " 'the',\n",
       " 'time',\n",
       " 'to',\n",
       " 'rise',\n",
       " 'from',\n",
       " 'the',\n",
       " 'dark',\n",
       " 'and',\n",
       " 'desolate',\n",
       " 'valley',\n",
       " 'of',\n",
       " 'segregation',\n",
       " 'to',\n",
       " 'the',\n",
       " 'sunlit',\n",
       " 'path',\n",
       " 'of',\n",
       " 'racial',\n",
       " 'justice.',\n",
       " 'now',\n",
       " 'is',\n",
       " 'the',\n",
       " 'time',\n",
       " 'to',\n",
       " 'lift',\n",
       " 'our',\n",
       " 'nation',\n",
       " 'from',\n",
       " 'the',\n",
       " 'quicksands',\n",
       " 'of',\n",
       " 'racial',\n",
       " 'injustice',\n",
       " 'to',\n",
       " 'the',\n",
       " 'solid',\n",
       " 'rock',\n",
       " 'of',\n",
       " 'brotherhood.',\n",
       " 'now',\n",
       " 'is',\n",
       " 'the',\n",
       " 'time',\n",
       " 'to',\n",
       " 'make',\n",
       " 'justice',\n",
       " 'a',\n",
       " 'reality',\n",
       " 'for',\n",
       " 'all',\n",
       " 'of',\n",
       " \"god's\",\n",
       " 'children.',\n",
       " 'it',\n",
       " 'would',\n",
       " 'be',\n",
       " 'fatal',\n",
       " 'for',\n",
       " 'the',\n",
       " 'nation',\n",
       " 'to',\n",
       " 'overlook',\n",
       " 'the',\n",
       " 'urgency',\n",
       " 'of',\n",
       " 'the',\n",
       " 'moment.',\n",
       " 'this',\n",
       " 'sweltering',\n",
       " 'summer',\n",
       " 'of',\n",
       " 'the',\n",
       " \"negro's\",\n",
       " 'legitimate',\n",
       " 'discontent',\n",
       " 'will',\n",
       " 'not',\n",
       " 'pass',\n",
       " 'until',\n",
       " 'there',\n",
       " 'is',\n",
       " 'an',\n",
       " 'invigorating',\n",
       " 'autumn',\n",
       " 'of',\n",
       " 'freedom',\n",
       " 'and',\n",
       " 'equality.',\n",
       " 'nineteen',\n",
       " 'sixty-three',\n",
       " 'is',\n",
       " 'not',\n",
       " 'an',\n",
       " 'end,',\n",
       " 'but',\n",
       " 'a',\n",
       " 'beginning.',\n",
       " 'and',\n",
       " 'those',\n",
       " 'who',\n",
       " 'hope',\n",
       " 'that',\n",
       " 'the',\n",
       " 'negro',\n",
       " 'needed',\n",
       " 'to',\n",
       " 'blow',\n",
       " 'off',\n",
       " 'steam',\n",
       " 'and',\n",
       " 'will',\n",
       " 'now',\n",
       " 'be',\n",
       " 'content',\n",
       " 'will',\n",
       " 'have',\n",
       " 'a',\n",
       " 'rude',\n",
       " 'awakening',\n",
       " 'if',\n",
       " 'the',\n",
       " 'nation',\n",
       " 'returns',\n",
       " 'to',\n",
       " 'business',\n",
       " 'as',\n",
       " 'usual.',\n",
       " 'and',\n",
       " 'there',\n",
       " 'will',\n",
       " 'be',\n",
       " 'neither',\n",
       " 'rest',\n",
       " 'nor',\n",
       " 'tranquility',\n",
       " 'in',\n",
       " 'america',\n",
       " 'until',\n",
       " 'the',\n",
       " 'negro',\n",
       " 'is',\n",
       " 'granted',\n",
       " 'his',\n",
       " 'citizenship',\n",
       " 'rights.',\n",
       " 'the',\n",
       " 'whirlwinds',\n",
       " 'of',\n",
       " 'revolt',\n",
       " 'will',\n",
       " 'continue',\n",
       " 'to',\n",
       " 'shake',\n",
       " 'the',\n",
       " 'foundations',\n",
       " 'of',\n",
       " 'our',\n",
       " 'nation',\n",
       " 'until',\n",
       " 'the',\n",
       " 'bright',\n",
       " 'day',\n",
       " 'of',\n",
       " 'justice',\n",
       " 'emerges.',\n",
       " 'but',\n",
       " 'there',\n",
       " 'is',\n",
       " 'something',\n",
       " 'that',\n",
       " 'i',\n",
       " 'must',\n",
       " 'say',\n",
       " 'to',\n",
       " 'my',\n",
       " 'people,',\n",
       " 'who',\n",
       " 'stand',\n",
       " 'on',\n",
       " 'the',\n",
       " 'warm',\n",
       " 'threshold',\n",
       " 'which',\n",
       " 'leads',\n",
       " 'into',\n",
       " 'the',\n",
       " 'palace',\n",
       " 'of',\n",
       " 'justice:',\n",
       " 'in',\n",
       " 'the',\n",
       " 'process',\n",
       " 'of',\n",
       " 'gaining',\n",
       " 'our',\n",
       " 'rightful',\n",
       " 'place,',\n",
       " 'we',\n",
       " 'must',\n",
       " 'not',\n",
       " 'be',\n",
       " 'guilty',\n",
       " 'of',\n",
       " 'wrongful',\n",
       " 'deeds.',\n",
       " 'let',\n",
       " 'us',\n",
       " 'not',\n",
       " 'seek',\n",
       " 'to',\n",
       " 'satisfy',\n",
       " 'our',\n",
       " 'thirst',\n",
       " 'for',\n",
       " 'freedom',\n",
       " 'by',\n",
       " 'drinking',\n",
       " 'from',\n",
       " 'the',\n",
       " 'cup',\n",
       " 'of',\n",
       " 'bitterness',\n",
       " 'and',\n",
       " 'hatred.',\n",
       " 'we',\n",
       " 'must',\n",
       " 'forever',\n",
       " 'conduct',\n",
       " 'our',\n",
       " 'struggle',\n",
       " 'on',\n",
       " 'the',\n",
       " 'high',\n",
       " 'plane',\n",
       " 'of',\n",
       " 'dignity',\n",
       " 'and',\n",
       " 'discipline.',\n",
       " 'we',\n",
       " 'must',\n",
       " 'not',\n",
       " 'allow',\n",
       " 'our',\n",
       " 'creative',\n",
       " 'protest',\n",
       " 'to',\n",
       " 'degenerate',\n",
       " 'into',\n",
       " 'physical',\n",
       " 'violence.',\n",
       " 'again',\n",
       " 'and',\n",
       " 'again,',\n",
       " 'we',\n",
       " 'must',\n",
       " 'rise',\n",
       " 'to',\n",
       " 'the',\n",
       " 'majestic',\n",
       " 'heights',\n",
       " 'of',\n",
       " 'meeting',\n",
       " 'physical',\n",
       " 'force',\n",
       " 'with',\n",
       " 'soul',\n",
       " 'force.',\n",
       " 'the',\n",
       " 'marvelous',\n",
       " 'new',\n",
       " 'militancy',\n",
       " 'which',\n",
       " 'has',\n",
       " 'engulfed',\n",
       " 'the',\n",
       " 'negro',\n",
       " 'community',\n",
       " 'must',\n",
       " 'not',\n",
       " 'lead',\n",
       " 'us',\n",
       " 'to',\n",
       " 'a',\n",
       " 'distrust',\n",
       " 'of',\n",
       " 'all',\n",
       " 'white',\n",
       " 'people,',\n",
       " 'for',\n",
       " 'many',\n",
       " 'of',\n",
       " 'our',\n",
       " 'white',\n",
       " 'brothers,',\n",
       " 'as',\n",
       " 'evidenced',\n",
       " 'by',\n",
       " 'their',\n",
       " 'presence',\n",
       " 'here',\n",
       " 'today,',\n",
       " 'have',\n",
       " 'come',\n",
       " 'to',\n",
       " 'realize',\n",
       " 'that',\n",
       " 'their',\n",
       " 'destiny',\n",
       " 'is',\n",
       " 'tied',\n",
       " 'up',\n",
       " 'with',\n",
       " 'our',\n",
       " 'destiny.',\n",
       " 'and',\n",
       " 'they',\n",
       " 'have',\n",
       " 'come',\n",
       " 'to',\n",
       " 'realize',\n",
       " 'that',\n",
       " 'their',\n",
       " 'freedom',\n",
       " 'is',\n",
       " 'inextricably',\n",
       " 'bound',\n",
       " 'to',\n",
       " 'our',\n",
       " 'freedom.',\n",
       " 'we',\n",
       " 'cannot',\n",
       " 'walk',\n",
       " 'alone.',\n",
       " 'and',\n",
       " 'as',\n",
       " 'we',\n",
       " 'walk,',\n",
       " 'we',\n",
       " 'must',\n",
       " 'make',\n",
       " 'the',\n",
       " 'pledge',\n",
       " 'that',\n",
       " 'we',\n",
       " 'shall',\n",
       " 'always',\n",
       " 'march',\n",
       " 'ahead.',\n",
       " 'we',\n",
       " 'cannot',\n",
       " 'turn',\n",
       " 'back.',\n",
       " 'there',\n",
       " 'are',\n",
       " 'those',\n",
       " 'who',\n",
       " 'are',\n",
       " 'asking',\n",
       " 'the',\n",
       " 'devotees',\n",
       " 'of',\n",
       " 'civil',\n",
       " 'rights,',\n",
       " '\"when',\n",
       " 'will',\n",
       " 'you',\n",
       " 'be',\n",
       " 'satisfied?\"',\n",
       " 'we',\n",
       " 'can',\n",
       " 'never',\n",
       " 'be',\n",
       " 'satisfied',\n",
       " 'as',\n",
       " 'long',\n",
       " 'as',\n",
       " 'the',\n",
       " 'negro',\n",
       " 'is',\n",
       " 'the',\n",
       " 'victim',\n",
       " 'of',\n",
       " 'the',\n",
       " 'unspeakable',\n",
       " 'horrors',\n",
       " 'of',\n",
       " 'police',\n",
       " 'brutality.',\n",
       " 'we',\n",
       " 'can',\n",
       " 'never',\n",
       " 'be',\n",
       " 'satisfied',\n",
       " 'as',\n",
       " 'long',\n",
       " 'as',\n",
       " 'our',\n",
       " 'bodies,',\n",
       " 'heavy',\n",
       " 'with',\n",
       " 'the',\n",
       " 'fatigue',\n",
       " 'of',\n",
       " 'travel,',\n",
       " 'cannot',\n",
       " 'gain',\n",
       " 'lodging',\n",
       " 'in',\n",
       " 'the',\n",
       " 'motels',\n",
       " 'of',\n",
       " 'the',\n",
       " 'highways',\n",
       " 'and',\n",
       " 'the',\n",
       " 'hotels',\n",
       " 'of',\n",
       " 'the',\n",
       " 'cities.',\n",
       " '*we',\n",
       " 'cannot',\n",
       " 'be',\n",
       " 'satisfied',\n",
       " 'as',\n",
       " 'long',\n",
       " 'as',\n",
       " 'the',\n",
       " \"negro's\",\n",
       " 'basic',\n",
       " 'mobility',\n",
       " 'is',\n",
       " 'from',\n",
       " 'a',\n",
       " 'smaller',\n",
       " 'ghetto',\n",
       " 'to',\n",
       " 'a',\n",
       " 'larger',\n",
       " 'one.',\n",
       " 'we',\n",
       " 'can',\n",
       " 'never',\n",
       " 'be',\n",
       " 'satisfied',\n",
       " 'as',\n",
       " 'long',\n",
       " 'as',\n",
       " 'our',\n",
       " 'children',\n",
       " 'are',\n",
       " 'stripped',\n",
       " 'of',\n",
       " 'their',\n",
       " 'self-hood',\n",
       " 'and',\n",
       " 'robbed',\n",
       " 'of',\n",
       " 'their',\n",
       " 'dignity',\n",
       " 'by',\n",
       " 'signs',\n",
       " 'stating:',\n",
       " '\"for',\n",
       " 'whites',\n",
       " 'only.\"*',\n",
       " 'we',\n",
       " 'cannot',\n",
       " 'be',\n",
       " 'satisfied',\n",
       " 'as',\n",
       " 'long',\n",
       " 'as',\n",
       " 'a',\n",
       " 'negro',\n",
       " 'in',\n",
       " 'mississippi',\n",
       " 'cannot',\n",
       " 'vote',\n",
       " 'and',\n",
       " 'a',\n",
       " 'negro',\n",
       " 'in',\n",
       " 'new',\n",
       " 'york',\n",
       " 'believes',\n",
       " 'he',\n",
       " 'has',\n",
       " 'nothing',\n",
       " 'for',\n",
       " 'which',\n",
       " 'to',\n",
       " 'vote.',\n",
       " 'no,',\n",
       " 'no,',\n",
       " 'we',\n",
       " 'are',\n",
       " 'not',\n",
       " 'satisfied,',\n",
       " 'and',\n",
       " 'we',\n",
       " 'will',\n",
       " 'not',\n",
       " 'be',\n",
       " 'satisfied',\n",
       " 'until',\n",
       " '\"justice',\n",
       " 'rolls',\n",
       " 'down',\n",
       " 'like',\n",
       " 'waters,',\n",
       " 'and',\n",
       " 'righteousness',\n",
       " 'like',\n",
       " 'a',\n",
       " 'mighty',\n",
       " 'stream.\"1',\n",
       " 'i',\n",
       " 'am',\n",
       " 'not',\n",
       " 'unmindful',\n",
       " 'that',\n",
       " 'some',\n",
       " 'of',\n",
       " 'you',\n",
       " 'have',\n",
       " 'come',\n",
       " 'here',\n",
       " 'out',\n",
       " 'of',\n",
       " 'great',\n",
       " 'trials',\n",
       " 'and',\n",
       " 'tribulations.',\n",
       " 'some',\n",
       " 'of',\n",
       " 'you',\n",
       " 'have',\n",
       " 'come',\n",
       " 'fresh',\n",
       " 'from',\n",
       " 'narrow',\n",
       " 'jail',\n",
       " 'cells.',\n",
       " 'and',\n",
       " 'some',\n",
       " 'of',\n",
       " 'you',\n",
       " 'have',\n",
       " 'come',\n",
       " 'from',\n",
       " 'areas',\n",
       " 'where',\n",
       " 'your',\n",
       " 'quest',\n",
       " '--',\n",
       " 'quest',\n",
       " 'for',\n",
       " 'freedom',\n",
       " 'left',\n",
       " 'you',\n",
       " 'battered',\n",
       " 'by',\n",
       " 'the',\n",
       " 'storms',\n",
       " 'of',\n",
       " 'persecution',\n",
       " 'and',\n",
       " 'staggered',\n",
       " 'by',\n",
       " 'the',\n",
       " 'winds',\n",
       " 'of',\n",
       " 'police',\n",
       " 'brutality.',\n",
       " 'you',\n",
       " 'have',\n",
       " 'been',\n",
       " 'the',\n",
       " 'veterans',\n",
       " 'of',\n",
       " 'creative',\n",
       " 'suffering.',\n",
       " 'continue',\n",
       " 'to',\n",
       " 'work',\n",
       " 'with',\n",
       " 'the',\n",
       " 'faith',\n",
       " 'that',\n",
       " 'unearned',\n",
       " 'suffering',\n",
       " 'is',\n",
       " 'redemptive.',\n",
       " 'go',\n",
       " 'back',\n",
       " 'to',\n",
       " 'mississippi,',\n",
       " 'go',\n",
       " 'back',\n",
       " ...]"
      ]
     },
     "execution_count": 14,
     "metadata": {},
     "output_type": "execute_result"
    }
   ],
   "source": [
    "with open('ihaveadream.txt', 'r') as file:\n",
    "    dream = file.read() #file에 있는 모든 데이터가 문자열로 저장\n",
    "dream = dream.replace(\"\\n\\n\", \" \").lower().split() #메서드체이닝 나오는 결과물을 계속해서 메서드를 연결하는 방식\n",
    "dream"
   ]
  },
  {
   "cell_type": "code",
   "execution_count": 15,
   "id": "756b8198",
   "metadata": {},
   "outputs": [
    {
     "data": {
      "text/plain": [
       "['a',\n",
       " 'about',\n",
       " 'above',\n",
       " 'across',\n",
       " 'after',\n",
       " 'again',\n",
       " 'against',\n",
       " 'all',\n",
       " 'almost',\n",
       " 'alone',\n",
       " 'along',\n",
       " 'already',\n",
       " 'also',\n",
       " 'although',\n",
       " 'always',\n",
       " 'among',\n",
       " 'an',\n",
       " 'and',\n",
       " 'another',\n",
       " 'any',\n",
       " 'anybody',\n",
       " 'anyone',\n",
       " 'anything',\n",
       " 'anywhere',\n",
       " 'are',\n",
       " 'area',\n",
       " 'areas',\n",
       " 'around',\n",
       " 'as',\n",
       " 'ask',\n",
       " 'asked',\n",
       " 'asking',\n",
       " 'asks',\n",
       " 'at',\n",
       " 'away',\n",
       " 'b',\n",
       " 'back',\n",
       " 'backed',\n",
       " 'backing',\n",
       " 'backs',\n",
       " 'be',\n",
       " 'became',\n",
       " 'because',\n",
       " 'become',\n",
       " 'becomes',\n",
       " 'been',\n",
       " 'before',\n",
       " 'began',\n",
       " 'behind',\n",
       " 'being',\n",
       " 'beings',\n",
       " 'best',\n",
       " 'better',\n",
       " 'between',\n",
       " 'big',\n",
       " 'both',\n",
       " 'but',\n",
       " 'by',\n",
       " 'c',\n",
       " 'came',\n",
       " 'can',\n",
       " 'cannot',\n",
       " 'case',\n",
       " 'cases',\n",
       " 'certain',\n",
       " 'certainly',\n",
       " 'clear',\n",
       " 'clearly',\n",
       " 'come',\n",
       " 'could',\n",
       " 'd',\n",
       " 'did',\n",
       " 'differ',\n",
       " 'different',\n",
       " 'differently',\n",
       " 'do',\n",
       " 'does',\n",
       " 'done',\n",
       " 'down',\n",
       " 'down',\n",
       " 'downed',\n",
       " 'downing',\n",
       " 'downs',\n",
       " 'during',\n",
       " 'e',\n",
       " 'each',\n",
       " 'early',\n",
       " 'either',\n",
       " 'end',\n",
       " 'ended',\n",
       " 'ending',\n",
       " 'ends',\n",
       " 'enough',\n",
       " 'even',\n",
       " 'evenly',\n",
       " 'ever',\n",
       " 'every',\n",
       " 'everybody',\n",
       " 'everyone',\n",
       " 'everything',\n",
       " 'everywhere',\n",
       " 'f',\n",
       " 'face',\n",
       " 'faces',\n",
       " 'fact',\n",
       " 'facts',\n",
       " 'far',\n",
       " 'felt',\n",
       " 'few',\n",
       " 'find',\n",
       " 'finds',\n",
       " 'first',\n",
       " 'for',\n",
       " 'four',\n",
       " 'from',\n",
       " 'full',\n",
       " 'fully',\n",
       " 'further',\n",
       " 'furthered',\n",
       " 'furthering',\n",
       " 'furthers',\n",
       " 'g',\n",
       " 'gave',\n",
       " 'general',\n",
       " 'generally',\n",
       " 'get',\n",
       " 'gets',\n",
       " 'give',\n",
       " 'given',\n",
       " 'gives',\n",
       " 'go',\n",
       " 'going',\n",
       " 'good',\n",
       " 'goods',\n",
       " 'got',\n",
       " 'great',\n",
       " 'greater',\n",
       " 'greatest',\n",
       " 'group',\n",
       " 'grouped',\n",
       " 'grouping',\n",
       " 'groups',\n",
       " 'h',\n",
       " 'had',\n",
       " 'has',\n",
       " 'have',\n",
       " 'having',\n",
       " 'he',\n",
       " 'her',\n",
       " 'here',\n",
       " 'herself',\n",
       " 'high',\n",
       " 'high',\n",
       " 'high',\n",
       " 'higher',\n",
       " 'highest',\n",
       " 'him',\n",
       " 'himself',\n",
       " 'his',\n",
       " 'how',\n",
       " 'however',\n",
       " 'i',\n",
       " 'if',\n",
       " 'important',\n",
       " 'in',\n",
       " 'interest',\n",
       " 'interested',\n",
       " 'interesting',\n",
       " 'interests',\n",
       " 'into',\n",
       " 'is',\n",
       " 'it',\n",
       " 'its',\n",
       " 'itself',\n",
       " 'j',\n",
       " 'just',\n",
       " 'k',\n",
       " 'keep',\n",
       " 'keeps',\n",
       " 'kind',\n",
       " 'knew',\n",
       " 'know',\n",
       " 'known',\n",
       " 'knows',\n",
       " 'l',\n",
       " 'large',\n",
       " 'largely',\n",
       " 'last',\n",
       " 'later',\n",
       " 'latest',\n",
       " 'least',\n",
       " 'less',\n",
       " 'let',\n",
       " 'lets',\n",
       " 'like',\n",
       " 'likely',\n",
       " 'long',\n",
       " 'longer',\n",
       " 'longest',\n",
       " 'm',\n",
       " 'made',\n",
       " 'make',\n",
       " 'making',\n",
       " 'man',\n",
       " 'many',\n",
       " 'may',\n",
       " 'me',\n",
       " 'member',\n",
       " 'members',\n",
       " 'men',\n",
       " 'might',\n",
       " 'more',\n",
       " 'most',\n",
       " 'mostly',\n",
       " 'mr',\n",
       " 'mrs',\n",
       " 'much',\n",
       " 'must',\n",
       " 'my',\n",
       " 'myself',\n",
       " 'n',\n",
       " 'necessary',\n",
       " 'need',\n",
       " 'needed',\n",
       " 'needing',\n",
       " 'needs',\n",
       " 'never',\n",
       " 'new',\n",
       " 'new',\n",
       " 'newer',\n",
       " 'newest',\n",
       " 'next',\n",
       " 'no',\n",
       " 'nobody',\n",
       " 'non',\n",
       " 'noone',\n",
       " 'not',\n",
       " 'nothing',\n",
       " 'now',\n",
       " 'nowhere',\n",
       " 'number',\n",
       " 'numbers',\n",
       " 'o',\n",
       " 'of',\n",
       " 'off',\n",
       " 'often',\n",
       " 'old',\n",
       " 'older',\n",
       " 'oldest',\n",
       " 'on',\n",
       " 'once',\n",
       " 'one',\n",
       " 'only',\n",
       " 'open',\n",
       " 'opened',\n",
       " 'opening',\n",
       " 'opens',\n",
       " 'or',\n",
       " 'order',\n",
       " 'ordered',\n",
       " 'ordering',\n",
       " 'orders',\n",
       " 'other',\n",
       " 'others',\n",
       " 'our',\n",
       " 'out',\n",
       " 'over',\n",
       " 'p',\n",
       " 'part',\n",
       " 'parted',\n",
       " 'parting',\n",
       " 'parts',\n",
       " 'per',\n",
       " 'perhaps',\n",
       " 'place',\n",
       " 'places',\n",
       " 'point',\n",
       " 'pointed',\n",
       " 'pointing',\n",
       " 'points',\n",
       " 'possible',\n",
       " 'present',\n",
       " 'presented',\n",
       " 'presenting',\n",
       " 'presents',\n",
       " 'problem',\n",
       " 'problems',\n",
       " 'put',\n",
       " 'puts',\n",
       " 'q',\n",
       " 'quite',\n",
       " 'r',\n",
       " 'rather',\n",
       " 'really',\n",
       " 'right',\n",
       " 'right',\n",
       " 'room',\n",
       " 'rooms',\n",
       " 's',\n",
       " 'said',\n",
       " 'same',\n",
       " 'saw',\n",
       " 'say',\n",
       " 'says',\n",
       " 'second',\n",
       " 'seconds',\n",
       " 'see',\n",
       " 'seem',\n",
       " 'seemed',\n",
       " 'seeming',\n",
       " 'seems',\n",
       " 'sees',\n",
       " 'several',\n",
       " 'shall',\n",
       " 'she',\n",
       " 'should',\n",
       " 'show',\n",
       " 'showed',\n",
       " 'showing',\n",
       " 'shows',\n",
       " 'side',\n",
       " 'sides',\n",
       " 'since',\n",
       " 'small',\n",
       " 'smaller',\n",
       " 'smallest',\n",
       " 'so',\n",
       " 'some',\n",
       " 'somebody',\n",
       " 'someone',\n",
       " 'something',\n",
       " 'somewhere',\n",
       " 'state',\n",
       " 'states',\n",
       " 'still',\n",
       " 'still',\n",
       " 'such',\n",
       " 'sure',\n",
       " 't',\n",
       " 'take',\n",
       " 'taken',\n",
       " 'than',\n",
       " 'that',\n",
       " 'the',\n",
       " 'their',\n",
       " 'them',\n",
       " 'then',\n",
       " 'there',\n",
       " 'therefore',\n",
       " 'these',\n",
       " 'they',\n",
       " 'thing',\n",
       " 'things',\n",
       " 'think',\n",
       " 'thinks',\n",
       " 'this',\n",
       " 'those',\n",
       " 'though',\n",
       " 'thought',\n",
       " 'thoughts',\n",
       " 'three',\n",
       " 'through',\n",
       " 'thus',\n",
       " 'to',\n",
       " 'today',\n",
       " 'together',\n",
       " 'too',\n",
       " 'took',\n",
       " 'toward',\n",
       " 'turn',\n",
       " 'turned',\n",
       " 'turning',\n",
       " 'turns',\n",
       " 'two',\n",
       " 'u',\n",
       " 'under',\n",
       " 'until',\n",
       " 'up',\n",
       " 'upon',\n",
       " 'us',\n",
       " 'use',\n",
       " 'used',\n",
       " 'uses',\n",
       " 'v',\n",
       " 'very',\n",
       " 'w',\n",
       " 'want',\n",
       " 'wanted',\n",
       " 'wanting',\n",
       " 'wants',\n",
       " 'was',\n",
       " 'way',\n",
       " 'ways',\n",
       " 'we',\n",
       " 'well',\n",
       " 'wells',\n",
       " 'went',\n",
       " 'were',\n",
       " 'what',\n",
       " 'when',\n",
       " 'where',\n",
       " 'whether',\n",
       " 'which',\n",
       " 'while',\n",
       " 'who',\n",
       " 'whole',\n",
       " 'whose',\n",
       " 'why',\n",
       " 'will',\n",
       " 'with',\n",
       " 'within',\n",
       " 'without',\n",
       " 'work',\n",
       " 'worked',\n",
       " 'working',\n",
       " 'works',\n",
       " 'would',\n",
       " 'x',\n",
       " 'y',\n",
       " 'year',\n",
       " 'years',\n",
       " 'yet',\n",
       " 'you',\n",
       " 'young',\n",
       " 'younger',\n",
       " 'youngest',\n",
       " 'your',\n",
       " 'yours',\n",
       " 'z']"
      ]
     },
     "execution_count": 15,
     "metadata": {},
     "output_type": "execute_result"
    }
   ],
   "source": [
    " with open('stopwords.txt', 'r') as expectionfile:\n",
    "        stopwords = expectionfile.read()\n",
    "stopwords = stopwords.replace('\\n\\n', ' ').split()\n",
    "stopwords"
   ]
  },
  {
   "cell_type": "code",
   "execution_count": 23,
   "id": "b4795092",
   "metadata": {},
   "outputs": [],
   "source": [
    "d={}\n",
    "for word in dream:\n",
    "    if word in stopwords:\n",
    "        pass\n",
    "    else :\n",
    "        #딕셔너리의 단어별 빈도수를 누적\n",
    "        #option1\n",
    "        d[word] = d.get(word, 0)+1 #여기서 0은 아무것도없을때 0으로 주는 것이다.\n",
    "        #option2\n",
    "#         if word not in d:\n",
    "#             d[word] = 1 \n",
    "#         else:\n",
    "#             d[word] += 1 \n",
    "d"
   ]
  },
  {
   "cell_type": "markdown",
   "id": "7ec5d78e",
   "metadata": {},
   "source": [
    "### 함수 사용하기\n",
    "\n",
    "- 코드의 용도가 확실하게 구분되게 보임\n",
    "- 코드를 재사용 가능"
   ]
  },
  {
   "cell_type": "markdown",
   "id": "fccae400",
   "metadata": {},
   "source": [
    "```\n",
    "def 함수이름():\n",
    "    코드\n",
    "```"
   ]
  },
  {
   "cell_type": "code",
   "execution_count": 24,
   "id": "e3fda3c5",
   "metadata": {},
   "outputs": [
    {
     "name": "stdout",
     "output_type": "stream",
     "text": [
      "hello world\n"
     ]
    }
   ],
   "source": [
    "def hello():\n",
    "    print(\"hello world\")\n",
    "    \n",
    "hello()"
   ]
  },
  {
   "cell_type": "markdown",
   "id": "cb2b0c83",
   "metadata": {},
   "source": [
    "```\n",
    "def 함수이름(매개변수1,매개변수2):\n",
    "    코드\n",
    "```"
   ]
  },
  {
   "cell_type": "code",
   "execution_count": 25,
   "id": "fb33799d",
   "metadata": {},
   "outputs": [
    {
     "name": "stdout",
     "output_type": "stream",
     "text": [
      "30\n"
     ]
    }
   ],
   "source": [
    "def add(a,b):\n",
    "    print(a+b)\n",
    "    \n",
    "add(10,20)"
   ]
  },
  {
   "cell_type": "markdown",
   "id": "0d449b6c",
   "metadata": {},
   "source": [
    "```\n",
    "def 함수이름(매개변수1,매개변수2):\n",
    "    return 반환값\n",
    "```"
   ]
  },
  {
   "cell_type": "code",
   "execution_count": 27,
   "id": "165e4818",
   "metadata": {},
   "outputs": [
    {
     "data": {
      "text/plain": [
       "30"
      ]
     },
     "execution_count": 27,
     "metadata": {},
     "output_type": "execute_result"
    }
   ],
   "source": [
    "def add(a,b):\n",
    "    return a+b\n",
    "c = add(10, 20)\n",
    "c"
   ]
  },
  {
   "cell_type": "markdown",
   "id": "2576232f",
   "metadata": {},
   "source": [
    "```\n",
    "def 함수이름(매개변수1,매개변수2):\n",
    "    return 반환값1, 반환값2\n",
    "```"
   ]
  },
  {
   "cell_type": "code",
   "execution_count": 31,
   "id": "e36f1441",
   "metadata": {},
   "outputs": [
    {
     "data": {
      "text/plain": [
       "(30, -10)"
      ]
     },
     "execution_count": 31,
     "metadata": {},
     "output_type": "execute_result"
    }
   ],
   "source": [
    "def add_sub(a,b):\n",
    "    return a+b, a-b\n",
    "c, d = add_sub(10, 20)\n",
    "c, d"
   ]
  },
  {
   "cell_type": "code",
   "execution_count": 33,
   "id": "cdcd02fc",
   "metadata": {},
   "outputs": [
    {
     "name": "stdout",
     "output_type": "stream",
     "text": [
      "30\n",
      "200\n"
     ]
    }
   ],
   "source": [
    "def mul(a, b):\n",
    "    c = a*b\n",
    "    return c\n",
    "def add_mul(a,b):\n",
    "    c= a+b\n",
    "    print(c)\n",
    "    d=mul(a,b)\n",
    "    print(d)\n",
    "    \n",
    "x = 10\n",
    "y = 20\n",
    "add_mul(x,y)"
   ]
  },
  {
   "cell_type": "markdown",
   "id": "ee263215",
   "metadata": {},
   "source": [
    "### 위치 인수 와 키워드 인수"
   ]
  },
  {
   "cell_type": "code",
   "execution_count": 34,
   "id": "6f92f02b",
   "metadata": {},
   "outputs": [
    {
     "name": "stdout",
     "output_type": "stream",
     "text": [
      "10\n",
      "20\n",
      "30\n"
     ]
    }
   ],
   "source": [
    "# 위치 인수 함수\n",
    "def print_numbers(a,b,c):\n",
    "    print(a)\n",
    "    print(b)\n",
    "    print(c)\n",
    "print_numbers(10,20,30)"
   ]
  },
  {
   "cell_type": "code",
   "execution_count": 39,
   "id": "e5c7ed45",
   "metadata": {},
   "outputs": [
    {
     "name": "stdout",
     "output_type": "stream",
     "text": [
      "10\n",
      "20\n",
      "30\n"
     ]
    }
   ],
   "source": [
    "l = [10,20,30]\n",
    "print_numbers(*l) #*는 언팩킹한다는 의미이다."
   ]
  },
  {
   "cell_type": "code",
   "execution_count": 36,
   "id": "aead60ff",
   "metadata": {},
   "outputs": [
    {
     "name": "stdout",
     "output_type": "stream",
     "text": [
      "10\n",
      "20\n",
      "30\n"
     ]
    }
   ],
   "source": [
    "#가변 인수함수\n",
    "def print_numbers(*args):#arguments는 객체로 인식하기 때문에 *으로 언팩킹하는 것이다.\n",
    "    for arg in args: #가변적인 매개변수이므로 for문으로 통해 추출\n",
    "        print(arg)\n",
    "print_numbers(10,20,30)"
   ]
  },
  {
   "cell_type": "code",
   "execution_count": 37,
   "id": "9f68514f",
   "metadata": {},
   "outputs": [
    {
     "name": "stdout",
     "output_type": "stream",
     "text": [
      "10\n"
     ]
    }
   ],
   "source": [
    "print_numbers(10)"
   ]
  },
  {
   "cell_type": "code",
   "execution_count": 38,
   "id": "a003dbdb",
   "metadata": {},
   "outputs": [
    {
     "name": "stdout",
     "output_type": "stream",
     "text": [
      "10\n",
      "20\n"
     ]
    }
   ],
   "source": [
    "print_numbers(10,20)"
   ]
  },
  {
   "cell_type": "code",
   "execution_count": 40,
   "id": "60a1ed0f",
   "metadata": {},
   "outputs": [
    {
     "name": "stdout",
     "output_type": "stream",
     "text": [
      "권준혁\n",
      "28\n",
      "서울\n"
     ]
    }
   ],
   "source": [
    "#키워드 인수 함수\n",
    "def personal_info(name, age, address):\n",
    "    print(name)\n",
    "    print(age)\n",
    "    print(address)\n",
    "personal_info('권준혁', 28, '서울')"
   ]
  },
  {
   "cell_type": "code",
   "execution_count": 41,
   "id": "8d401ef6",
   "metadata": {},
   "outputs": [
    {
     "name": "stdout",
     "output_type": "stream",
     "text": [
      "권준혁\n",
      "28\n",
      "서울\n"
     ]
    }
   ],
   "source": [
    "personal_info(name='권준혁', address='서울', age =28) #변수에 넣기 때문에 순서를 지킬필요가 없다."
   ]
  },
  {
   "cell_type": "code",
   "execution_count": 42,
   "id": "b4ae8f64",
   "metadata": {},
   "outputs": [
    {
     "name": "stdout",
     "output_type": "stream",
     "text": [
      "권준혁\n",
      "28\n",
      "서울\n"
     ]
    }
   ],
   "source": [
    "def personal_info(name, age, address= '서울'):\n",
    "    print(name)\n",
    "    print(age)\n",
    "    print(address)\n",
    "personal_info('권준혁', 28)"
   ]
  },
  {
   "cell_type": "code",
   "execution_count": 43,
   "id": "1c4cfd14",
   "metadata": {},
   "outputs": [
    {
     "name": "stdout",
     "output_type": "stream",
     "text": [
      "최원일\n",
      "25\n",
      "경주\n"
     ]
    }
   ],
   "source": [
    "personal_info('최원일', 25, '경주')"
   ]
  },
  {
   "cell_type": "markdown",
   "id": "2143f36f",
   "metadata": {},
   "source": [
    "### 람다표현식"
   ]
  },
  {
   "cell_type": "code",
   "execution_count": null,
   "id": "86081f97",
   "metadata": {},
   "outputs": [],
   "source": []
  }
 ],
 "metadata": {
  "kernelspec": {
   "display_name": "Python 3 (ipykernel)",
   "language": "python",
   "name": "python3"
  },
  "language_info": {
   "codemirror_mode": {
    "name": "ipython",
    "version": 3
   },
   "file_extension": ".py",
   "mimetype": "text/x-python",
   "name": "python",
   "nbconvert_exporter": "python",
   "pygments_lexer": "ipython3",
   "version": "3.9.12"
  }
 },
 "nbformat": 4,
 "nbformat_minor": 5
}
