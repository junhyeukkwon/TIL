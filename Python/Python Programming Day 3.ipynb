{
 "cells": [
  {
   "cell_type": "markdown",
   "id": "25f7d61b",
   "metadata": {},
   "source": [
    "### 딕셔너리"
   ]
  },
  {
   "cell_type": "markdown",
   "id": "369efd43",
   "metadata": {},
   "source": [
    "- 딕셔너리 = {키1:값1, 키2:값2}"
   ]
  },
  {
   "cell_type": "code",
   "execution_count": 45,
   "id": "d54be457",
   "metadata": {},
   "outputs": [
    {
     "data": {
      "text/plain": [
       "{'melee': 550, 'armor': 18.72, 'health': 490}"
      ]
     },
     "execution_count": 45,
     "metadata": {},
     "output_type": "execute_result"
    }
   ],
   "source": [
    "lux = {'melee':550, 'armor':18.72, 'health':490}\n",
    "lux"
   ]
  },
  {
   "cell_type": "code",
   "execution_count": 8,
   "id": "2087e80f",
   "metadata": {},
   "outputs": [
    {
     "data": {
      "text/plain": [
       "490"
      ]
     },
     "execution_count": 8,
     "metadata": {},
     "output_type": "execute_result"
    }
   ],
   "source": [
    "lux['health']"
   ]
  },
  {
   "cell_type": "code",
   "execution_count": 11,
   "id": "fe10a66d",
   "metadata": {},
   "outputs": [],
   "source": [
    "# 딕셔너리에서는 키 값이 중복 되어서는 안됨\n",
    "lux = {'health':490, 'health':800, 'health':1000, 'melee':550, 'armor':18.72} "
   ]
  },
  {
   "cell_type": "code",
   "execution_count": 12,
   "id": "c9f49993",
   "metadata": {},
   "outputs": [
    {
     "data": {
      "text/plain": [
       "1000"
      ]
     },
     "execution_count": 12,
     "metadata": {},
     "output_type": "execute_result"
    }
   ],
   "source": [
    "lux['health']"
   ]
  },
  {
   "cell_type": "code",
   "execution_count": null,
   "id": "5fc7316f",
   "metadata": {},
   "outputs": [],
   "source": [
    "# 딕셔너리의 키 : 문자열, 정수, 실수, 불, 튜플 등은 사용할 수 있음\n",
    "# 딕셔너리의 값 : 리스트, 딕셔너리 포함하여 모든 자료형을 사용할 수 있음"
   ]
  },
  {
   "cell_type": "code",
   "execution_count": 14,
   "id": "f220883c",
   "metadata": {},
   "outputs": [
    {
     "ename": "TypeError",
     "evalue": "unhashable type: 'list'",
     "output_type": "error",
     "traceback": [
      "\u001b[1;31m---------------------------------------------------------------------------\u001b[0m",
      "\u001b[1;31mTypeError\u001b[0m                                 Traceback (most recent call last)",
      "Input \u001b[1;32mIn [14]\u001b[0m, in \u001b[0;36m<cell line: 2>\u001b[1;34m()\u001b[0m\n\u001b[0;32m      1\u001b[0m \u001b[38;5;66;03m# 딕셔너리의 키값에는 읽기만 가능한(hashable) 자료형이 와야함 (리스트나 딕셔너리는 올 수 없음)\u001b[39;00m\n\u001b[1;32m----> 2\u001b[0m lux \u001b[38;5;241m=\u001b[39m {[\u001b[38;5;241m1\u001b[39m, \u001b[38;5;241m2\u001b[39m, \u001b[38;5;241m3\u001b[39m]:\u001b[38;5;241m490\u001b[39m, \u001b[38;5;124m'\u001b[39m\u001b[38;5;124mmelee\u001b[39m\u001b[38;5;124m'\u001b[39m:\u001b[38;5;241m550\u001b[39m, \u001b[38;5;124m'\u001b[39m\u001b[38;5;124marmor\u001b[39m\u001b[38;5;124m'\u001b[39m:\u001b[38;5;241m18.72\u001b[39m}\n",
      "\u001b[1;31mTypeError\u001b[0m: unhashable type: 'list'"
     ]
    }
   ],
   "source": [
    "# 딕셔너리의 키값에는 읽기만 가능한(hashable) 자료형이 와야함 (리스트나 딕셔너리는 올 수 없음)\n",
    "\n",
    "# 키값에 리스트를 넣은 경우\n",
    "lux = {[1, 2, 3]:490, 'melee':550, 'armor':18.72} "
   ]
  },
  {
   "cell_type": "code",
   "execution_count": 15,
   "id": "f47b5103",
   "metadata": {},
   "outputs": [
    {
     "ename": "TypeError",
     "evalue": "unhashable type: 'dict'",
     "output_type": "error",
     "traceback": [
      "\u001b[1;31m---------------------------------------------------------------------------\u001b[0m",
      "\u001b[1;31mTypeError\u001b[0m                                 Traceback (most recent call last)",
      "Input \u001b[1;32mIn [15]\u001b[0m, in \u001b[0;36m<cell line: 1>\u001b[1;34m()\u001b[0m\n\u001b[1;32m----> 1\u001b[0m lux \u001b[38;5;241m=\u001b[39m {{\u001b[38;5;124m'\u001b[39m\u001b[38;5;124ma\u001b[39m\u001b[38;5;124m'\u001b[39m:\u001b[38;5;241m1\u001b[39m, \u001b[38;5;124m'\u001b[39m\u001b[38;5;124mb\u001b[39m\u001b[38;5;124m'\u001b[39m:\u001b[38;5;241m2\u001b[39m}:\u001b[38;5;241m490\u001b[39m, \u001b[38;5;124m'\u001b[39m\u001b[38;5;124mmelee\u001b[39m\u001b[38;5;124m'\u001b[39m:\u001b[38;5;241m550\u001b[39m, \u001b[38;5;124m'\u001b[39m\u001b[38;5;124marmor\u001b[39m\u001b[38;5;124m'\u001b[39m:\u001b[38;5;241m18.72\u001b[39m}\n",
      "\u001b[1;31mTypeError\u001b[0m: unhashable type: 'dict'"
     ]
    }
   ],
   "source": [
    "# 키값에 딕셔너리를 넣은 경우\n",
    "lux = {{'a':1, 'b':2}:490, 'melee':550, 'armor':18.72} "
   ]
  },
  {
   "cell_type": "code",
   "execution_count": 16,
   "id": "293f15d2",
   "metadata": {},
   "outputs": [],
   "source": [
    "# 키값에 튜플을 넣은 경우(문제 없음)\n",
    "lux = {(1, 2):490, 'melee':550, 'armor':18.72} "
   ]
  },
  {
   "cell_type": "code",
   "execution_count": null,
   "id": "faec8def",
   "metadata": {},
   "outputs": [],
   "source": [
    "# 빈 딕셔너리 만들기"
   ]
  },
  {
   "cell_type": "markdown",
   "id": "6c3c84be",
   "metadata": {},
   "source": [
    "- 딕셔너리 = {}\n",
    "- 딕셔너리 = dict()"
   ]
  },
  {
   "cell_type": "code",
   "execution_count": 17,
   "id": "fb87d11f",
   "metadata": {},
   "outputs": [],
   "source": [
    "x = {}\n",
    "type(x)"
   ]
  },
  {
   "cell_type": "code",
   "execution_count": 19,
   "id": "5ed7e039",
   "metadata": {},
   "outputs": [],
   "source": [
    "y = dict()\n",
    "type(y)"
   ]
  },
  {
   "cell_type": "markdown",
   "id": "a2638fe7",
   "metadata": {},
   "source": [
    "**dict로 딕셔너리 만들기**"
   ]
  },
  {
   "cell_type": "markdown",
   "id": "fe54a840",
   "metadata": {},
   "source": [
    "- 딕셔너리 = dict(키1=값1, 키2=값2)\n",
    "- 딕셔너리 = dict(zip([키1, 키2], [값1, 값2]))\n",
    "- 딕셔너리 = dict([(키1, 값1), (키2, 값2)])\n",
    "- 딕셔너리 = dict({키1:값1, 키2:값2})"
   ]
  },
  {
   "cell_type": "code",
   "execution_count": 21,
   "id": "e6a9b3d4",
   "metadata": {},
   "outputs": [
    {
     "data": {
      "text/plain": [
       "{'health': 490, 'melee': 550, 'armor': 18.72}"
      ]
     },
     "execution_count": 21,
     "metadata": {},
     "output_type": "execute_result"
    }
   ],
   "source": [
    "lux = dict(health=490, melee=550, armor=18.72)\n",
    "lux"
   ]
  },
  {
   "cell_type": "code",
   "execution_count": 22,
   "id": "f00b0409",
   "metadata": {},
   "outputs": [
    {
     "data": {
      "text/plain": [
       "{'health': 490, 'melee': 550, 'armor': 18.72}"
      ]
     },
     "execution_count": 22,
     "metadata": {},
     "output_type": "execute_result"
    }
   ],
   "source": [
    "lux = dict(zip(['health', 'melee', 'armor'], [490, 550, 18.72]))\n",
    "lux"
   ]
  },
  {
   "cell_type": "code",
   "execution_count": 23,
   "id": "b3bce295",
   "metadata": {},
   "outputs": [
    {
     "data": {
      "text/plain": [
       "<zip at 0x2be71bd03c0>"
      ]
     },
     "execution_count": 23,
     "metadata": {},
     "output_type": "execute_result"
    }
   ],
   "source": [
    "# 참고 (zip : 두 시퀀스객체의 개별 원소끼리 짝을 지어줌)\n",
    "zip(['health', 'melee', 'armor'], [490, 550, 18.72])"
   ]
  },
  {
   "cell_type": "code",
   "execution_count": 24,
   "id": "cae7c398",
   "metadata": {},
   "outputs": [
    {
     "data": {
      "text/plain": [
       "[('health', 490), ('melee', 550), ('armor', 18.72)]"
      ]
     },
     "execution_count": 24,
     "metadata": {},
     "output_type": "execute_result"
    }
   ],
   "source": [
    "list(zip(['health', 'melee', 'armor'], [490, 550, 18.72]))"
   ]
  },
  {
   "cell_type": "code",
   "execution_count": 25,
   "id": "f2aabb37",
   "metadata": {},
   "outputs": [
    {
     "data": {
      "text/plain": [
       "{'health': 490, 'melee': 550, 'armor': 18.72}"
      ]
     },
     "execution_count": 25,
     "metadata": {},
     "output_type": "execute_result"
    }
   ],
   "source": [
    "dict(zip(['health', 'melee', 'armor'], [490, 550, 18.72]))"
   ]
  },
  {
   "cell_type": "code",
   "execution_count": 26,
   "id": "bd748430",
   "metadata": {},
   "outputs": [
    {
     "data": {
      "text/plain": [
       "(('health', 490), ('melee', 550), ('armor', 18.72))"
      ]
     },
     "execution_count": 26,
     "metadata": {},
     "output_type": "execute_result"
    }
   ],
   "source": [
    "tuple(zip(['health', 'melee', 'armor'], [490, 550, 18.72]))"
   ]
  },
  {
   "cell_type": "markdown",
   "id": "f43a0cf9",
   "metadata": {},
   "source": [
    "**딕셔너리의 키로 값 조회하기**"
   ]
  },
  {
   "cell_type": "markdown",
   "id": "851e496b",
   "metadata": {},
   "source": [
    "- 딕셔너리[키]"
   ]
  },
  {
   "cell_type": "code",
   "execution_count": 27,
   "id": "82b2fb01",
   "metadata": {},
   "outputs": [
    {
     "data": {
      "text/plain": [
       "490"
      ]
     },
     "execution_count": 27,
     "metadata": {},
     "output_type": "execute_result"
    }
   ],
   "source": [
    "lux['health']"
   ]
  },
  {
   "cell_type": "markdown",
   "id": "288dc78d",
   "metadata": {},
   "source": [
    "**딕셔너리의 키게 값 할당하기**"
   ]
  },
  {
   "cell_type": "markdown",
   "id": "ad855e79",
   "metadata": {},
   "source": [
    "- 딕셔너리[키] = 값"
   ]
  },
  {
   "cell_type": "code",
   "execution_count": 28,
   "id": "2fa5db2b",
   "metadata": {},
   "outputs": [
    {
     "data": {
      "text/plain": [
       "{'health': 490, 'melee': 550, 'armor': 18.72}"
      ]
     },
     "execution_count": 28,
     "metadata": {},
     "output_type": "execute_result"
    }
   ],
   "source": [
    "lux"
   ]
  },
  {
   "cell_type": "code",
   "execution_count": 29,
   "id": "66bee793",
   "metadata": {},
   "outputs": [
    {
     "data": {
      "text/plain": [
       "{'health': 1000, 'melee': 550, 'armor': 18.72}"
      ]
     },
     "execution_count": 29,
     "metadata": {},
     "output_type": "execute_result"
    }
   ],
   "source": [
    "# 변경\n",
    "lux['health'] = 1000\n",
    "lux"
   ]
  },
  {
   "cell_type": "code",
   "execution_count": 30,
   "id": "d4340b91",
   "metadata": {},
   "outputs": [
    {
     "data": {
      "text/plain": [
       "{'health': 1000, 'melee': 550, 'armor': 18.72, 'mana': 500}"
      ]
     },
     "execution_count": 30,
     "metadata": {},
     "output_type": "execute_result"
    }
   ],
   "source": [
    "# 추가 (키:값)\n",
    "lux['mana'] = 500\n",
    "lux"
   ]
  },
  {
   "cell_type": "code",
   "execution_count": 31,
   "id": "5af5f9c1",
   "metadata": {},
   "outputs": [
    {
     "ename": "KeyError",
     "evalue": "'attack_speed'",
     "output_type": "error",
     "traceback": [
      "\u001b[1;31m---------------------------------------------------------------------------\u001b[0m",
      "\u001b[1;31mKeyError\u001b[0m                                  Traceback (most recent call last)",
      "Input \u001b[1;32mIn [31]\u001b[0m, in \u001b[0;36m<cell line: 1>\u001b[1;34m()\u001b[0m\n\u001b[1;32m----> 1\u001b[0m \u001b[43mlux\u001b[49m\u001b[43m[\u001b[49m\u001b[38;5;124;43m'\u001b[39;49m\u001b[38;5;124;43mattack_speed\u001b[39;49m\u001b[38;5;124;43m'\u001b[39;49m\u001b[43m]\u001b[49m\n",
      "\u001b[1;31mKeyError\u001b[0m: 'attack_speed'"
     ]
    }
   ],
   "source": [
    "# 존재하지 않는 키를 조회하면 keyError\n",
    "lux['attack_speed']"
   ]
  },
  {
   "cell_type": "markdown",
   "id": "4c6b566e",
   "metadata": {},
   "source": [
    "**딕셔너리에 키가 있는지 확인하기**"
   ]
  },
  {
   "cell_type": "markdown",
   "id": "019c0c90",
   "metadata": {},
   "source": [
    "- 키 in 딕셔너리"
   ]
  },
  {
   "cell_type": "code",
   "execution_count": 32,
   "id": "00602001",
   "metadata": {},
   "outputs": [
    {
     "data": {
      "text/plain": [
       "{'health': 1000, 'melee': 550, 'armor': 18.72, 'mana': 500}"
      ]
     },
     "execution_count": 32,
     "metadata": {},
     "output_type": "execute_result"
    }
   ],
   "source": [
    "lux"
   ]
  },
  {
   "cell_type": "code",
   "execution_count": 33,
   "id": "01a94fe3",
   "metadata": {},
   "outputs": [
    {
     "data": {
      "text/plain": [
       "True"
      ]
     },
     "execution_count": 33,
     "metadata": {},
     "output_type": "execute_result"
    }
   ],
   "source": [
    "'health' in lux"
   ]
  },
  {
   "cell_type": "code",
   "execution_count": 34,
   "id": "054dee8c",
   "metadata": {},
   "outputs": [
    {
     "data": {
      "text/plain": [
       "True"
      ]
     },
     "execution_count": 34,
     "metadata": {},
     "output_type": "execute_result"
    }
   ],
   "source": [
    "'attack_speed' not in lux"
   ]
  },
  {
   "cell_type": "markdown",
   "id": "787de915",
   "metadata": {},
   "source": [
    "**딕셔너리의 키 개수 구하기**"
   ]
  },
  {
   "cell_type": "markdown",
   "id": "1ee12fcd",
   "metadata": {},
   "source": [
    "- len(딕셔너리)"
   ]
  },
  {
   "cell_type": "code",
   "execution_count": 35,
   "id": "e99717f2",
   "metadata": {},
   "outputs": [
    {
     "data": {
      "text/plain": [
       "4"
      ]
     },
     "execution_count": 35,
     "metadata": {},
     "output_type": "execute_result"
    }
   ],
   "source": [
    "len(lux)"
   ]
  },
  {
   "cell_type": "markdown",
   "id": "8a43d44c",
   "metadata": {},
   "source": [
    "### Workshop"
   ]
  },
  {
   "cell_type": "markdown",
   "id": "3e3e814c",
   "metadata": {},
   "source": [
    "**게임 캐릭터 능력 저장**"
   ]
  },
  {
   "cell_type": "markdown",
   "id": "958be3f3",
   "metadata": {},
   "source": [
    "- 표준 입력으로 문자열 여러 개와 숫자(실수) 여러 개가 두 줄로 입력됩니다. 입력된 첫 번째 줄은 키, 두 번째 줄은 값으로 하여 딕셔너리를 생성한 뒤 딕셔너리를 출력하는 프로그램을 만드세요. input().split()의 결과를 변수 한개에 저장하면 리스트로 저장됩니다.\n",
    "\n",
    "```\n",
    "(입력예)\n",
    "health health_regen mana mana_regen\n",
    "575.6 1.7 338.8 1.63\n",
    "\n",
    "(결과)\n",
    "{'health':575.6, 'health_regen':1.7, 'mana':338.8, 'mana_regen':1.63}\n",
    "```"
   ]
  },
  {
   "cell_type": "code",
   "execution_count": 44,
   "id": "e6492f31",
   "metadata": {},
   "outputs": [
    {
     "name": "stdout",
     "output_type": "stream",
     "text": [
      "health health_regen mana mana_regen\n",
      "575.6 1.7 338.8 1.63\n",
      "{'health': 575.6, 'health_regen': 1.7, 'mana': 338.8, 'mana_regen': 1.63}\n"
     ]
    }
   ],
   "source": [
    "k = input().split()\n",
    "v = map(float, input().split()) # zip의 parameter가 iterable 객체도 가능하므로 list로 변환하지 않아도됨\n",
    "# v = list(map(float, input().split())) # list로 변환해도 됨\n",
    "\n",
    "print(dict(zip(k, v)))"
   ]
  },
  {
   "cell_type": "markdown",
   "id": "e7eb3f20",
   "metadata": {},
   "source": [
    "### Workshop"
   ]
  },
  {
   "cell_type": "markdown",
   "id": "fde295a3",
   "metadata": {},
   "source": [
    "**온라인 할인쿠폰**"
   ]
  },
  {
   "cell_type": "markdown",
   "id": "22bdb97e",
   "metadata": {},
   "source": [
    "- 표준 입력으로 가격(정수)과 쿠폰 이름이 각 줄에 입력됩니다. Cash3000 쿠폰은 3,000원, Cash5000 쿠폰은 5,000원을 할인합니다. 쿠폰에 따라 할인된 가격을 출력하는 프로그램을 만드세요(input에서 안내 뭄ㄴ자열은 출력하지 않아야 합니다.)\n",
    "\n",
    "```\n",
    "입력예\n",
    "27000\n",
    "Cash3000\n",
    "\n",
    "결과\n",
    "24000\n",
    "```"
   ]
  },
  {
   "cell_type": "code",
   "execution_count": 48,
   "id": "58e72fe4",
   "metadata": {},
   "outputs": [
    {
     "name": "stdout",
     "output_type": "stream",
     "text": [
      "27000\n",
      "Cash3000\n",
      "24000\n"
     ]
    }
   ],
   "source": [
    "price = int(input())\n",
    "coupon = input()\n",
    "\n",
    "if coupon == \"Cash3000\":\n",
    "    price -= 3000\n",
    "if coupon == \"Cash5000\": # elif 도 가능\n",
    "    price -= 5000\n",
    "print(price)"
   ]
  },
  {
   "cell_type": "markdown",
   "id": "8db88845",
   "metadata": {},
   "source": [
    "**과목 평균 점수에 따른 합격 불합격**"
   ]
  },
  {
   "cell_type": "markdown",
   "id": "d2f3a717",
   "metadata": {},
   "source": [
    "- 표준입력으로 국어, 영어, 수학, 과학 점수가 입력됩니다. 여기서 네 과목의 평균 점수가 80점 이상일때 합격이라고 정했습니다. 평균 점수에 따라 \"합격\", \"불합격\"을 출력하는 프로그램을 만드세요(input에서 안내 문자열은 출력하지 않아야 합니다). 단, 점수는 0점부터 100점까지만 입력받을 수 있으며 범위를 벗어난다면 '잘못된 점수'를 출력하고 합격, 불합격 여부는 출력하지 않아야 합니다."
   ]
  },
  {
   "cell_type": "code",
   "execution_count": 61,
   "id": "5f36340f",
   "metadata": {},
   "outputs": [
    {
     "name": "stdout",
     "output_type": "stream",
     "text": [
      "102 80 90 99\n"
     ]
    }
   ],
   "source": [
    "k, e, m, s = map(int, input().split())"
   ]
  },
  {
   "cell_type": "code",
   "execution_count": 62,
   "id": "93f9a1de",
   "metadata": {},
   "outputs": [
    {
     "name": "stdout",
     "output_type": "stream",
     "text": [
      "잘못된 점수\n"
     ]
    }
   ],
   "source": [
    "if (0 <= k <= 100 and 0 <= e <= 100 and 0 <= m <= 100 and 0 <= s <= 100 ): # 가능한 점수 범위를 체크\n",
    "    mean = (k + e + m + s)/4\n",
    "    if(mean >= 80): # 합격 가능한 범위를 체크\n",
    "        print(\"합격\")\n",
    "    else: # 불합격\n",
    "        print(\"불합격\")    \n",
    "else: # 범위를 넘어간 점수\n",
    "    print(\"잘못된 점수\")"
   ]
  },
  {
   "cell_type": "markdown",
   "id": "67fdcdd5",
   "metadata": {},
   "source": [
    "**교통 카드 시스템 만들기**\n",
    "\n",
    "표준 입력으로 나이(만 나이)가 입력됩니다(입력 값은 7 이상 입력됨). 교통카드 시스템에서 시내버스 요금은 다음과 같으며 각 나이에 맞게 요금을 차감한 뒤 잔액이 출력되게 만드세요(if, elif 사용). 현재 교통카드에는 9,000원이 들어있습니다. \n",
    "\n",
    "- 어린이(초등학생, 만 7세 이상 12세 이하): 650원 \n",
    "- 청소년(중∙고등학생, 만 13세 이상 18세 이하): 1,050원 \n",
    "- 어른(일반, 만 19세 이상): 1,250원\n",
    "\n",
    "```\n",
    "age = int(input()) \n",
    "balance = 9000 # 교통카드 잔액 \n",
    "________________ \n",
    "________________ \n",
    "________________ \n",
    "print(balance)\n",
    "```"
   ]
  },
  {
   "cell_type": "code",
   "execution_count": 72,
   "id": "c65e76e4",
   "metadata": {},
   "outputs": [
    {
     "name": "stdout",
     "output_type": "stream",
     "text": [
      "5\n"
     ]
    }
   ],
   "source": [
    "age = int(input())\n",
    "balance = 9000\n",
    "\n",
    "if 7 <= age <= 12: # 어린이\n",
    "    balance -= 650 # balance = balance = 650\n",
    "elif 13 <= age <= 18:\n",
    "    balance -= 1050\n",
    "elif age >= 19:\n",
    "    balance -= 1250    \n",
    "\n",
    "print(balance)"
   ]
  },
  {
   "cell_type": "markdown",
   "id": "e4108113",
   "metadata": {},
   "source": [
    "### for와 range 사용하기"
   ]
  },
  {
   "cell_type": "markdown",
   "id": "4549edc3",
   "metadata": {},
   "source": [
    "```\n",
    "for 변수 in range(횟수):\n",
    "    반복할 코드\n",
    "```   "
   ]
  },
  {
   "cell_type": "code",
   "execution_count": 75,
   "id": "4a38d7f0",
   "metadata": {},
   "outputs": [
    {
     "name": "stdout",
     "output_type": "stream",
     "text": [
      "Hello, World!\n",
      "Hello, World!\n",
      "Hello, World!\n",
      "Hello, World!\n",
      "Hello, World!\n",
      "Hello, World!\n",
      "Hello, World!\n",
      "Hello, World!\n",
      "Hello, World!\n",
      "Hello, World!\n"
     ]
    }
   ],
   "source": [
    "for i in range(10):\n",
    "    print(\"Hello, World!\")"
   ]
  },
  {
   "cell_type": "markdown",
   "id": "ec119281",
   "metadata": {},
   "source": [
    "- for 변수 in range(시작, 끝, 증가폭):"
   ]
  },
  {
   "cell_type": "code",
   "execution_count": 77,
   "id": "f52fc1ed",
   "metadata": {},
   "outputs": [
    {
     "name": "stdout",
     "output_type": "stream",
     "text": [
      "Hello, World!\n",
      "Hello, World!\n",
      "Hello, World!\n",
      "Hello, World!\n",
      "Hello, World!\n"
     ]
    }
   ],
   "source": [
    "for i in range(0, 10, 2):\n",
    "    print(\"Hello, World!\")"
   ]
  },
  {
   "cell_type": "code",
   "execution_count": 80,
   "id": "fc641765",
   "metadata": {},
   "outputs": [
    {
     "name": "stdout",
     "output_type": "stream",
     "text": [
      "Hello, World!\n",
      "Hello, World!\n",
      "Hello, World!\n",
      "Hello, World!\n",
      "Hello, World!\n",
      "Hello, World!\n",
      "Hello, World!\n",
      "Hello, World!\n",
      "Hello, World!\n",
      "Hello, World!\n"
     ]
    }
   ],
   "source": [
    "for i in range(10, 0, -1):\n",
    "    print(\"Hello, World!\")"
   ]
  },
  {
   "cell_type": "code",
   "execution_count": 82,
   "id": "d4956754",
   "metadata": {},
   "outputs": [
    {
     "data": {
      "text/plain": [
       "[9, 8, 7, 6, 5, 4, 3, 2, 1, 0]"
      ]
     },
     "execution_count": 82,
     "metadata": {},
     "output_type": "execute_result"
    }
   ],
   "source": [
    "list(reversed(range(10)))"
   ]
  },
  {
   "cell_type": "code",
   "execution_count": 84,
   "id": "2dedd321",
   "metadata": {},
   "outputs": [
    {
     "name": "stdout",
     "output_type": "stream",
     "text": [
      "Hello, World! 9\n",
      "Hello, World! 8\n",
      "Hello, World! 7\n",
      "Hello, World! 6\n",
      "Hello, World! 5\n",
      "Hello, World! 4\n",
      "Hello, World! 3\n",
      "Hello, World! 2\n",
      "Hello, World! 1\n",
      "Hello, World! 0\n"
     ]
    }
   ],
   "source": [
    "for i in reversed(range(10)):\n",
    "    print(\"Hello, World!\", i)"
   ]
  },
  {
   "cell_type": "code",
   "execution_count": 85,
   "id": "cf1f56a3",
   "metadata": {},
   "outputs": [
    {
     "name": "stdout",
     "output_type": "stream",
     "text": [
      "Hello, World! 9\n",
      "Hello, World! 8\n",
      "Hello, World! 7\n",
      "Hello, World! 6\n",
      "Hello, World! 5\n",
      "Hello, World! 4\n",
      "Hello, World! 3\n",
      "Hello, World! 2\n",
      "Hello, World! 1\n",
      "Hello, World! 0\n"
     ]
    }
   ],
   "source": [
    "for i in reversed(range(0, 10)):\n",
    "    print(\"Hello, World!\", i)"
   ]
  },
  {
   "cell_type": "code",
   "execution_count": 86,
   "id": "791982e4",
   "metadata": {},
   "outputs": [
    {
     "name": "stdout",
     "output_type": "stream",
     "text": [
      "Hello, World! 8\n",
      "Hello, World! 6\n",
      "Hello, World! 4\n",
      "Hello, World! 2\n",
      "Hello, World! 0\n"
     ]
    }
   ],
   "source": [
    "for i in reversed(range(0, 10, 2)):\n",
    "    print(\"Hello, World!\", i)"
   ]
  },
  {
   "cell_type": "markdown",
   "id": "591977e9",
   "metadata": {},
   "source": [
    "```\n",
    "for 변수 in 시퀀스객체:\n",
    "    반복할 코드\n",
    "```   "
   ]
  },
  {
   "cell_type": "code",
   "execution_count": 87,
   "id": "463a0427",
   "metadata": {},
   "outputs": [
    {
     "name": "stdout",
     "output_type": "stream",
     "text": [
      "10\n",
      "20\n",
      "30\n",
      "40\n",
      "50\n"
     ]
    }
   ],
   "source": [
    "a = [10, 20, 30, 40, 50]\n",
    "\n",
    "for i in a:\n",
    "    print(i)"
   ]
  },
  {
   "cell_type": "code",
   "execution_count": 88,
   "id": "f43594d0",
   "metadata": {},
   "outputs": [
    {
     "name": "stdout",
     "output_type": "stream",
     "text": [
      "10\n",
      "20\n",
      "30\n",
      "40\n",
      "50\n"
     ]
    }
   ],
   "source": [
    "b = (10, 20, 30, 40, 50)\n",
    "\n",
    "for i in b:\n",
    "    print(i)"
   ]
  },
  {
   "cell_type": "code",
   "execution_count": 89,
   "id": "8bf40ede",
   "metadata": {},
   "outputs": [
    {
     "name": "stdout",
     "output_type": "stream",
     "text": [
      "P\n",
      "y\n",
      "t\n",
      "h\n",
      "o\n",
      "n\n"
     ]
    }
   ],
   "source": [
    "c = \"Python\"\n",
    "\n",
    "for i in c:\n",
    "    print(i)"
   ]
  },
  {
   "cell_type": "code",
   "execution_count": 90,
   "id": "692f8546",
   "metadata": {},
   "outputs": [
    {
     "name": "stdout",
     "output_type": "stream",
     "text": [
      "n\n",
      "o\n",
      "h\n",
      "t\n",
      "y\n",
      "P\n"
     ]
    }
   ],
   "source": [
    "for i in reversed(c):\n",
    "    print(i)"
   ]
  },
  {
   "cell_type": "markdown",
   "id": "9fefa082",
   "metadata": {},
   "source": [
    "### Workshop"
   ]
  },
  {
   "cell_type": "markdown",
   "id": "eea7d73b",
   "metadata": {},
   "source": [
    "**구구단 출력 프로그램**\n",
    "- 표준 입력으로 성수가 입력됩니다. 입력된 정수의 구구단을 출력하는 프로그램을 만드세요(input에서 안내 문자열은 출력하지 않아야 합니다). 출력형식은 숫자 * 숫자 = 숫자 처럼 만들고 숫자와 *, = 사이는 공백을 한칸 띄웁니다.\n",
    "\n",
    "```\n",
    "입력 예\n",
    "2\n",
    "\n",
    "결과\n",
    "2 * 1 = 2\n",
    "2 * 2 = 4\n",
    "2 * 3 = 6\n",
    "2 * 4 = 8\n",
    "2 * 5 = 10\n",
    "2 * 6 = 12\n",
    "2 * 7 = 14\n",
    "2 * 8 = 16\n",
    "2 * 9 = 18\n",
    "```"
   ]
  },
  {
   "cell_type": "code",
   "execution_count": 91,
   "id": "6c738ffb",
   "metadata": {},
   "outputs": [
    {
     "name": "stdout",
     "output_type": "stream",
     "text": [
      "2\n",
      "2 * 1 = 2\n",
      "2 * 2 = 4\n",
      "2 * 3 = 6\n",
      "2 * 4 = 8\n",
      "2 * 5 = 10\n",
      "2 * 6 = 12\n",
      "2 * 7 = 14\n",
      "2 * 8 = 16\n",
      "2 * 9 = 18\n"
     ]
    }
   ],
   "source": [
    "n = int(input())\n",
    "for i in range(1, 10):\n",
    "    print(n, '*', i, '=', n*i)"
   ]
  },
  {
   "cell_type": "markdown",
   "id": "8967c861",
   "metadata": {},
   "source": [
    "### while 반복문 사용하기"
   ]
  },
  {
   "cell_type": "markdown",
   "id": "ef67dc22",
   "metadata": {},
   "source": [
    "```\n",
    "초기식\n",
    "while 조건식:\n",
    "    반복할 코드\n",
    "    변화식\n",
    "```    "
   ]
  },
  {
   "cell_type": "code",
   "execution_count": 96,
   "id": "894dfac1",
   "metadata": {},
   "outputs": [
    {
     "name": "stdout",
     "output_type": "stream",
     "text": [
      "Hello, world!\n",
      "Hello, world!\n",
      "Hello, world!\n",
      "Hello, world!\n",
      "Hello, world!\n",
      "Hello, world!\n",
      "Hello, world!\n",
      "Hello, world!\n",
      "Hello, world!\n",
      "Hello, world!\n"
     ]
    }
   ],
   "source": [
    "i = 10\n",
    "while i > 0:\n",
    "    print(\"Hello, world!\")\n",
    "    i -= 1"
   ]
  },
  {
   "cell_type": "code",
   "execution_count": null,
   "id": "ba3e83f7",
   "metadata": {},
   "outputs": [],
   "source": [
    "주사위눈을 출력하고 \"3\"이 나왔을때 멈추기"
   ]
  },
  {
   "cell_type": "code",
   "execution_count": 97,
   "id": "b0c4eb68",
   "metadata": {},
   "outputs": [],
   "source": [
    "import random"
   ]
  },
  {
   "cell_type": "code",
   "execution_count": 102,
   "id": "161754e5",
   "metadata": {},
   "outputs": [
    {
     "data": {
      "text/plain": [
       "5"
      ]
     },
     "execution_count": 102,
     "metadata": {},
     "output_type": "execute_result"
    }
   ],
   "source": [
    "random.randint(1, 6) # 1에서 6사이의 무작위수 추출"
   ]
  },
  {
   "cell_type": "code",
   "execution_count": 105,
   "id": "7309ac8c",
   "metadata": {},
   "outputs": [
    {
     "name": "stdout",
     "output_type": "stream",
     "text": [
      "2\n",
      "4\n",
      "6\n",
      "5\n",
      "1\n",
      "2\n",
      "2\n",
      "6\n",
      "5\n",
      "3\n"
     ]
    }
   ],
   "source": [
    "i = 0\n",
    "while i != 3:\n",
    "    i = random.randint(1, 6)\n",
    "    print(i)"
   ]
  },
  {
   "cell_type": "markdown",
   "id": "bcf0fd08",
   "metadata": {},
   "source": [
    "### Workshop"
   ]
  },
  {
   "cell_type": "markdown",
   "id": "1c9b278d",
   "metadata": {},
   "source": [
    "**교통카드 잔액 출력하기**\n",
    "- 표준입력으로 금액(정수)이 입력됩니다. 1회당 요금은 1,350이고, 교통카드를 사용했을 때마다의 잔액을 각 줄에 출력하는 프로그램을 만드세요(input에서 안내 문자열은 출려갛지 않아야 합니다). 단, 최초 금액은 출력하지 않아야 합니다. 그리고 잔액은 음수가 될 수 없으며 잔액이 부족하면 출력을 끝냅니다."
   ]
  },
  {
   "cell_type": "code",
   "execution_count": 109,
   "id": "b24cdabe",
   "metadata": {},
   "outputs": [
    {
     "name": "stdout",
     "output_type": "stream",
     "text": [
      "10000\n"
     ]
    }
   ],
   "source": [
    "amount = int(input())\n",
    "\n",
    "while amount >= 1350:\n",
    "    amount -= 1350\n",
    "    print(amount)"
   ]
  },
  {
   "cell_type": "markdown",
   "id": "c0063106",
   "metadata": {},
   "source": [
    "**3으로 끝나는 숫자만 출력하기**\n",
    "- 0과 73 사이의 숫자 중 3으로 끝나는 숫자만 출력되게 만드세요."
   ]
  },
  {
   "cell_type": "code",
   "execution_count": 111,
   "id": "d9fc1922",
   "metadata": {},
   "outputs": [
    {
     "name": "stdout",
     "output_type": "stream",
     "text": [
      "3 13 23 33 43 53 63 73 "
     ]
    }
   ],
   "source": [
    "i = 0\n",
    "while True:\n",
    "    if i % 10 != 3: # 3으로 끝나지 않는 숫자들은 출력하지 않고 반복만 계속되도록\n",
    "        i += 1\n",
    "        continue\n",
    "    if i > 73:\n",
    "        break\n",
    "    \n",
    "    print(i, end=' ')\n",
    "    i += 1"
   ]
  },
  {
   "cell_type": "markdown",
   "id": "48fc3e21",
   "metadata": {},
   "source": [
    "**알파벳별 빈도 사전 등록**\n",
    "- 다음의 주어진 문자열 s에서 알파벳 별 빈도를 사전형인 d에 등록하는 파이썬 코드블럭을 작성하시오. \n",
    "\n",
    "```\n",
    "s = ‘life is short, so python is easy.’ \n",
    "punct = ‘,. ’ \n",
    "d = {} \n",
    "\n",
    "결과 print(d) (순서는 상관 없음)\n",
    "{'a': 1, 'e': 2, 'f': 1, 'i': 3, 'h': 2, 'l': 1, 'o': 3, 'n': 1, 'p': 1, 's': 5, 'r': 1, 't': 2, 'y': 2}\n",
    "\n",
    "```"
   ]
  },
  {
   "cell_type": "code",
   "execution_count": 115,
   "id": "d354b35e",
   "metadata": {},
   "outputs": [
    {
     "name": "stdout",
     "output_type": "stream",
     "text": [
      "{'l': 1, 'i': 3, 'f': 1, 'e': 2, 's': 5, 'h': 2, 'o': 3, 'r': 1, 't': 2, 'p': 1, 'y': 2, 'n': 1, 'a': 1}\n"
     ]
    }
   ],
   "source": [
    "s = \"life is short, so python is easy.\"\n",
    "punct = \",. \"\n",
    "d = {}\n",
    "\n",
    "for i in s:\n",
    "    if i in punct:\n",
    "        continue\n",
    "    if i not in d:\n",
    "        d[i] = 1 # d['l'] = 1, d['i'] = 1 ....\n",
    "    else:\n",
    "        d[i] += 1 # d['i'] = 2 ....\n",
    "print(d)"
   ]
  },
  {
   "cell_type": "markdown",
   "id": "7f2cd0fb",
   "metadata": {},
   "source": [
    "**계단식으로 별 출력하기**"
   ]
  },
  {
   "cell_type": "code",
   "execution_count": 120,
   "id": "c39dc13d",
   "metadata": {},
   "outputs": [
    {
     "name": "stdout",
     "output_type": "stream",
     "text": [
      "*\n",
      "**\n",
      "***\n",
      "****\n",
      "*****\n"
     ]
    }
   ],
   "source": [
    "for i in range(5):\n",
    "    for j in range(5):\n",
    "        if j<=i:\n",
    "            print(\"*\", end=\"\")\n",
    "    print()"
   ]
  },
  {
   "cell_type": "code",
   "execution_count": 116,
   "id": "cf4741b6",
   "metadata": {},
   "outputs": [
    {
     "name": "stdout",
     "output_type": "stream",
     "text": [
      "*\n",
      "**\n",
      "***\n",
      "****\n",
      "*****\n"
     ]
    }
   ],
   "source": [
    "for i in range(5):\n",
    "    for j in range(i+1):\n",
    "        print('*', end='')\n",
    "    print()"
   ]
  },
  {
   "cell_type": "code",
   "execution_count": 121,
   "id": "2feabf54",
   "metadata": {},
   "outputs": [
    {
     "name": "stdout",
     "output_type": "stream",
     "text": [
      "*****\n",
      " ****\n",
      "  ***\n",
      "   **\n",
      "    *\n"
     ]
    }
   ],
   "source": [
    "for i in range(5):\n",
    "    for j in range(5):\n",
    "        if j < i:\n",
    "            print(\" \", end=\"\")\n",
    "        else:\n",
    "            print(\"*\", end=\"\")                    \n",
    "    print()"
   ]
  },
  {
   "cell_type": "code",
   "execution_count": 118,
   "id": "1c2a42ec",
   "metadata": {},
   "outputs": [
    {
     "name": "stdout",
     "output_type": "stream",
     "text": [
      "*****\n",
      " ****\n",
      "  ***\n",
      "   **\n",
      "    *\n"
     ]
    }
   ],
   "source": [
    "for i in range(5):\n",
    "    for j in range(i):\n",
    "        print(\" \", end=\"\")\n",
    "    for j in range(5-i):\n",
    "        print(\"*\", end=\"\")\n",
    "    print()"
   ]
  },
  {
   "cell_type": "code",
   "execution_count": 125,
   "id": "9db8e6dd",
   "metadata": {},
   "outputs": [
    {
     "name": "stdout",
     "output_type": "stream",
     "text": [
      "    *\n",
      "   ***\n",
      "  *****\n",
      " *******\n",
      "*********\n"
     ]
    }
   ],
   "source": [
    "for i in range(5):\n",
    "    for j in reversed(range(5)):\n",
    "        if j > i:\n",
    "            print(\" \", end=\"\")\n",
    "        else:\n",
    "            print(\"*\", end=\"\")\n",
    "    for j in range(5):\n",
    "        if j < i:\n",
    "            print(\"*\", end=\"\")\n",
    "    print()  "
   ]
  },
  {
   "cell_type": "code",
   "execution_count": 119,
   "id": "0cf95565",
   "metadata": {},
   "outputs": [
    {
     "name": "stdout",
     "output_type": "stream",
     "text": [
      "     *\n",
      "    ***\n",
      "   *****\n",
      "  *******\n",
      " *********\n"
     ]
    }
   ],
   "source": [
    "for i in range(1, 6):\n",
    "    for j in range(6-i):\n",
    "        print(\" \", end=\"\")\n",
    "    for j in range(2*i-1):\n",
    "        print('*', end='')\n",
    "    print()"
   ]
  },
  {
   "cell_type": "code",
   "execution_count": null,
   "id": "238813fe",
   "metadata": {},
   "outputs": [],
   "source": []
  },
  {
   "cell_type": "code",
   "execution_count": null,
   "id": "d4766dc0",
   "metadata": {},
   "outputs": [],
   "source": []
  }
 ],
 "metadata": {
  "kernelspec": {
   "display_name": "Python 3 (ipykernel)",
   "language": "python",
   "name": "python3"
  },
  "language_info": {
   "codemirror_mode": {
    "name": "ipython",
    "version": 3
   },
   "file_extension": ".py",
   "mimetype": "text/x-python",
   "name": "python",
   "nbconvert_exporter": "python",
   "pygments_lexer": "ipython3",
   "version": "3.9.12"
  }
 },
 "nbformat": 4,
 "nbformat_minor": 5
}
