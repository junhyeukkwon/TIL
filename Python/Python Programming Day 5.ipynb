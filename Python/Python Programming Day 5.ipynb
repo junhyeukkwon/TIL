{
 "cells": [
  {
   "cell_type": "markdown",
   "id": "c8be1226",
   "metadata": {},
   "source": [
    "### Workshop "
   ]
  },
  {
   "cell_type": "markdown",
   "id": "cf564ea4",
   "metadata": {},
   "source": [
    "**I have a dream 연설문 단어 빈도수 계산**\n",
    "- ihaveadream.txt 파일을 열어 전체 내용 중 단어를 키로, 빈도를 값으로 매핑한 사전형 자료를 반환하세요.\n",
    "- 단 stopwords.txt에 있는 단어는 제외시킵니다.\n",
    "- 사전형 자료를 인수로 받아 값을 기준으로 내림차순으로 정렬하여 값이 가장 큰 키를 반환하라."
   ]
  },
  {
   "cell_type": "code",
   "execution_count": 58,
   "id": "8194c91e",
   "metadata": {},
   "outputs": [],
   "source": [
    "with open('ihaveadream.txt', 'r') as file:\n",
    "    dream = file.read()\n",
    "dream = dream.replace(\"\\n\\n\", \" \").lower().split() # 메서드체이닝\n",
    "\n",
    "with open('stopwords.txt', 'r') as file:\n",
    "    stopwords = file.read()    \n",
    "stopwords = stopwords.replace('\\n\\n', ' ').split()  # 메서드체이닝\n",
    "\n",
    "d = {} # key: 단어 , value: 횟수\n",
    "for word in dream:\n",
    "    if word in stopwords:\n",
    "        pass\n",
    "    else:\n",
    "        d[word] = d.get(word, 0) + 1 "
   ]
  },
  {
   "cell_type": "code",
   "execution_count": null,
   "id": "31085bca",
   "metadata": {},
   "outputs": [],
   "source": [
    "#  참고 d.get(word, 0) "
   ]
  },
  {
   "cell_type": "code",
   "execution_count": 10,
   "id": "523a8823",
   "metadata": {},
   "outputs": [
    {
     "name": "stdout",
     "output_type": "stream",
     "text": [
      "{'i': 1}\n",
      "{'i': 1, 'am': 1}\n",
      "{'i': 1, 'am': 1, 'happy': 1}\n",
      "{'i': 1, 'am': 2, 'happy': 1}\n",
      "{'i': 1, 'am': 2, 'happy': 1, 'to': 1}\n",
      "{'i': 1, 'am': 2, 'happy': 2, 'to': 1}\n"
     ]
    }
   ],
   "source": [
    "dd = {}\n",
    "for word in [\"i\", \"am\", \"happy\", \"am\", \"to\", \"happy\"]:\n",
    "    if word not in dd:\n",
    "        dd[word] = 1 # dd['i'] = 1, dd['am'] =  1, dd['happy'] = 1, dd['to'] = 1\n",
    "    else:\n",
    "        dd[word] += 1 # dd['am'] = 2, dd['happy'] = 2\n",
    "    print(dd)"
   ]
  },
  {
   "cell_type": "code",
   "execution_count": 9,
   "id": "775f1430",
   "metadata": {},
   "outputs": [
    {
     "name": "stdout",
     "output_type": "stream",
     "text": [
      "{'i': 1}\n",
      "{'i': 1, 'am': 1}\n",
      "{'i': 1, 'am': 1, 'happy': 1}\n",
      "{'i': 1, 'am': 2, 'happy': 1}\n",
      "{'i': 1, 'am': 2, 'happy': 1, 'to': 1}\n",
      "{'i': 1, 'am': 2, 'happy': 2, 'to': 1}\n"
     ]
    }
   ],
   "source": [
    "dd = {}\n",
    "for word in [\"i\", \"am\", \"happy\", \"am\", \"to\", \"happy\"]:\n",
    "    dd[word] = dd.get(word, 0) + 1\n",
    "    print(dd)"
   ]
  },
  {
   "cell_type": "code",
   "execution_count": null,
   "id": "59c73928",
   "metadata": {},
   "outputs": [],
   "source": [
    "# 참고 (sort)"
   ]
  },
  {
   "cell_type": "code",
   "execution_count": 19,
   "id": "899d2ce5",
   "metadata": {},
   "outputs": [
    {
     "data": {
      "text/plain": [
       "5"
      ]
     },
     "execution_count": 19,
     "metadata": {},
     "output_type": "execute_result"
    }
   ],
   "source": [
    "len(\"happy\") # 문자열의 길이를 구해주는 함수"
   ]
  },
  {
   "cell_type": "code",
   "execution_count": 21,
   "id": "5e9a8b04",
   "metadata": {},
   "outputs": [
    {
     "data": {
      "text/plain": [
       "['dictionary', 'happy', 'the', 'am', 'i']"
      ]
     },
     "execution_count": 21,
     "metadata": {},
     "output_type": "execute_result"
    }
   ],
   "source": [
    "# 리스트의 정렬\n",
    "l = [\"i\", \"am\", \"happy\", \"the\", \"dictionary\"] # \"단어의 길이\"로 정렬을 해보자\n",
    "l.sort(key=len, reverse=True) # 함수(문자열의 길이)를 기준으로 정렬\n",
    "l"
   ]
  },
  {
   "cell_type": "code",
   "execution_count": 23,
   "id": "af47a222",
   "metadata": {},
   "outputs": [
    {
     "data": {
      "text/plain": [
       "['dictionary', 'happy', 'the', 'am', 'i']"
      ]
     },
     "execution_count": 23,
     "metadata": {},
     "output_type": "execute_result"
    }
   ],
   "source": [
    "# sorted 사용\n",
    "l = [\"i\", \"am\", \"happy\", \"the\", \"dictionary\"]\n",
    "sorted(l, key=len, reverse=True)"
   ]
  },
  {
   "cell_type": "code",
   "execution_count": 42,
   "id": "89b6e3cc",
   "metadata": {},
   "outputs": [],
   "source": [
    "def ret_score(x):\n",
    "    return x[1]"
   ]
  },
  {
   "cell_type": "code",
   "execution_count": 43,
   "id": "7822916a",
   "metadata": {},
   "outputs": [
    {
     "name": "stdout",
     "output_type": "stream",
     "text": [
      "영희 90\n",
      "철수 100\n",
      "개똥 85\n",
      "경희 99\n"
     ]
    }
   ],
   "source": [
    "for k, v in score.items():\n",
    "    print(k, v)"
   ]
  },
  {
   "cell_type": "code",
   "execution_count": 44,
   "id": "e6733daf",
   "metadata": {},
   "outputs": [
    {
     "data": {
      "text/plain": [
       "[('철수', 100), ('경희', 99), ('영희', 90), ('개똥', 85)]"
      ]
     },
     "execution_count": 44,
     "metadata": {},
     "output_type": "execute_result"
    }
   ],
   "source": [
    "# dictionary 정렬\n",
    "score = {\"영희\":90, \"철수\":100, \"개똥\":85, \"경희\":99} # 학생:점수 - 점수를 기준으로 정렬\n",
    "sorted(score.items(), key= ret_score, reverse=True)"
   ]
  },
  {
   "cell_type": "code",
   "execution_count": 59,
   "id": "002c2ab8",
   "metadata": {},
   "outputs": [
    {
     "data": {
      "text/plain": [
       "('freedom', 19)"
      ]
     },
     "execution_count": 59,
     "metadata": {},
     "output_type": "execute_result"
    }
   ],
   "source": [
    "sorted_d = sorted(d.items(), key= ret_score, reverse=True) # 단어:빈도수 - 빈도수 기준으로 정렬\n",
    "sorted_d[0]"
   ]
  },
  {
   "cell_type": "code",
   "execution_count": null,
   "id": "146760ee",
   "metadata": {},
   "outputs": [],
   "source": [
    "# def ret_score(x):\n",
    "#     return x[1]\n",
    "\n",
    "# lambda 함수 만들기\n",
    "lambda x:x[1]"
   ]
  },
  {
   "cell_type": "code",
   "execution_count": 60,
   "id": "3050053a",
   "metadata": {},
   "outputs": [
    {
     "data": {
      "text/plain": [
       "('freedom', 19)"
      ]
     },
     "execution_count": 60,
     "metadata": {},
     "output_type": "execute_result"
    }
   ],
   "source": [
    "sorted_d = sorted(d.items(), key= lambda x:x[1], reverse=True) # 단어:빈도수 - 빈도수 기준으로 정렬\n",
    "sorted_d[0]"
   ]
  },
  {
   "cell_type": "markdown",
   "id": "a18ccd40",
   "metadata": {},
   "source": [
    "### 람다 표현식"
   ]
  },
  {
   "cell_type": "code",
   "execution_count": 47,
   "id": "15e3d295",
   "metadata": {},
   "outputs": [],
   "source": [
    "def plus_ten(x):\n",
    "    return x+10"
   ]
  },
  {
   "cell_type": "code",
   "execution_count": 48,
   "id": "3801bc68",
   "metadata": {},
   "outputs": [
    {
     "data": {
      "text/plain": [
       "11"
      ]
     },
     "execution_count": 48,
     "metadata": {},
     "output_type": "execute_result"
    }
   ],
   "source": [
    "plus_ten(1)"
   ]
  },
  {
   "cell_type": "markdown",
   "id": "24881db1",
   "metadata": {},
   "source": [
    "- lambda 매개변수들 : 식"
   ]
  },
  {
   "cell_type": "code",
   "execution_count": 49,
   "id": "45a84711",
   "metadata": {},
   "outputs": [
    {
     "data": {
      "text/plain": [
       "<function __main__.<lambda>(x)>"
      ]
     },
     "execution_count": 49,
     "metadata": {},
     "output_type": "execute_result"
    }
   ],
   "source": [
    "lambda x:x+10 #  람다표현식 = 익명함수"
   ]
  },
  {
   "cell_type": "code",
   "execution_count": 50,
   "id": "b6aa57da",
   "metadata": {},
   "outputs": [
    {
     "data": {
      "text/plain": [
       "11"
      ]
     },
     "execution_count": 50,
     "metadata": {},
     "output_type": "execute_result"
    }
   ],
   "source": [
    "plus_ten = lambda x:x+10\n",
    "plus_ten(1)"
   ]
  },
  {
   "cell_type": "code",
   "execution_count": 52,
   "id": "a73c6a63",
   "metadata": {},
   "outputs": [
    {
     "data": {
      "text/plain": [
       "11"
      ]
     },
     "execution_count": 52,
     "metadata": {},
     "output_type": "execute_result"
    }
   ],
   "source": [
    "(lambda x:x+10)(1)"
   ]
  },
  {
   "cell_type": "code",
   "execution_count": 53,
   "id": "ec84baa3",
   "metadata": {},
   "outputs": [],
   "source": [
    "def plus_ten(x):\n",
    "    return x + 10"
   ]
  },
  {
   "cell_type": "code",
   "execution_count": 55,
   "id": "d8b61d8b",
   "metadata": {},
   "outputs": [
    {
     "data": {
      "text/plain": [
       "[11, 12, 13]"
      ]
     },
     "execution_count": 55,
     "metadata": {},
     "output_type": "execute_result"
    }
   ],
   "source": [
    "list(map(plus_ten, [1, 2, 3]))"
   ]
  },
  {
   "cell_type": "code",
   "execution_count": 56,
   "id": "c9c5a0d8",
   "metadata": {},
   "outputs": [
    {
     "data": {
      "text/plain": [
       "[11, 12, 13]"
      ]
     },
     "execution_count": 56,
     "metadata": {},
     "output_type": "execute_result"
    }
   ],
   "source": [
    "list(map(lambda x:x+10, [1, 2, 3]))"
   ]
  },
  {
   "cell_type": "markdown",
   "id": "c5485bb7",
   "metadata": {},
   "source": [
    "- lambda 매개변수들 : 식1 if 조건식 else 식2"
   ]
  },
  {
   "cell_type": "code",
   "execution_count": 61,
   "id": "57bde37e",
   "metadata": {},
   "outputs": [
    {
     "data": {
      "text/plain": [
       "[1, 2, '3', 4, 5, '6', 7, 8, '9', 10]"
      ]
     },
     "execution_count": 61,
     "metadata": {},
     "output_type": "execute_result"
    }
   ],
   "source": [
    "a = [1, 2, 3, 4, 5, 6, 7, 8, 9, 10]\n",
    "\n",
    "# 3의 배수이면 문자열로 만들고, 그렇지 않으면 있는 그대로 출력하기\n",
    "# 먼저 람다 표현식으로 만들기\n",
    "my_format = lambda x: str(x) if x % 3 == 0 else x\n",
    "list(map(my_format, a)) "
   ]
  },
  {
   "cell_type": "code",
   "execution_count": 62,
   "id": "6d25abe6",
   "metadata": {},
   "outputs": [
    {
     "data": {
      "text/plain": [
       "[1, 2, '3', 4, 5, '6', 7, 8, '9', 10]"
      ]
     },
     "execution_count": 62,
     "metadata": {},
     "output_type": "execute_result"
    }
   ],
   "source": [
    "a = [1, 2, 3, 4, 5, 6, 7, 8, 9, 10]\n",
    "\n",
    "# 3의 배수이면 문자열로 만들고, 그렇지 않으면 있는 그대로 출력하기\n",
    "list(map(lambda x: str(x) if x % 3 == 0 else x, a)) "
   ]
  },
  {
   "cell_type": "code",
   "execution_count": 64,
   "id": "56919287",
   "metadata": {},
   "outputs": [
    {
     "data": {
      "text/plain": [
       "[2, 8, 18, 32, 50]"
      ]
     },
     "execution_count": 64,
     "metadata": {},
     "output_type": "execute_result"
    }
   ],
   "source": [
    "a = [1, 2, 3, 4, 5]\n",
    "b = [2, 4, 6, 8, 10]\n",
    "\n",
    "# 두 리스트에서 요소별로 곱셈한 결과를 리스트로 출력하기\n",
    "list(map(lambda x, y : x*y, a, b))"
   ]
  },
  {
   "cell_type": "markdown",
   "id": "792b655f",
   "metadata": {},
   "source": [
    "- filter(함수, 반복가능한 객체)"
   ]
  },
  {
   "cell_type": "code",
   "execution_count": 66,
   "id": "55912d98",
   "metadata": {},
   "outputs": [
    {
     "data": {
      "text/plain": [
       "[8, 9]"
      ]
     },
     "execution_count": 66,
     "metadata": {},
     "output_type": "execute_result"
    }
   ],
   "source": [
    "def f(x):\n",
    "    return x > 5 and x <10\n",
    "\n",
    "a = [8, 3, 2, 10, 11, 9, 1, 0]\n",
    "\n",
    "list(filter(f, a))"
   ]
  },
  {
   "cell_type": "code",
   "execution_count": 67,
   "id": "5c0005ed",
   "metadata": {},
   "outputs": [
    {
     "data": {
      "text/plain": [
       "[8, 9]"
      ]
     },
     "execution_count": 67,
     "metadata": {},
     "output_type": "execute_result"
    }
   ],
   "source": [
    "list(filter(lambda x : x > 5 and x < 10, a))"
   ]
  },
  {
   "cell_type": "markdown",
   "id": "3713c184",
   "metadata": {},
   "source": [
    "### Workshop"
   ]
  },
  {
   "cell_type": "markdown",
   "id": "47d00f9d",
   "metadata": {},
   "source": [
    "**거리계산**\n",
    "- 리스트를 이용하여 점 사이의 거리를 계산 해 보자.\n",
    "- 직교 좌표 위에서 A는 (1, 1), B는 (3, 2), C는 (5,7)일 때 X(2, 3)와  A/B/C와의 거리를 각각 구하여라.\n",
    "- 위 코드블럭을 이용하여 distMeasure 함수를 정의하라.\n"
   ]
  },
  {
   "cell_type": "code",
   "execution_count": 100,
   "id": "5a7ece04",
   "metadata": {},
   "outputs": [],
   "source": [
    "points = [(1, 1), (3, 2), (5, 7)] # A, B, C\n",
    "X = (2, 3)"
   ]
  },
  {
   "cell_type": "code",
   "execution_count": 102,
   "id": "b3298b30",
   "metadata": {},
   "outputs": [
    {
     "data": {
      "text/plain": [
       "[2.23606797749979, 1.4142135623730951, 5.0]"
      ]
     },
     "execution_count": 102,
     "metadata": {},
     "output_type": "execute_result"
    }
   ],
   "source": [
    "from math import sqrt\n",
    "\n",
    "def distMeasure(points): # 여러 지점으로부터 X까지의 거리를 계산해서 결과 리스트 반환\n",
    "    result = []\n",
    "\n",
    "    for point in points: # point : (1, 1) -> (3, 2) -> (5, 7)\n",
    "        dist = sqrt((point[0] - X[0])**2 + (point[1] - X[1])**2)\n",
    "        result.append(dist)\n",
    "    return result\n",
    "\n",
    "distMeasure(points)   "
   ]
  },
  {
   "cell_type": "code",
   "execution_count": 104,
   "id": "63e6121e",
   "metadata": {},
   "outputs": [
    {
     "data": {
      "text/plain": [
       "1.4142135623730951"
      ]
     },
     "execution_count": 104,
     "metadata": {},
     "output_type": "execute_result"
    }
   ],
   "source": [
    "def distMeasure_1p(point): # 한 지점으로부터 X까지의 거리 반환\n",
    "    return sqrt((point[0] - X[0])**2 + (point[1] - X[1])**2)\n",
    "\n",
    "distMeasure_1p((3, 2))"
   ]
  },
  {
   "cell_type": "code",
   "execution_count": 105,
   "id": "27da4a62",
   "metadata": {},
   "outputs": [
    {
     "data": {
      "text/plain": [
       "[2.23606797749979, 1.4142135623730951, 5.0]"
      ]
     },
     "execution_count": 105,
     "metadata": {},
     "output_type": "execute_result"
    }
   ],
   "source": [
    "list(map(distMeasure_1p, points))"
   ]
  },
  {
   "cell_type": "code",
   "execution_count": 106,
   "id": "9341e3bf",
   "metadata": {},
   "outputs": [
    {
     "data": {
      "text/plain": [
       "[2.23606797749979, 1.4142135623730951, 5.0]"
      ]
     },
     "execution_count": 106,
     "metadata": {},
     "output_type": "execute_result"
    }
   ],
   "source": [
    "list(map(lambda point : sqrt((point[0] - X[0])**2 + (point[1] - X[1])**2), points))"
   ]
  },
  {
   "cell_type": "markdown",
   "id": "5a96661f",
   "metadata": {},
   "source": [
    "### Workshop"
   ]
  },
  {
   "cell_type": "markdown",
   "id": "ba0a6239",
   "metadata": {},
   "source": [
    "**이미지 파일만 가져오기**\n",
    "- 다음 소스 코드를 완성하여 확장자가 .jpg, .png인 이미지 파일만 출력되게 만드세요. 여기서는 람다 표현식을 사용해야 하며 출력 결과는 리스트 형태라야 합니다. 람다 표현식에서 확장자를 검사할 때는 문자열 메서드를 활용하세요.\n",
    "\n",
    "```\n",
    "files = ['font', '1.png', '10.jpg', '11.gif', '2.jpg', '3.png', 'table.xslx', 'spec.docx']\n",
    "\n",
    "실행결과\n",
    "['1.png', '10.jpg', '2.jpg', '3.png']\n",
    "```"
   ]
  },
  {
   "cell_type": "code",
   "execution_count": 68,
   "id": "8671602d",
   "metadata": {},
   "outputs": [],
   "source": [
    "files = ['font', '1.png', '10.jpg', '11.gif', '2.jpg', '3.png', 'table.xslx', 'spec.docx']"
   ]
  },
  {
   "cell_type": "code",
   "execution_count": 72,
   "id": "18941b80",
   "metadata": {},
   "outputs": [
    {
     "data": {
      "text/plain": [
       "['1.png', '10.jpg', '2.jpg', '3.png']"
      ]
     },
     "execution_count": 72,
     "metadata": {},
     "output_type": "execute_result"
    }
   ],
   "source": [
    "def filter_img(x):\n",
    "    return x.find('.jpg') != -1 or x.find('.png') != -1\n",
    "\n",
    "list(filter(filter_img, files))"
   ]
  },
  {
   "cell_type": "code",
   "execution_count": 71,
   "id": "120b33d2",
   "metadata": {},
   "outputs": [
    {
     "data": {
      "text/plain": [
       "['1.png', '10.jpg', '2.jpg', '3.png']"
      ]
     },
     "execution_count": 71,
     "metadata": {},
     "output_type": "execute_result"
    }
   ],
   "source": [
    "list(filter(lambda x : x.find('.jpg') != -1 or x.find('.png') != -1, files))"
   ]
  },
  {
   "cell_type": "markdown",
   "id": "6938a7c4",
   "metadata": {},
   "source": [
    "**파일 이름을 한꺼번에 바꾸기**\n",
    "- 표준 입력으로 숫자.확장자 형식으로 된 파일 이름 여러 개가 입력됩니다. 다음 소스 코드를 완성하여 파일 이름이 숫자 3개이면서 앞에 0이 들어가는 형식으로 출력되게 만드세요. 예를 들어 1.png는 001.png, 99.docx는 099.docx, 100.xlsx는 100.xlsx처럼 출력되어야 합니다. 그리고 람다 표현식을 사용해야 하며 출력 결과는 리스트 형태라야 합니다. 람다 표현식에서 파일명을 처리할 때는 문자열 포매팅과 문자열 메서드를 활용하세요.\n",
    "\n",
    "```\n",
    "입력 예\n",
    "1.jpg 10.png 11.png 2.jpg 3.png\n",
    "\n",
    "결과\n",
    "['001.jpg', '010.png', '011.png', '002.jpg', '003.png']\n",
    "\n",
    "입력 예\n",
    "97.xlsx 98.docx 99.docx 100.xlsx 101.docx 102.docx\n",
    "\n",
    "결과\n",
    "['097.xlsx', '098.docx', '099.docx', '100.xlsx', '101.docx', '102.docx']\n",
    "```"
   ]
  },
  {
   "cell_type": "code",
   "execution_count": 73,
   "id": "07439810",
   "metadata": {},
   "outputs": [
    {
     "name": "stdout",
     "output_type": "stream",
     "text": [
      "1.jpg 10.png 11.png 2.jpg 3.png\n"
     ]
    }
   ],
   "source": [
    "files = input().split()"
   ]
  },
  {
   "cell_type": "code",
   "execution_count": 74,
   "id": "b5e8f845",
   "metadata": {},
   "outputs": [
    {
     "data": {
      "text/plain": [
       "['1.jpg', '10.png', '11.png', '2.jpg', '3.png']"
      ]
     },
     "execution_count": 74,
     "metadata": {},
     "output_type": "execute_result"
    }
   ],
   "source": [
    "files"
   ]
  },
  {
   "cell_type": "code",
   "execution_count": 88,
   "id": "55b652fc",
   "metadata": {},
   "outputs": [],
   "source": [
    "names = []\n",
    "exts = []\n",
    "\n",
    "for file in files:\n",
    "    name = file.split('.')[0]\n",
    "    names.append(int(name))\n",
    "    \n",
    "    ext = file.split('.')[1]\n",
    "    exts.append(ext)\n",
    "    "
   ]
  },
  {
   "cell_type": "code",
   "execution_count": 89,
   "id": "827968eb",
   "metadata": {},
   "outputs": [
    {
     "data": {
      "text/plain": [
       "[1, 10, 11, 2, 3]"
      ]
     },
     "execution_count": 89,
     "metadata": {},
     "output_type": "execute_result"
    }
   ],
   "source": [
    "names"
   ]
  },
  {
   "cell_type": "code",
   "execution_count": 90,
   "id": "3888d456",
   "metadata": {},
   "outputs": [
    {
     "data": {
      "text/plain": [
       "['jpg', 'png', 'png', 'jpg', 'png']"
      ]
     },
     "execution_count": 90,
     "metadata": {},
     "output_type": "execute_result"
    }
   ],
   "source": [
    "exts"
   ]
  },
  {
   "cell_type": "code",
   "execution_count": 97,
   "id": "ead729a9",
   "metadata": {},
   "outputs": [
    {
     "data": {
      "text/plain": [
       "['001.jpg', '010.png', '011.png', '002.jpg', '003.png']"
      ]
     },
     "execution_count": 97,
     "metadata": {},
     "output_type": "execute_result"
    }
   ],
   "source": [
    "def fmt(name, ext): # '1', 'jpg' -> '001.jpg'\n",
    "    return \"{0:03d}.{1}\".format(name, ext)\n",
    "\n",
    "list(map(fmt, names, exts))"
   ]
  },
  {
   "cell_type": "code",
   "execution_count": 98,
   "id": "3bf3a89a",
   "metadata": {},
   "outputs": [
    {
     "data": {
      "text/plain": [
       "['001.jpg', '010.png', '011.png', '002.jpg', '003.png']"
      ]
     },
     "execution_count": 98,
     "metadata": {},
     "output_type": "execute_result"
    }
   ],
   "source": [
    "list(map(lambda name, ext : \"{0:03d}.{1}\".format(name, ext), names, exts))"
   ]
  },
  {
   "cell_type": "markdown",
   "id": "5e2846b6",
   "metadata": {},
   "source": []
  },
  {
   "cell_type": "markdown",
   "id": "a324f533",
   "metadata": {},
   "source": [
    "### 클래스"
   ]
  },
  {
   "attachments": {
    "image.png": {
     "image/png": "[encoded data removed]"
    }
   },
   "cell_type": "markdown",
   "id": "c2509928",
   "metadata": {},
   "source": [
    "![image.png](attachment:image.png)"
   ]
  },
  {
   "cell_type": "markdown",
   "id": "76427161",
   "metadata": {},
   "source": [
    "```\n",
    "# 클래스와 메서드 만들기\n",
    "class 클래스이름: <--- 붕어빵의 틀\n",
    "    def 메서드(self):\n",
    "        코드\n",
    "\n",
    "# 인스턴스 생성하기\n",
    "인스턴스 = 클래스이름() <--- 붕어빵 실체\n",
    "\n",
    "# 메서드 호출하기\n",
    "인스턴스.메서드() <---- 붕어빵만의 기능\n",
    "```"
   ]
  },
  {
   "cell_type": "code",
   "execution_count": 107,
   "id": "a9a11e8d",
   "metadata": {},
   "outputs": [],
   "source": [
    "class Person():\n",
    "    def greeting(self):\n",
    "        print(\"Hello\")"
   ]
  },
  {
   "cell_type": "code",
   "execution_count": 108,
   "id": "2714d7c1",
   "metadata": {},
   "outputs": [],
   "source": [
    "James = Person()\n",
    "Selly = Person()"
   ]
  },
  {
   "cell_type": "code",
   "execution_count": 109,
   "id": "d7cac1cd",
   "metadata": {},
   "outputs": [
    {
     "name": "stdout",
     "output_type": "stream",
     "text": [
      "Hello\n"
     ]
    }
   ],
   "source": [
    "James.greeting()"
   ]
  },
  {
   "cell_type": "code",
   "execution_count": 110,
   "id": "754a65d9",
   "metadata": {},
   "outputs": [
    {
     "name": "stdout",
     "output_type": "stream",
     "text": [
      "Hello\n"
     ]
    }
   ],
   "source": [
    "Selly.greeting()"
   ]
  },
  {
   "cell_type": "code",
   "execution_count": 115,
   "id": "46c10044",
   "metadata": {},
   "outputs": [
    {
     "name": "stdout",
     "output_type": "stream",
     "text": [
      "<class 'int'>\n",
      "<class 'list'>\n"
     ]
    }
   ],
   "source": [
    "# 파이썬에서 흔히 볼 수 있는 클래스\n",
    "\n",
    "a = int(10)\n",
    "print(type(a))\n",
    "\n",
    "b = list(range(10))\n",
    "print(type(b))"
   ]
  },
  {
   "cell_type": "markdown",
   "id": "bb494fe7",
   "metadata": {},
   "source": [
    "```\n",
    "# 속성 사용하기\n",
    "class 클래스이름:\n",
    "    def __init__(self):\n",
    "        self.속성 = 값\n",
    "        \n",
    "    def 메서드(self):\n",
    "        코드\n",
    "```   "
   ]
  },
  {
   "cell_type": "code",
   "execution_count": null,
   "id": "c6e05d31",
   "metadata": {},
   "outputs": [],
   "source": [
    "# __init__() : 인스턴스를 초기화해주는 특별한 메서드. \n",
    "#              James = Person() 와 같이  인스턴스를 만들때 \"자동으로\" 호출을 해줌"
   ]
  },
  {
   "cell_type": "code",
   "execution_count": 116,
   "id": "0c692ec2",
   "metadata": {},
   "outputs": [],
   "source": [
    "class Person:\n",
    "    def __init__(self):\n",
    "        self.hello = \"안녕하세요\"\n",
    "        \n",
    "    def greeting(self):\n",
    "        print(self.hello)"
   ]
  },
  {
   "cell_type": "code",
   "execution_count": 117,
   "id": "8eb5864d",
   "metadata": {},
   "outputs": [],
   "source": [
    "James = Person()"
   ]
  },
  {
   "cell_type": "code",
   "execution_count": 119,
   "id": "0e327c67",
   "metadata": {},
   "outputs": [
    {
     "data": {
      "text/plain": [
       "'안녕하세요'"
      ]
     },
     "execution_count": 119,
     "metadata": {},
     "output_type": "execute_result"
    }
   ],
   "source": [
    "James.hello"
   ]
  },
  {
   "cell_type": "code",
   "execution_count": 118,
   "id": "2b8595d8",
   "metadata": {},
   "outputs": [
    {
     "name": "stdout",
     "output_type": "stream",
     "text": [
      "안녕하세요\n"
     ]
    }
   ],
   "source": [
    "James.greeting()"
   ]
  },
  {
   "cell_type": "markdown",
   "id": "ebb86ecb",
   "metadata": {},
   "source": [
    "```\n",
    "# 인스턴스를 받을 때 값 받기\n",
    "class 클래스이름:\n",
    "    def __init__(self, 매개변수1, 매개변수2):\n",
    "        self.속성1 = 매개변수1\n",
    "        self.속성2 = 매개변수2\n",
    "        \n",
    "    def 메서드(self):\n",
    "        코드\n",
    "```   "
   ]
  },
  {
   "cell_type": "code",
   "execution_count": 122,
   "id": "bcc017c2",
   "metadata": {},
   "outputs": [],
   "source": [
    "class Person:\n",
    "    def __init__(self, hello):\n",
    "        self.hello = hello\n",
    "        \n",
    "    def greeting(self):\n",
    "        print(self.hello)"
   ]
  },
  {
   "cell_type": "code",
   "execution_count": 124,
   "id": "9d8e2a33",
   "metadata": {},
   "outputs": [
    {
     "name": "stdout",
     "output_type": "stream",
     "text": [
      "안녕하세요\n"
     ]
    }
   ],
   "source": [
    "James = Person(\"안녕하세요\")\n",
    "James.greeting()"
   ]
  },
  {
   "cell_type": "code",
   "execution_count": 125,
   "id": "abf59f8b",
   "metadata": {},
   "outputs": [
    {
     "name": "stdout",
     "output_type": "stream",
     "text": [
      "안녕하십니까\n"
     ]
    }
   ],
   "source": [
    "Selly = Person(\"안녕하십니까\")\n",
    "Selly.greeting()"
   ]
  },
  {
   "cell_type": "code",
   "execution_count": 126,
   "id": "62aaa41e",
   "metadata": {},
   "outputs": [
    {
     "data": {
      "text/plain": [
       "'안녕하십니까'"
      ]
     },
     "execution_count": 126,
     "metadata": {},
     "output_type": "execute_result"
    }
   ],
   "source": [
    "Selly.hello"
   ]
  },
  {
   "cell_type": "markdown",
   "id": "224de9df",
   "metadata": {},
   "source": [
    "```\n",
    "# 비공개 속성 사용하기\n",
    "class 클래스이름:\n",
    "    def __init__(self):\n",
    "        self.__속성 = 값\n",
    "```   "
   ]
  },
  {
   "cell_type": "code",
   "execution_count": 127,
   "id": "d1ed0002",
   "metadata": {},
   "outputs": [],
   "source": [
    "class Person:\n",
    "    def __init__(self, name, age, address):\n",
    "        self.name = name\n",
    "        self.age = age\n",
    "        self.address = address\n",
    "        \n",
    "    def greeting(self):\n",
    "        print(\"안녕하세요. 저는 {0} 입니다. 제 나이는 {1} 이고, 사는곳은 {2}입니다.\".format(self.name, self.age, self.address))\n",
    "        "
   ]
  },
  {
   "cell_type": "code",
   "execution_count": 128,
   "id": "5fc25790",
   "metadata": {},
   "outputs": [],
   "source": [
    "JS = Person(\"종섭\", 25, \"서울\")"
   ]
  },
  {
   "cell_type": "code",
   "execution_count": 129,
   "id": "d2ab9dfa",
   "metadata": {},
   "outputs": [
    {
     "name": "stdout",
     "output_type": "stream",
     "text": [
      "안녕하세요. 저는 종섭 입니다. 제 나이는 25 이고, 사는곳은 서울입니다.\n"
     ]
    }
   ],
   "source": [
    "JS.greeting()"
   ]
  },
  {
   "cell_type": "code",
   "execution_count": 135,
   "id": "99851808",
   "metadata": {},
   "outputs": [],
   "source": [
    "class Person:\n",
    "    def __init__(self, name, age, address, wallet):\n",
    "        self.name = name\n",
    "        self.age = age\n",
    "        self.address = address\n",
    "        self.__wallet = wallet\n",
    "        \n",
    "    def greeting(self):\n",
    "        print(\"안녕하세요. 저는 {0} 입니다. 제 나이는 {1} 이고, 사는곳은 {2}입니다.\".format(self.name, self.age, self.address))\n",
    "        \n",
    "    def pay(self, amount):\n",
    "        self.__wallet -= amount\n",
    "        print(\"지갑에 {}원 남았습니다.\".format(self.__wallet))"
   ]
  },
  {
   "cell_type": "code",
   "execution_count": 136,
   "id": "fc183742",
   "metadata": {},
   "outputs": [],
   "source": [
    "JS = Person(\"종섭\", 25, \"서울\", 10000)\n",
    "GH = Person(\"경희\", 45, \"서울\", 50000)"
   ]
  },
  {
   "cell_type": "code",
   "execution_count": 134,
   "id": "e9d9959a",
   "metadata": {},
   "outputs": [
    {
     "ename": "AttributeError",
     "evalue": "'Person' object has no attribute '__wallet'",
     "output_type": "error",
     "traceback": [
      "\u001b[1;31m---------------------------------------------------------------------------\u001b[0m",
      "\u001b[1;31mAttributeError\u001b[0m                            Traceback (most recent call last)",
      "Input \u001b[1;32mIn [134]\u001b[0m, in \u001b[0;36m<cell line: 1>\u001b[1;34m()\u001b[0m\n\u001b[1;32m----> 1\u001b[0m \u001b[43mJS\u001b[49m\u001b[38;5;241;43m.\u001b[39;49m\u001b[43m__wallet\u001b[49m\n",
      "\u001b[1;31mAttributeError\u001b[0m: 'Person' object has no attribute '__wallet'"
     ]
    }
   ],
   "source": [
    "JS.__wallet"
   ]
  },
  {
   "cell_type": "code",
   "execution_count": 137,
   "id": "76343b4f",
   "metadata": {},
   "outputs": [
    {
     "name": "stdout",
     "output_type": "stream",
     "text": [
      "지갑에 7000원 남았습니다.\n"
     ]
    }
   ],
   "source": [
    "JS.pay(3000)"
   ]
  },
  {
   "cell_type": "code",
   "execution_count": 138,
   "id": "e2921cfd",
   "metadata": {},
   "outputs": [
    {
     "name": "stdout",
     "output_type": "stream",
     "text": [
      "지갑에 4000원 남았습니다.\n"
     ]
    }
   ],
   "source": [
    "JS.pay(3000)"
   ]
  },
  {
   "cell_type": "code",
   "execution_count": 139,
   "id": "cd42e33e",
   "metadata": {},
   "outputs": [
    {
     "name": "stdout",
     "output_type": "stream",
     "text": [
      "지갑에 1000원 남았습니다.\n"
     ]
    }
   ],
   "source": [
    "JS.pay(3000)"
   ]
  },
  {
   "cell_type": "markdown",
   "id": "46ca0865",
   "metadata": {},
   "source": [
    "### 클래스 속성과 인스턴스 속성"
   ]
  },
  {
   "cell_type": "markdown",
   "id": "639c713a",
   "metadata": {},
   "source": [
    "```\n",
    "def 클래스이름:\n",
    "    속성 = 값 \n",
    "```    "
   ]
  },
  {
   "cell_type": "code",
   "execution_count": 145,
   "id": "dfabcf6d",
   "metadata": {},
   "outputs": [],
   "source": [
    "# 클래스 속성은 클래스에 속해 있으며 모든 인스턴스에서 공유함\n",
    "class Person:\n",
    "    bag = [] # 클래스 속성\n",
    "    \n",
    "    def put_bag(self, stuff):\n",
    "        self.bag.append(stuff)"
   ]
  },
  {
   "cell_type": "code",
   "execution_count": 146,
   "id": "26149adb",
   "metadata": {},
   "outputs": [],
   "source": [
    "James = Person()\n",
    "James.put_bag(\"국어책\")\n",
    "\n",
    "Selly = Person()\n",
    "Selly.put_bag(\"영어책\")"
   ]
  },
  {
   "cell_type": "code",
   "execution_count": 148,
   "id": "12735b58",
   "metadata": {},
   "outputs": [
    {
     "data": {
      "text/plain": [
       "['국어책', '영어책']"
      ]
     },
     "execution_count": 148,
     "metadata": {},
     "output_type": "execute_result"
    }
   ],
   "source": [
    "James.bag"
   ]
  },
  {
   "cell_type": "code",
   "execution_count": 149,
   "id": "597fd53c",
   "metadata": {},
   "outputs": [
    {
     "data": {
      "text/plain": [
       "['국어책', '영어책']"
      ]
     },
     "execution_count": 149,
     "metadata": {},
     "output_type": "execute_result"
    }
   ],
   "source": [
    "Selly.bag"
   ]
  },
  {
   "cell_type": "code",
   "execution_count": 152,
   "id": "f36369b1",
   "metadata": {},
   "outputs": [],
   "source": [
    "class Person:\n",
    "    def __init__(self):\n",
    "        self.bag = [] # 인스턴스 속성\n",
    "    \n",
    "    def put_bag(self, stuff):\n",
    "        self.bag.append(stuff)"
   ]
  },
  {
   "cell_type": "code",
   "execution_count": 153,
   "id": "1eebb166",
   "metadata": {},
   "outputs": [],
   "source": [
    "James = Person()\n",
    "James.put_bag(\"국어책\")\n",
    "\n",
    "Selly = Person()\n",
    "Selly.put_bag(\"영어책\")"
   ]
  },
  {
   "cell_type": "code",
   "execution_count": 154,
   "id": "4efe7250",
   "metadata": {},
   "outputs": [
    {
     "data": {
      "text/plain": [
       "['국어책']"
      ]
     },
     "execution_count": 154,
     "metadata": {},
     "output_type": "execute_result"
    }
   ],
   "source": [
    "James.bag"
   ]
  },
  {
   "cell_type": "code",
   "execution_count": 155,
   "id": "328d3458",
   "metadata": {},
   "outputs": [
    {
     "data": {
      "text/plain": [
       "['영어책']"
      ]
     },
     "execution_count": 155,
     "metadata": {},
     "output_type": "execute_result"
    }
   ],
   "source": [
    "Selly.bag"
   ]
  },
  {
   "cell_type": "code",
   "execution_count": null,
   "id": "57eff1d7",
   "metadata": {},
   "outputs": [],
   "source": [
    "# 정적 메서드 사용하기"
   ]
  },
  {
   "cell_type": "markdown",
   "id": "b21e187a",
   "metadata": {},
   "source": [
    "```\n",
    "class 클래스이름:\n",
    "    @staticmethod\n",
    "    def 메서드(매개변수1, 매개변수2):\n",
    "        코드\n",
    "```        "
   ]
  },
  {
   "cell_type": "code",
   "execution_count": 157,
   "id": "f39e2564",
   "metadata": {},
   "outputs": [],
   "source": [
    "class Calc:\n",
    "    @staticmethod\n",
    "    def add(a, b):\n",
    "        print(a+b)\n",
    "        \n",
    "    @staticmethod\n",
    "    def mul(a, b):\n",
    "        print(a*b)            "
   ]
  },
  {
   "cell_type": "code",
   "execution_count": 159,
   "id": "8c647a56",
   "metadata": {},
   "outputs": [
    {
     "name": "stdout",
     "output_type": "stream",
     "text": [
      "30\n"
     ]
    }
   ],
   "source": [
    "Calc.add(10, 20)"
   ]
  },
  {
   "cell_type": "code",
   "execution_count": 160,
   "id": "c1d76b9b",
   "metadata": {},
   "outputs": [
    {
     "name": "stdout",
     "output_type": "stream",
     "text": [
      "200\n"
     ]
    }
   ],
   "source": [
    "Calc.mul(10, 20)"
   ]
  },
  {
   "cell_type": "markdown",
   "id": "8df9c87d",
   "metadata": {},
   "source": [
    "**참고 (인스턴스 메서드 vs 정적 메서드)"
   ]
  },
  {
   "cell_type": "code",
   "execution_count": 162,
   "id": "0ac6ecc3",
   "metadata": {},
   "outputs": [
    {
     "data": {
      "text/plain": [
       "{1, 2, 3, 4}"
      ]
     },
     "execution_count": 162,
     "metadata": {},
     "output_type": "execute_result"
    }
   ],
   "source": [
    "# 1. 인스턴스 메서드의 예\n",
    "a = {1, 2, 3} # set 자료형\n",
    "b = {2, 3, 4}\n",
    "\n",
    "\n",
    "# a와 b의 합집합\n",
    "a.update(b)\n",
    "print(a)\n",
    "\n",
    "# a라는 것은 set이라는 클래스의 인스턴스\n",
    "# a 인스턴스의 상태가 변화됨(결과물이 저장)"
   ]
  },
  {
   "cell_type": "code",
   "execution_count": 164,
   "id": "68adcd04",
   "metadata": {},
   "outputs": [
    {
     "data": {
      "text/plain": [
       "{1, 2, 3, 4}"
      ]
     },
     "execution_count": 164,
     "metadata": {},
     "output_type": "execute_result"
    }
   ],
   "source": [
    "# 2. 정적 메서드의 예\n",
    "a = {1, 2, 3} # set 자료형\n",
    "b = {2, 3, 4}\n",
    "print(set.union(a, b))\n",
    "\n",
    "# set.union은 정적 메서드를 호출한 방식으로\n",
    "# a와 b 인스턴스에는 변화가 없음"
   ]
  },
  {
   "cell_type": "markdown",
   "id": "841c45ee",
   "metadata": {},
   "source": [
    "### 클래스 상속 사용하기"
   ]
  },
  {
   "cell_type": "markdown",
   "id": "a13d2779",
   "metadata": {},
   "source": [
    "```\n",
    "class 기반클래스이름:\n",
    "    코드\n",
    "class 파생클래스이름(기반클래스):\n",
    "    코드\n",
    "```    "
   ]
  },
  {
   "cell_type": "code",
   "execution_count": 190,
   "id": "2644cd03",
   "metadata": {},
   "outputs": [],
   "source": [
    "class Person:\n",
    "    def __init__(self):\n",
    "        print(\"Person __init__\")\n",
    "        \n",
    "    def greeting(self):\n",
    "        print(\"안녕하세요\")"
   ]
  },
  {
   "cell_type": "code",
   "execution_count": 191,
   "id": "071b9678",
   "metadata": {},
   "outputs": [],
   "source": [
    "class Student(Person):\n",
    "    def __init__(self):\n",
    "        \n",
    "        print(\"Student __init__\") \n",
    "        # 파생(Student) 클래스에서  __init__이 호출되면 기반(Person) 클래스의 __init__이 호출되지 않음\n",
    "        # 파생(Student) 클래스에서  __init__이 호출되지 않으면 기반(Person)  클래스의 __init__이 호출됨\n",
    "        \n",
    "        # 기반(Person) 클래스의 __init__을 실행하고자 한다면 super().__init__() 호출하면 됨!!!\n",
    "        super().__init__()\n",
    "        \n",
    "        \n",
    "    def study(self):\n",
    "        print(\"공부하기\")"
   ]
  },
  {
   "cell_type": "code",
   "execution_count": 192,
   "id": "adeee60a",
   "metadata": {},
   "outputs": [
    {
     "name": "stdout",
     "output_type": "stream",
     "text": [
      "Student __init__\n",
      "Person __init__\n"
     ]
    }
   ],
   "source": [
    "James = Student()"
   ]
  },
  {
   "cell_type": "code",
   "execution_count": 171,
   "id": "4b958e1b",
   "metadata": {},
   "outputs": [
    {
     "name": "stdout",
     "output_type": "stream",
     "text": [
      "안녕하세요\n"
     ]
    }
   ],
   "source": [
    "James.greeting()"
   ]
  },
  {
   "cell_type": "code",
   "execution_count": 170,
   "id": "99660010",
   "metadata": {},
   "outputs": [
    {
     "name": "stdout",
     "output_type": "stream",
     "text": [
      "공부하기\n"
     ]
    }
   ],
   "source": [
    "James.study()"
   ]
  },
  {
   "cell_type": "code",
   "execution_count": 194,
   "id": "37450a81",
   "metadata": {},
   "outputs": [],
   "source": [
    "# Case 1\n",
    "# 파생클래스에서 __init__을 해주지 않으면 기반클래스의 __init__이 자동으로 호출됨\n",
    "class Person:\n",
    "    def __init__(self):\n",
    "        print('Person __init__')\n",
    "        self.hello = \"안녕하세요\"\n",
    "        \n",
    "class Student(Person):\n",
    "    pass\n",
    "\n",
    "\n",
    "James = Student()\n",
    "James.hello"
   ]
  },
  {
   "cell_type": "code",
   "execution_count": 196,
   "id": "5af97544",
   "metadata": {},
   "outputs": [
    {
     "name": "stdout",
     "output_type": "stream",
     "text": [
      "Student __init__\n"
     ]
    },
    {
     "data": {
      "text/plain": [
       "'안녕하세요. 저는 플레이데이터 학생입니다'"
      ]
     },
     "execution_count": 196,
     "metadata": {},
     "output_type": "execute_result"
    }
   ],
   "source": [
    "# Case 2\n",
    "# 파생클래스에서 __init__을 해준 경우 기반 클래스의 __init__은 호출되지 않음\n",
    "\n",
    "class Person:\n",
    "    def __init__(self):\n",
    "        print('Person __init__')\n",
    "        self.hello = \"안녕하세요\"\n",
    "        \n",
    "class Student(Person):\n",
    "    def __init__(self):\n",
    "        print('Student __init__')\n",
    "        self.hello = \"안녕하세요. 저는 플레이데이터 학생입니다\"\n",
    "    \n",
    "James = Student()\n",
    "James.hello"
   ]
  },
  {
   "cell_type": "code",
   "execution_count": 197,
   "id": "b05f7d12",
   "metadata": {},
   "outputs": [
    {
     "name": "stdout",
     "output_type": "stream",
     "text": [
      "안녕하세요. 저는 플레이데이터 학생입니다\n"
     ]
    }
   ],
   "source": [
    "# Case 3\n",
    "# Person 클래스의 greeting 메서드를 무시하고 Student 클래스의 greeting이 실행됨 (오버라이딩, overriding)\n",
    "\n",
    "class Person:\n",
    "    def greeting(self):\n",
    "        self.hello = \"안녕하세요\"\n",
    "        print(self.hello)\n",
    "        \n",
    "class Student(Person):\n",
    "    def greeting(self):\n",
    "        self.hello = \"안녕하세요. 저는 플레이데이터 학생입니다\"\n",
    "        print(self.hello)\n",
    "    \n",
    "James = Student()\n",
    "James.greeting()"
   ]
  },
  {
   "cell_type": "markdown",
   "id": "fd1204a4",
   "metadata": {},
   "source": [
    "```\n",
    "# 다중 상속 사용하기\n",
    "\n",
    "class 기반클래스이름1:\n",
    "    코드\n",
    "\n",
    "class 기반클래스이름2:\n",
    "    코드\n",
    "    \n",
    "class 파생클래스이름(기반클래스이름1, 기반클래스이름2):\n",
    "    코드\n",
    "```"
   ]
  },
  {
   "cell_type": "code",
   "execution_count": 198,
   "id": "967fc58b",
   "metadata": {},
   "outputs": [],
   "source": [
    "class Person:\n",
    "    def greeting(self):\n",
    "        print(\"안녕하세요\")\n",
    "        \n",
    "class Playdata:\n",
    "    def coding_test(self):\n",
    "        print(\"코딩 테스트\")\n",
    "        \n",
    "class Student(Person, Playdata):\n",
    "    def study(self):\n",
    "        print(\"공부하기\")\n",
    "    "
   ]
  },
  {
   "cell_type": "code",
   "execution_count": 199,
   "id": "cbbbc1dc",
   "metadata": {},
   "outputs": [],
   "source": [
    "James = Student()"
   ]
  },
  {
   "cell_type": "code",
   "execution_count": 200,
   "id": "a2750596",
   "metadata": {},
   "outputs": [
    {
     "name": "stdout",
     "output_type": "stream",
     "text": [
      "안녕하세요\n"
     ]
    }
   ],
   "source": [
    "James.greeting()"
   ]
  },
  {
   "cell_type": "code",
   "execution_count": 201,
   "id": "ed39ee5a",
   "metadata": {},
   "outputs": [
    {
     "name": "stdout",
     "output_type": "stream",
     "text": [
      "코딩 테스트\n"
     ]
    }
   ],
   "source": [
    "James.coding_test()"
   ]
  },
  {
   "cell_type": "code",
   "execution_count": 202,
   "id": "8539f3fc",
   "metadata": {},
   "outputs": [
    {
     "name": "stdout",
     "output_type": "stream",
     "text": [
      "공부하기\n"
     ]
    }
   ],
   "source": [
    "James.study()"
   ]
  },
  {
   "cell_type": "markdown",
   "id": "8a902e32",
   "metadata": {},
   "source": [
    "### Workshop"
   ]
  },
  {
   "cell_type": "markdown",
   "id": "d3e9e62b",
   "metadata": {},
   "source": [
    "**리스트에 기능 추가하기**\n",
    "- 다음 소스 코드에서 리스트(list)에 replace 메서드를 추가한 AdvancedList 클래스를 작성하세요. AdvancedList는 list를 상속받아서 만들고, replace 메서드는 리스트에서 특정 값으로 된 요소를 찾아서 다른 값으로 바꾸도록 만드세요."
   ]
  },
  {
   "cell_type": "markdown",
   "id": "46a2815b",
   "metadata": {},
   "source": [
    "```                         \n",
    "...\n",
    "                         \n",
    " \n",
    "x = AdvancedList([1, 2, 3, 1, 2, 3, 1, 2, 3])\n",
    "x.replace(1, 100)\n",
    "print(x)\n",
    "\n",
    "실행결과\n",
    "[100, 2, 3, 100, 2, 3, 100, 2, 3]\n",
    "```"
   ]
  },
  {
   "cell_type": "code",
   "execution_count": 204,
   "id": "edc3bec5",
   "metadata": {},
   "outputs": [
    {
     "name": "stdout",
     "output_type": "stream",
     "text": [
      "[100, 2, 3, 100, 2, 3, 100, 2, 3]\n"
     ]
    }
   ],
   "source": [
    "class AdvancedList(list):\n",
    "    def replace(self, before, after): # self로 들어오는것은 인스턴스 x 임\n",
    "        while before in self:\n",
    "            self[self.index(before)] = after\n",
    "            \n",
    "x = AdvancedList([1, 2, 3, 1, 2, 3, 1, 2, 3])\n",
    "x.replace(1, 100)\n",
    "\n",
    "print(x)\n"
   ]
  },
  {
   "cell_type": "markdown",
   "id": "a1bc20e7",
   "metadata": {},
   "source": [
    "**다중 상속 사용하기**\n",
    "- 다음 소스 코드에서 동물 클래스 Animal과 날개 클래스 Wing을 상속받아 새 클래스 Bird를 작성하여 '먹다', '파닥거리다', '날다' 각 줄에 출력되게 만드세요."
   ]
  },
  {
   "cell_type": "markdown",
   "id": "307aa183",
   "metadata": {},
   "source": [
    "```\n",
    "class Animal:\n",
    "    def eat(self):\n",
    "        print('먹다')\n",
    " \n",
    "class Wing:\n",
    "    def flap(self):\n",
    "        print('파닥거리다')\n",
    "\n",
    "________________\n",
    "________________\n",
    "________________\n",
    "\n",
    "b = Bird()\n",
    "b.eat()\n",
    "b.flap()\n",
    "b.fly()\n",
    "\n",
    "\n",
    "(결과)\n",
    "먹다\n",
    "파닥거리다\n",
    "날다\n",
    "\n",
    "```"
   ]
  },
  {
   "cell_type": "code",
   "execution_count": 205,
   "id": "9b9c7241",
   "metadata": {},
   "outputs": [],
   "source": [
    "class Animal:\n",
    "    def eat(self):\n",
    "        print('먹다')\n",
    "\n",
    "class Wing:\n",
    "    def flap(self):\n",
    "        print('파닥거리다')\n",
    "        \n",
    "class Bird(Animal, Wing):\n",
    "    def fly(self):\n",
    "        print('날다')\n"
   ]
  },
  {
   "cell_type": "code",
   "execution_count": 206,
   "id": "67d16b81",
   "metadata": {},
   "outputs": [
    {
     "name": "stdout",
     "output_type": "stream",
     "text": [
      "먹다\n",
      "파닥거리다\n",
      "날다\n"
     ]
    }
   ],
   "source": [
    "b = Bird()\n",
    "b.eat()\n",
    "b.flap()\n",
    "b.fly()"
   ]
  },
  {
   "cell_type": "markdown",
   "id": "964ac478",
   "metadata": {},
   "source": [
    "### 예외처리"
   ]
  },
  {
   "cell_type": "markdown",
   "id": "663ac2cc",
   "metadata": {},
   "source": [
    "- 예외처리는 에러가 발생하더라도 스크립트의 실행을 중단하지 않고 계속 실행하고자 할 때 사용함"
   ]
  },
  {
   "cell_type": "markdown",
   "id": "0b812350",
   "metadata": {},
   "source": [
    "```\n",
    "# try except로 사용하기\n",
    "try:\n",
    "    실행할 코드\n",
    "except:\n",
    "    예외가 발생했을때 처리하는 코드\n",
    "```    "
   ]
  },
  {
   "cell_type": "code",
   "execution_count": 209,
   "id": "9a3c555f",
   "metadata": {},
   "outputs": [
    {
     "name": "stdout",
     "output_type": "stream",
     "text": [
      "나눌 숫자를 입력하세요:0\n"
     ]
    },
    {
     "ename": "ZeroDivisionError",
     "evalue": "division by zero",
     "output_type": "error",
     "traceback": [
      "\u001b[1;31m---------------------------------------------------------------------------\u001b[0m",
      "\u001b[1;31mZeroDivisionError\u001b[0m                         Traceback (most recent call last)",
      "Input \u001b[1;32mIn [209]\u001b[0m, in \u001b[0;36m<cell line: 2>\u001b[1;34m()\u001b[0m\n\u001b[0;32m      1\u001b[0m x  \u001b[38;5;241m=\u001b[39m \u001b[38;5;28mint\u001b[39m(\u001b[38;5;28minput\u001b[39m(\u001b[38;5;124m\"\u001b[39m\u001b[38;5;124m나눌 숫자를 입력하세요:\u001b[39m\u001b[38;5;124m\"\u001b[39m))\n\u001b[1;32m----> 2\u001b[0m y \u001b[38;5;241m=\u001b[39m \u001b[38;5;241;43m10\u001b[39;49m\u001b[38;5;241;43m/\u001b[39;49m\u001b[43mx\u001b[49m\n\u001b[0;32m      3\u001b[0m \u001b[38;5;28mprint\u001b[39m(y)\n",
      "\u001b[1;31mZeroDivisionError\u001b[0m: division by zero"
     ]
    }
   ],
   "source": [
    "x  = int(input(\"나눌 숫자를 입력하세요:\"))\n",
    "y = 10/x\n",
    "print(y)"
   ]
  },
  {
   "cell_type": "code",
   "execution_count": 210,
   "id": "dbd316bc",
   "metadata": {},
   "outputs": [
    {
     "name": "stdout",
     "output_type": "stream",
     "text": [
      "나눌 숫자를 입력하세요:0\n",
      "예외가 생겼습니다.\n"
     ]
    }
   ],
   "source": [
    "try:\n",
    "    x  = int(input(\"나눌 숫자를 입력하세요:\"))\n",
    "    y = 10/x\n",
    "    print(y)\n",
    "except:\n",
    "    print(\"예외가 생겼습니다.\")"
   ]
  },
  {
   "cell_type": "markdown",
   "id": "43e0e19f",
   "metadata": {},
   "source": [
    "```\n",
    "# 특정 예외만 처리하기\n",
    "try:\n",
    "    실행할 코드\n",
    "except 예외이름:\n",
    "    예외가 발생했을 때 처리하는 코드\n",
    "```    "
   ]
  },
  {
   "cell_type": "code",
   "execution_count": 213,
   "id": "5aea372b",
   "metadata": {},
   "outputs": [
    {
     "name": "stdout",
     "output_type": "stream",
     "text": [
      "인덱스와 나눌 숫자를 입력하세요: 10 2\n"
     ]
    },
    {
     "ename": "IndexError",
     "evalue": "list index out of range",
     "output_type": "error",
     "traceback": [
      "\u001b[1;31m---------------------------------------------------------------------------\u001b[0m",
      "\u001b[1;31mIndexError\u001b[0m                                Traceback (most recent call last)",
      "Input \u001b[1;32mIn [213]\u001b[0m, in \u001b[0;36m<cell line: 3>\u001b[1;34m()\u001b[0m\n\u001b[0;32m      1\u001b[0m y \u001b[38;5;241m=\u001b[39m [\u001b[38;5;241m10\u001b[39m, \u001b[38;5;241m20\u001b[39m, \u001b[38;5;241m30\u001b[39m]\n\u001b[0;32m      2\u001b[0m index, x \u001b[38;5;241m=\u001b[39m \u001b[38;5;28mmap\u001b[39m(\u001b[38;5;28mint\u001b[39m, \u001b[38;5;28minput\u001b[39m(\u001b[38;5;124m\"\u001b[39m\u001b[38;5;124m인덱스와 나눌 숫자를 입력하세요: \u001b[39m\u001b[38;5;124m\"\u001b[39m)\u001b[38;5;241m.\u001b[39msplit())\n\u001b[1;32m----> 3\u001b[0m \u001b[38;5;28mprint\u001b[39m(\u001b[43my\u001b[49m\u001b[43m[\u001b[49m\u001b[43mindex\u001b[49m\u001b[43m]\u001b[49m\u001b[38;5;241m/\u001b[39mx)\n",
      "\u001b[1;31mIndexError\u001b[0m: list index out of range"
     ]
    }
   ],
   "source": [
    "y = [10, 20, 30]\n",
    "index, x = map(int, input(\"인덱스와 나눌 숫자를 입력하세요: \").split())\n",
    "print(y[index]/x)"
   ]
  },
  {
   "cell_type": "code",
   "execution_count": 216,
   "id": "19e3d4d0",
   "metadata": {},
   "outputs": [
    {
     "name": "stdout",
     "output_type": "stream",
     "text": [
      "인덱스와 나눌 숫자를 입력하세요: 10 0\n",
      "잘못된 인덱스입니다.\n"
     ]
    }
   ],
   "source": [
    "y = [10, 20, 30]\n",
    "\n",
    "try:\n",
    "    index, x = map(int, input(\"인덱스와 나눌 숫자를 입력하세요: \").split())\n",
    "    print(y[index]/x)\n",
    "except ZeroDivisionError:\n",
    "    print(\"0으로 나눌 수 없습니다!\")\n",
    "except IndexError:\n",
    "    print(\"잘못된 인덱스입니다.\")"
   ]
  },
  {
   "cell_type": "markdown",
   "id": "51f4ca63",
   "metadata": {},
   "source": [
    "```\n",
    "# 예외의 에러메세지 받아오기\n",
    "try:\n",
    "    실행할 코드\n",
    "except 예외 as 변수:\n",
    "    예외가 발생했을 때 처리하는 코드\n",
    "```    "
   ]
  },
  {
   "cell_type": "code",
   "execution_count": 218,
   "id": "ccbf1780",
   "metadata": {},
   "outputs": [
    {
     "name": "stdout",
     "output_type": "stream",
     "text": [
      "인덱스와 나눌 숫자를 입력하세요: 2 0\n",
      "0으로 나눌 수 없습니다! division by zero\n"
     ]
    }
   ],
   "source": [
    "y = [10, 20, 30]\n",
    "\n",
    "try:\n",
    "    index, x = map(int, input(\"인덱스와 나눌 숫자를 입력하세요: \").split())\n",
    "    print(y[index]/x)\n",
    "except ZeroDivisionError as e:\n",
    "    print(\"0으로 나눌 수 없습니다!\", e)\n",
    "except IndexError as e:\n",
    "    print(\"잘못된 인덱스입니다.\", e)"
   ]
  },
  {
   "cell_type": "markdown",
   "id": "47f1a876",
   "metadata": {},
   "source": [
    "```\n",
    "# else와 finally 사용하기\n",
    "try:\n",
    "    실행할 코드\n",
    "except:\n",
    "    예외가 발생했을 때 처리하는 코드\n",
    "else:\n",
    "    예외가 발생하지 않았을 때 실행할 코드\n",
    "```    "
   ]
  },
  {
   "cell_type": "code",
   "execution_count": 220,
   "id": "53685936",
   "metadata": {},
   "outputs": [
    {
     "name": "stdout",
     "output_type": "stream",
     "text": [
      "나눌 숫자를 입력하세요:2\n",
      "5.0\n"
     ]
    }
   ],
   "source": [
    "try:\n",
    "    x  = int(input(\"나눌 숫자를 입력하세요:\"))\n",
    "    y = 10/x    \n",
    "except ZeroDivisionError:\n",
    "    print(\"0으로 나눌 수 없습니다.\")\n",
    "else:    \n",
    "    print(y)"
   ]
  },
  {
   "cell_type": "markdown",
   "id": "c4d0b32c",
   "metadata": {},
   "source": [
    "```\n",
    "# 예외와는 상관없이 항상 코드 실행하기\n",
    "try:\n",
    "    실행할 코드\n",
    "except:\n",
    "    예외가 발생했을 때 처리하는 코드\n",
    "else:\n",
    "    예외가 발생하지 않았을 때 실행할 코드\n",
    "finally:\n",
    "    예외 발생 여부와 상관없이 항상 실행할 코드\n",
    "```    "
   ]
  },
  {
   "cell_type": "code",
   "execution_count": 222,
   "id": "bf2d1ede",
   "metadata": {},
   "outputs": [
    {
     "name": "stdout",
     "output_type": "stream",
     "text": [
      "나눌 숫자를 입력하세요:2\n",
      "5.0\n",
      "코드 실행이 끝났습니다.\n"
     ]
    }
   ],
   "source": [
    "try:\n",
    "    x  = int(input(\"나눌 숫자를 입력하세요:\"))\n",
    "    y = 10/x    \n",
    "except ZeroDivisionError:\n",
    "    print(\"0으로 나눌 수 없습니다.\")\n",
    "else:    \n",
    "    print(y)\n",
    "finally:\n",
    "    print(\"코드 실행이 끝났습니다.\")"
   ]
  },
  {
   "cell_type": "markdown",
   "id": "2925cb8b",
   "metadata": {},
   "source": [
    "```\n",
    "# 예외 발생시키기\n",
    "\n",
    "raise 예외('에러메시지')\n",
    "```"
   ]
  },
  {
   "cell_type": "code",
   "execution_count": 224,
   "id": "a695ee4e",
   "metadata": {},
   "outputs": [
    {
     "name": "stdout",
     "output_type": "stream",
     "text": [
      "3의 배수를 입력하세요:5\n",
      "예외가 발생했습니다 3의 배수가 아닙니다\n"
     ]
    }
   ],
   "source": [
    "try:\n",
    "    x = int(input(\"3의 배수를 입력하세요:\"))\n",
    "    if x % 3 != 0:\n",
    "        raise Exception(\"3의 배수가 아닙니다\")\n",
    "except Exception as e:\n",
    "    print(\"예외가 발생했습니다\", e)"
   ]
  },
  {
   "cell_type": "markdown",
   "id": "c8fc12a1",
   "metadata": {},
   "source": [
    "### 이터레이터"
   ]
  },
  {
   "cell_type": "markdown",
   "id": "52294be8",
   "metadata": {},
   "source": [
    "- **이터레이터(iterator)**는 값을 차례대로 꺼낼 수 있는 객체(object)\n",
    "- 파이썬에서는 이터레이터만 생성하고 값이 \"필요한 시점\"이 되었을 때 값을 만드는 방식을 사용\n",
    "- 데이터 생성을 뒤로 미루는 것인데 이런 방식을 지연 평가(lazy evaluation)라고 함"
   ]
  },
  {
   "cell_type": "markdown",
   "id": "21881f3d",
   "metadata": {},
   "source": [
    "- **반복 가능한 객체**는 말 그대로 반복할 수 있는 객체인데 우리가 흔히 사용하는 문자열, 리스트, 딕셔너리, 세트가 반복 가능한 객체 요소가 여러 개 들어있고, 한 번에 하나씩 꺼낼 수 있는 객체"
   ]
  },
  {
   "cell_type": "markdown",
   "id": "ee1408bf",
   "metadata": {},
   "source": [
    "- 객체가 반복 가능한 객체인지 알아보는 방법은 객체에 __iter__ 메서드가 들어있는지 확인해보면 됨"
   ]
  },
  {
   "cell_type": "markdown",
   "id": "52437ac1",
   "metadata": {},
   "source": [
    "```\n",
    "# 객체가 반복 가능한 객체인지 알아보는 방법\n",
    "\n",
    "dir(객체)\n",
    "```"
   ]
  },
  {
   "cell_type": "code",
   "execution_count": 238,
   "id": "0c609b2f",
   "metadata": {
    "collapsed": true
   },
   "outputs": [
    {
     "data": {
      "text/plain": [
       "['__class__',\n",
       " '__class_getitem__',\n",
       " '__contains__',\n",
       " '__delattr__',\n",
       " '__delitem__',\n",
       " '__dir__',\n",
       " '__doc__',\n",
       " '__eq__',\n",
       " '__format__',\n",
       " '__ge__',\n",
       " '__getattribute__',\n",
       " '__getitem__',\n",
       " '__gt__',\n",
       " '__hash__',\n",
       " '__init__',\n",
       " '__init_subclass__',\n",
       " '__ior__',\n",
       " '__iter__',\n",
       " '__le__',\n",
       " '__len__',\n",
       " '__lt__',\n",
       " '__ne__',\n",
       " '__new__',\n",
       " '__or__',\n",
       " '__reduce__',\n",
       " '__reduce_ex__',\n",
       " '__repr__',\n",
       " '__reversed__',\n",
       " '__ror__',\n",
       " '__setattr__',\n",
       " '__setitem__',\n",
       " '__sizeof__',\n",
       " '__str__',\n",
       " '__subclasshook__',\n",
       " 'clear',\n",
       " 'copy',\n",
       " 'fromkeys',\n",
       " 'get',\n",
       " 'items',\n",
       " 'keys',\n",
       " 'pop',\n",
       " 'popitem',\n",
       " 'setdefault',\n",
       " 'update',\n",
       " 'values']"
      ]
     },
     "execution_count": 238,
     "metadata": {},
     "output_type": "execute_result"
    }
   ],
   "source": [
    "l = [1, 2, 3]\n",
    "dir(l) # __iter__ 가 존재함\n",
    "\n",
    "d = {\"a\":1, \"b\":2}\n",
    "dir(d) # __iter__ 가 존재함"
   ]
  },
  {
   "cell_type": "code",
   "execution_count": 247,
   "id": "0f5840d9",
   "metadata": {},
   "outputs": [
    {
     "data": {
      "text/plain": [
       "<list_iterator at 0x24ddc85aee0>"
      ]
     },
     "execution_count": 247,
     "metadata": {},
     "output_type": "execute_result"
    }
   ],
   "source": [
    "# 반복가능한 객체로부터 이터레이터 만들기\n",
    "l = [1, 2, 3]\n",
    "it = l.__iter__()  # it = iter(l) 와 같이 iterator를 만들수도 있음\n",
    "it"
   ]
  },
  {
   "cell_type": "code",
   "execution_count": 240,
   "id": "5355a181",
   "metadata": {},
   "outputs": [
    {
     "data": {
      "text/plain": [
       "1"
      ]
     },
     "execution_count": 240,
     "metadata": {},
     "output_type": "execute_result"
    }
   ],
   "source": [
    "# iterator는 __next__() 함수를 통해 순차적으로 값을 꺼내올 수 있음\n",
    "it.__next__()"
   ]
  },
  {
   "cell_type": "code",
   "execution_count": 241,
   "id": "2bf5fe3a",
   "metadata": {},
   "outputs": [
    {
     "data": {
      "text/plain": [
       "2"
      ]
     },
     "execution_count": 241,
     "metadata": {},
     "output_type": "execute_result"
    }
   ],
   "source": [
    "it.__next__()"
   ]
  },
  {
   "cell_type": "code",
   "execution_count": 242,
   "id": "54ea4343",
   "metadata": {},
   "outputs": [
    {
     "data": {
      "text/plain": [
       "3"
      ]
     },
     "execution_count": 242,
     "metadata": {},
     "output_type": "execute_result"
    }
   ],
   "source": [
    "it.__next__()"
   ]
  },
  {
   "cell_type": "code",
   "execution_count": 243,
   "id": "b37fe9a0",
   "metadata": {},
   "outputs": [
    {
     "ename": "StopIteration",
     "evalue": "",
     "output_type": "error",
     "traceback": [
      "\u001b[1;31m---------------------------------------------------------------------------\u001b[0m",
      "\u001b[1;31mStopIteration\u001b[0m                             Traceback (most recent call last)",
      "Input \u001b[1;32mIn [243]\u001b[0m, in \u001b[0;36m<cell line: 1>\u001b[1;34m()\u001b[0m\n\u001b[1;32m----> 1\u001b[0m \u001b[43mit\u001b[49m\u001b[38;5;241;43m.\u001b[39;49m\u001b[38;5;21;43m__next__\u001b[39;49m\u001b[43m(\u001b[49m\u001b[43m)\u001b[49m\n",
      "\u001b[1;31mStopIteration\u001b[0m: "
     ]
    }
   ],
   "source": [
    "it.__next__()"
   ]
  },
  {
   "cell_type": "code",
   "execution_count": 248,
   "id": "014d05a4",
   "metadata": {},
   "outputs": [
    {
     "name": "stdout",
     "output_type": "stream",
     "text": [
      "1\n",
      "2\n",
      "3\n"
     ]
    }
   ],
   "source": [
    "l = [1, 2, 3]\n",
    "it = l.__iter__()\n",
    "for i in it: # it.__next__(), it.__next__(), it.__next()__\n",
    "    print(i)"
   ]
  },
  {
   "cell_type": "code",
   "execution_count": 249,
   "id": "265ee730",
   "metadata": {},
   "outputs": [
    {
     "data": {
      "text/plain": [
       "<list_iterator at 0x24ddc85aee0>"
      ]
     },
     "execution_count": 249,
     "metadata": {},
     "output_type": "execute_result"
    }
   ],
   "source": [
    "it"
   ]
  },
  {
   "cell_type": "code",
   "execution_count": 251,
   "id": "1d846ec0",
   "metadata": {},
   "outputs": [
    {
     "data": {
      "text/plain": [
       "0"
      ]
     },
     "execution_count": 251,
     "metadata": {},
     "output_type": "execute_result"
    }
   ],
   "source": [
    "it = range(3).__iter__()\n",
    "it.__next__()"
   ]
  },
  {
   "cell_type": "code",
   "execution_count": 252,
   "id": "87b7e141",
   "metadata": {},
   "outputs": [
    {
     "data": {
      "text/plain": [
       "1"
      ]
     },
     "execution_count": 252,
     "metadata": {},
     "output_type": "execute_result"
    }
   ],
   "source": [
    "it.__next__()"
   ]
  },
  {
   "cell_type": "code",
   "execution_count": 253,
   "id": "e4ab779e",
   "metadata": {},
   "outputs": [
    {
     "data": {
      "text/plain": [
       "2"
      ]
     },
     "execution_count": 253,
     "metadata": {},
     "output_type": "execute_result"
    }
   ],
   "source": [
    "it.__next__()"
   ]
  },
  {
   "cell_type": "markdown",
   "id": "d2275f38",
   "metadata": {},
   "source": [
    " for와 반복가능한 객체"
   ]
  },
  {
   "attachments": {
    "image.png": {
     "image/png": "[encoded data removed]"
    }
   },
   "cell_type": "markdown",
   "id": "1fbcb1c4",
   "metadata": {},
   "source": [
    "![image.png](attachment:image.png)"
   ]
  },
  {
   "cell_type": "markdown",
   "id": "76159f7d",
   "metadata": {},
   "source": [
    "**이터레이터 만들기**"
   ]
  },
  {
   "cell_type": "markdown",
   "id": "355ee01e",
   "metadata": {},
   "source": [
    "- __iter__() 함수, __next__() 함수"
   ]
  },
  {
   "cell_type": "code",
   "execution_count": 260,
   "id": "04a445da",
   "metadata": {},
   "outputs": [
    {
     "name": "stdout",
     "output_type": "stream",
     "text": [
      "0\n",
      "1\n",
      "2\n"
     ]
    }
   ],
   "source": [
    "# range의 동작과 유사한 이터레이터 만들기\n",
    "class Counter:\n",
    "    def __init__(self, stop):\n",
    "        self.current = 0  # 현재 숫자 관리, 0부터 반복을 끝낼 숫자(stop) 직전까지 반복\n",
    "        self.stop = stop # 반복을 끝낼 숫자\n",
    "        \n",
    "    def __iter__(self):\n",
    "        return self # 현재 인스턴스 반환\n",
    "        \n",
    "    def __next__(self):\n",
    "        if self.current < self.stop: # 현재 숫자가 반복을 끝낼 숫자(stop)보다 작을경우\n",
    "            r = self.current # 반환할 숫자를 r에 지정\n",
    "            self.current += 1 # 현재 숫자를 1 증가 시킴\n",
    "            return r\n",
    "        else:              # 현재 숫자가 반복을 끝낼 숫자(stop)보다 클 경우\n",
    "            raise StopIteration # 예외 발생\n",
    "            \n",
    "for i in Counter(3):\n",
    "    print(i)"
   ]
  },
  {
   "cell_type": "code",
   "execution_count": 261,
   "id": "31604738",
   "metadata": {},
   "outputs": [
    {
     "data": {
      "text/plain": [
       "0"
      ]
     },
     "execution_count": 261,
     "metadata": {},
     "output_type": "execute_result"
    }
   ],
   "source": [
    "range(3)[0]"
   ]
  },
  {
   "cell_type": "code",
   "execution_count": 262,
   "id": "d3f54129",
   "metadata": {},
   "outputs": [
    {
     "data": {
      "text/plain": [
       "1"
      ]
     },
     "execution_count": 262,
     "metadata": {},
     "output_type": "execute_result"
    }
   ],
   "source": [
    "range(3)[1]"
   ]
  },
  {
   "cell_type": "code",
   "execution_count": 263,
   "id": "f408a2c1",
   "metadata": {},
   "outputs": [
    {
     "data": {
      "text/plain": [
       "2"
      ]
     },
     "execution_count": 263,
     "metadata": {},
     "output_type": "execute_result"
    }
   ],
   "source": [
    "range(3)[2]"
   ]
  },
  {
   "cell_type": "code",
   "execution_count": 264,
   "id": "9f1090ad",
   "metadata": {},
   "outputs": [
    {
     "ename": "TypeError",
     "evalue": "'Counter' object is not subscriptable",
     "output_type": "error",
     "traceback": [
      "\u001b[1;31m---------------------------------------------------------------------------\u001b[0m",
      "\u001b[1;31mTypeError\u001b[0m                                 Traceback (most recent call last)",
      "Input \u001b[1;32mIn [264]\u001b[0m, in \u001b[0;36m<cell line: 1>\u001b[1;34m()\u001b[0m\n\u001b[1;32m----> 1\u001b[0m \u001b[43mCounter\u001b[49m\u001b[43m(\u001b[49m\u001b[38;5;241;43m3\u001b[39;49m\u001b[43m)\u001b[49m\u001b[43m[\u001b[49m\u001b[38;5;241;43m0\u001b[39;49m\u001b[43m]\u001b[49m\n",
      "\u001b[1;31mTypeError\u001b[0m: 'Counter' object is not subscriptable"
     ]
    }
   ],
   "source": [
    "Counter(3)[1] # 기존 range()는 색인이 가능한데, 우리가 만든 Counter()는 색인 불가"
   ]
  },
  {
   "cell_type": "markdown",
   "id": "12771905",
   "metadata": {},
   "source": [
    "**인덱스로 접근할 수 있는 이터레이터 만들기**\n",
    "- __getitem__() 함수\n",
    "- 이후 딥러닝 프레임워크(keras, pytorch)에서 데이터셋 준비할 때 아래와 같은 클래스를 응용"
   ]
  },
  {
   "cell_type": "code",
   "execution_count": 265,
   "id": "8c5b9535",
   "metadata": {},
   "outputs": [],
   "source": [
    "class Counter:\n",
    "    def __init__(self, stop):\n",
    "        self.stop = stop\n",
    "        \n",
    "    def __getitem__(self, index): # iterator로 색인을 하게 되면 ([] 스타일) 자동으로 __getitem__()이 호출\n",
    "        if index < self.stop:\n",
    "            return index\n",
    "        else:\n",
    "            raise IndexError"
   ]
  },
  {
   "cell_type": "code",
   "execution_count": 268,
   "id": "803183e5",
   "metadata": {},
   "outputs": [
    {
     "data": {
      "text/plain": [
       "0"
      ]
     },
     "execution_count": 268,
     "metadata": {},
     "output_type": "execute_result"
    }
   ],
   "source": [
    "Counter(3)[0]"
   ]
  },
  {
   "cell_type": "code",
   "execution_count": 269,
   "id": "1ed03a49",
   "metadata": {},
   "outputs": [
    {
     "data": {
      "text/plain": [
       "1"
      ]
     },
     "execution_count": 269,
     "metadata": {},
     "output_type": "execute_result"
    }
   ],
   "source": [
    "Counter(3)[1]"
   ]
  },
  {
   "cell_type": "code",
   "execution_count": 270,
   "id": "f583b2d0",
   "metadata": {},
   "outputs": [
    {
     "data": {
      "text/plain": [
       "2"
      ]
     },
     "execution_count": 270,
     "metadata": {},
     "output_type": "execute_result"
    }
   ],
   "source": [
    "Counter(3)[2]"
   ]
  },
  {
   "cell_type": "markdown",
   "id": "dd01a184",
   "metadata": {},
   "source": [
    "### 제너레이터"
   ]
  },
  {
   "cell_type": "markdown",
   "id": "b17e3182",
   "metadata": {},
   "source": [
    "- 이터레이터를 만들어주는 또다른 방식(함수를 사용)"
   ]
  },
  {
   "cell_type": "markdown",
   "id": "78267c53",
   "metadata": {},
   "source": [
    "- 제너레이터는 이터레이터를 생성해주는 함수 \n",
    "- 이터레이터는 클래스에 __iter__, __next__ 또는 __getitem__ 메서드를 구현해야 하지만\n",
    "- 제너레이터는 함수 안에서 yield라는 키워드만 사용하면 간단히 작성할 수 있음"
   ]
  },
  {
   "cell_type": "markdown",
   "id": "bd152a93",
   "metadata": {},
   "source": [
    "```\n",
    "# 함수안에서 yield를 사용하면 함수는 제너레이터가 됨\n",
    "yield 값\n",
    "```"
   ]
  },
  {
   "cell_type": "code",
   "execution_count": 273,
   "id": "54d7017f",
   "metadata": {},
   "outputs": [
    {
     "name": "stdout",
     "output_type": "stream",
     "text": [
      "0\n",
      "1\n",
      "2\n"
     ]
    }
   ],
   "source": [
    "# number_generator()는 앞의 Counter 클래스가 했던 이터레이터의 기능을 수행함\n",
    "def number_generator(): # 이터레이터를 만들어 주는 함수(제너레이터)\n",
    "    yield 0\n",
    "    yield 1\n",
    "    yield 2\n",
    "    \n",
    "for i in number_generator():\n",
    "    print(i)"
   ]
  },
  {
   "attachments": {
    "image.png": {
     "image/png": "[encoded data removed]"
    }
   },
   "cell_type": "markdown",
   "id": "12cb8a94",
   "metadata": {},
   "source": [
    "![image.png](attachment:image.png)"
   ]
  },
  {
   "cell_type": "code",
   "execution_count": null,
   "id": "1fbf8543",
   "metadata": {},
   "outputs": [],
   "source": []
  }
 ],
 "metadata": {
  "kernelspec": {
   "display_name": "Python 3 (ipykernel)",
   "language": "python",
   "name": "python3"
  },
  "language_info": {
   "codemirror_mode": {
    "name": "ipython",
    "version": 3
   },
   "file_extension": ".py",
   "mimetype": "text/x-python",
   "name": "python",
   "nbconvert_exporter": "python",
   "pygments_lexer": "ipython3",
   "version": "3.9.12"
  }
 },
 "nbformat": 4,
 "nbformat_minor": 5
}
